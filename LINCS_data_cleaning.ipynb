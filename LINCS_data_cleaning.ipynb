{
 "cells": [
  {
   "cell_type": "code",
   "execution_count": 1,
   "metadata": {},
   "outputs": [
    {
     "name": "stderr",
     "output_type": "stream",
     "text": [
      "/Users/Nico/anaconda3/lib/python3.6/site-packages/h5py/__init__.py:34: FutureWarning: Conversion of the second argument of issubdtype from `float` to `np.floating` is deprecated. In future, it will be treated as `np.float64 == np.dtype(float).type`.\n",
      "  from ._conv import register_converters as _register_converters\n"
     ]
    }
   ],
   "source": [
    "import pandas as pd\n",
    "import numpy as np\n",
    "from support_functions import log_progress, clean_drugbank, query_chembl\n",
    "import pickle\n",
    "import seaborn as sns\n",
    "import matplotlib.pyplot as plt\n",
    "import functools\n",
    "from cmapPy.pandasGEXpress import parse\n",
    "import scipy\n",
    "import multiprocessing\n",
    "from joblib import Parallel, delayed"
   ]
  },
  {
   "cell_type": "markdown",
   "metadata": {
    "collapsed": true
   },
   "source": [
    "# Cleaning LINCS data\n",
    "\n",
    "We have a lot of LINCS gene expression data to work with, both from compound (cpd) treatment experiments and gene knockdown (KD) experiments. There's a high degree of redundancy (duplicate experiments) and heterogenaity (experiments run in different cell lines), which we will have to deal with. \n",
    "<br>\n",
    "Ultimately, what we want is a list of cpd-KD pairs,  where for each pair we know:\n",
    "1. if the cpd-gene pair represents a true/known interaction (1), or a false one (0)\n",
    "2. the cpd and KD have high-quality expression signatures in at least three COMMON cell lines\n",
    "3. the KD gene has interaction partners with high-quality KD signatures down in the SAME cell lines\n",
    "\n",
    "___\n",
    "# 1. Load the data"
   ]
  },
  {
   "cell_type": "code",
   "execution_count": 18,
   "metadata": {
    "collapsed": true
   },
   "outputs": [],
   "source": [
    "# LINCS Phase 1 data\n",
    "pert_info_1 = pd.read_csv('data/GSE92742_Broad_LINCS_pert_info.txt', sep='\\t', header=0)\n",
    "pert_metrics_1 = pd.read_csv('data/GSE92742_Broad_LINCS_pert_metrics.txt', sep='\\t', header=0)\n",
    "sig_info_1 = pd.read_csv('data/GSE92742_Broad_LINCS_sig_info.txt', sep='\\t', header=0, dtype={'pert_dose': float})\n",
    "sig_metrics_1 = pd.read_csv('data/GSE92742_Broad_LINCS_sig_metrics.txt', sep='\\t', header=0)\n",
    "gene_info_1 = pd.read_csv('data/GSE92742_Broad_LINCS_gene_info.txt', sep='\\t', header=0)\n",
    "\n",
    "# LINCS Phase 2 data\n",
    "pert_info_2a = pd.read_csv('data/GSE70138_Broad_LINCS_pert_info.txt', sep='\\t', header=0)\n",
    "sig_info_2 = pd.read_csv('data/GSE70138_Broad_LINCS_sig_info_2017-03-06.txt', sep='\\t', header=0, dtype={'pert_dose': float})\n",
    "sig_metrics_2 = pd.read_csv('data/GSE70138_Broad_LINCS_sig_metrics_2017-03-06.txt', sep='\\t', header=0)\n",
    "\n",
    "# Combine Phase 1 and Phase 2 data\n",
    "pert_info = pd.concat([pert_info_1, pert_info_2a], ignore_index=True).reset_index(drop=True)\n",
    "sig_info = pd.concat([sig_info_1, sig_info_2], ignore_index=True).reset_index(drop=True)\n",
    "sig_metrics = pd.concat([sig_metrics_1, sig_metrics_2], ignore_index=True).reset_index(drop=True)\n",
    "\n",
    "# For convenience, combine the sig_info and sig_metrics tables\n",
    "sig_info = pd.concat([sig_info, sig_metrics[['distil_cc_q75', 'pct_self_rank_q25', 'tas']]], axis=1)"
   ]
  },
  {
   "cell_type": "markdown",
   "metadata": {},
   "source": [
    "___\n",
    "# 2. Remove low-quality signatures"
   ]
  },
  {
   "cell_type": "code",
   "execution_count": 20,
   "metadata": {
    "collapsed": true
   },
   "outputs": [],
   "source": [
    "# Data quality parameters \n",
    "pct_self_rank_cutoff = 0.05\n",
    "distill_cc_cutoff = 0.2\n",
    "\n",
    "# Filter the data\n",
    "hi_q_idx = sig_info[(sig_info.distil_cc_q75 >= distill_cc_cutoff) &\n",
    "                    (sig_info.pct_self_rank_q25 <= pct_self_rank_cutoff)].index\n",
    "hi_q_sig_info = sig_info.loc[hi_q_idx]\n",
    "hi_q_cpd_sig_info = hi_q_sig_info[hi_q_sig_info.pert_type == 'trt_cp']\n",
    "hi_q_kd_sig_info = hi_q_sig_info[hi_q_sig_info.pert_type == 'trt_sh']\n",
    "\n",
    "# Create reference lists of hi-quality cpds and KDS\n",
    "hi_q_cpds = set(hi_q_cpd_sig_info.pert_id.unique()) # n = 4488\n",
    "hi_q_kds = set(hi_q_kd_sig_info.pert_iname.unique()) # n = 4344\n",
    "\n",
    "# Save these lists for reference\n",
    "pickle.dump(hi_q_cpds, open('checkpoint_files/hi_q_cpds.sav', 'wb'))\n",
    "pickle.dump(hi_q_kds, open('checkpoint_files/hi_q_kds.sav', 'wb'))"
   ]
  },
  {
   "cell_type": "code",
   "execution_count": 2,
   "metadata": {
    "collapsed": true
   },
   "outputs": [],
   "source": [
    "hi_q_cpds = pickle.load(open('checkpoint_files/hi_q_cpds.sav', 'rb'))\n",
    "hi_q_kds = pickle.load(open('checkpoint_files/hi_q_kds.sav', 'rb'))"
   ]
  },
  {
   "cell_type": "markdown",
   "metadata": {},
   "source": [
    "# 3. Select representative signatures\n",
    "\n",
    "Some cpds & KDs have multiple high-quality signatures from the same cell line. So we'll use only those signatures with the highest transcriptional activity score (TAS) in those cell lines."
   ]
  },
  {
   "cell_type": "code",
   "execution_count": 148,
   "metadata": {
    "collapsed": true
   },
   "outputs": [],
   "source": [
    "# Select representative cpd sigs\n",
    "repr_cpd_sig_info_dict = {}\n",
    "for cpd in log_progress(hi_q_cpds):\n",
    "    high_q_cpd_sigs = hi_q_cpd_sig_info[hi_q_cpd_sig_info.pert_id == cpd]\n",
    "    repr_cpd_sigs_df = pd.DataFrame(columns=high_q_cpd_sigs.columns)\n",
    "    for cell_line in high_q_cpd_sigs.cell_id.unique():\n",
    "        candidate_sigs = high_q_cpd_sigs[high_q_cpd_sigs.cell_id == cell_line]\n",
    "        repr_sig = candidate_sigs.loc[candidate_sigs['tas'].idxmax()].copy()\n",
    "        repr_cpd_sigs_df = repr_cpd_sigs_df.append(repr_sig)\n",
    "    repr_cpd_sig_info_dict[cpd] = repr_cpd_sigs_df\n",
    "\n",
    "# Select representative KD sigs\n",
    "repr_kd_sig_info_dict = {}\n",
    "for kd in log_progress(hi_q_kds):\n",
    "    high_q_kd_sigs = hi_q_kd_sig_info[hi_q_kd_sig_info.pert_iname == kd]\n",
    "    repr_kd_sigs_df = pd.DataFrame(columns=high_q_kd_sigs.columns)\n",
    "    for cell_line in high_q_kd_sigs.cell_id.unique():\n",
    "        candidate_sigs = high_q_kd_sigs[high_q_kd_sigs.cell_id == cell_line]\n",
    "        repr_sig = candidate_sigs.loc[candidate_sigs['tas'].idxmax()].copy()\n",
    "        repr_kd_sigs_df = repr_kd_sigs_df.append(repr_sig)\n",
    "    repr_kd_sig_info_dict[kd] = repr_kd_sigs_df\n",
    "\n",
    "# Save the data\n",
    "pickle.dump(repr_cpd_sig_info_dict, open('checkpoint_files/repr_cpd_sig_info_dict.sav', 'wb'))\n",
    "pickle.dump(repr_kd_sig_info_dict, open('checkpoint_files/repr_kd_sig_info_dict.sav', 'wb'))"
   ]
  },
  {
   "cell_type": "code",
   "execution_count": 15,
   "metadata": {
    "collapsed": true
   },
   "outputs": [],
   "source": [
    "# Load representative sigs\n",
    "repr_cpd_sig_info_dict = pickle.load(open('checkpoint_files/repr_cpd_sig_info_dict.sav', 'rb'))\n",
    "repr_kd_sig_info_dict = pickle.load(open('checkpoint_files/repr_kd_sig_info_dict.sav', 'rb'))"
   ]
  },
  {
   "cell_type": "markdown",
   "metadata": {},
   "source": [
    "___\n",
    "# 4. Generate cpd-KD pairs (pair_set_1)"
   ]
  },
  {
   "cell_type": "code",
   "execution_count": 91,
   "metadata": {},
   "outputs": [
    {
     "data": {
      "application/vnd.jupyter.widget-view+json": {
       "model_id": "635fd0eefc8946c79a7821eca519b648"
      }
     },
     "metadata": {},
     "output_type": "display_data"
    },
    {
     "data": {
      "application/vnd.jupyter.widget-view+json": {
       "model_id": "9656b1e50f654e2eb7d241bf74cd861f"
      }
     },
     "metadata": {},
     "output_type": "display_data"
    }
   ],
   "source": [
    "# Load targets extracted from Drugbank and Chembl\n",
    "drugbank_target_dict = pickle.load(open('checkpoint_files/drugbank_target_dict.sav', 'rb'))\n",
    "chembl_target_dict = pickle.load(open('checkpoint_files/chembl_target_dict.sav', 'rb'))\n",
    "\n",
    "# Lookup pert_id <-> inchi_key mappings\n",
    "cpd_pert_info = pert_info[pert_info.pert_type == 'trt_cp']\n",
    "cpd_inchis = cpd_pert_info[['pert_id', 'inchi_key']]\n",
    "\n",
    "# Combine Drugbank and Chembl dicts, using pert_id for keys\n",
    "LINCS_target_dict = {}\n",
    "\n",
    "for inchi, targets in log_progress(drugbank_target_dict.items()):\n",
    "    cpd = cpd_inchis[cpd_inchis.inchi_key == inchi].pert_id.values\n",
    "    if cpd.size > 0: \n",
    "        cpd = cpd[0]\n",
    "        LINCS_target_dict[cpd] = set(targets)\n",
    "\n",
    "for inchi, targets in log_progress(chembl_target_dict.items()):\n",
    "    cpd = cpd_inchis[cpd_inchis.inchi_key == inchi].pert_id.values\n",
    "    if cpd.size > 0: \n",
    "        cpd = cpd[0]\n",
    "        if cpd in LINCS_target_dict.keys():\n",
    "            all_targets = LINCS_target_dict[cpd].union(set(targets))\n",
    "            LINCS_target_dict[cpd] = all_targets\n",
    "        else:\n",
    "            LINCS_target_dict[cpd] = set(targets)\n",
    "\n",
    "# Save the LINCS target dictionary            \n",
    "filename = 'checkpoint_files/LINCS_target_dict.sav'\n",
    "pickle.dump(LINCS_target_dict, open(filename, 'wb'))"
   ]
  },
  {
   "cell_type": "code",
   "execution_count": 125,
   "metadata": {},
   "outputs": [
    {
     "data": {
      "application/vnd.jupyter.widget-view+json": {
       "model_id": "2fbce3dc78734efcbe6dc65ff4a2f635"
      }
     },
     "metadata": {},
     "output_type": "display_data"
    }
   ],
   "source": [
    "# Create dataframe for hi-quality cpd-kd pairs\n",
    "# label=1 if the pair is a known interaction, label=0 otherwise\n",
    "LINCS_target_dict = pickle.load(open('checkpoint_files/LINCS_target_dict.sav', 'rb'))\n",
    "\n",
    "cpd_ = []\n",
    "kd_ = []\n",
    "label_ = []\n",
    "for cpd in log_progress(hi_q_cpds, every=1):\n",
    "    try: cpd_targets = LINCS_target_dict[cpd]\n",
    "    except KeyError: cpd_targets = set()\n",
    "    for kd in hi_q_kds:\n",
    "        if kd in cpd_targets: label = 1\n",
    "        else: label = 0\n",
    "        cpd_.append(cpd)\n",
    "        kd_.append(kd)\n",
    "        label_.append(label)\n",
    "        \n",
    "pair_set_1_df = pd.DataFrame({'cpd': cpd_, 'kd': kd_, 'label': label_,})\n",
    "pair_set_1_df.to_csv('checkpoint_files/pair_set_1_df.csv')"
   ]
  },
  {
   "cell_type": "code",
   "execution_count": 4,
   "metadata": {},
   "outputs": [
    {
     "name": "stdout",
     "output_type": "stream",
     "text": [
      "Pair set 1 statistics\n",
      "\n",
      "No. True interactions:\t 1981\n",
      "No. True cpds:\t\t 687\n",
      "No. True genes:\t\t 506\n",
      "\n",
      "No. False interactions:\t 19493891\n",
      "No. False cpds:\t\t 4488\n",
      "No. False genes:\t 4344\n"
     ]
    }
   ],
   "source": [
    "pair_set_1_df = pd.DataFrame.from_csv('checkpoint_files/pair_set_1_df.csv')\n",
    "print('Pair set 1 statistics\\n')\n",
    "print('No. True interactions:\\t', pair_set_1_df.label.value_counts()[1])\n",
    "print('No. True cpds:\\t\\t', len(pair_set_1_df[pair_set_1_df.label == 1].cpd.unique()))\n",
    "print('No. True genes:\\t\\t', len(pair_set_1_df[pair_set_1_df.label == 1].kd.unique()))\n",
    "print('\\nNo. False interactions:\\t', pair_set_1_df.label.value_counts()[0])\n",
    "print('No. False cpds:\\t\\t', len(pair_set_1_df[pair_set_1_df.label == 0].cpd.unique()))\n",
    "print('No. False genes:\\t', len(pair_set_1_df[pair_set_1_df.label == 0].kd.unique()))"
   ]
  },
  {
   "cell_type": "markdown",
   "metadata": {},
   "source": [
    "___\n",
    "# 4. Filter out pairs without at least n=3 common cell experiments (pair_set_2)\n",
    "\n",
    "Some of our cpd-kd pairs do not have experimental data from the same cell lines, and thus we can't use them."
   ]
  },
  {
   "cell_type": "code",
   "execution_count": 163,
   "metadata": {},
   "outputs": [
    {
     "data": {
      "application/vnd.jupyter.widget-view+json": {
       "model_id": "321d43a7863542b1a5886c39116c87b9"
      }
     },
     "metadata": {},
     "output_type": "display_data"
    },
    {
     "data": {
      "application/vnd.jupyter.widget-view+json": {
       "model_id": "6da3b33839d645c7819e2b31a89a66d1"
      }
     },
     "metadata": {},
     "output_type": "display_data"
    }
   ],
   "source": [
    "# Make dictionary of cpd cell lines for fast lookup\n",
    "repr_cpd_cell_line_dict = {}\n",
    "for cpd, repr_sig_df in log_progress(repr_cpd_sig_info_dict.items()):\n",
    "    cells = set(repr_sig_df.cell_id)\n",
    "    repr_cpd_cell_line_dict[cpd] = cells\n",
    "    \n",
    "# Make dictionary of KD cell lines for fast lookup\n",
    "repr_kd_cell_line_dict = {}\n",
    "for kd, repr_sig_df in log_progress(repr_kd_sig_info_dict.items()):\n",
    "    cells = set(repr_sig_df.cell_id)\n",
    "    repr_kd_cell_line_dict[kd] = cells\n",
    "    \n",
    "# Save to disk\n",
    "pickle.dump(repr_cpd_cell_line_dict, open('checkpoint_files/repr_cpd_cell_line_dict.sav', 'wb'))\n",
    "pickle.dump(repr_kd_cell_line_dict, open('checkpoint_files/repr_kd_cell_line_dict.sav', 'wb'))"
   ]
  },
  {
   "cell_type": "code",
   "execution_count": 3,
   "metadata": {
    "collapsed": true
   },
   "outputs": [],
   "source": [
    "# Load cell line dicts\n",
    "repr_cpd_cell_line_dict = pickle.load(open('checkpoint_files/repr_cpd_cell_line_dict.sav', 'rb'))\n",
    "repr_kd_cell_line_dict = pickle.load(open('checkpoint_files/repr_kd_cell_line_dict.sav', 'rb'))"
   ]
  },
  {
   "cell_type": "code",
   "execution_count": 18,
   "metadata": {
    "collapsed": true
   },
   "outputs": [],
   "source": [
    "# The minimum number of common cells we will require\n",
    "min_num_common_cells = 3"
   ]
  },
  {
   "cell_type": "markdown",
   "metadata": {},
   "source": [
    "This filtering step takes a while so we're going to run it in parallel:"
   ]
  },
  {
   "cell_type": "code",
   "execution_count": 5,
   "metadata": {
    "collapsed": true
   },
   "outputs": [],
   "source": [
    "def filter_2(pair_set_1_subdf):\n",
    "    \n",
    "    # Filter pairs from pair_set_1\n",
    "    cpd_2_, target_2_, label_2_, common_cells_2_ = [], [], [], []\n",
    "    for index, row in log_progress(pair_set_1_subdf.iterrows(), every=10000):\n",
    "\n",
    "        # Placekeeper to prevent repeat lookups\n",
    "        curr_cpd = ''\n",
    "        curr_cpd_cells = ''\n",
    "\n",
    "        # Lookup cpd sigs, if necessary\n",
    "        cpd = row.cpd\n",
    "        if not cpd == curr_cpd:\n",
    "            curr_cpd = cpd   \n",
    "            curr_cpd_cells = repr_cpd_cell_line_dict[cpd]\n",
    "\n",
    "        # Lookup KD sigs\n",
    "        kd = row.kd\n",
    "        kd_cells = repr_kd_cell_line_dict[kd]\n",
    "\n",
    "        # Compare cell lines\n",
    "        common_cells = curr_cpd_cells & kd_cells\n",
    "        if len(common_cells) >= min_num_common_cells:\n",
    "            cpd_2_.append(cpd)\n",
    "            target_2_.append(kd)\n",
    "            label_2_.append(row.label)\n",
    "            common_cells_2_.append(common_cells)\n",
    "        \n",
    "    # Compile & return filtered data\n",
    "    pair_set_2_subdf = pd.DataFrame({'cpd': cpd_2_, 'kd': target_2_, 'label': label_2_})\n",
    "    return pair_set_2_subdf, common_cells_2_"
   ]
  },
  {
   "cell_type": "code",
   "execution_count": null,
   "metadata": {
    "collapsed": true
   },
   "outputs": [],
   "source": [
    "# Split up the pairs for parallel filtering\n",
    "num_processes = multiprocessing.cpu_count()\n",
    "chunk_size = int(pair_set_1_df.shape[0]/num_processes)\n",
    "pair_set_1_subdfs = [ pair_set_1_df.iloc[pair_set_1_df.index[i:i + chunk_size]].reset_index(drop=True) for i in range(0, pair_set_1_df.shape[0], chunk_size)]\n",
    "\n",
    "# Filter each chunk of the pairs dataframe in parallel\n",
    "results = Parallel(n_jobs=num_processes, backend=\"multiprocessing\")(\n",
    "             map(delayed(filter_2), pair_set_1_subdfs))\n",
    "\n",
    "# Compile and pair_set_2\n",
    "pair_set_2_subdfs = [ r[0] for r in results ]\n",
    "pair_set_2_df = functools.reduce(lambda x,y: x.append(y), pair_set_2_subdfs).reset_index(drop=True)\n",
    "\n",
    "# Compile and common_cells_2_\n",
    "common_cells_2_sublists = [ r[1] for r in results ]\n",
    "common_cells_2_ = functools.reduce(lambda x,y: x+y, common_cells_2_sublists)"
   ]
  },
  {
   "cell_type": "code",
   "execution_count": 76,
   "metadata": {
    "collapsed": true
   },
   "outputs": [],
   "source": [
    "# Save results to disk\n",
    "pair_set_2_df.to_csv('checkpoint_files/pair_set_2_df.csv')\n",
    "pickle.dump(common_cells_2_, open('checkpoint_files/common_cells_2_.sav', 'wb'))"
   ]
  },
  {
   "cell_type": "code",
   "execution_count": 5,
   "metadata": {
    "collapsed": true
   },
   "outputs": [],
   "source": [
    "# Reload pair_set_2\n",
    "pair_set_2_df = pd.DataFrame.from_csv('checkpoint_files/pair_set_2_df.csv')\n",
    "common_cells_2_ = pickle.load(open('checkpoint_files/common_cells_2_.sav', 'rb'))"
   ]
  },
  {
   "cell_type": "code",
   "execution_count": 6,
   "metadata": {
    "collapsed": true
   },
   "outputs": [],
   "source": [
    "# Rename 'target' column to 'kd'\n",
    "pair_set_2_df = pair_set_2_df.rename(index=str, columns={\"target\": \"kd\"})"
   ]
  },
  {
   "cell_type": "code",
   "execution_count": 7,
   "metadata": {},
   "outputs": [
    {
     "name": "stdout",
     "output_type": "stream",
     "text": [
      "Pair set 2 statistics\n",
      "\n",
      "No. True interactions:\t 757\n",
      "No. True cpds:\t\t 230\n",
      "No. True genes:\t\t 310\n",
      "\n",
      "No. False interactions:\t 4119311\n",
      "No. False cpds:\t\t 1228\n",
      "No. False genes:\t 3876\n"
     ]
    }
   ],
   "source": [
    "print('Pair set 2 statistics\\n')\n",
    "print('No. True interactions:\\t', pair_set_2_df.label.value_counts()[1])\n",
    "print('No. True cpds:\\t\\t', len(pair_set_2_df[pair_set_2_df.label == 1].cpd.unique()))\n",
    "print('No. True genes:\\t\\t', len(pair_set_2_df[pair_set_2_df.label == 1].kd.unique()))\n",
    "print('\\nNo. False interactions:\\t', pair_set_2_df.label.value_counts()[0])\n",
    "print('No. False cpds:\\t\\t', len(pair_set_2_df[pair_set_2_df.label == 0].cpd.unique()))\n",
    "print('No. False genes:\\t', len(pair_set_2_df[pair_set_2_df.label == 0].kd.unique()))"
   ]
  },
  {
   "cell_type": "markdown",
   "metadata": {},
   "source": [
    "___\n",
    "# 5. Filter out pairs without interaction partner KDs in at least n=3 cell lines (pair_set_3)"
   ]
  },
  {
   "cell_type": "code",
   "execution_count": 8,
   "metadata": {
    "collapsed": true
   },
   "outputs": [],
   "source": [
    "# Load the STRING 4.0 protein interaction dictionary\n",
    "string_interactions_dict = pickle.load(open('checkpoint_files/string_interactions_dict.sav', 'rb'))\n",
    "string_genes = set(string_interactions_dict.keys())"
   ]
  },
  {
   "cell_type": "markdown",
   "metadata": {},
   "source": [
    "This step is also quite slow, so we'll run in parallel. We also won't keep track of which partners are in each cell line, because requires too much memory."
   ]
  },
  {
   "cell_type": "code",
   "execution_count": 9,
   "metadata": {
    "collapsed": true
   },
   "outputs": [],
   "source": [
    "def filter_3(chunk):\n",
    "    pair_set_2_subdf, common_cells_2_sublist = chunk\n",
    "    \n",
    "    # Filter pairs from pair_set_2\n",
    "    cpd_3_, target_3_, label_3_, common_cells_3_, common_partners_3_ = [], [], [], [], []\n",
    "    \n",
    "    for index, row in log_progress(pair_set_2_subdf.iterrows(), every=10000):\n",
    "        # Check if there are interaction partners\n",
    "        kd = row.kd\n",
    "        if kd in string_genes:\n",
    "            partners = string_interactions_dict[kd]\n",
    "\n",
    "            # Check if partners have high-quality KDS in the pair's common_cells\n",
    "            hi_q_partners = partners.intersection(hi_q_kds)   \n",
    "            if len(hi_q_partners) > 0:\n",
    "                common_partners_dict = {}\n",
    "                common_cells = common_cells_2_sublist[index]\n",
    "                for cell_line in common_cells:\n",
    "                    cell_partners = set([ p for p in hi_q_partners if cell_line in repr_kd_cell_line_dict[p]])\n",
    "                    if len(cell_partners) > 0:\n",
    "                        common_partners_dict[cell_line] = cell_partners\n",
    "            \n",
    "                \n",
    "                # Store resutls if we have high-quality partner KDS in at least 3 common_cells\n",
    "                common_partner_cells = set(common_partners_dict.keys())\n",
    "                if len(common_partner_cells) >= min_num_common_cells:\n",
    "                    cpd_3_.append(row.cpd)\n",
    "                    target_3_.append(kd)\n",
    "                    label_3_.append(row.label)\n",
    "                    common_cells_3_.append(common_partner_cells)\n",
    "                    common_partners_3_.append(common_partners_dict)\n",
    "\n",
    "    # Compile & return filtered data\n",
    "    pair_set_3_subdf = pd.DataFrame({'cpd': cpd_3_, 'kd': target_3_, 'label': label_3_})\n",
    "    return pair_set_3_subdf, common_cells_3_, common_partners_3_"
   ]
  },
  {
   "cell_type": "code",
   "execution_count": 5,
   "metadata": {
    "collapsed": true
   },
   "outputs": [],
   "source": [
    "# Paralellization parameters\n",
    "num_batches = 20\n",
    "num_processes = multiprocessing.cpu_count()"
   ]
  },
  {
   "cell_type": "code",
   "execution_count": 10,
   "metadata": {},
   "outputs": [
    {
     "data": {
      "application/vnd.jupyter.widget-view+json": {
       "model_id": "464f93a002f6497f8f6fcd11ec7e13e2"
      }
     },
     "metadata": {},
     "output_type": "display_data"
    }
   ],
   "source": [
    "# Batch the data\n",
    "batch_size = int(pair_set_2_df.shape[0]/num_batches)\n",
    "pair_set_2_batches = [ pair_set_2_df.iloc[pair_set_2_df.index[i:i + batch_size]].reset_index(drop=True) for i in range(0, pair_set_2_df.shape[0], batch_size)]\n",
    "common_cells_2_batches = [ common_cells_2_[i:i + batch_size] for i in range(0, len(common_cells_2_), batch_size) ]\n",
    "\n",
    "for b in log_progress(range(num_batches)):\n",
    "    pair_set_2_batch = pair_set_2_batches[b]\n",
    "    common_cells_2_batch = common_cells_2_batches[b]\n",
    "\n",
    "    # Split up the batches for parallel filtering\n",
    "    chunk_size = int(pair_set_2_batch.shape[0]/num_processes)\n",
    "\n",
    "    pair_set_2_subdfs = [ pair_set_2_batch.iloc[pair_set_2_batch.index[i:i + chunk_size]].reset_index(drop=True) for i in range(0, pair_set_2_batch.shape[0], chunk_size)]\n",
    "    common_cells_2_sublists = [ common_cells_2_batch[i:i + chunk_size] for i in range(0, len(common_cells_2_batch), chunk_size) ]\n",
    "    chunks = list(zip(pair_set_2_subdfs, common_cells_2_sublists))\n",
    "\n",
    "    # Filter each chunk of the pairs dataframe in parallel\n",
    "    results = Parallel(n_jobs=num_processes, backend=\"multiprocessing\")(\n",
    "                 map(delayed(filter_3), chunks))\n",
    "\n",
    "    # Compile results\n",
    "    pair_set_3_subdfs = [ r[0] for r in results ]\n",
    "    pair_set_3_subdf = functools.reduce(lambda x,y: x.append(y), pair_set_3_subdfs).reset_index(drop=True)\n",
    "    common_cells_3_sublists = [ r[1] for r in results ]\n",
    "    common_cells_3_sublist = functools.reduce(lambda x,y: x+y, common_cells_3_sublists)\n",
    "    common_partners_3_sublists = [ r[2] for r in results ]\n",
    "    common_partners_3_sublist = functools.reduce(lambda x,y: x+y, common_partners_3_sublists)\n",
    "    \n",
    "    # Save results\n",
    "    pair_set_3_subdf.to_csv('checkpoint_files/pair_set_3_subdf_{}.csv'.format(b))\n",
    "    pickle.dump(common_cells_3_sublist, open('checkpoint_files/common_cells_3_sublist_{}.sav'.format(b), 'wb'))\n",
    "    pickle.dump(common_partners_3_sublist, open('checkpoint_files/common_partners_3_sublist_{}.sav'.format(b), 'wb'))\n",
    "    \n",
    "    # Clear memory\n",
    "    results = None \n",
    "    pair_set_3_subdfs, pair_set_3_subdf = None, None\n",
    "    common_cells_3_sublists, common_cells_3_sublist = None, None\n",
    "    common_partners_3_sublists, common_partners_3_sublist = None, None"
   ]
  },
  {
   "cell_type": "code",
   "execution_count": 10,
   "metadata": {},
   "outputs": [
    {
     "data": {
      "application/vnd.jupyter.widget-view+json": {
       "model_id": "9b499c8888034293ac1c587bdcccaeee"
      }
     },
     "metadata": {},
     "output_type": "display_data"
    }
   ],
   "source": [
    "# Load filtered pairs \n",
    "pair_set_3_df = pd.DataFrame(columns=['cpd', 'kd', 'label'])\n",
    "\n",
    "for b in log_progress(range(num_batches)):\n",
    "    df_filename = 'checkpoint_files/pair_set_3_subdf_{}.csv'.format(b)\n",
    "    pair_set_3_df = pair_set_3_df.append(pd.DataFrame.from_csv(df_filename))"
   ]
  },
  {
   "cell_type": "code",
   "execution_count": 7,
   "metadata": {},
   "outputs": [
    {
     "name": "stdout",
     "output_type": "stream",
     "text": [
      "Pair set 3 statistics\n",
      "\n",
      "No. True interactions:\t 746\n",
      "No. True cpds:\t\t 230\n",
      "No. True genes:\t\t 302\n",
      "\n",
      "No. False interactions:\t 3481166\n",
      "No. False cpds:\t\t 1228\n",
      "No. False genes:\t 3288\n"
     ]
    }
   ],
   "source": [
    "print('Pair set 3 statistics\\n')\n",
    "print('No. True interactions:\\t', pair_set_3_df.label.value_counts()[1])\n",
    "print('No. True cpds:\\t\\t', len(pair_set_3_df[pair_set_3_df.label == 1].cpd.unique()))\n",
    "print('No. True genes:\\t\\t', len(pair_set_3_df[pair_set_3_df.label == 1].kd.unique()))\n",
    "print('\\nNo. False interactions:\\t', pair_set_3_df.label.value_counts()[0])\n",
    "print('No. False cpds:\\t\\t', len(pair_set_3_df[pair_set_3_df.label == 0].cpd.unique()))\n",
    "print('No. False genes:\\t', len(pair_set_3_df[pair_set_3_df.label == 0].kd.unique()))"
   ]
  },
  {
   "cell_type": "markdown",
   "metadata": {},
   "source": [
    "# 6. Filter out pairs not in the n=7 most common cell lines (pair_set_4)\n",
    "\n",
    "Some cell lines have a very small number of true interactions that we can learn from. So for now we'll only focus on the common cell lines."
   ]
  },
  {
   "cell_type": "code",
   "execution_count": 8,
   "metadata": {},
   "outputs": [
    {
     "data": {
      "application/vnd.jupyter.widget-view+json": {
       "model_id": "818beacb23cb4690834424c52d0f06b0"
      }
     },
     "metadata": {},
     "output_type": "display_data"
    }
   ],
   "source": [
    "# Load the common cell data\n",
    "common_cells_3_ = []\n",
    "for b in log_progress(range(num_batches)):\n",
    "    cc_filename = 'checkpoint_files/common_cells_3_sublist_{}.sav'.format(b)\n",
    "    common_cells_3_ += pickle.load(open(cc_filename, 'rb'))"
   ]
  },
  {
   "cell_type": "code",
   "execution_count": 11,
   "metadata": {},
   "outputs": [
    {
     "data": {
      "image/png": "[encoded data removed]",
      "text/plain": [
       "<matplotlib.figure.Figure at 0x10ff97fd0>"
      ]
     },
     "metadata": {},
     "output_type": "display_data"
    }
   ],
   "source": [
    "# Which cells are the most common for True interactions?\n",
    "true_pair_idx = pair_set_3_df[pair_set_3_df.label == 1].index.values.astype(int)\n",
    "true_pair_common_cells = np.array(common_cells_3_)[true_pair_idx]\n",
    "all_cell_list = np.array(functools.reduce( lambda x,y: x+y, [ list(s) for s in true_pair_common_cells ] ))\n",
    "cell_line_counts = pd.Series(all_cell_list).value_counts()\n",
    "cell_line_counts.plot.bar()\n",
    "plt.xlabel('Cell Line')\n",
    "plt.ylabel('Number True Interactions')\n",
    "plt.title('Most Common Cell Lines')\n",
    "plt.show()"
   ]
  },
  {
   "cell_type": "code",
   "execution_count": 13,
   "metadata": {},
   "outputs": [],
   "source": [
    "top_7_cell_lines = set(cell_line_counts.index[:7])\n",
    "common_cells_3_ = None\n",
    "pair_set_3_df = None\n",
    "true_pair_common_cells = None\n",
    "all_cell_list = None"
   ]
  },
  {
   "cell_type": "code",
   "execution_count": 38,
   "metadata": {
    "collapsed": true
   },
   "outputs": [],
   "source": [
    "def filter_4(chunk):\n",
    "    pair_set_3_subdf, common_partners_3_sublist = chunk\n",
    "    \n",
    "    # Filter pairs from pair_set_3\n",
    "    cpd_4_, target_4_, label_4_, common_cells_4_, common_partners_4_ = [], [], [], [], []\n",
    "    \n",
    "    for index, row in log_progress(pair_set_3_subdf.iterrows(), every=5000):\n",
    "        common_partners_dict = common_partners_3_sublist[index]\n",
    "        common_cells = set(common_partners_dict.keys())\n",
    "        top_common_cells = top_7_cell_lines & common_cells\n",
    "        \n",
    "        # Remove the pair if it doesn't have at least 3 top-7 cells\n",
    "        if len(top_common_cells) >= min_num_common_cells:\n",
    "            top_common_partners_dict = {}\n",
    "            for cell_line in top_common_cells:\n",
    "                top_common_partners_dict[cell_line] = common_partners_dict[cell_line]\n",
    "            \n",
    "            cpd_4_.append(row.cpd)\n",
    "            target_4_.append(row.kd)\n",
    "            label_4_.append(row.label)\n",
    "            common_cells_4_.append(top_common_cells)\n",
    "            common_partners_4_.append(top_common_partners_dict)\n",
    "            \n",
    "    # Compile & return filtered data\n",
    "    pair_set_4_subdf = pd.DataFrame({'cpd': cpd_4_, 'kd': target_4_, 'label': label_4_})\n",
    "    return pair_set_4_subdf, common_cells_4_, common_partners_4_"
   ]
  },
  {
   "cell_type": "code",
   "execution_count": 39,
   "metadata": {},
   "outputs": [
    {
     "data": {
      "application/vnd.jupyter.widget-view+json": {
       "model_id": "3c158a43787446b89454730f2e730585"
      }
     },
     "metadata": {},
     "output_type": "display_data"
    }
   ],
   "source": [
    "# Filter out pairs not in the 7 most common cell lines\n",
    "for b in log_progress(range(num_batches)):\n",
    "    pair_set_3_batch = pd.DataFrame.from_csv('checkpoint_files/pair_set_3_subdf_{}.csv'.format(b))\n",
    "    common_partners_3_batch = pickle.load(open('checkpoint_files/common_partners_3_sublist_{}.sav'.format(b), 'rb'))\n",
    "\n",
    "    # Split up the batches for parallel filtering\n",
    "    chunk_size = int(pair_set_3_batch.shape[0]/num_processes)\n",
    "    pair_set_3_subdfs = [ pair_set_3_batch.iloc[pair_set_3_batch.index[i:i + chunk_size]].reset_index(drop=True) for i in range(0, pair_set_3_batch.shape[0], chunk_size)]\n",
    "    common_partners_3_sublists = [ common_partners_3_batch[i:i + chunk_size] for i in range(0, len(common_partners_3_batch), chunk_size) ]\n",
    "    chunks = list(zip(pair_set_3_subdfs, common_partners_3_sublists))\n",
    "\n",
    "    # Filter each chunk of the pairs dataframe in parallel\n",
    "    results = Parallel(n_jobs=num_processes, backend=\"multiprocessing\")(\n",
    "                 map(delayed(filter_4), chunks))\n",
    "    \n",
    "    # Compile results\n",
    "    pair_set_4_subdfs = [ r[0] for r in results ]\n",
    "    pair_set_4_subdf = functools.reduce(lambda x,y: x.append(y), pair_set_4_subdfs).reset_index(drop=True)\n",
    "    common_cells_4_sublists = [ r[1] for r in results ]\n",
    "    common_cells_4_sublist = functools.reduce(lambda x,y: x+y, common_cells_4_sublists)\n",
    "    common_partners_4_sublists = [ r[2] for r in results ]\n",
    "    common_partners_4_sublist = functools.reduce(lambda x,y: x+y, common_partners_4_sublists)\n",
    "    \n",
    "    # Save results\n",
    "    pair_set_4_subdf.to_csv('checkpoint_files/pair_set_4_subdf_{}.csv'.format(b))\n",
    "    pickle.dump(common_cells_4_sublist, open('checkpoint_files/common_cells_4_sublist_{}.sav'.format(b), 'wb'))\n",
    "    pickle.dump(common_partners_4_sublist, open('checkpoint_files/common_partners_4_sublist_{}.sav'.format(b), 'wb'))\n",
    "    \n",
    "    # Clear memory\n",
    "    results = None \n",
    "    pair_set_4_subdfs, pair_set_4_subdf = None, None\n",
    "    common_cells_4_sublists, common_cells_4_sublist = None, None\n",
    "    common_partners_4_sublists, common_partners_4_sublist = None, None"
   ]
  },
  {
   "cell_type": "code",
   "execution_count": 43,
   "metadata": {},
   "outputs": [
    {
     "data": {
      "application/vnd.jupyter.widget-view+json": {
       "model_id": "94caeae32b354c27b992751784456cc4"
      }
     },
     "metadata": {},
     "output_type": "display_data"
    }
   ],
   "source": [
    "# Load filtered pairs \n",
    "pair_set_4_df = pd.DataFrame(columns=['cpd', 'kd', 'label'])\n",
    "common_cells_4_ = []\n",
    "\n",
    "for b in log_progress(range(num_batches)):\n",
    "    df_filename = 'checkpoint_files/pair_set_4_subdf_{}.csv'.format(b)\n",
    "    pair_set_4_df = pair_set_3_df.append(pd.DataFrame.from_csv(df_filename))\n",
    "    cc_filename = 'checkpoint_files/common_cells_4_sublist_{}.sav'.format(b)\n",
    "    common_cells_4_ += pickle.load(open(cc_filename, 'rb'))"
   ]
  },
  {
   "cell_type": "code",
   "execution_count": 42,
   "metadata": {},
   "outputs": [
    {
     "name": "stdout",
     "output_type": "stream",
     "text": [
      "Pair set 4 statistics\n",
      "\n",
      "No. True interactions:\t 770\n",
      "No. True cpds:\t\t 230\n",
      "No. True genes:\t\t 302\n",
      "\n",
      "No. False interactions:\t 3536440\n",
      "No. False cpds:\t\t 1228\n",
      "No. False genes:\t 3288\n"
     ]
    }
   ],
   "source": [
    "print('Pair set 4 statistics\\n')\n",
    "print('No. True interactions:\\t', pair_set_4_df.label.value_counts()[1])\n",
    "print('No. True cpds:\\t\\t', len(pair_set_4_df[pair_set_4_df.label == 1].cpd.unique()))\n",
    "print('No. True genes:\\t\\t', len(pair_set_4_df[pair_set_4_df.label == 1].kd.unique()))\n",
    "print('\\nNo. False interactions:\\t', pair_set_4_df.label.value_counts()[0])\n",
    "print('No. False cpds:\\t\\t', len(pair_set_4_df[pair_set_4_df.label == 0].cpd.unique()))\n",
    "print('No. False genes:\\t', len(pair_set_4_df[pair_set_4_df.label == 0].kd.unique()))"
   ]
  },
  {
   "cell_type": "markdown",
   "metadata": {},
   "source": [
    "___\n",
    "# 7. Extract gene expression signatures"
   ]
  },
  {
   "cell_type": "code",
   "execution_count": 45,
   "metadata": {
    "collapsed": true
   },
   "outputs": [],
   "source": [
    "# Load gene info\n",
    "gene_info_1 = pd.read_csv('data/GSE92742_Broad_LINCS_gene_info.txt', sep='\\t', header=0)\n",
    "lm_genes = gene_info_1[gene_info_1['pr_is_lm'].astype(bool)]\n",
    "lm_gene_ids = lm_genes['pr_gene_id'].astype(str).values"
   ]
  },
  {
   "cell_type": "code",
   "execution_count": 52,
   "metadata": {},
   "outputs": [
    {
     "data": {
      "application/vnd.jupyter.widget-view+json": {
       "model_id": "1a41cd4e51414255bf8c2e0a10eab222"
      }
     },
     "metadata": {},
     "output_type": "display_data"
    }
   ],
   "source": [
    "# Pull repr cpd sigs from the top 7 cell lines\n",
    "repr_top_7_cpd_sigs = pd.DataFrame()\n",
    "for pert_id in log_progress(pair_set_4_df.cpd.unique()):\n",
    "    repr_cpd_sigs = repr_cpd_sig_info_dict[pert_id]\n",
    "    repr_cpd_sigs = repr_cpd_sigs[repr_cpd_sigs.cell_id.isin(top_7_cell_lines)]\n",
    "    repr_top_7_cpd_sigs = repr_top_7_cpd_sigs.append(repr_cpd_sigs)\n",
    "repr_top_7_cpd_sigs = repr_top_7_cpd_sigs.reset_index(drop=True)"
   ]
  },
  {
   "cell_type": "code",
   "execution_count": 53,
   "metadata": {},
   "outputs": [
    {
     "data": {
      "application/vnd.jupyter.widget-view+json": {
       "model_id": "c024d9d5ea174e949ef9c0da7c13da37"
      }
     },
     "metadata": {},
     "output_type": "display_data"
    }
   ],
   "source": [
    "# Pull all repr kd sigs from the top 7 cell lines\n",
    "repr_top_7_kd_sigs = pd.DataFrame()\n",
    "for pert_iname, repr_kd_sigs in log_progress(repr_kd_sig_info_dict.items()):\n",
    "    repr_kd_sigs = repr_kd_sigs[repr_kd_sigs.cell_id.isin(top_7_cell_lines)]\n",
    "    repr_top_7_kd_sigs = repr_top_7_kd_sigs.append(repr_kd_sigs)\n",
    "repr_top_7_kd_sigs = repr_top_7_kd_sigs.reset_index(drop=True)"
   ]
  },
  {
   "cell_type": "code",
   "execution_count": 55,
   "metadata": {},
   "outputs": [
    {
     "data": {
      "text/html": [
       "<div>\n",
       "<style>\n",
       "    .dataframe thead tr:only-child th {\n",
       "        text-align: right;\n",
       "    }\n",
       "\n",
       "    .dataframe thead th {\n",
       "        text-align: left;\n",
       "    }\n",
       "\n",
       "    .dataframe tbody tr th {\n",
       "        vertical-align: top;\n",
       "    }\n",
       "</style>\n",
       "<table border=\"1\" class=\"dataframe\">\n",
       "  <thead>\n",
       "    <tr style=\"text-align: right;\">\n",
       "      <th>cid</th>\n",
       "      <th>CPC005_A549_6H:BRD-K49294207-300-01-2:10</th>\n",
       "      <th>CPC005_A549_6H:BRD-K84895041-001-01-6:10</th>\n",
       "      <th>CPC005_A549_6H:BRD-A55484088-050-01-7:10</th>\n",
       "      <th>CPC005_A549_6H:BRD-A22713669-001-01-9:10</th>\n",
       "      <th>CPC005_A549_6H:BRD-A56020723-001-02-0:10</th>\n",
       "      <th>CPC005_A549_6H:BRD-K56429665-001-03-9:10</th>\n",
       "      <th>CPC005_A549_6H:BRD-A76941896-003-02-0:10</th>\n",
       "      <th>CPC005_A549_6H:BRD-K64755930-003-02-4:10</th>\n",
       "      <th>CPC005_A549_6H:BRD-K09778810-001-01-5:10</th>\n",
       "      <th>CPC005_A549_6H:BRD-K59332007-300-01-9:10</th>\n",
       "      <th>...</th>\n",
       "      <th>LJP009_PC3_24H:H01</th>\n",
       "      <th>LPROT001_MCF7_6H:K01</th>\n",
       "      <th>LPROT001_PC3_6H:H18</th>\n",
       "      <th>LPROT001_PC3_6H:P02</th>\n",
       "      <th>LPROT002_A549_6H:O03</th>\n",
       "      <th>LPROT002_MCF7_6H:J18</th>\n",
       "      <th>LPROT002_MCF7_6H:L04</th>\n",
       "      <th>REP.A026_HA1E_24H:A16</th>\n",
       "      <th>REP.A026_HA1E_24H:C04</th>\n",
       "      <th>REP.A026_HA1E_24H:D10</th>\n",
       "    </tr>\n",
       "  </thead>\n",
       "  <tbody>\n",
       "    <tr>\n",
       "      <th>10007</th>\n",
       "      <td>6.973750</td>\n",
       "      <td>-1.002187</td>\n",
       "      <td>5.968729</td>\n",
       "      <td>-0.953470</td>\n",
       "      <td>0.562095</td>\n",
       "      <td>-0.713414</td>\n",
       "      <td>1.394778</td>\n",
       "      <td>0.379642</td>\n",
       "      <td>-0.639863</td>\n",
       "      <td>-0.572912</td>\n",
       "      <td>...</td>\n",
       "      <td>2.392944</td>\n",
       "      <td>-0.9115</td>\n",
       "      <td>-3.5535</td>\n",
       "      <td>-0.8313</td>\n",
       "      <td>0.1721</td>\n",
       "      <td>0.6884</td>\n",
       "      <td>0.2987</td>\n",
       "      <td>0.615736</td>\n",
       "      <td>-1.413066</td>\n",
       "      <td>-0.405487</td>\n",
       "    </tr>\n",
       "    <tr>\n",
       "      <th>1001</th>\n",
       "      <td>-0.267279</td>\n",
       "      <td>-0.456261</td>\n",
       "      <td>-0.437818</td>\n",
       "      <td>0.090598</td>\n",
       "      <td>-0.857233</td>\n",
       "      <td>-0.721990</td>\n",
       "      <td>2.196101</td>\n",
       "      <td>-0.227097</td>\n",
       "      <td>0.447476</td>\n",
       "      <td>-0.509215</td>\n",
       "      <td>...</td>\n",
       "      <td>3.227689</td>\n",
       "      <td>-0.5532</td>\n",
       "      <td>-0.1200</td>\n",
       "      <td>1.2937</td>\n",
       "      <td>0.2178</td>\n",
       "      <td>-4.9659</td>\n",
       "      <td>0.3805</td>\n",
       "      <td>-0.211431</td>\n",
       "      <td>-0.251532</td>\n",
       "      <td>-0.510453</td>\n",
       "    </tr>\n",
       "    <tr>\n",
       "      <th>10013</th>\n",
       "      <td>1.237686</td>\n",
       "      <td>0.733325</td>\n",
       "      <td>-1.591386</td>\n",
       "      <td>-0.317255</td>\n",
       "      <td>0.293296</td>\n",
       "      <td>-0.578746</td>\n",
       "      <td>1.685715</td>\n",
       "      <td>-0.181047</td>\n",
       "      <td>0.212449</td>\n",
       "      <td>-1.277575</td>\n",
       "      <td>...</td>\n",
       "      <td>-0.112838</td>\n",
       "      <td>-0.8921</td>\n",
       "      <td>-3.4834</td>\n",
       "      <td>0.6745</td>\n",
       "      <td>0.1847</td>\n",
       "      <td>-0.9694</td>\n",
       "      <td>0.8371</td>\n",
       "      <td>-0.443996</td>\n",
       "      <td>-0.620000</td>\n",
       "      <td>-0.234399</td>\n",
       "    </tr>\n",
       "    <tr>\n",
       "      <th>10038</th>\n",
       "      <td>0.063985</td>\n",
       "      <td>-1.620348</td>\n",
       "      <td>-1.702004</td>\n",
       "      <td>-0.494152</td>\n",
       "      <td>0.296358</td>\n",
       "      <td>0.145910</td>\n",
       "      <td>-7.275051</td>\n",
       "      <td>0.300573</td>\n",
       "      <td>-0.119113</td>\n",
       "      <td>-0.664986</td>\n",
       "      <td>...</td>\n",
       "      <td>-0.194425</td>\n",
       "      <td>2.0580</td>\n",
       "      <td>1.0855</td>\n",
       "      <td>0.1106</td>\n",
       "      <td>0.5542</td>\n",
       "      <td>0.0294</td>\n",
       "      <td>0.6745</td>\n",
       "      <td>0.451793</td>\n",
       "      <td>-4.528064</td>\n",
       "      <td>0.206856</td>\n",
       "    </tr>\n",
       "    <tr>\n",
       "      <th>10046</th>\n",
       "      <td>-0.499549</td>\n",
       "      <td>0.326133</td>\n",
       "      <td>1.083981</td>\n",
       "      <td>-0.502755</td>\n",
       "      <td>0.305382</td>\n",
       "      <td>0.605420</td>\n",
       "      <td>5.107271</td>\n",
       "      <td>-0.725981</td>\n",
       "      <td>-0.396668</td>\n",
       "      <td>-0.738087</td>\n",
       "      <td>...</td>\n",
       "      <td>0.446669</td>\n",
       "      <td>1.1517</td>\n",
       "      <td>-1.2228</td>\n",
       "      <td>0.0974</td>\n",
       "      <td>-3.1562</td>\n",
       "      <td>0.2901</td>\n",
       "      <td>1.0849</td>\n",
       "      <td>-0.472678</td>\n",
       "      <td>-0.683095</td>\n",
       "      <td>-0.123612</td>\n",
       "    </tr>\n",
       "  </tbody>\n",
       "</table>\n",
       "<p>5 rows × 4838 columns</p>\n",
       "</div>"
      ],
      "text/plain": [
       "cid    CPC005_A549_6H:BRD-K49294207-300-01-2:10  \\\n",
       "10007                                  6.973750   \n",
       "1001                                  -0.267279   \n",
       "10013                                  1.237686   \n",
       "10038                                  0.063985   \n",
       "10046                                 -0.499549   \n",
       "\n",
       "cid    CPC005_A549_6H:BRD-K84895041-001-01-6:10  \\\n",
       "10007                                 -1.002187   \n",
       "1001                                  -0.456261   \n",
       "10013                                  0.733325   \n",
       "10038                                 -1.620348   \n",
       "10046                                  0.326133   \n",
       "\n",
       "cid    CPC005_A549_6H:BRD-A55484088-050-01-7:10  \\\n",
       "10007                                  5.968729   \n",
       "1001                                  -0.437818   \n",
       "10013                                 -1.591386   \n",
       "10038                                 -1.702004   \n",
       "10046                                  1.083981   \n",
       "\n",
       "cid    CPC005_A549_6H:BRD-A22713669-001-01-9:10  \\\n",
       "10007                                 -0.953470   \n",
       "1001                                   0.090598   \n",
       "10013                                 -0.317255   \n",
       "10038                                 -0.494152   \n",
       "10046                                 -0.502755   \n",
       "\n",
       "cid    CPC005_A549_6H:BRD-A56020723-001-02-0:10  \\\n",
       "10007                                  0.562095   \n",
       "1001                                  -0.857233   \n",
       "10013                                  0.293296   \n",
       "10038                                  0.296358   \n",
       "10046                                  0.305382   \n",
       "\n",
       "cid    CPC005_A549_6H:BRD-K56429665-001-03-9:10  \\\n",
       "10007                                 -0.713414   \n",
       "1001                                  -0.721990   \n",
       "10013                                 -0.578746   \n",
       "10038                                  0.145910   \n",
       "10046                                  0.605420   \n",
       "\n",
       "cid    CPC005_A549_6H:BRD-A76941896-003-02-0:10  \\\n",
       "10007                                  1.394778   \n",
       "1001                                   2.196101   \n",
       "10013                                  1.685715   \n",
       "10038                                 -7.275051   \n",
       "10046                                  5.107271   \n",
       "\n",
       "cid    CPC005_A549_6H:BRD-K64755930-003-02-4:10  \\\n",
       "10007                                  0.379642   \n",
       "1001                                  -0.227097   \n",
       "10013                                 -0.181047   \n",
       "10038                                  0.300573   \n",
       "10046                                 -0.725981   \n",
       "\n",
       "cid    CPC005_A549_6H:BRD-K09778810-001-01-5:10  \\\n",
       "10007                                 -0.639863   \n",
       "1001                                   0.447476   \n",
       "10013                                  0.212449   \n",
       "10038                                 -0.119113   \n",
       "10046                                 -0.396668   \n",
       "\n",
       "cid    CPC005_A549_6H:BRD-K59332007-300-01-9:10          ...            \\\n",
       "10007                                 -0.572912          ...             \n",
       "1001                                  -0.509215          ...             \n",
       "10013                                 -1.277575          ...             \n",
       "10038                                 -0.664986          ...             \n",
       "10046                                 -0.738087          ...             \n",
       "\n",
       "cid    LJP009_PC3_24H:H01  LPROT001_MCF7_6H:K01  LPROT001_PC3_6H:H18  \\\n",
       "10007            2.392944               -0.9115              -3.5535   \n",
       "1001             3.227689               -0.5532              -0.1200   \n",
       "10013           -0.112838               -0.8921              -3.4834   \n",
       "10038           -0.194425                2.0580               1.0855   \n",
       "10046            0.446669                1.1517              -1.2228   \n",
       "\n",
       "cid    LPROT001_PC3_6H:P02  LPROT002_A549_6H:O03  LPROT002_MCF7_6H:J18  \\\n",
       "10007              -0.8313                0.1721                0.6884   \n",
       "1001                1.2937                0.2178               -4.9659   \n",
       "10013               0.6745                0.1847               -0.9694   \n",
       "10038               0.1106                0.5542                0.0294   \n",
       "10046               0.0974               -3.1562                0.2901   \n",
       "\n",
       "cid    LPROT002_MCF7_6H:L04  REP.A026_HA1E_24H:A16  REP.A026_HA1E_24H:C04  \\\n",
       "10007                0.2987               0.615736              -1.413066   \n",
       "1001                 0.3805              -0.211431              -0.251532   \n",
       "10013                0.8371              -0.443996              -0.620000   \n",
       "10038                0.6745               0.451793              -4.528064   \n",
       "10046                1.0849              -0.472678              -0.683095   \n",
       "\n",
       "cid    REP.A026_HA1E_24H:D10  \n",
       "10007              -0.405487  \n",
       "1001               -0.510453  \n",
       "10013              -0.234399  \n",
       "10038               0.206856  \n",
       "10046              -0.123612  \n",
       "\n",
       "[5 rows x 4838 columns]"
      ]
     },
     "execution_count": 55,
     "metadata": {},
     "output_type": "execute_result"
    }
   ],
   "source": [
    "# Extract the actual cpd signatures\n",
    "phase_1_sig_ids = parse('data/GSE92742_Broad_LINCS_Level5_COMPZ.MODZ_n473647x12328.gctx', col_meta_only=True).index.values\n",
    "phase_2_sig_ids = parse('data/GSE70138_Broad_LINCS_Level5_COMPZ_n118050x12328_2017-03-06.gctx', col_meta_only=True).index.values\n",
    "\n",
    "# The GCTX files encode the sig IDS as strings of byte strings (why????) so we have to deal with that\n",
    "top_7_cpd_sig_ids = [ str(s.encode('UTF8')) for s  in repr_top_7_cpd_sigs.sig_id.values ]\n",
    "phase_1_top_7_cpd_sig_ids = [ s for s in top_7_cpd_sig_ids if s in phase_1_sig_ids ]\n",
    "phase_2_top_7_cpd_sig_ids = [ s for s in top_7_cpd_sig_ids if s in phase_2_sig_ids ]\n",
    "\n",
    "# extract the actual signatures\n",
    "phase_1_top_7_cpd_sigs = parse('data/GSE92742_Broad_LINCS_Level5_COMPZ.MODZ_n473647x12328.gctx', cid=phase_1_top_7_cpd_sig_ids).data_df\n",
    "phase_2_top_7_cpd_sigs = parse('data/GSE70138_Broad_LINCS_Level5_COMPZ_n118050x12328_2017-03-06.gctx', cid=phase_2_top_7_cpd_sig_ids).data_df\n",
    "phase_2_top_7_cpd_sigs.rename(lambda x: x[2:-1], inplace=True)\n",
    "top_7_cpd_raw_sigs = pd.concat([phase_1_top_7_cpd_sigs, phase_2_top_7_cpd_sigs], axis=1)\n",
    "\n",
    "# discard all but landmark gene values\n",
    "top_7_cpd_lm_sigs = top_7_cpd_raw_sigs[top_7_cpd_raw_sigs.index.isin(lm_gene_ids)].sort_index().copy()\n",
    "\n",
    "# reformat the sig_ids so they are nice strings\n",
    "top_7_cpd_lm_sigs = top_7_cpd_lm_sigs.T.rename(lambda x: x.lstrip('b\\'').rstrip('\\'')).T\n",
    "top_7_cpd_lm_sigs.head()"
   ]
  },
  {
   "cell_type": "code",
   "execution_count": 56,
   "metadata": {},
   "outputs": [
    {
     "name": "stdout",
     "output_type": "stream",
     "text": [
      "(4838, 15)\n",
      "(978, 4838)\n"
     ]
    }
   ],
   "source": [
    "print(repr_top_7_cpd_sigs.shape)\n",
    "print(top_7_cpd_lm_sigs.shape)\n",
    "repr_top_7_cpd_sigs.to_csv('checkpoint_files/repr_top_7_cpd_sigs.csv')\n",
    "top_7_cpd_lm_sigs.to_csv('checkpoint_files/top_7_cpd_lm_sigs.csv')"
   ]
  },
  {
   "cell_type": "code",
   "execution_count": 57,
   "metadata": {},
   "outputs": [
    {
     "data": {
      "text/html": [
       "<div>\n",
       "<style>\n",
       "    .dataframe thead tr:only-child th {\n",
       "        text-align: right;\n",
       "    }\n",
       "\n",
       "    .dataframe thead th {\n",
       "        text-align: left;\n",
       "    }\n",
       "\n",
       "    .dataframe tbody tr th {\n",
       "        vertical-align: top;\n",
       "    }\n",
       "</style>\n",
       "<table border=\"1\" class=\"dataframe\">\n",
       "  <thead>\n",
       "    <tr style=\"text-align: right;\">\n",
       "      <th>cid</th>\n",
       "      <th>DER001_A549_96H:TRCN0000052584:-666</th>\n",
       "      <th>DER001_A549_96H:TRCN0000231931:-666</th>\n",
       "      <th>DER001_A549_96H:TRCN0000338771:-666</th>\n",
       "      <th>DER001_A549_96H:TRCN0000230574:-666</th>\n",
       "      <th>DER001_A549_96H:TRCN0000369366:-666</th>\n",
       "      <th>DER001_A549_96H:TRCN0000138966:-666</th>\n",
       "      <th>DER001_A549_96H:TRCN0000195610:-666</th>\n",
       "      <th>DER001_A549_96H:TRCN0000139625:-666</th>\n",
       "      <th>DER001_A549_96H:TRCN0000196714:-666</th>\n",
       "      <th>DER001_A549_96H:TRCN0000051206:-666</th>\n",
       "      <th>...</th>\n",
       "      <th>KDB001_PC3_96H:TRCN0000343797:-666</th>\n",
       "      <th>KDB001_PC3_96H:TRCN0000319318:-666</th>\n",
       "      <th>KDB001_PC3_96H:TRCN0000323290:-666</th>\n",
       "      <th>KDB001_PC3_96H:TRCN0000159391:-666</th>\n",
       "      <th>KDB001_PC3_96H:TRCN0000364667:-666</th>\n",
       "      <th>KDB001_PC3_96H:TRCN0000135504:-666</th>\n",
       "      <th>KDB001_PC3_96H:TRCN0000142389:-666</th>\n",
       "      <th>KDB001_PC3_96H:TRCN0000180510:-666</th>\n",
       "      <th>KDB001_PC3_96H:TRCN0000254328:-666</th>\n",
       "      <th>KDB001_PC3_96H:TRCN0000133950:-666</th>\n",
       "    </tr>\n",
       "    <tr>\n",
       "      <th>rid</th>\n",
       "      <th></th>\n",
       "      <th></th>\n",
       "      <th></th>\n",
       "      <th></th>\n",
       "      <th></th>\n",
       "      <th></th>\n",
       "      <th></th>\n",
       "      <th></th>\n",
       "      <th></th>\n",
       "      <th></th>\n",
       "      <th></th>\n",
       "      <th></th>\n",
       "      <th></th>\n",
       "      <th></th>\n",
       "      <th></th>\n",
       "      <th></th>\n",
       "      <th></th>\n",
       "      <th></th>\n",
       "      <th></th>\n",
       "      <th></th>\n",
       "      <th></th>\n",
       "    </tr>\n",
       "  </thead>\n",
       "  <tbody>\n",
       "    <tr>\n",
       "      <th>10007</th>\n",
       "      <td>0.238107</td>\n",
       "      <td>-0.622791</td>\n",
       "      <td>-2.890380</td>\n",
       "      <td>0.289155</td>\n",
       "      <td>0.230212</td>\n",
       "      <td>-0.534408</td>\n",
       "      <td>-0.701051</td>\n",
       "      <td>-1.529376</td>\n",
       "      <td>-1.596325</td>\n",
       "      <td>-1.50570</td>\n",
       "      <td>...</td>\n",
       "      <td>-0.39430</td>\n",
       "      <td>0.39255</td>\n",
       "      <td>0.40935</td>\n",
       "      <td>1.98080</td>\n",
       "      <td>0.46525</td>\n",
       "      <td>-0.81515</td>\n",
       "      <td>-0.31605</td>\n",
       "      <td>-0.02665</td>\n",
       "      <td>0.36655</td>\n",
       "      <td>1.32305</td>\n",
       "    </tr>\n",
       "    <tr>\n",
       "      <th>1001</th>\n",
       "      <td>-0.742594</td>\n",
       "      <td>0.320136</td>\n",
       "      <td>1.582691</td>\n",
       "      <td>1.116215</td>\n",
       "      <td>1.036991</td>\n",
       "      <td>-0.027469</td>\n",
       "      <td>2.398777</td>\n",
       "      <td>-0.195812</td>\n",
       "      <td>1.224051</td>\n",
       "      <td>1.99940</td>\n",
       "      <td>...</td>\n",
       "      <td>0.75325</td>\n",
       "      <td>-0.32005</td>\n",
       "      <td>-1.70935</td>\n",
       "      <td>0.82750</td>\n",
       "      <td>0.14065</td>\n",
       "      <td>-0.61405</td>\n",
       "      <td>-0.14040</td>\n",
       "      <td>0.64610</td>\n",
       "      <td>1.46140</td>\n",
       "      <td>0.01925</td>\n",
       "    </tr>\n",
       "    <tr>\n",
       "      <th>10013</th>\n",
       "      <td>0.469476</td>\n",
       "      <td>-0.401893</td>\n",
       "      <td>-1.417432</td>\n",
       "      <td>-1.239244</td>\n",
       "      <td>-0.584913</td>\n",
       "      <td>-1.086684</td>\n",
       "      <td>-1.116879</td>\n",
       "      <td>-0.879018</td>\n",
       "      <td>-0.243091</td>\n",
       "      <td>-1.81925</td>\n",
       "      <td>...</td>\n",
       "      <td>-0.43025</td>\n",
       "      <td>-0.46250</td>\n",
       "      <td>-0.24895</td>\n",
       "      <td>0.34875</td>\n",
       "      <td>-0.56190</td>\n",
       "      <td>0.47240</td>\n",
       "      <td>-0.57825</td>\n",
       "      <td>-0.82385</td>\n",
       "      <td>0.35615</td>\n",
       "      <td>0.69620</td>\n",
       "    </tr>\n",
       "    <tr>\n",
       "      <th>10038</th>\n",
       "      <td>0.945602</td>\n",
       "      <td>-0.939611</td>\n",
       "      <td>-0.307037</td>\n",
       "      <td>0.454981</td>\n",
       "      <td>-0.786091</td>\n",
       "      <td>0.521690</td>\n",
       "      <td>-0.964038</td>\n",
       "      <td>-0.762941</td>\n",
       "      <td>0.188488</td>\n",
       "      <td>-0.23265</td>\n",
       "      <td>...</td>\n",
       "      <td>-0.14960</td>\n",
       "      <td>-0.22880</td>\n",
       "      <td>0.61105</td>\n",
       "      <td>-2.17760</td>\n",
       "      <td>0.02495</td>\n",
       "      <td>0.22810</td>\n",
       "      <td>-1.60735</td>\n",
       "      <td>0.69330</td>\n",
       "      <td>-0.59275</td>\n",
       "      <td>-0.38195</td>\n",
       "    </tr>\n",
       "    <tr>\n",
       "      <th>10046</th>\n",
       "      <td>-0.641048</td>\n",
       "      <td>0.229374</td>\n",
       "      <td>0.584793</td>\n",
       "      <td>-0.233250</td>\n",
       "      <td>0.137667</td>\n",
       "      <td>4.069284</td>\n",
       "      <td>0.324046</td>\n",
       "      <td>0.608330</td>\n",
       "      <td>1.061105</td>\n",
       "      <td>1.52550</td>\n",
       "      <td>...</td>\n",
       "      <td>-0.15285</td>\n",
       "      <td>-0.22195</td>\n",
       "      <td>-0.83325</td>\n",
       "      <td>0.00205</td>\n",
       "      <td>-1.43080</td>\n",
       "      <td>0.42020</td>\n",
       "      <td>-0.35985</td>\n",
       "      <td>0.94590</td>\n",
       "      <td>-0.75705</td>\n",
       "      <td>0.32970</td>\n",
       "    </tr>\n",
       "  </tbody>\n",
       "</table>\n",
       "<p>5 rows × 23660 columns</p>\n",
       "</div>"
      ],
      "text/plain": [
       "cid    DER001_A549_96H:TRCN0000052584:-666  \\\n",
       "rid                                          \n",
       "10007                             0.238107   \n",
       "1001                             -0.742594   \n",
       "10013                             0.469476   \n",
       "10038                             0.945602   \n",
       "10046                            -0.641048   \n",
       "\n",
       "cid    DER001_A549_96H:TRCN0000231931:-666  \\\n",
       "rid                                          \n",
       "10007                            -0.622791   \n",
       "1001                              0.320136   \n",
       "10013                            -0.401893   \n",
       "10038                            -0.939611   \n",
       "10046                             0.229374   \n",
       "\n",
       "cid    DER001_A549_96H:TRCN0000338771:-666  \\\n",
       "rid                                          \n",
       "10007                            -2.890380   \n",
       "1001                              1.582691   \n",
       "10013                            -1.417432   \n",
       "10038                            -0.307037   \n",
       "10046                             0.584793   \n",
       "\n",
       "cid    DER001_A549_96H:TRCN0000230574:-666  \\\n",
       "rid                                          \n",
       "10007                             0.289155   \n",
       "1001                              1.116215   \n",
       "10013                            -1.239244   \n",
       "10038                             0.454981   \n",
       "10046                            -0.233250   \n",
       "\n",
       "cid    DER001_A549_96H:TRCN0000369366:-666  \\\n",
       "rid                                          \n",
       "10007                             0.230212   \n",
       "1001                              1.036991   \n",
       "10013                            -0.584913   \n",
       "10038                            -0.786091   \n",
       "10046                             0.137667   \n",
       "\n",
       "cid    DER001_A549_96H:TRCN0000138966:-666  \\\n",
       "rid                                          \n",
       "10007                            -0.534408   \n",
       "1001                             -0.027469   \n",
       "10013                            -1.086684   \n",
       "10038                             0.521690   \n",
       "10046                             4.069284   \n",
       "\n",
       "cid    DER001_A549_96H:TRCN0000195610:-666  \\\n",
       "rid                                          \n",
       "10007                            -0.701051   \n",
       "1001                              2.398777   \n",
       "10013                            -1.116879   \n",
       "10038                            -0.964038   \n",
       "10046                             0.324046   \n",
       "\n",
       "cid    DER001_A549_96H:TRCN0000139625:-666  \\\n",
       "rid                                          \n",
       "10007                            -1.529376   \n",
       "1001                             -0.195812   \n",
       "10013                            -0.879018   \n",
       "10038                            -0.762941   \n",
       "10046                             0.608330   \n",
       "\n",
       "cid    DER001_A549_96H:TRCN0000196714:-666  \\\n",
       "rid                                          \n",
       "10007                            -1.596325   \n",
       "1001                              1.224051   \n",
       "10013                            -0.243091   \n",
       "10038                             0.188488   \n",
       "10046                             1.061105   \n",
       "\n",
       "cid    DER001_A549_96H:TRCN0000051206:-666  \\\n",
       "rid                                          \n",
       "10007                             -1.50570   \n",
       "1001                               1.99940   \n",
       "10013                             -1.81925   \n",
       "10038                             -0.23265   \n",
       "10046                              1.52550   \n",
       "\n",
       "cid                   ...                  KDB001_PC3_96H:TRCN0000343797:-666  \\\n",
       "rid                   ...                                                       \n",
       "10007                 ...                                            -0.39430   \n",
       "1001                  ...                                             0.75325   \n",
       "10013                 ...                                            -0.43025   \n",
       "10038                 ...                                            -0.14960   \n",
       "10046                 ...                                            -0.15285   \n",
       "\n",
       "cid    KDB001_PC3_96H:TRCN0000319318:-666  KDB001_PC3_96H:TRCN0000323290:-666  \\\n",
       "rid                                                                             \n",
       "10007                             0.39255                             0.40935   \n",
       "1001                             -0.32005                            -1.70935   \n",
       "10013                            -0.46250                            -0.24895   \n",
       "10038                            -0.22880                             0.61105   \n",
       "10046                            -0.22195                            -0.83325   \n",
       "\n",
       "cid    KDB001_PC3_96H:TRCN0000159391:-666  KDB001_PC3_96H:TRCN0000364667:-666  \\\n",
       "rid                                                                             \n",
       "10007                             1.98080                             0.46525   \n",
       "1001                              0.82750                             0.14065   \n",
       "10013                             0.34875                            -0.56190   \n",
       "10038                            -2.17760                             0.02495   \n",
       "10046                             0.00205                            -1.43080   \n",
       "\n",
       "cid    KDB001_PC3_96H:TRCN0000135504:-666  KDB001_PC3_96H:TRCN0000142389:-666  \\\n",
       "rid                                                                             \n",
       "10007                            -0.81515                            -0.31605   \n",
       "1001                             -0.61405                            -0.14040   \n",
       "10013                             0.47240                            -0.57825   \n",
       "10038                             0.22810                            -1.60735   \n",
       "10046                             0.42020                            -0.35985   \n",
       "\n",
       "cid    KDB001_PC3_96H:TRCN0000180510:-666  KDB001_PC3_96H:TRCN0000254328:-666  \\\n",
       "rid                                                                             \n",
       "10007                            -0.02665                             0.36655   \n",
       "1001                              0.64610                             1.46140   \n",
       "10013                            -0.82385                             0.35615   \n",
       "10038                             0.69330                            -0.59275   \n",
       "10046                             0.94590                            -0.75705   \n",
       "\n",
       "cid    KDB001_PC3_96H:TRCN0000133950:-666  \n",
       "rid                                        \n",
       "10007                             1.32305  \n",
       "1001                              0.01925  \n",
       "10013                             0.69620  \n",
       "10038                            -0.38195  \n",
       "10046                             0.32970  \n",
       "\n",
       "[5 rows x 23660 columns]"
      ]
     },
     "execution_count": 57,
     "metadata": {},
     "output_type": "execute_result"
    }
   ],
   "source": [
    "# Extract the actual KD signatures\n",
    "# The GCTX files encode the sig IDS as strings of byte strings (why????) so we have to deal with that\n",
    "top_7_kd_sig_ids = [ str(s.encode('UTF8')) for s in repr_top_7_kd_sigs.sig_id.values ]\n",
    "\n",
    "# read in the data\n",
    "top_7_kd_raw_sigs = parse('data/GSE92742_Broad_LINCS_Level5_COMPZ.MODZ_n473647x12328.gctx', cid=top_7_kd_sig_ids).data_df\n",
    "\n",
    "# discard non-landmark gene expression scores\n",
    "top_7_kd_lm_sigs = top_7_kd_raw_sigs[top_7_kd_raw_sigs.index.isin(lm_gene_ids)].sort_index().copy()\n",
    "\n",
    "# reformat the sig_ids so they are nice strings\n",
    "top_7_kd_lm_sigs = top_7_kd_lm_sigs.T.rename(lambda x: x.lstrip('b\\'').rstrip('\\'')).T\n",
    "top_7_kd_lm_sigs.head()"
   ]
  },
  {
   "cell_type": "code",
   "execution_count": 60,
   "metadata": {},
   "outputs": [
    {
     "name": "stdout",
     "output_type": "stream",
     "text": [
      "(23660, 15)\n",
      "(978, 23660)\n"
     ]
    }
   ],
   "source": [
    "print(repr_top_7_kd_sigs.shape)\n",
    "print(top_7_kd_lm_sigs.shape)\n",
    "repr_top_7_kd_sigs.to_csv('checkpoint_files/repr_top_7_kd_sigs.csv')\n",
    "top_7_kd_lm_sigs.to_csv('checkpoint_files/top_7_kd_lm_sigs.csv')"
   ]
  },
  {
   "cell_type": "markdown",
   "metadata": {},
   "source": [
    "___\n",
    "# 8. Calculate direct correlation features"
   ]
  },
  {
   "cell_type": "code",
   "execution_count": 2,
   "metadata": {
    "collapsed": true
   },
   "outputs": [],
   "source": [
    "# Load the signature data\n",
    "repr_top_7_cpd_sigs = pd.DataFrame.from_csv('checkpoint_files/repr_top_7_cpd_sigs.csv')\n",
    "top_7_cpd_lm_sigs = pd.DataFrame.from_csv('checkpoint_files/top_7_cpd_lm_sigs.csv')\n",
    "repr_top_7_kd_sigs = pd.DataFrame.from_csv('checkpoint_files/repr_top_7_kd_sigs.csv')\n",
    "top_7_kd_lm_sigs = pd.DataFrame.from_csv('checkpoint_files/top_7_kd_lm_sigs.csv')"
   ]
  },
  {
   "cell_type": "code",
   "execution_count": 62,
   "metadata": {
    "collapsed": true
   },
   "outputs": [],
   "source": [
    "def compute_dir_corr(chunk):\n",
    "    pair_subset, cell_subset = chunk\n",
    "    \n",
    "    # Initialize empty dataframe to hold direct correlation values\n",
    "    dir_corr_df = pd.DataFrame(index=pair_subset.index, columns=top_7_cell_lines)\n",
    "\n",
    "    # Loop through cpd-target pairs, calculate correlations in each cell line\n",
    "    for index, row in log_progress(pair_subset.iterrows(), every=1000):\n",
    "        \n",
    "        cpd = row.cpd\n",
    "        cpd_sig_info = repr_cpd_sig_info_dict[cpd]\n",
    "        kd = row.kd\n",
    "        kd_sig_info = repr_kd_sig_info_dict[kd]\n",
    "        \n",
    "        for cell_line in cell_subset[index]:\n",
    "            cpd_cell_sig_info = cpd_sig_info[cpd_sig_info.cell_id == cell_line]\n",
    "            kd_cell_sig_info = kd_sig_info[kd_sig_info.cell_id == cell_line]\n",
    "\n",
    "            # extract signatures\n",
    "            cpd_sig_id = cpd_cell_sig_info.sig_id\n",
    "            kd_sig_id = kd_cell_sig_info.sig_id\n",
    "            cpd_lm_sig = top_7_cpd_lm_sigs[cpd_sig_id].values\n",
    "            kd_lm_sig = top_7_kd_lm_sigs[kd_sig_id].values\n",
    "            #compute and store correlation\n",
    "            corr = scipy.stats.pearsonr(cpd_lm_sig, kd_lm_sig)[0][0]\n",
    "            dir_corr_df.at[index, cell_line] = corr\n",
    "    \n",
    "    return dir_corr_df"
   ]
  },
  {
   "cell_type": "code",
   "execution_count": 63,
   "metadata": {},
   "outputs": [
    {
     "data": {
      "application/vnd.jupyter.widget-view+json": {
       "model_id": "cea965bd82b146d59b075c5636840662"
      }
     },
     "metadata": {},
     "output_type": "display_data"
    }
   ],
   "source": [
    "# Compute correlations in parallel\n",
    "for b in log_progress(range(num_batches)):\n",
    "    # Load the batch\n",
    "    df_filename = 'checkpoint_files/pair_set_4_subdf_{}.csv'.format(b)\n",
    "    cc_filename = 'checkpoint_files/common_cells_4_sublist_{}.sav'.format(b)\n",
    "    pair_subset = pd.DataFrame.from_csv(df_filename)\n",
    "    cell_subset = pickle.load(open(cc_filename, 'rb'))\n",
    "    \n",
    "    # Split the batch into chunks\n",
    "    chunk_size = int(pair_subset.shape[0]/num_processes)\n",
    "    pair_chunks = [ pair_subset.iloc[pair_subset.index[i:i + chunk_size]].reset_index(drop=True) for i in range(0, pair_subset.shape[0], chunk_size)]\n",
    "    cell_chunks = [ cell_subset[i:i + chunk_size] for i in range(0, len(cell_subset), chunk_size) ]\n",
    "    chunks = list(zip(pair_chunks, cell_chunks))\n",
    "\n",
    "    # Compute correlations in parallel\n",
    "    results = Parallel(n_jobs=num_processes, backend=\"multiprocessing\")(\n",
    "                 map(delayed(compute_dir_corr), chunks))\n",
    "    \n",
    "    # Compile and save data\n",
    "    dir_corr_sub_df = functools.reduce(lambda x,y: pd.concat([x,y]), results)\n",
    "    filename = 'features/top_7_dir_corr_sub_df_{}.csv'.format(b)\n",
    "    dir_corr_sub_df.to_csv(filename)"
   ]
  },
  {
   "cell_type": "markdown",
   "metadata": {},
   "source": [
    "___\n",
    "# 9. Calculate indirect correlation features"
   ]
  },
  {
   "cell_type": "code",
   "execution_count": 3,
   "metadata": {
    "collapsed": true
   },
   "outputs": [],
   "source": [
    "def compute_indir_corr(chunk):\n",
    "    pair_subset, partner_subset = chunk\n",
    "\n",
    "    # initialize empty dataframe to hold indirect correlation values\n",
    "    indir_max_corr_df = pd.DataFrame(index=pair_subset.index, columns=top_7_cell_lines)\n",
    "    indir_min_corr_df = pd.DataFrame(index=pair_subset.index, columns=top_7_cell_lines)\n",
    "    indir_avg_corr_df = pd.DataFrame(index=pair_subset.index, columns=top_7_cell_lines)\n",
    "\n",
    "    # Loop through cpd-target pairs, calculate correlations in each cell line\n",
    "    for index, row in log_progress(pair_subset.iterrows(), every=100):        \n",
    "        cpd = row.cpd\n",
    "        partner_dict = partner_subset[index]\n",
    "        \n",
    "        # Compute cpd correlations w/ each partner in each cell line \n",
    "        cpd_sig_info = repr_cpd_sig_info_dict[cpd]\n",
    "        for cell_line in partner_dict.keys():\n",
    "            \n",
    "            # Extract cell-specific cpd sig\n",
    "            cpd_sig_id = cpd_sig_info[cpd_sig_info.cell_id == cell_line].sig_id\n",
    "            cpd_lm_sig = top_7_cpd_lm_sigs[cpd_sig_id].values\n",
    "\n",
    "            # Compute cell-specific partner corrs\n",
    "            cell_partners = partner_dict[cell_line]\n",
    "            pkd_corrs = pd.Series(index=cell_partners)\n",
    "            for partner in cell_partners:\n",
    "                pkd_sig_info = repr_kd_sig_info_dict[partner]\n",
    "                pkd_sig_id = pkd_sig_info[pkd_sig_info.cell_id == cell_line].sig_id\n",
    "                pkd_lm_sig = top_7_kd_lm_sigs[pkd_sig_id].values\n",
    "                \n",
    "                # compute and store correlations\n",
    "                corr = scipy.stats.pearsonr(cpd_lm_sig, pkd_lm_sig)[0][0]\n",
    "                pkd_corrs[partner] = corr\n",
    "\n",
    "            # compute correlation statistics\n",
    "            max_pkd_corr = pkd_corrs.max()\n",
    "            min_pkd_corr = pkd_corrs.min()\n",
    "            avg_pkd_corr = pkd_corrs.mean()\n",
    "\n",
    "            # store these in the appropriate data frames\n",
    "            indir_max_corr_df.at[index, cell_line] = max_pkd_corr\n",
    "            indir_min_corr_df.at[index, cell_line] = min_pkd_corr\n",
    "            indir_avg_corr_df.at[index, cell_line] = avg_pkd_corr\n",
    "            \n",
    "    return indir_max_corr_df, indir_min_corr_df, indir_avg_corr_df"
   ]
  },
  {
   "cell_type": "code",
   "execution_count": null,
   "metadata": {},
   "outputs": [
    {
     "data": {
      "application/vnd.jupyter.widget-view+json": {
       "model_id": "ba689cbdaae34719a8fb2284b5534910"
      }
     },
     "metadata": {},
     "output_type": "display_data"
    }
   ],
   "source": [
    "# Compute batch correlations in parallel\n",
    "start_batch = 16\n",
    "for b in log_progress(range(start_batch, num_batches)):\n",
    "    df_filename = 'checkpoint_files/pair_set_4_subdf_{}.csv'.format(b)\n",
    "    cp_filename = 'checkpoint_files/common_partners_4_sublist_{}.sav'.format(b)\n",
    "    pair_subset = pd.DataFrame.from_csv(df_filename)\n",
    "    partner_subset = pickle.load(open(cp_filename, 'rb'))\n",
    "    \n",
    "    # Split data into chunks\n",
    "    chunk_size = int(pair_subset.shape[0]/num_processes)\n",
    "    pair_chunks = [ pair_subset.iloc[pair_subset.index[i:i + chunk_size]].reset_index(drop=True) for i in range(0, pair_subset.shape[0], chunk_size)]\n",
    "    partner_chunks = [ partner_subset[i:i + chunk_size] for i in range(0, len(partner_subset), chunk_size) ]\n",
    "    chunks = list(zip(pair_chunks, partner_chunks))\n",
    "\n",
    "    # Compute indirect correlations for each chunk in parallel\n",
    "    results = Parallel(n_jobs=num_processes, backend=\"multiprocessing\")(\n",
    "                 map(delayed(compute_indir_corr), chunks))\n",
    "\n",
    "    # Collect results\n",
    "    max_dfs, min_dfs, avg_dfs = zip(*results)\n",
    "    indir_max_corr_df = functools.reduce(lambda x,y: pd.concat([x,y]), max_dfs)\n",
    "    indir_min_corr_df = functools.reduce(lambda x,y: pd.concat([x,y]), min_dfs)\n",
    "    indir_avg_corr_df = functools.reduce(lambda x,y: pd.concat([x,y]), avg_dfs)\n",
    "\n",
    "    # Save to disk\n",
    "    max_df_filename = 'features/top_7_indir_max_corr_sub_df_{}.csv'.format(b)\n",
    "    min_df_filename = 'features/top_7_indir_min_corr_sub_df_{}.csv'.format(b)\n",
    "    avg_df_filename = 'features/top_7_indir_avg_corr_sub_df_{}.csv'.format(b)\n",
    "    indir_max_corr_df.to_csv(max_df_filename)\n",
    "    indir_min_corr_df.to_csv(min_df_filename)\n",
    "    indir_avg_corr_df.to_csv(avg_df_filename)\n",
    "    \n",
    "    # Clear  memory\n",
    "    results, max_dfs, min_dfs, avg_dfs = None, None, None, None\n",
    "    indir_max_corr_df, indir_min_corr_df, indir_avg_corr_df = None, None, None"
   ]
  },
  {
   "cell_type": "code",
   "execution_count": 65,
   "metadata": {
    "collapsed": true
   },
   "outputs": [],
   "source": [
    "l = [(1,2,3),(4,5,6),(7,8,9)]"
   ]
  },
  {
   "cell_type": "code",
   "execution_count": 67,
   "metadata": {
    "collapsed": true
   },
   "outputs": [],
   "source": [
    "max_dfs, min_dfs, avg_dfs = zip(*l)"
   ]
  },
  {
   "cell_type": "code",
   "execution_count": 70,
   "metadata": {},
   "outputs": [
    {
     "data": {
      "text/plain": [
       "15"
      ]
     },
     "execution_count": 70,
     "metadata": {},
     "output_type": "execute_result"
    }
   ],
   "source": [
    "functools.reduce(lambda x,y: x+y, min_dfs)"
   ]
  },
  {
   "cell_type": "code",
   "execution_count": null,
   "metadata": {
    "collapsed": true
   },
   "outputs": [],
   "source": []
  }
 ],
 "metadata": {
  "kernelspec": {
   "display_name": "Python 3",
   "language": "python",
   "name": "python3"
  },
  "language_info": {
   "codemirror_mode": {
    "name": "ipython",
    "version": 3
   },
   "file_extension": ".py",
   "mimetype": "text/x-python",
   "name": "python",
   "nbconvert_exporter": "python",
   "pygments_lexer": "ipython3",
   "version": "3.6.1"
  }
 },
 "nbformat": 4,
 "nbformat_minor": 2
}
