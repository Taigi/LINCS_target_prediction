{
 "cells": [
  {
   "cell_type": "markdown",
   "metadata": {},
   "source": [
    "# Drug-target interaction prediction using direct & inderect correlation features"
   ]
  },
  {
   "cell_type": "code",
   "execution_count": 1,
   "metadata": {
    "collapsed": true
   },
   "outputs": [],
   "source": [
    "import pandas as pd\n",
    "import numpy as np\n",
    "import scipy\n",
    "import itertools\n",
    "from support_functions import log_progress\n",
    "import matplotlib.pyplot as plt\n",
    "import seaborn as sns\n",
    "sns.set(color_codes=True)"
   ]
  },
  {
   "cell_type": "code",
   "execution_count": 2,
   "metadata": {
    "collapsed": true
   },
   "outputs": [],
   "source": [
    "# load the data\n",
    "X_std_df = pd.DataFrame.from_csv('features/X_std.csv')\n",
    "y_df = pd.DataFrame.from_csv('features/y.csv')\n",
    "metadata_df = pd.DataFrame.from_csv('features/metadata.csv')"
   ]
  },
  {
   "cell_type": "code",
   "execution_count": 3,
   "metadata": {
    "collapsed": true
   },
   "outputs": [],
   "source": [
    "# format for sklearn\n",
    "X_std = X_std_df.values\n",
    "y = y_df.label.values"
   ]
  },
  {
   "cell_type": "code",
   "execution_count": 108,
   "metadata": {},
   "outputs": [
    {
     "data": {
      "text/plain": [
       "2520"
      ]
     },
     "execution_count": 108,
     "metadata": {},
     "output_type": "execute_result"
    }
   ],
   "source": [
    "len(metadata_df.kd.unique())"
   ]
  },
  {
   "cell_type": "markdown",
   "metadata": {},
   "source": [
    "___\n",
    "## Logistic regression"
   ]
  },
  {
   "cell_type": "code",
   "execution_count": 4,
   "metadata": {
    "collapsed": true
   },
   "outputs": [],
   "source": [
    "from sklearn.linear_model import LogisticRegression\n",
    "LogisticRegression?"
   ]
  },
  {
   "cell_type": "code",
   "execution_count": 5,
   "metadata": {},
   "outputs": [
    {
     "data": {
      "text/plain": [
       "LogisticRegression(C=100.0, class_weight='balanced', dual=False,\n",
       "          fit_intercept=True, intercept_scaling=1, max_iter=1000,\n",
       "          multi_class='ovr', n_jobs=1, penalty='l2', random_state=1,\n",
       "          solver='newton-cg', tol=1e-07, verbose=0, warm_start=False)"
      ]
     },
     "execution_count": 5,
     "metadata": {},
     "output_type": "execute_result"
    }
   ],
   "source": [
    "lr = LogisticRegression(C=100.0, random_state=1, class_weight=\"balanced\", \n",
    "                        tol=1e-7, solver='newton-cg', max_iter=1000)\n",
    "lr.fit(X_std, y)"
   ]
  },
  {
   "cell_type": "code",
   "execution_count": 6,
   "metadata": {},
   "outputs": [
    {
     "name": "stdout",
     "output_type": "stream",
     "text": [
      "Accuracy on False interactions: 0.69\n",
      "Accuracy on True interactions: 0.70\n"
     ]
    }
   ],
   "source": [
    "metadata_df['prediction'] = lr.predict(X_std)\n",
    "\n",
    "false_interactions = metadata_df[metadata_df.label==-1]\n",
    "false_accuracy = (false_interactions[false_interactions.prediction==-1].shape[0] /\n",
    "                  false_interactions.shape[0])\n",
    "\n",
    "true_interactions = metadata_df[metadata_df.label==1]\n",
    "true_accuracy = (true_interactions[true_interactions.prediction==1].shape[0] /\n",
    "                  true_interactions.shape[0])\n",
    "\n",
    "\n",
    "print('Accuracy on False interactions: {:.2f}'.format(false_accuracy))\n",
    "print('Accuracy on True interactions: {:.2f}'.format(true_accuracy))"
   ]
  },
  {
   "cell_type": "code",
   "execution_count": 7,
   "metadata": {
    "collapsed": true
   },
   "outputs": [],
   "source": [
    "# evaluate top-100 accuracy\n",
    "metadata_df['prob'] = lr.predict_proba(X_std)[:,1]"
   ]
  },
  {
   "cell_type": "code",
   "execution_count": 8,
   "metadata": {
    "collapsed": true
   },
   "outputs": [],
   "source": [
    "unique_cpds = metadata_df.cpd.unique()\n",
    "top_100_results = pd.DataFrame(index=unique_cpds, columns=['num_targets', 'num_targets_predicted', 'top_target_rank'])\n",
    "\n",
    "for c in unique_cpds:\n",
    "    cpd_pairs = metadata_df.query('cpd == \"{}\"'.format(c)).copy()\n",
    "    sorted_cpd_pairs = cpd_pairs.sort_values(by=['prob'], ascending=False).reset_index(drop=True)\n",
    "    \n",
    "    true_interactions = sorted_cpd_pairs.query('label == 1')\n",
    "    num_true_interactions = len(true_interactions)\n",
    "    best_rank = true_interactions.prob.idxmax()\n",
    "    \n",
    "    predicted_interactions = sorted_cpd_pairs.query('prediction == 1')\n",
    "    num_predicted_interactions = len(predicted_interactions)\n",
    "    \n",
    "    top_100_results.at[c, 'top_target_rank'] = best_rank\n",
    "    top_100_results.at[c, 'num_targets'] = num_true_interactions\n",
    "    top_100_results.at[c, 'num_targets_predicted'] = num_predicted_interactions"
   ]
  },
  {
   "cell_type": "code",
   "execution_count": 9,
   "metadata": {},
   "outputs": [
    {
     "data": {
      "text/html": [
       "<div>\n",
       "<style>\n",
       "    .dataframe thead tr:only-child th {\n",
       "        text-align: right;\n",
       "    }\n",
       "\n",
       "    .dataframe thead th {\n",
       "        text-align: left;\n",
       "    }\n",
       "\n",
       "    .dataframe tbody tr th {\n",
       "        vertical-align: top;\n",
       "    }\n",
       "</style>\n",
       "<table border=\"1\" class=\"dataframe\">\n",
       "  <thead>\n",
       "    <tr style=\"text-align: right;\">\n",
       "      <th></th>\n",
       "      <th>num_targets</th>\n",
       "      <th>num_targets_predicted</th>\n",
       "      <th>top_target_rank</th>\n",
       "    </tr>\n",
       "  </thead>\n",
       "  <tbody>\n",
       "    <tr>\n",
       "      <th>BRD-K21680192</th>\n",
       "      <td>1</td>\n",
       "      <td>1700</td>\n",
       "      <td>804</td>\n",
       "    </tr>\n",
       "    <tr>\n",
       "      <th>BRD-K81418486</th>\n",
       "      <td>5</td>\n",
       "      <td>1205</td>\n",
       "      <td>18</td>\n",
       "    </tr>\n",
       "    <tr>\n",
       "      <th>BRD-K94441233</th>\n",
       "      <td>1</td>\n",
       "      <td>1307</td>\n",
       "      <td>1484</td>\n",
       "    </tr>\n",
       "    <tr>\n",
       "      <th>BRD-K09638361</th>\n",
       "      <td>1</td>\n",
       "      <td>1463</td>\n",
       "      <td>1409</td>\n",
       "    </tr>\n",
       "    <tr>\n",
       "      <th>BRD-K08547377</th>\n",
       "      <td>1</td>\n",
       "      <td>321</td>\n",
       "      <td>1463</td>\n",
       "    </tr>\n",
       "  </tbody>\n",
       "</table>\n",
       "</div>"
      ],
      "text/plain": [
       "              num_targets num_targets_predicted top_target_rank\n",
       "BRD-K21680192           1                  1700             804\n",
       "BRD-K81418486           5                  1205              18\n",
       "BRD-K94441233           1                  1307            1484\n",
       "BRD-K09638361           1                  1463            1409\n",
       "BRD-K08547377           1                   321            1463"
      ]
     },
     "execution_count": 9,
     "metadata": {},
     "output_type": "execute_result"
    }
   ],
   "source": [
    "top_100_results.head()"
   ]
  },
  {
   "cell_type": "code",
   "execution_count": 10,
   "metadata": {},
   "outputs": [
    {
     "name": "stdout",
     "output_type": "stream",
     "text": [
      "Cpds with known target in top 100 predictions: 30 (0.42)\n"
     ]
    }
   ],
   "source": [
    "num_top_100 = len(top_100_results.query('top_target_rank < 101'))\n",
    "percent_top_100 = num_top_100 / len(top_100_results)\n",
    "print('Cpds with known target in top 100 predictions: {} ({:.2f})'.format(num_top_100, percent_top_100))"
   ]
  },
  {
   "cell_type": "markdown",
   "metadata": {},
   "source": [
    "So here, our very basic logistic regression achieves top-100 accuracy of 42% for 71 compounds using data from 4 different cell lines. In comparison, LR in our LINCS manuscipt achieves top-100 accuracy of 38% for 29 compounds using data from 7 different cell lines.\n",
    "\n",
    "___\n",
    "# Random forest classification"
   ]
  },
  {
   "cell_type": "code",
   "execution_count": 11,
   "metadata": {
    "collapsed": true
   },
   "outputs": [],
   "source": [
    "from sklearn.ensemble import RandomForestClassifier\n",
    "from sklearn.model_selection import cross_val_score"
   ]
  },
  {
   "cell_type": "code",
   "execution_count": 12,
   "metadata": {},
   "outputs": [
    {
     "data": {
      "text/plain": [
       "RandomForestClassifier(bootstrap=True, class_weight=None, criterion='gini',\n",
       "            max_depth=16, max_features='auto', max_leaf_nodes=None,\n",
       "            min_impurity_split=1e-07, min_samples_leaf=1,\n",
       "            min_samples_split=2, min_weight_fraction_leaf=0.0,\n",
       "            n_estimators=100, n_jobs=1, oob_score=False, random_state=0,\n",
       "            verbose=0, warm_start=False)"
      ]
     },
     "execution_count": 12,
     "metadata": {},
     "output_type": "execute_result"
    }
   ],
   "source": [
    "RF = RandomForestClassifier(max_depth=16, random_state=0, n_estimators=100)\n",
    "RF.fit(X_std, y)"
   ]
  },
  {
   "cell_type": "code",
   "execution_count": 13,
   "metadata": {},
   "outputs": [
    {
     "name": "stdout",
     "output_type": "stream",
     "text": [
      "Accuracy on False interactions: 1.000000\n",
      "Accuracy on True interactions: 0.354430\n"
     ]
    }
   ],
   "source": [
    "metadata_df = pd.DataFrame.from_csv('features/metadata.csv')\n",
    "metadata_df['prediction'] = RF.predict(X_std)\n",
    "\n",
    "false_interactions = metadata_df[metadata_df.label==-1]\n",
    "false_accuracy = (false_interactions[false_interactions.prediction==-1].shape[0] /\n",
    "                  false_interactions.shape[0])\n",
    "\n",
    "true_interactions = metadata_df[metadata_df.label==1]\n",
    "true_accuracy = (true_interactions[true_interactions.prediction==1].shape[0] /\n",
    "                  true_interactions.shape[0])\n",
    "\n",
    "\n",
    "print('Accuracy on False interactions: {:.6f}'.format(false_accuracy))\n",
    "print('Accuracy on True interactions: {:.6f}'.format(true_accuracy))"
   ]
  },
  {
   "cell_type": "code",
   "execution_count": 14,
   "metadata": {},
   "outputs": [
    {
     "data": {
      "text/html": [
       "<div>\n",
       "<style>\n",
       "    .dataframe thead tr:only-child th {\n",
       "        text-align: right;\n",
       "    }\n",
       "\n",
       "    .dataframe thead th {\n",
       "        text-align: left;\n",
       "    }\n",
       "\n",
       "    .dataframe tbody tr th {\n",
       "        vertical-align: top;\n",
       "    }\n",
       "</style>\n",
       "<table border=\"1\" class=\"dataframe\">\n",
       "  <thead>\n",
       "    <tr style=\"text-align: right;\">\n",
       "      <th></th>\n",
       "      <th>cpd</th>\n",
       "      <th>kd</th>\n",
       "      <th>label</th>\n",
       "      <th>prediction</th>\n",
       "      <th>prob</th>\n",
       "    </tr>\n",
       "  </thead>\n",
       "  <tbody>\n",
       "    <tr>\n",
       "      <th>659</th>\n",
       "      <td>BRD-K85606544</td>\n",
       "      <td>EGFR</td>\n",
       "      <td>1</td>\n",
       "      <td>1</td>\n",
       "      <td>0.587271</td>\n",
       "    </tr>\n",
       "    <tr>\n",
       "      <th>667</th>\n",
       "      <td>BRD-K87909389</td>\n",
       "      <td>EGFR</td>\n",
       "      <td>1</td>\n",
       "      <td>-1</td>\n",
       "      <td>0.229551</td>\n",
       "    </tr>\n",
       "    <tr>\n",
       "      <th>672</th>\n",
       "      <td>BRD-K66175015</td>\n",
       "      <td>EGFR</td>\n",
       "      <td>1</td>\n",
       "      <td>-1</td>\n",
       "      <td>0.403367</td>\n",
       "    </tr>\n",
       "    <tr>\n",
       "      <th>680</th>\n",
       "      <td>BRD-K64052750</td>\n",
       "      <td>EGFR</td>\n",
       "      <td>1</td>\n",
       "      <td>-1</td>\n",
       "      <td>0.494442</td>\n",
       "    </tr>\n",
       "    <tr>\n",
       "      <th>2233</th>\n",
       "      <td>BRD-K49328571</td>\n",
       "      <td>CSK</td>\n",
       "      <td>1</td>\n",
       "      <td>1</td>\n",
       "      <td>0.525889</td>\n",
       "    </tr>\n",
       "  </tbody>\n",
       "</table>\n",
       "</div>"
      ],
      "text/plain": [
       "                cpd    kd  label  prediction      prob\n",
       "659   BRD-K85606544  EGFR      1           1  0.587271\n",
       "667   BRD-K87909389  EGFR      1          -1  0.229551\n",
       "672   BRD-K66175015  EGFR      1          -1  0.403367\n",
       "680   BRD-K64052750  EGFR      1          -1  0.494442\n",
       "2233  BRD-K49328571   CSK      1           1  0.525889"
      ]
     },
     "execution_count": 14,
     "metadata": {},
     "output_type": "execute_result"
    }
   ],
   "source": [
    "# evaluate top-100 accuracy\n",
    "metadata_df['prob'] = RF.predict_proba(X_std)[:,1]\n",
    "metadata_df[metadata_df.label == 1].head()"
   ]
  },
  {
   "cell_type": "code",
   "execution_count": 19,
   "metadata": {
    "collapsed": true
   },
   "outputs": [],
   "source": [
    "unique_cpds = metadata_df.cpd.unique()\n",
    "top_100_results = pd.DataFrame(index=unique_cpds, columns=['true_targets', 'true_targets_predicted', \n",
    "                                                           'total_targets_predicted',\n",
    "                                                           'top_true_target_rank', 'top_true_target_prob'])\n",
    "\n",
    "for c in unique_cpds:\n",
    "    cpd_pairs = metadata_df.query('cpd == \"{}\"'.format(c)).copy()\n",
    "    sorted_cpd_pairs = cpd_pairs.sort_values(by=['prob'], ascending=False).reset_index(drop=True)\n",
    "    \n",
    "    true_interactions = sorted_cpd_pairs.query('label == 1')\n",
    "    num_true_interactions = len(true_interactions)\n",
    "    num_true_interactions_predicted = len(true_interactions.query('prediction == 1'))\n",
    "    best_rank = true_interactions.prob.idxmax()\n",
    "    top_prob = true_interactions.iloc[0].prob\n",
    "    \n",
    "    predicted_interactions = sorted_cpd_pairs.query('prediction == 1')\n",
    "    num_predicted_interactions = len(predicted_interactions)\n",
    "    \n",
    "    top_100_results.at[c, 'top_true_target_rank'] = best_rank\n",
    "    top_100_results.at[c, 'true_targets'] = num_true_interactions\n",
    "    top_100_results.at[c, 'total_targets_predicted'] = num_predicted_interactions\n",
    "    top_100_results.at[c, 'top_true_target_prob'] = top_prob\n",
    "    top_100_results.at[c, 'true_targets_predicted'] = num_true_interactions_predicted"
   ]
  },
  {
   "cell_type": "code",
   "execution_count": 23,
   "metadata": {},
   "outputs": [
    {
     "data": {
      "text/html": [
       "<div>\n",
       "<style>\n",
       "    .dataframe thead tr:only-child th {\n",
       "        text-align: right;\n",
       "    }\n",
       "\n",
       "    .dataframe thead th {\n",
       "        text-align: left;\n",
       "    }\n",
       "\n",
       "    .dataframe tbody tr th {\n",
       "        vertical-align: top;\n",
       "    }\n",
       "</style>\n",
       "<table border=\"1\" class=\"dataframe\">\n",
       "  <thead>\n",
       "    <tr style=\"text-align: right;\">\n",
       "      <th></th>\n",
       "      <th>true_targets</th>\n",
       "      <th>true_targets_predicted</th>\n",
       "      <th>total_targets_predicted</th>\n",
       "      <th>top_true_target_rank</th>\n",
       "      <th>top_true_target_prob</th>\n",
       "    </tr>\n",
       "  </thead>\n",
       "  <tbody>\n",
       "    <tr>\n",
       "      <th>BRD-K21680192</th>\n",
       "      <td>1</td>\n",
       "      <td>1</td>\n",
       "      <td>1</td>\n",
       "      <td>0</td>\n",
       "      <td>0.69</td>\n",
       "    </tr>\n",
       "    <tr>\n",
       "      <th>BRD-K81418486</th>\n",
       "      <td>5</td>\n",
       "      <td>1</td>\n",
       "      <td>1</td>\n",
       "      <td>0</td>\n",
       "      <td>0.642999</td>\n",
       "    </tr>\n",
       "    <tr>\n",
       "      <th>BRD-K94441233</th>\n",
       "      <td>1</td>\n",
       "      <td>1</td>\n",
       "      <td>1</td>\n",
       "      <td>0</td>\n",
       "      <td>0.50388</td>\n",
       "    </tr>\n",
       "    <tr>\n",
       "      <th>BRD-K09638361</th>\n",
       "      <td>1</td>\n",
       "      <td>0</td>\n",
       "      <td>0</td>\n",
       "      <td>0</td>\n",
       "      <td>0.203892</td>\n",
       "    </tr>\n",
       "    <tr>\n",
       "      <th>BRD-K08547377</th>\n",
       "      <td>1</td>\n",
       "      <td>0</td>\n",
       "      <td>0</td>\n",
       "      <td>0</td>\n",
       "      <td>0.431249</td>\n",
       "    </tr>\n",
       "  </tbody>\n",
       "</table>\n",
       "</div>"
      ],
      "text/plain": [
       "              true_targets true_targets_predicted total_targets_predicted  \\\n",
       "BRD-K21680192            1                      1                       1   \n",
       "BRD-K81418486            5                      1                       1   \n",
       "BRD-K94441233            1                      1                       1   \n",
       "BRD-K09638361            1                      0                       0   \n",
       "BRD-K08547377            1                      0                       0   \n",
       "\n",
       "              top_true_target_rank top_true_target_prob  \n",
       "BRD-K21680192                    0                 0.69  \n",
       "BRD-K81418486                    0             0.642999  \n",
       "BRD-K94441233                    0              0.50388  \n",
       "BRD-K09638361                    0             0.203892  \n",
       "BRD-K08547377                    0             0.431249  "
      ]
     },
     "execution_count": 23,
     "metadata": {},
     "output_type": "execute_result"
    }
   ],
   "source": [
    "top_100_results.head()"
   ]
  },
  {
   "cell_type": "code",
   "execution_count": 21,
   "metadata": {},
   "outputs": [
    {
     "name": "stdout",
     "output_type": "stream",
     "text": [
      "Cpds with known target in top 100 predictions: 71 (1.00)\n"
     ]
    }
   ],
   "source": [
    "num_top_100 = len(top_100_results.query('top_true_target_rank < 101'))\n",
    "percent_top_100 = num_top_100 / len(top_100_results)\n",
    "print('Cpds with known target in top 100 predictions: {} ({:.2f})'.format(num_top_100, percent_top_100))"
   ]
  },
  {
   "cell_type": "code",
   "execution_count": 22,
   "metadata": {},
   "outputs": [
    {
     "name": "stdout",
     "output_type": "stream",
     "text": [
      "Feature ranking:\n",
      "1. feature 3 (0.086024)\n",
      "2. feature 13 (0.079479)\n",
      "3. feature 15 (0.078730)\n",
      "4. feature 2 (0.076116)\n",
      "5. feature 12 (0.071254)\n",
      "6. feature 0 (0.070790)\n",
      "7. feature 14 (0.068748)\n",
      "8. feature 1 (0.064570)\n",
      "9. feature 6 (0.055237)\n",
      "10. feature 5 (0.053796)\n",
      "11. feature 9 (0.052843)\n",
      "12. feature 11 (0.052771)\n",
      "13. feature 8 (0.049000)\n",
      "14. feature 7 (0.048934)\n",
      "15. feature 10 (0.048768)\n",
      "16. feature 4 (0.042943)\n"
     ]
    },
    {
     "data": {
      "image/png": "[encoded data removed]",
      "text/plain": [
       "<matplotlib.figure.Figure at 0x119675dd8>"
      ]
     },
     "metadata": {},
     "output_type": "display_data"
    }
   ],
   "source": [
    "importances = RF.feature_importances_\n",
    "std = np.std([tree.feature_importances_ for tree in RF.estimators_],\n",
    "             axis=0) # standard deviation of importances\n",
    "indices = np.argsort(importances)[::-1]\n",
    "\n",
    "# Print the feature ranking\n",
    "print(\"Feature ranking:\")\n",
    "\n",
    "for f in range(X_std.shape[1]):\n",
    "    print(\"%d. feature %d (%f)\" % (f + 1, indices[f], importances[indices[f]]))\n",
    "\n",
    "# Plot the feature importances of the forest\n",
    "plt.figure()\n",
    "plt.title(\"Feature importances\")\n",
    "plt.bar(range(X_std.shape[1]), importances[indices],\n",
    "       color=\"r\", yerr=std[indices], align=\"center\")\n",
    "plt.xticks(range(X_std.shape[1]), indices)\n",
    "plt.xlim([-1, X_std.shape[1]])\n",
    "plt.show()"
   ]
  },
  {
   "cell_type": "markdown",
   "metadata": {},
   "source": [
    "___\n",
    "# Cross Validation - Random Forest\n",
    "\n",
    "The results so far seem too good to be true. We should do a 2-fold cross validation to make sure that we're still getting good accuracy."
   ]
  },
  {
   "cell_type": "code",
   "execution_count": 55,
   "metadata": {
    "collapsed": true
   },
   "outputs": [],
   "source": [
    "# load data\n",
    "X_std_df = pd.DataFrame.from_csv('features/X_std.csv')\n",
    "y_df = pd.DataFrame.from_csv('features/y.csv')\n",
    "metadata_df = pd.DataFrame.from_csv('features/metadata.csv')\n",
    "\n",
    "# convert to np arrays\n",
    "X_std = X_std_df.values\n",
    "y = y_df.label.values"
   ]
  },
  {
   "cell_type": "code",
   "execution_count": 92,
   "metadata": {
    "collapsed": true
   },
   "outputs": [],
   "source": [
    "# 10-fold cross validation\n",
    "from sklearn.model_selection import StratifiedKFold\n",
    "skf = StratifiedKFold(n_splits=10)\n",
    "\n",
    "# store results\n",
    "true_acc_ = []\n",
    "false_acc_ = []\n",
    "top_100_results_ = []\n",
    "\n",
    "\n",
    "for train, test in skf.split(X_std, y):\n",
    "    X_train = X_std[train]\n",
    "    y_train = y[train]\n",
    "    X_test = X_std[test]\n",
    "    y_test = y[test]\n",
    "    test_metadata = metadata_df.iloc[test].copy()\n",
    "    \n",
    "    # train random forest, predict on test set\n",
    "    RF = RandomForestClassifier(max_depth=16, random_state=1, n_estimators=100)\n",
    "    RF.fit(X_train, y_train)\n",
    "    test_metadata['prediction'] = RF.predict(X_test)\n",
    "    test_metadata['prob'] = RF.predict_proba(X_test)[:,1]\n",
    "    \n",
    "    # test true/false accuracy\n",
    "    false_interactions = test_metadata[test_metadata.label==-1]\n",
    "    true_interactions = test_metadata[test_metadata.label==1]\n",
    "    false_accuracy = (false_interactions[false_interactions.prediction==-1].shape[0] /\n",
    "                      false_interactions.shape[0])\n",
    "    true_accuracy = (true_interactions[true_interactions.prediction==1].shape[0] /\n",
    "                      true_interactions.shape[0])\n",
    "    false_acc_.append(false_accuracy)\n",
    "    true_acc_.append(true_accuracy)\n",
    "\n",
    "    # evaluate top-100 accuracy\n",
    "    unique_cpds = test_metadata[test_metadata.label == 1].cpd.unique()\n",
    "    top_100_results = pd.DataFrame(index=unique_cpds, columns=['true_targets', 'true_targets_predicted', \n",
    "                                                               'total_targets_predicted',\n",
    "                                                               'top_true_target_rank', 'top_true_target_prob'])\n",
    "\n",
    "    for c in unique_cpds:\n",
    "        cpd_pairs = test_metadata.query('cpd == \"{}\"'.format(c)).copy()\n",
    "        sorted_cpd_pairs = cpd_pairs.sort_values(by=['prob'], ascending=False).reset_index(drop=True)\n",
    "\n",
    "        true_interactions = sorted_cpd_pairs.query('label == 1')\n",
    "        num_true_interactions = len(true_interactions)\n",
    "        num_true_interactions_predicted = len(true_interactions.query('prediction == 1'))\n",
    "        best_rank = true_interactions.prob.idxmax()\n",
    "        top_prob = true_interactions.iloc[0].prob\n",
    "\n",
    "        predicted_interactions = sorted_cpd_pairs.query('prediction == 1')\n",
    "        num_predicted_interactions = len(predicted_interactions)\n",
    "\n",
    "        top_100_results.at[c, 'top_true_target_rank'] = best_rank\n",
    "        top_100_results.at[c, 'true_targets'] = num_true_interactions\n",
    "        top_100_results.at[c, 'total_targets_predicted'] = num_predicted_interactions\n",
    "        top_100_results.at[c, 'top_true_target_prob'] = top_prob\n",
    "        top_100_results.at[c, 'true_targets_predicted'] = num_true_interactions_predicted\n",
    "    \n",
    "    top_100_results_.append(top_100_results)"
   ]
  },
  {
   "cell_type": "code",
   "execution_count": 93,
   "metadata": {},
   "outputs": [
    {
     "name": "stdout",
     "output_type": "stream",
     "text": [
      "Accuracy on True interactions:  [0.0, 0.0, 0.0, 0.041666666666666664, 0.0, 0.0, 0.0, 0.0, 0.08695652173913043, 0.08695652173913043]\n",
      "Accuracy on False interactions:  [1.0, 1.0, 1.0, 1.0, 1.0, 1.0, 1.0, 1.0, 1.0, 1.0]\n"
     ]
    }
   ],
   "source": [
    "print('Accuracy on True interactions: ', true_acc_)\n",
    "print('Accuracy on False interactions: ', false_acc_)"
   ]
  },
  {
   "cell_type": "code",
   "execution_count": 102,
   "metadata": {},
   "outputs": [
    {
     "name": "stdout",
     "output_type": "stream",
     "text": [
      "Percent top-100:  0.81  +/-  0.12\n",
      "Percent top-50:  0.65  +/-  0.15\n"
     ]
    }
   ],
   "source": [
    "top100 = []\n",
    "top50 = []\n",
    "\n",
    "for k, result in enumerate(top_100_results_):\n",
    "    #print('Fold',k)\n",
    "    \n",
    "    num_top_100 = len(result.query('top_true_target_rank < 101'))\n",
    "    percent_top_100 = num_top_100 / len(result)\n",
    "    top100.append(percent_top_100)\n",
    "    #print('Cpds with known target in top 100 predictions: {} ({:.4f})'.format(num_top_100, percent_top_100))\n",
    "    \n",
    "    num_top_50 = len(result.query('top_true_target_rank < 51'))\n",
    "    percent_top_50 = num_top_50 / len(result)\n",
    "    top50.append(percent_top_50)\n",
    "    #print('Cpds with known target in top 50 predictions: {} ({:.4f})\\n'.format(num_top_50, percent_top_50))\n",
    "    \n",
    "print('Percent top-100:  {:.2f}  +/-  {:.2f}'.format(np.mean(top100), np.std(top100)))\n",
    "print('Percent top-50:  {:.2f}  +/-  {:.2f}'.format(np.mean(top50), np.std(top50)))"
   ]
  },
  {
   "cell_type": "code",
   "execution_count": null,
   "metadata": {
    "collapsed": true
   },
   "outputs": [],
   "source": []
  },
  {
   "cell_type": "code",
   "execution_count": null,
   "metadata": {
    "collapsed": true
   },
   "outputs": [],
   "source": []
  },
  {
   "cell_type": "code",
   "execution_count": null,
   "metadata": {
    "collapsed": true
   },
   "outputs": [],
   "source": []
  },
  {
   "cell_type": "code",
   "execution_count": null,
   "metadata": {
    "collapsed": true
   },
   "outputs": [],
   "source": []
  }
 ],
 "metadata": {
  "kernelspec": {
   "display_name": "Python 3",
   "language": "python",
   "name": "python3"
  },
  "language_info": {
   "codemirror_mode": {
    "name": "ipython",
    "version": 3
   },
   "file_extension": ".py",
   "mimetype": "text/x-python",
   "name": "python",
   "nbconvert_exporter": "python",
   "pygments_lexer": "ipython3",
   "version": "3.6.1"
  }
 },
 "nbformat": 4,
 "nbformat_minor": 2
}
