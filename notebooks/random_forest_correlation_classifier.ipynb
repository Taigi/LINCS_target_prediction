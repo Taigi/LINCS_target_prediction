{
 "cells": [
  {
   "cell_type": "markdown",
   "metadata": {},
   "source": [
    "# Correlation-Based Random Forest Classification"
   ]
  },
  {
   "cell_type": "code",
   "execution_count": 1,
   "metadata": {
    "collapsed": true
   },
   "outputs": [],
   "source": [
    "import numpy as np\n",
    "import pandas as pd\n",
    "import sklearn\n",
    "import matplotlib.pyplot as plt"
   ]
  },
  {
   "cell_type": "code",
   "execution_count": 26,
   "metadata": {},
   "outputs": [
    {
     "data": {
      "text/html": [
       "<div>\n",
       "<style>\n",
       "    .dataframe thead tr:only-child th {\n",
       "        text-align: right;\n",
       "    }\n",
       "\n",
       "    .dataframe thead th {\n",
       "        text-align: left;\n",
       "    }\n",
       "\n",
       "    .dataframe tbody tr th {\n",
       "        vertical-align: top;\n",
       "    }\n",
       "</style>\n",
       "<table border=\"1\" class=\"dataframe\">\n",
       "  <thead>\n",
       "    <tr style=\"text-align: right;\">\n",
       "      <th></th>\n",
       "      <th>pert_id</th>\n",
       "      <th>target</th>\n",
       "      <th>label</th>\n",
       "      <th>A375</th>\n",
       "      <th>A549</th>\n",
       "      <th>MCF7</th>\n",
       "      <th>PC3</th>\n",
       "    </tr>\n",
       "  </thead>\n",
       "  <tbody>\n",
       "    <tr>\n",
       "      <th>0</th>\n",
       "      <td>BRD-K21680192</td>\n",
       "      <td>TOP2A</td>\n",
       "      <td>1.0</td>\n",
       "      <td>0.489878</td>\n",
       "      <td>0.141628</td>\n",
       "      <td>-0.183952</td>\n",
       "      <td>-0.123435</td>\n",
       "    </tr>\n",
       "    <tr>\n",
       "      <th>1</th>\n",
       "      <td>BRD-K81418486</td>\n",
       "      <td>HDAC1</td>\n",
       "      <td>1.0</td>\n",
       "      <td>0.348987</td>\n",
       "      <td>-0.088103</td>\n",
       "      <td>0.135304</td>\n",
       "      <td>0.276418</td>\n",
       "    </tr>\n",
       "    <tr>\n",
       "      <th>2</th>\n",
       "      <td>BRD-K81418486</td>\n",
       "      <td>HDAC2</td>\n",
       "      <td>1.0</td>\n",
       "      <td>0.275635</td>\n",
       "      <td>0.235417</td>\n",
       "      <td>-0.001411</td>\n",
       "      <td>0.135818</td>\n",
       "    </tr>\n",
       "    <tr>\n",
       "      <th>3</th>\n",
       "      <td>BRD-K81418486</td>\n",
       "      <td>HDAC3</td>\n",
       "      <td>1.0</td>\n",
       "      <td>0.333418</td>\n",
       "      <td>0.168260</td>\n",
       "      <td>0.213528</td>\n",
       "      <td>0.287947</td>\n",
       "    </tr>\n",
       "    <tr>\n",
       "      <th>4</th>\n",
       "      <td>BRD-K81418486</td>\n",
       "      <td>HDAC6</td>\n",
       "      <td>1.0</td>\n",
       "      <td>0.411440</td>\n",
       "      <td>0.308649</td>\n",
       "      <td>0.195380</td>\n",
       "      <td>0.310055</td>\n",
       "    </tr>\n",
       "  </tbody>\n",
       "</table>\n",
       "</div>"
      ],
      "text/plain": [
       "         pert_id target  label      A375      A549      MCF7       PC3\n",
       "0  BRD-K21680192  TOP2A    1.0  0.489878  0.141628 -0.183952 -0.123435\n",
       "1  BRD-K81418486  HDAC1    1.0  0.348987 -0.088103  0.135304  0.276418\n",
       "2  BRD-K81418486  HDAC2    1.0  0.275635  0.235417 -0.001411  0.135818\n",
       "3  BRD-K81418486  HDAC3    1.0  0.333418  0.168260  0.213528  0.287947\n",
       "4  BRD-K81418486  HDAC6    1.0  0.411440  0.308649  0.195380  0.310055"
      ]
     },
     "execution_count": 26,
     "metadata": {},
     "output_type": "execute_result"
    }
   ],
   "source": [
    "# load data\n",
    "correlation_training_data = pd.DataFrame.from_csv('checkpoint_files/top_4_correlation_training_data.csv')\n",
    "correlation_training_data.head()"
   ]
  },
  {
   "cell_type": "code",
   "execution_count": 27,
   "metadata": {
    "collapsed": true
   },
   "outputs": [],
   "source": [
    "# balance True and False samples\n",
    "pos_samples = correlation_training_data[correlation_training_data.label == 1]\n",
    "neg_samples = correlation_training_data[correlation_training_data.label == -1].sample(n=pos_samples.shape[0])\n",
    "balanced_training_data = np.vstack([pos_samples,neg_samples])"
   ]
  },
  {
   "cell_type": "code",
   "execution_count": 28,
   "metadata": {
    "collapsed": true
   },
   "outputs": [],
   "source": [
    "# shuffle the data\n",
    "perm = np.random.RandomState(1).permutation(balanced_training_data.shape[0])\n",
    "shuffled_training_data = balanced_training_data[perm]"
   ]
  },
  {
   "cell_type": "code",
   "execution_count": 29,
   "metadata": {
    "collapsed": true
   },
   "outputs": [],
   "source": [
    "# separate features and labels\n",
    "X = shuffled_training_data[:,3:7].astype(float)\n",
    "y = shuffled_training_data[:,2].astype(float)"
   ]
  },
  {
   "cell_type": "code",
   "execution_count": 30,
   "metadata": {
    "collapsed": true
   },
   "outputs": [],
   "source": [
    "# scale the features\n",
    "from sklearn.preprocessing import StandardScaler\n",
    "sc = StandardScaler()\n",
    "sc.fit(X)\n",
    "X_std = sc.transform(X)"
   ]
  },
  {
   "cell_type": "code",
   "execution_count": 59,
   "metadata": {},
   "outputs": [
    {
     "data": {
      "text/plain": [
       "RandomForestClassifier(bootstrap=True, class_weight=None, criterion='gini',\n",
       "            max_depth=10, max_features='auto', max_leaf_nodes=None,\n",
       "            min_impurity_split=1e-07, min_samples_leaf=1,\n",
       "            min_samples_split=2, min_weight_fraction_leaf=0.0,\n",
       "            n_estimators=10, n_jobs=1, oob_score=False, random_state=0,\n",
       "            verbose=0, warm_start=False)"
      ]
     },
     "execution_count": 59,
     "metadata": {},
     "output_type": "execute_result"
    }
   ],
   "source": [
    "# random forest classification\n",
    "from sklearn.ensemble import RandomForestClassifier\n",
    "clf = RandomForestClassifier(max_depth=10, random_state=0, n_estimators=10)\n",
    "clf.fit(X_std, y)"
   ]
  },
  {
   "cell_type": "code",
   "execution_count": 60,
   "metadata": {},
   "outputs": [
    {
     "name": "stdout",
     "output_type": "stream",
     "text": [
      "Accuracy: 0.93\n"
     ]
    }
   ],
   "source": [
    "print('Accuracy: {:.2f}'.format(clf.score(X_std, y)))"
   ]
  },
  {
   "cell_type": "code",
   "execution_count": 61,
   "metadata": {
    "collapsed": true
   },
   "outputs": [],
   "source": [
    "results = pd.DataFrame(shuffled_training_data, columns=correlation_training_data.columns)\n",
    "results['prediction'] = clf.predict(X_std).astype(int)"
   ]
  },
  {
   "cell_type": "code",
   "execution_count": 62,
   "metadata": {},
   "outputs": [
    {
     "name": "stdout",
     "output_type": "stream",
     "text": [
      "Accuracy on False interactions: 0.95\n",
      "Accuracy on True interactions: 0.91\n"
     ]
    }
   ],
   "source": [
    "false_interactions = results[results.label==-1]\n",
    "false_accuracy = (false_interactions[false_interactions.prediction==-1].shape[0] /\n",
    "                  false_interactions.shape[0])\n",
    "\n",
    "true_interactions = results[results.label==1]\n",
    "true_accuracy = (true_interactions[true_interactions.prediction==1].shape[0] /\n",
    "                  true_interactions.shape[0])\n",
    "\n",
    "\n",
    "print('Accuracy on False interactions: {:.2f}'.format(false_accuracy))\n",
    "print('Accuracy on True interactions: {:.2f}'.format(true_accuracy))"
   ]
  },
  {
   "cell_type": "markdown",
   "metadata": {},
   "source": [
    "Not so good. But better than if we hadn't balanced the data beforehand (if we don't balance the data we get 100% accuracy on the negative samples and 0% accuracy on the positive samples).\n",
    "<br><br>\n",
    "\n",
    "It seems we need to construct additional features. But first let's try to evaluate the importance of the features that we do have."
   ]
  },
  {
   "cell_type": "code",
   "execution_count": 40,
   "metadata": {},
   "outputs": [
    {
     "name": "stdout",
     "output_type": "stream",
     "text": [
      "Feature ranking:\n",
      "1. feature 0 (0.282029)\n",
      "2. feature 1 (0.262015)\n",
      "3. feature 3 (0.228192)\n",
      "4. feature 2 (0.227764)\n"
     ]
    },
    {
     "data": {
      "image/png": "[encoded data removed]",
      "text/plain": [
       "<matplotlib.figure.Figure at 0x10f1e0da0>"
      ]
     },
     "metadata": {},
     "output_type": "display_data"
    }
   ],
   "source": [
    "importances = clf.feature_importances_\n",
    "std = np.std([tree.feature_importances_ for tree in clf.estimators_],\n",
    "             axis=0) # standard deviation of importances\n",
    "indices = np.argsort(importances)[::-1]\n",
    "\n",
    "# Print the feature ranking\n",
    "print(\"Feature ranking:\")\n",
    "\n",
    "for f in range(X_std.shape[1]):\n",
    "    print(\"%d. feature %d (%f)\" % (f + 1, indices[f], importances[indices[f]]))\n",
    "\n",
    "# Plot the feature importances of the forest\n",
    "plt.figure()\n",
    "plt.title(\"Feature importances\")\n",
    "plt.bar(range(X_std.shape[1]), importances[indices],\n",
    "       color=\"r\", yerr=std[indices], align=\"center\")\n",
    "plt.xticks(range(X_std.shape[1]), indices)\n",
    "plt.xlim([-1, X_std.shape[1]])\n",
    "plt.show()"
   ]
  },
  {
   "cell_type": "markdown",
   "metadata": {
    "collapsed": true
   },
   "source": [
    "___\n",
    "# Logistic Regression\n",
    "\n",
    "For fun, let's see how we can do with simple logistic regression."
   ]
  },
  {
   "cell_type": "code",
   "execution_count": 18,
   "metadata": {},
   "outputs": [
    {
     "name": "stdout",
     "output_type": "stream",
     "text": [
      "Accuracy: 0.54\n"
     ]
    }
   ],
   "source": [
    "from sklearn.linear_model import LogisticRegression\n",
    "lr = LogisticRegression(C=100.0, random_state=1)\n",
    "lr.fit(X_std, y)\n",
    "print('Accuracy: {:.2f}'.format(lr.score(X_std, y)))"
   ]
  },
  {
   "cell_type": "code",
   "execution_count": 19,
   "metadata": {
    "collapsed": true
   },
   "outputs": [],
   "source": [
    "results = pd.DataFrame(shuffled_training_data, columns=correlation_training_data.columns)\n",
    "results['prediction'] = lr.predict(X_std).astype(int)"
   ]
  },
  {
   "cell_type": "code",
   "execution_count": 20,
   "metadata": {},
   "outputs": [
    {
     "name": "stdout",
     "output_type": "stream",
     "text": [
      "Accuracy on False interactions: 0.56\n",
      "Accuracy on True interactions: 0.52\n"
     ]
    }
   ],
   "source": [
    "false_interactions = results[results.label==-1]\n",
    "false_accuracy = (false_interactions[false_interactions.prediction==-1].shape[0] /\n",
    "                  false_interactions.shape[0])\n",
    "\n",
    "true_interactions = results[results.label==1]\n",
    "true_accuracy = (true_interactions[true_interactions.prediction==1].shape[0] /\n",
    "                  true_interactions.shape[0])\n",
    "\n",
    "\n",
    "print('Accuracy on False interactions: {:.2f}'.format(false_accuracy))\n",
    "print('Accuracy on True interactions: {:.2f}'.format(true_accuracy))"
   ]
  },
  {
   "cell_type": "code",
   "execution_count": null,
   "metadata": {
    "collapsed": true
   },
   "outputs": [],
   "source": []
  }
 ],
 "metadata": {
  "kernelspec": {
   "display_name": "Python 3",
   "language": "python",
   "name": "python3"
  },
  "language_info": {
   "codemirror_mode": {
    "name": "ipython",
    "version": 3
   },
   "file_extension": ".py",
   "mimetype": "text/x-python",
   "name": "python",
   "nbconvert_exporter": "python",
   "pygments_lexer": "ipython3",
   "version": "3.6.1"
  }
 },
 "nbformat": 4,
 "nbformat_minor": 2
}
