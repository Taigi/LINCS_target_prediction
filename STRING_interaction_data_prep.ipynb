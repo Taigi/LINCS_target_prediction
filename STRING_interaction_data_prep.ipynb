{
 "cells": [
  {
   "cell_type": "code",
   "execution_count": 80,
   "metadata": {
    "collapsed": true
   },
   "outputs": [],
   "source": [
    "import numpy as np\n",
    "import pandas as pd\n",
    "import matplotlib.pyplot as plt\n",
    "\n",
    "import seaborn as sns\n",
    "sns.set(color_codes=True)\n",
    "\n",
    "from support_functions import log_progress"
   ]
  },
  {
   "cell_type": "markdown",
   "metadata": {},
   "source": [
    "___\n",
    "# Extract PPI network from STRING-4.0 database\n",
    "\n",
    "First step is to detemine the string IDs of human genes."
   ]
  },
  {
   "cell_type": "code",
   "execution_count": 119,
   "metadata": {},
   "outputs": [],
   "source": [
    "# first map STRING IDs to gene symbols\n",
    "string_protein_aliases = pd.read_csv('data/9606.protein.aliases.v10.5.txt', sep='\\t', header=0)\n",
    "# find entries that correspond to primary HUGO gene symbol identifiers\n",
    "HUGO_symbol_entries =np.flatnonzero(np.core.defchararray.find(string_protein_aliases.source.values.astype(str),'HUGO')!=-1)\n",
    "string_gene_ids = string_protein_aliases.iloc[HUGO_symbol_entries]"
   ]
  },
  {
   "cell_type": "code",
   "execution_count": 120,
   "metadata": {},
   "outputs": [],
   "source": [
    "# convert to a dictionary for fast lookup\n",
    "string_gene_ids.columns = ['string_protein_id', 'alias', 'source']\n",
    "string_gene_id_pairs = string_gene_ids[['string_protein_id', 'alias']].copy()"
   ]
  },
  {
   "cell_type": "code",
   "execution_count": 136,
   "metadata": {},
   "outputs": [
    {
     "name": "stderr",
     "output_type": "stream",
     "text": [
      "/Users/Nico/anaconda3/lib/python3.6/site-packages/pandas/core/frame.py:891: UserWarning: DataFrame columns are not unique, some columns will be omitted.\n",
      "  \"columns will be omitted.\", UserWarning)\n"
     ]
    }
   ],
   "source": [
    "string_id_dict = {}\n",
    "pair_dict = string_gene_id_pairs.set_index('string_protein_id').T.to_dict()\n",
    "for key in pair_dict:\n",
    "    gene_name = pair_dict[key]['alias']\n",
    "    string_id_dict[key] = gene_name"
   ]
  },
  {
   "cell_type": "markdown",
   "metadata": {},
   "source": [
    " Second step is to extract interactions involving these genes."
   ]
  },
  {
   "cell_type": "code",
   "execution_count": 108,
   "metadata": {},
   "outputs": [
    {
     "name": "stdout",
     "output_type": "stream",
     "text": [
      "Number of unique links (interactions) in STRING database:  11353056\n"
     ]
    }
   ],
   "source": [
    "string_protein_links = pd.read_csv('data/9606.protein.links.v10.5.txt', sep=' ', header=0)\n",
    "print('Number of unique links (interactions) in STRING database: ', string_protein_links.shape[0])"
   ]
  },
  {
   "cell_type": "code",
   "execution_count": 140,
   "metadata": {},
   "outputs": [
    {
     "data": {
      "application/vnd.jupyter.widget-view+json": {
       "model_id": "ef5f14bae8aa4778b6907a406dfba872"
      }
     },
     "metadata": {},
     "output_type": "display_data"
    }
   ],
   "source": [
    "# arrays to construct final dataframe\n",
    "gene_1_ = []\n",
    "gene_2_ = []\n",
    "score_ = []\n",
    "\n",
    "# extract links between human protein genes\n",
    "for index, row in log_progress(string_protein_links.iterrows(), every=100):\n",
    "    id_1 = row['protein1']\n",
    "    id_2 = row['protein2']\n",
    "    \n",
    "    # verify both interaction partners are human genes\n",
    "    if ((id_1 in string_id_dict) & \n",
    "        (id_2 in string_id_dict)):\n",
    "        \n",
    "        # translate IDs to gene symbols\n",
    "        gene_1 = string_id_dict[id_1]\n",
    "        gene_2 = string_id_dict[id_2]\n",
    "        score = row['combined_score']\n",
    "        \n",
    "        gene_1_.append(gene_1)\n",
    "        gene_2_.append(gene_2)\n",
    "        score_.append(score)"
   ]
  },
  {
   "cell_type": "code",
   "execution_count": 146,
   "metadata": {},
   "outputs": [
    {
     "data": {
      "image/png": "[encoded data removed]",
      "text/plain": [
       "<matplotlib.figure.Figure at 0x1f719af60>"
      ]
     },
     "metadata": {},
     "output_type": "display_data"
    }
   ],
   "source": [
    "string_gene_interactions = pd.DataFrame({'gene_1': gene_1_, 'gene_2': gene_2_, 'score': score_})\n",
    "sns.distplot(string_gene_interactions.score)\n",
    "plt.title('Interaction Confidence Score')\n",
    "plt.ylabel('frequency')\n",
    "plt.show()"
   ]
  },
  {
   "cell_type": "markdown",
   "metadata": {},
   "source": [
    "According to STRING, high-confidence interactions are ones with score 700 or greater."
   ]
  },
  {
   "cell_type": "code",
   "execution_count": 148,
   "metadata": {},
   "outputs": [
    {
     "name": "stdout",
     "output_type": "stream",
     "text": [
      "Number of high-confidence interactions:  710638\n"
     ]
    }
   ],
   "source": [
    "string_gene_interactions_700 = string_gene_interactions.query('score > 700').copy()\n",
    "print('Number of high-confidence interactions: ', len(string_gene_interactions_700))"
   ]
  },
  {
   "cell_type": "code",
   "execution_count": 149,
   "metadata": {
    "collapsed": true
   },
   "outputs": [],
   "source": [
    "# save to file\n",
    "string_gene_interactions_700.to_csv('checkpoint_files/string_gene_interactions_700.csv')"
   ]
  },
  {
   "cell_type": "code",
   "execution_count": null,
   "metadata": {
    "collapsed": true
   },
   "outputs": [],
   "source": []
  }
 ],
 "metadata": {
  "kernelspec": {
   "display_name": "Python 3",
   "language": "python",
   "name": "python3"
  },
  "language_info": {
   "codemirror_mode": {
    "name": "ipython",
    "version": 3
   },
   "file_extension": ".py",
   "mimetype": "text/x-python",
   "name": "python",
   "nbconvert_exporter": "python",
   "pygments_lexer": "ipython3",
   "version": "3.6.1"
  }
 },
 "nbformat": 4,
 "nbformat_minor": 2
}
