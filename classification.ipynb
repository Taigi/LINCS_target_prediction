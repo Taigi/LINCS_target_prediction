{
 "cells": [
  {
   "cell_type": "markdown",
   "metadata": {},
   "source": [
    "# Drug-target interaction prediction using direct & inderect correlation features"
   ]
  },
  {
   "cell_type": "code",
   "execution_count": 73,
   "metadata": {},
   "outputs": [],
   "source": [
    "import pandas as pd\n",
    "import numpy as np\n",
    "import scipy\n",
    "import itertools\n",
    "from support_functions import log_progress\n",
    "#from support_functions import RF_cross_val_top_100\n",
    "from sklearn.model_selection import StratifiedKFold\n",
    "\n",
    "import matplotlib\n",
    "import matplotlib.pyplot as plt\n",
    "import seaborn as sns\n",
    "sns.set(color_codes=True)\n",
    "plt.rc('font', size=20)          # controls default text sizes\n",
    "plt.rc('axes', titlesize=20)     # fontsize of the axes title\n",
    "plt.rc('axes', labelsize=24)    # fontsize of the x and y labels   # fontsize of the x and y labels\n",
    "plt.rc('xtick', labelsize=14)    # fontsize of the tick labels\n",
    "plt.rc('ytick', labelsize=14)    # fontsize of the tick labels"
   ]
  },
  {
   "cell_type": "code",
   "execution_count": 2,
   "metadata": {
    "collapsed": true
   },
   "outputs": [],
   "source": [
    "# load the data\n",
    "X_std_df = pd.DataFrame.from_csv('features/X_std.csv')\n",
    "y_df = pd.DataFrame.from_csv('features/y.csv')\n",
    "metadata_df = pd.DataFrame.from_csv('features/metadata.csv')"
   ]
  },
  {
   "cell_type": "code",
   "execution_count": 3,
   "metadata": {
    "collapsed": true
   },
   "outputs": [],
   "source": [
    "# format for sklearn\n",
    "X_std = X_std_df.values\n",
    "y = y_df.label.values"
   ]
  },
  {
   "cell_type": "markdown",
   "metadata": {},
   "source": [
    "___\n",
    "# Profile of the training set\n",
    "\n",
    "- **strict reproducibility criteria** on which signatures are used\n",
    "- **4 cell lines** with the most drug-target pairs tested\n",
    "- **71 cpds** with known targets in CHEMBL or DrugBank\n",
    "- **2520 potential targets** tested in the same cells\n",
    "- **237 true interactions**\n"
   ]
  },
  {
   "cell_type": "code",
   "execution_count": 4,
   "metadata": {},
   "outputs": [
    {
     "data": {
      "image/png": "[encoded data removed]",
      "text/plain": [
       "<matplotlib.figure.Figure at 0x111001da0>"
      ]
     },
     "metadata": {},
     "output_type": "display_data"
    }
   ],
   "source": [
    "target_counts = metadata_df[metadata_df.label == 1].cpd.value_counts()\n",
    "sns.distplot(target_counts, kde=False)\n",
    "plt.ylabel('# cpds')\n",
    "plt.xlabel('# targets')\n",
    "plt.title('Target counts in training set')\n",
    "plt.show()"
   ]
  },
  {
   "cell_type": "markdown",
   "metadata": {},
   "source": [
    "___\n",
    "# Features\n",
    "\n",
    "**16 features** for each cpd-target pair. For each cell line: \n",
    "1. **Direct correlation** between cpd and potential target\n",
    "2. **Max indirect correlation** with known interaction partners\n",
    "3. **Min indirect correlation** with known interaction partners\n",
    "4. **Avg indirect correlation** with known interaction partners"
   ]
  },
  {
   "cell_type": "markdown",
   "metadata": {},
   "source": [
    "___\n",
    "## Logistic regression"
   ]
  },
  {
   "cell_type": "code",
   "execution_count": 5,
   "metadata": {
    "collapsed": true
   },
   "outputs": [],
   "source": [
    "from sklearn.linear_model import LogisticRegression\n",
    "LogisticRegression?"
   ]
  },
  {
   "cell_type": "code",
   "execution_count": 6,
   "metadata": {
    "collapsed": true
   },
   "outputs": [
    {
     "name": "stderr",
     "output_type": "stream",
     "text": [
      "/Users/Nico/anaconda3/lib/python3.6/site-packages/scipy/optimize/linesearch.py:285: LineSearchWarning: The line search algorithm did not converge\n",
      "  warn('The line search algorithm did not converge', LineSearchWarning)\n",
      "/Users/Nico/anaconda3/lib/python3.6/site-packages/sklearn/utils/optimize.py:195: UserWarning: Line Search failed\n",
      "  warnings.warn('Line Search failed')\n"
     ]
    },
    {
     "data": {
      "text/plain": [
       "LogisticRegression(C=100.0, class_weight='balanced', dual=False,\n",
       "          fit_intercept=True, intercept_scaling=1, max_iter=1000,\n",
       "          multi_class='ovr', n_jobs=1, penalty='l2', random_state=1,\n",
       "          solver='newton-cg', tol=1e-07, verbose=0, warm_start=False)"
      ]
     },
     "execution_count": 6,
     "metadata": {},
     "output_type": "execute_result"
    }
   ],
   "source": [
    "lr = LogisticRegression(C=100.0, random_state=1, class_weight=\"balanced\", \n",
    "                        tol=1e-7, solver='newton-cg', max_iter=1000)\n",
    "lr.fit(X_std, y)"
   ]
  },
  {
   "cell_type": "markdown",
   "metadata": {},
   "source": [
    "### Training accuracy"
   ]
  },
  {
   "cell_type": "code",
   "execution_count": 7,
   "metadata": {},
   "outputs": [
    {
     "name": "stdout",
     "output_type": "stream",
     "text": [
      "Accuracy on False interactions: 0.69\n",
      "Accuracy on True interactions: 0.70\n"
     ]
    }
   ],
   "source": [
    "metadata_df['prediction'] = lr.predict(X_std)\n",
    "\n",
    "false_interactions = metadata_df[metadata_df.label==-1]\n",
    "false_accuracy = (false_interactions[false_interactions.prediction==-1].shape[0] /\n",
    "                  false_interactions.shape[0])\n",
    "\n",
    "true_interactions = metadata_df[metadata_df.label==1]\n",
    "true_accuracy = (true_interactions[true_interactions.prediction==1].shape[0] /\n",
    "                  true_interactions.shape[0])\n",
    "\n",
    "\n",
    "print('Accuracy on False interactions: {:.2f}'.format(false_accuracy))\n",
    "print('Accuracy on True interactions: {:.2f}'.format(true_accuracy))"
   ]
  },
  {
   "cell_type": "code",
   "execution_count": 8,
   "metadata": {
    "collapsed": true
   },
   "outputs": [],
   "source": [
    "# evaluate top-100 accuracy\n",
    "metadata_df['prob'] = lr.predict_proba(X_std)[:,1]"
   ]
  },
  {
   "cell_type": "code",
   "execution_count": 9,
   "metadata": {
    "collapsed": true
   },
   "outputs": [],
   "source": [
    "unique_cpds = metadata_df.cpd.unique()\n",
    "top_100_results = pd.DataFrame(index=unique_cpds, columns=['num_targets', 'num_targets_predicted', 'top_target_rank'])\n",
    "\n",
    "for c in unique_cpds:\n",
    "    cpd_pairs = metadata_df.query('cpd == \"{}\"'.format(c)).copy()\n",
    "    sorted_cpd_pairs = cpd_pairs.sort_values(by=['prob'], ascending=False).reset_index(drop=True)\n",
    "    \n",
    "    true_interactions = sorted_cpd_pairs.query('label == 1')\n",
    "    num_true_interactions = len(true_interactions)\n",
    "    best_rank = true_interactions.prob.idxmax()\n",
    "    \n",
    "    predicted_interactions = sorted_cpd_pairs.query('prediction == 1')\n",
    "    num_predicted_interactions = len(predicted_interactions)\n",
    "    \n",
    "    top_100_results.at[c, 'top_target_rank'] = best_rank\n",
    "    top_100_results.at[c, 'num_targets'] = num_true_interactions\n",
    "    top_100_results.at[c, 'num_targets_predicted'] = num_predicted_interactions"
   ]
  },
  {
   "cell_type": "code",
   "execution_count": 10,
   "metadata": {},
   "outputs": [
    {
     "name": "stdout",
     "output_type": "stream",
     "text": [
      "Cpds with known target in top 100 predictions: 30 (0.42)\n"
     ]
    }
   ],
   "source": [
    "num_top_100 = len(top_100_results.query('top_target_rank < 101'))\n",
    "percent_top_100 = num_top_100 / len(top_100_results)\n",
    "print('Cpds with known target in top 100 predictions: {} ({:.2f})'.format(num_top_100, percent_top_100))"
   ]
  },
  {
   "cell_type": "markdown",
   "metadata": {},
   "source": [
    "So here, our very basic logistic regression achieves top-100 accuracy of 42% for 71 compounds using data from 4 different cell lines. In comparison, LR in our LINCS manuscipt achieves top-100 accuracy of 38% for 29 compounds using data from 7 different cell lines."
   ]
  },
  {
   "cell_type": "markdown",
   "metadata": {},
   "source": [
    "___\n",
    "# Random forest classification"
   ]
  },
  {
   "cell_type": "code",
   "execution_count": 11,
   "metadata": {
    "collapsed": true
   },
   "outputs": [],
   "source": [
    "from sklearn.ensemble import RandomForestClassifier\n",
    "from sklearn.model_selection import cross_val_score"
   ]
  },
  {
   "cell_type": "code",
   "execution_count": 22,
   "metadata": {},
   "outputs": [
    {
     "data": {
      "text/plain": [
       "RandomForestClassifier(bootstrap=True, class_weight=None, criterion='gini',\n",
       "            max_depth=16, max_features='auto', max_leaf_nodes=None,\n",
       "            min_impurity_split=1e-07, min_samples_leaf=1,\n",
       "            min_samples_split=2, min_weight_fraction_leaf=0.0,\n",
       "            n_estimators=100, n_jobs=1, oob_score=False, random_state=0,\n",
       "            verbose=0, warm_start=False)"
      ]
     },
     "execution_count": 22,
     "metadata": {},
     "output_type": "execute_result"
    }
   ],
   "source": [
    "RF = RandomForestClassifier(max_depth=16, random_state=0, n_estimators=100)\n",
    "RF.fit(X_std, y)"
   ]
  },
  {
   "cell_type": "code",
   "execution_count": 13,
   "metadata": {
    "collapsed": true
   },
   "outputs": [],
   "source": [
    "# save the model which was trained on all the data\n",
    "import pickle\n",
    "filename = 'model/RF_4.sav'\n",
    "pickle.dump(RF, open(filename, 'wb'))"
   ]
  },
  {
   "cell_type": "markdown",
   "metadata": {},
   "source": [
    "### Training Accuracy"
   ]
  },
  {
   "cell_type": "code",
   "execution_count": 14,
   "metadata": {},
   "outputs": [
    {
     "name": "stdout",
     "output_type": "stream",
     "text": [
      "Accuracy on False interactions: 1.000000\n",
      "Accuracy on True interactions: 0.354430\n"
     ]
    }
   ],
   "source": [
    "metadata_df = pd.DataFrame.from_csv('features/metadata.csv')\n",
    "metadata_df['prediction'] = RF.predict(X_std)\n",
    "\n",
    "false_interactions = metadata_df[metadata_df.label==-1]\n",
    "false_accuracy = (false_interactions[false_interactions.prediction==-1].shape[0] /\n",
    "                  false_interactions.shape[0])\n",
    "\n",
    "true_interactions = metadata_df[metadata_df.label==1]\n",
    "true_accuracy = (true_interactions[true_interactions.prediction==1].shape[0] /\n",
    "                  true_interactions.shape[0])\n",
    "\n",
    "\n",
    "print('Accuracy on False interactions: {:.6f}'.format(false_accuracy))\n",
    "print('Accuracy on True interactions: {:.6f}'.format(true_accuracy))"
   ]
  },
  {
   "cell_type": "code",
   "execution_count": 15,
   "metadata": {
    "collapsed": true
   },
   "outputs": [],
   "source": [
    "# evaluate top-100 accuracy\n",
    "metadata_df['prob'] = RF.predict_proba(X_std)[:,1]"
   ]
  },
  {
   "cell_type": "code",
   "execution_count": 16,
   "metadata": {
    "collapsed": true
   },
   "outputs": [],
   "source": [
    "unique_cpds = metadata_df.cpd.unique()\n",
    "top_100_results = pd.DataFrame(index=unique_cpds, columns=['true_targets', 'true_targets_predicted', \n",
    "                                                           'total_targets_predicted',\n",
    "                                                           'top_true_target_rank', 'top_true_target_prob'])\n",
    "\n",
    "for c in unique_cpds:\n",
    "    cpd_pairs = metadata_df.query('cpd == \"{}\"'.format(c)).copy()\n",
    "    sorted_cpd_pairs = cpd_pairs.sort_values(by=['prob'], ascending=False).reset_index(drop=True)\n",
    "    \n",
    "    true_interactions = sorted_cpd_pairs.query('label == 1')\n",
    "    num_true_interactions = len(true_interactions)\n",
    "    num_true_interactions_predicted = len(true_interactions.query('prediction == 1'))\n",
    "    best_rank = true_interactions.prob.idxmax()\n",
    "    top_prob = true_interactions.iloc[0].prob\n",
    "    \n",
    "    predicted_interactions = sorted_cpd_pairs.query('prediction == 1')\n",
    "    num_predicted_interactions = len(predicted_interactions)\n",
    "    \n",
    "    top_100_results.at[c, 'top_true_target_rank'] = best_rank\n",
    "    top_100_results.at[c, 'true_targets'] = num_true_interactions\n",
    "    top_100_results.at[c, 'total_targets_predicted'] = num_predicted_interactions\n",
    "    top_100_results.at[c, 'top_true_target_prob'] = top_prob\n",
    "    top_100_results.at[c, 'true_targets_predicted'] = num_true_interactions_predicted"
   ]
  },
  {
   "cell_type": "code",
   "execution_count": 17,
   "metadata": {},
   "outputs": [
    {
     "name": "stdout",
     "output_type": "stream",
     "text": [
      "Cpds with known target in top 100 predictions: 71 (1.00)\n"
     ]
    }
   ],
   "source": [
    "num_top_100 = len(top_100_results.query('top_true_target_rank < 101'))\n",
    "percent_top_100 = num_top_100 / len(top_100_results)\n",
    "print('Cpds with known target in top 100 predictions: {} ({:.2f})'.format(num_top_100, percent_top_100))"
   ]
  },
  {
   "cell_type": "code",
   "execution_count": 23,
   "metadata": {},
   "outputs": [
    {
     "data": {
      "image/png": "[encoded data removed]",
      "text/plain": [
       "<matplotlib.figure.Figure at 0x10383d6d8>"
      ]
     },
     "metadata": {},
     "output_type": "display_data"
    }
   ],
   "source": [
    "importances = RF.feature_importances_\n",
    "std = np.std([tree.feature_importances_ for tree in RF.estimators_],\n",
    "             axis=0) # standard deviation of importances\n",
    "indices = np.argsort(importances)[::-1]\n",
    "\n",
    "# Print the feature ranking\n",
    "# print(\"Feature ranking:\")\n",
    "# for f in range(X_std.shape[1]):\n",
    "#     print(\"%d. feature %d (%f)\" % (f + 1, indices[f], importances[indices[f]]))\n",
    "\n",
    "LABELS = np.array([\"DIR_A375\", \"DIR_A549\", \"DIR_MCF7\", \"DIR_PC3\",\n",
    "          \"MAX_A375\", \"MAX_A549\", \"MAX_MCF7\", \"MAX_PC3\",\n",
    "          \"MIN_A375\", \"MIN_A549\", \"MIN_MCF7\", \"MIN_PC3\",\n",
    "          \"AVG_A375\", \"AVG_A549\", \"AVG_MCF7\", \"AVG_PC3\",\n",
    "         ])#[indices]\n",
    "\n",
    "# Plot the feature importances of the forest\n",
    "plt.figure(figsize=(12,6))\n",
    "plt.title(\"Feature importances\")\n",
    "# plt.bar(range(X_std.shape[1]), importances[indices],\n",
    "#        color=\"r\", yerr=std[indices], align=\"center\")\n",
    "plt.bar(range(X_std.shape[1]), importances,\n",
    "       color=\"r\", yerr=std, align=\"center\")\n",
    "#plt.xticks(range(X_std.shape[1]), indices)\n",
    "plt.xticks(range(X_std.shape[1]), LABELS, rotation=45)\n",
    "plt.xlim([-1, X_std.shape[1]])\n",
    "plt.show()"
   ]
  },
  {
   "cell_type": "markdown",
   "metadata": {},
   "source": [
    "___\n",
    "# Cross Validation - Random Forest\n",
    "\n",
    "The training error is very low. Next we'll perform cross validation to get a sense of how well this generalizes."
   ]
  },
  {
   "cell_type": "code",
   "execution_count": 19,
   "metadata": {
    "collapsed": true
   },
   "outputs": [],
   "source": [
    "# load data\n",
    "X_std_df = pd.DataFrame.from_csv('features/X_std.csv')\n",
    "y_df = pd.DataFrame.from_csv('features/y.csv')\n",
    "metadata_df = pd.DataFrame.from_csv('features/metadata.csv')\n",
    "\n",
    "# convert to np arrays\n",
    "X_std = X_std_df.values\n",
    "y = y_df.label.values"
   ]
  },
  {
   "cell_type": "code",
   "execution_count": 20,
   "metadata": {
    "collapsed": true
   },
   "outputs": [
    {
     "data": {
      "application/vnd.jupyter.widget-view+json": {
       "model_id": "40f09e6e9aa741b2b3cf123ed3248684"
      }
     },
     "metadata": {},
     "output_type": "display_data"
    },
    {
     "ename": "KeyboardInterrupt",
     "evalue": "",
     "output_type": "error",
     "traceback": [
      "\u001b[0;31m---------------------------------------------------------------------------\u001b[0m",
      "\u001b[0;31mKeyboardInterrupt\u001b[0m                         Traceback (most recent call last)",
      "\u001b[0;32m<ipython-input-20-de72a0b58b89>\u001b[0m in \u001b[0;36m<module>\u001b[0;34m()\u001b[0m\n\u001b[1;32m     18\u001b[0m     \u001b[0;31m# train random forest, predict on test set\u001b[0m\u001b[0;34m\u001b[0m\u001b[0;34m\u001b[0m\u001b[0m\n\u001b[1;32m     19\u001b[0m     \u001b[0mRF\u001b[0m \u001b[0;34m=\u001b[0m \u001b[0mRandomForestClassifier\u001b[0m\u001b[0;34m(\u001b[0m\u001b[0mmax_depth\u001b[0m\u001b[0;34m=\u001b[0m\u001b[0;36m16\u001b[0m\u001b[0;34m,\u001b[0m \u001b[0mrandom_state\u001b[0m\u001b[0;34m=\u001b[0m\u001b[0;36m1\u001b[0m\u001b[0;34m,\u001b[0m \u001b[0mn_estimators\u001b[0m\u001b[0;34m=\u001b[0m\u001b[0;36m100\u001b[0m\u001b[0;34m)\u001b[0m\u001b[0;34m\u001b[0m\u001b[0m\n\u001b[0;32m---> 20\u001b[0;31m     \u001b[0mRF\u001b[0m\u001b[0;34m.\u001b[0m\u001b[0mfit\u001b[0m\u001b[0;34m(\u001b[0m\u001b[0mX_train\u001b[0m\u001b[0;34m,\u001b[0m \u001b[0my_train\u001b[0m\u001b[0;34m)\u001b[0m\u001b[0;34m\u001b[0m\u001b[0m\n\u001b[0m\u001b[1;32m     21\u001b[0m     \u001b[0mtest_metadata\u001b[0m\u001b[0;34m[\u001b[0m\u001b[0;34m'prediction'\u001b[0m\u001b[0;34m]\u001b[0m \u001b[0;34m=\u001b[0m \u001b[0mRF\u001b[0m\u001b[0;34m.\u001b[0m\u001b[0mpredict\u001b[0m\u001b[0;34m(\u001b[0m\u001b[0mX_test\u001b[0m\u001b[0;34m)\u001b[0m\u001b[0;34m\u001b[0m\u001b[0m\n\u001b[1;32m     22\u001b[0m     \u001b[0mtest_metadata\u001b[0m\u001b[0;34m[\u001b[0m\u001b[0;34m'prob'\u001b[0m\u001b[0;34m]\u001b[0m \u001b[0;34m=\u001b[0m \u001b[0mRF\u001b[0m\u001b[0;34m.\u001b[0m\u001b[0mpredict_proba\u001b[0m\u001b[0;34m(\u001b[0m\u001b[0mX_test\u001b[0m\u001b[0;34m)\u001b[0m\u001b[0;34m[\u001b[0m\u001b[0;34m:\u001b[0m\u001b[0;34m,\u001b[0m\u001b[0;36m1\u001b[0m\u001b[0;34m]\u001b[0m\u001b[0;34m\u001b[0m\u001b[0m\n",
      "\u001b[0;32m~/anaconda3/lib/python3.6/site-packages/sklearn/ensemble/forest.py\u001b[0m in \u001b[0;36mfit\u001b[0;34m(self, X, y, sample_weight)\u001b[0m\n\u001b[1;32m    324\u001b[0m                     \u001b[0mt\u001b[0m\u001b[0;34m,\u001b[0m \u001b[0mself\u001b[0m\u001b[0;34m,\u001b[0m \u001b[0mX\u001b[0m\u001b[0;34m,\u001b[0m \u001b[0my\u001b[0m\u001b[0;34m,\u001b[0m \u001b[0msample_weight\u001b[0m\u001b[0;34m,\u001b[0m \u001b[0mi\u001b[0m\u001b[0;34m,\u001b[0m \u001b[0mlen\u001b[0m\u001b[0;34m(\u001b[0m\u001b[0mtrees\u001b[0m\u001b[0;34m)\u001b[0m\u001b[0;34m,\u001b[0m\u001b[0;34m\u001b[0m\u001b[0m\n\u001b[1;32m    325\u001b[0m                     verbose=self.verbose, class_weight=self.class_weight)\n\u001b[0;32m--> 326\u001b[0;31m                 for i, t in enumerate(trees))\n\u001b[0m\u001b[1;32m    327\u001b[0m \u001b[0;34m\u001b[0m\u001b[0m\n\u001b[1;32m    328\u001b[0m             \u001b[0;31m# Collect newly grown trees\u001b[0m\u001b[0;34m\u001b[0m\u001b[0;34m\u001b[0m\u001b[0m\n",
      "\u001b[0;32m~/anaconda3/lib/python3.6/site-packages/sklearn/externals/joblib/parallel.py\u001b[0m in \u001b[0;36m__call__\u001b[0;34m(self, iterable)\u001b[0m\n\u001b[1;32m    756\u001b[0m             \u001b[0;31m# was dispatched. In particular this covers the edge\u001b[0m\u001b[0;34m\u001b[0m\u001b[0;34m\u001b[0m\u001b[0m\n\u001b[1;32m    757\u001b[0m             \u001b[0;31m# case of Parallel used with an exhausted iterator.\u001b[0m\u001b[0;34m\u001b[0m\u001b[0;34m\u001b[0m\u001b[0m\n\u001b[0;32m--> 758\u001b[0;31m             \u001b[0;32mwhile\u001b[0m \u001b[0mself\u001b[0m\u001b[0;34m.\u001b[0m\u001b[0mdispatch_one_batch\u001b[0m\u001b[0;34m(\u001b[0m\u001b[0miterator\u001b[0m\u001b[0;34m)\u001b[0m\u001b[0;34m:\u001b[0m\u001b[0;34m\u001b[0m\u001b[0m\n\u001b[0m\u001b[1;32m    759\u001b[0m                 \u001b[0mself\u001b[0m\u001b[0;34m.\u001b[0m\u001b[0m_iterating\u001b[0m \u001b[0;34m=\u001b[0m \u001b[0;32mTrue\u001b[0m\u001b[0;34m\u001b[0m\u001b[0m\n\u001b[1;32m    760\u001b[0m             \u001b[0;32melse\u001b[0m\u001b[0;34m:\u001b[0m\u001b[0;34m\u001b[0m\u001b[0m\n",
      "\u001b[0;32m~/anaconda3/lib/python3.6/site-packages/sklearn/externals/joblib/parallel.py\u001b[0m in \u001b[0;36mdispatch_one_batch\u001b[0;34m(self, iterator)\u001b[0m\n\u001b[1;32m    606\u001b[0m                 \u001b[0;32mreturn\u001b[0m \u001b[0;32mFalse\u001b[0m\u001b[0;34m\u001b[0m\u001b[0m\n\u001b[1;32m    607\u001b[0m             \u001b[0;32melse\u001b[0m\u001b[0;34m:\u001b[0m\u001b[0;34m\u001b[0m\u001b[0m\n\u001b[0;32m--> 608\u001b[0;31m                 \u001b[0mself\u001b[0m\u001b[0;34m.\u001b[0m\u001b[0m_dispatch\u001b[0m\u001b[0;34m(\u001b[0m\u001b[0mtasks\u001b[0m\u001b[0;34m)\u001b[0m\u001b[0;34m\u001b[0m\u001b[0m\n\u001b[0m\u001b[1;32m    609\u001b[0m                 \u001b[0;32mreturn\u001b[0m \u001b[0;32mTrue\u001b[0m\u001b[0;34m\u001b[0m\u001b[0m\n\u001b[1;32m    610\u001b[0m \u001b[0;34m\u001b[0m\u001b[0m\n",
      "\u001b[0;32m~/anaconda3/lib/python3.6/site-packages/sklearn/externals/joblib/parallel.py\u001b[0m in \u001b[0;36m_dispatch\u001b[0;34m(self, batch)\u001b[0m\n\u001b[1;32m    569\u001b[0m         \u001b[0mdispatch_timestamp\u001b[0m \u001b[0;34m=\u001b[0m \u001b[0mtime\u001b[0m\u001b[0;34m.\u001b[0m\u001b[0mtime\u001b[0m\u001b[0;34m(\u001b[0m\u001b[0;34m)\u001b[0m\u001b[0;34m\u001b[0m\u001b[0m\n\u001b[1;32m    570\u001b[0m         \u001b[0mcb\u001b[0m \u001b[0;34m=\u001b[0m \u001b[0mBatchCompletionCallBack\u001b[0m\u001b[0;34m(\u001b[0m\u001b[0mdispatch_timestamp\u001b[0m\u001b[0;34m,\u001b[0m \u001b[0mlen\u001b[0m\u001b[0;34m(\u001b[0m\u001b[0mbatch\u001b[0m\u001b[0;34m)\u001b[0m\u001b[0;34m,\u001b[0m \u001b[0mself\u001b[0m\u001b[0;34m)\u001b[0m\u001b[0;34m\u001b[0m\u001b[0m\n\u001b[0;32m--> 571\u001b[0;31m         \u001b[0mjob\u001b[0m \u001b[0;34m=\u001b[0m \u001b[0mself\u001b[0m\u001b[0;34m.\u001b[0m\u001b[0m_backend\u001b[0m\u001b[0;34m.\u001b[0m\u001b[0mapply_async\u001b[0m\u001b[0;34m(\u001b[0m\u001b[0mbatch\u001b[0m\u001b[0;34m,\u001b[0m \u001b[0mcallback\u001b[0m\u001b[0;34m=\u001b[0m\u001b[0mcb\u001b[0m\u001b[0;34m)\u001b[0m\u001b[0;34m\u001b[0m\u001b[0m\n\u001b[0m\u001b[1;32m    572\u001b[0m         \u001b[0mself\u001b[0m\u001b[0;34m.\u001b[0m\u001b[0m_jobs\u001b[0m\u001b[0;34m.\u001b[0m\u001b[0mappend\u001b[0m\u001b[0;34m(\u001b[0m\u001b[0mjob\u001b[0m\u001b[0;34m)\u001b[0m\u001b[0;34m\u001b[0m\u001b[0m\n\u001b[1;32m    573\u001b[0m \u001b[0;34m\u001b[0m\u001b[0m\n",
      "\u001b[0;32m~/anaconda3/lib/python3.6/site-packages/sklearn/externals/joblib/_parallel_backends.py\u001b[0m in \u001b[0;36mapply_async\u001b[0;34m(self, func, callback)\u001b[0m\n\u001b[1;32m    107\u001b[0m     \u001b[0;32mdef\u001b[0m \u001b[0mapply_async\u001b[0m\u001b[0;34m(\u001b[0m\u001b[0mself\u001b[0m\u001b[0;34m,\u001b[0m \u001b[0mfunc\u001b[0m\u001b[0;34m,\u001b[0m \u001b[0mcallback\u001b[0m\u001b[0;34m=\u001b[0m\u001b[0;32mNone\u001b[0m\u001b[0;34m)\u001b[0m\u001b[0;34m:\u001b[0m\u001b[0;34m\u001b[0m\u001b[0m\n\u001b[1;32m    108\u001b[0m         \u001b[0;34m\"\"\"Schedule a func to be run\"\"\"\u001b[0m\u001b[0;34m\u001b[0m\u001b[0m\n\u001b[0;32m--> 109\u001b[0;31m         \u001b[0mresult\u001b[0m \u001b[0;34m=\u001b[0m \u001b[0mImmediateResult\u001b[0m\u001b[0;34m(\u001b[0m\u001b[0mfunc\u001b[0m\u001b[0;34m)\u001b[0m\u001b[0;34m\u001b[0m\u001b[0m\n\u001b[0m\u001b[1;32m    110\u001b[0m         \u001b[0;32mif\u001b[0m \u001b[0mcallback\u001b[0m\u001b[0;34m:\u001b[0m\u001b[0;34m\u001b[0m\u001b[0m\n\u001b[1;32m    111\u001b[0m             \u001b[0mcallback\u001b[0m\u001b[0;34m(\u001b[0m\u001b[0mresult\u001b[0m\u001b[0;34m)\u001b[0m\u001b[0;34m\u001b[0m\u001b[0m\n",
      "\u001b[0;32m~/anaconda3/lib/python3.6/site-packages/sklearn/externals/joblib/_parallel_backends.py\u001b[0m in \u001b[0;36m__init__\u001b[0;34m(self, batch)\u001b[0m\n\u001b[1;32m    324\u001b[0m         \u001b[0;31m# Don't delay the application, to avoid keeping the input\u001b[0m\u001b[0;34m\u001b[0m\u001b[0;34m\u001b[0m\u001b[0m\n\u001b[1;32m    325\u001b[0m         \u001b[0;31m# arguments in memory\u001b[0m\u001b[0;34m\u001b[0m\u001b[0;34m\u001b[0m\u001b[0m\n\u001b[0;32m--> 326\u001b[0;31m         \u001b[0mself\u001b[0m\u001b[0;34m.\u001b[0m\u001b[0mresults\u001b[0m \u001b[0;34m=\u001b[0m \u001b[0mbatch\u001b[0m\u001b[0;34m(\u001b[0m\u001b[0;34m)\u001b[0m\u001b[0;34m\u001b[0m\u001b[0m\n\u001b[0m\u001b[1;32m    327\u001b[0m \u001b[0;34m\u001b[0m\u001b[0m\n\u001b[1;32m    328\u001b[0m     \u001b[0;32mdef\u001b[0m \u001b[0mget\u001b[0m\u001b[0;34m(\u001b[0m\u001b[0mself\u001b[0m\u001b[0;34m)\u001b[0m\u001b[0;34m:\u001b[0m\u001b[0;34m\u001b[0m\u001b[0m\n",
      "\u001b[0;32m~/anaconda3/lib/python3.6/site-packages/sklearn/externals/joblib/parallel.py\u001b[0m in \u001b[0;36m__call__\u001b[0;34m(self)\u001b[0m\n\u001b[1;32m    129\u001b[0m \u001b[0;34m\u001b[0m\u001b[0m\n\u001b[1;32m    130\u001b[0m     \u001b[0;32mdef\u001b[0m \u001b[0m__call__\u001b[0m\u001b[0;34m(\u001b[0m\u001b[0mself\u001b[0m\u001b[0;34m)\u001b[0m\u001b[0;34m:\u001b[0m\u001b[0;34m\u001b[0m\u001b[0m\n\u001b[0;32m--> 131\u001b[0;31m         \u001b[0;32mreturn\u001b[0m \u001b[0;34m[\u001b[0m\u001b[0mfunc\u001b[0m\u001b[0;34m(\u001b[0m\u001b[0;34m*\u001b[0m\u001b[0margs\u001b[0m\u001b[0;34m,\u001b[0m \u001b[0;34m**\u001b[0m\u001b[0mkwargs\u001b[0m\u001b[0;34m)\u001b[0m \u001b[0;32mfor\u001b[0m \u001b[0mfunc\u001b[0m\u001b[0;34m,\u001b[0m \u001b[0margs\u001b[0m\u001b[0;34m,\u001b[0m \u001b[0mkwargs\u001b[0m \u001b[0;32min\u001b[0m \u001b[0mself\u001b[0m\u001b[0;34m.\u001b[0m\u001b[0mitems\u001b[0m\u001b[0;34m]\u001b[0m\u001b[0;34m\u001b[0m\u001b[0m\n\u001b[0m\u001b[1;32m    132\u001b[0m \u001b[0;34m\u001b[0m\u001b[0m\n\u001b[1;32m    133\u001b[0m     \u001b[0;32mdef\u001b[0m \u001b[0m__len__\u001b[0m\u001b[0;34m(\u001b[0m\u001b[0mself\u001b[0m\u001b[0;34m)\u001b[0m\u001b[0;34m:\u001b[0m\u001b[0;34m\u001b[0m\u001b[0m\n",
      "\u001b[0;32m~/anaconda3/lib/python3.6/site-packages/sklearn/externals/joblib/parallel.py\u001b[0m in \u001b[0;36m<listcomp>\u001b[0;34m(.0)\u001b[0m\n\u001b[1;32m    129\u001b[0m \u001b[0;34m\u001b[0m\u001b[0m\n\u001b[1;32m    130\u001b[0m     \u001b[0;32mdef\u001b[0m \u001b[0m__call__\u001b[0m\u001b[0;34m(\u001b[0m\u001b[0mself\u001b[0m\u001b[0;34m)\u001b[0m\u001b[0;34m:\u001b[0m\u001b[0;34m\u001b[0m\u001b[0m\n\u001b[0;32m--> 131\u001b[0;31m         \u001b[0;32mreturn\u001b[0m \u001b[0;34m[\u001b[0m\u001b[0mfunc\u001b[0m\u001b[0;34m(\u001b[0m\u001b[0;34m*\u001b[0m\u001b[0margs\u001b[0m\u001b[0;34m,\u001b[0m \u001b[0;34m**\u001b[0m\u001b[0mkwargs\u001b[0m\u001b[0;34m)\u001b[0m \u001b[0;32mfor\u001b[0m \u001b[0mfunc\u001b[0m\u001b[0;34m,\u001b[0m \u001b[0margs\u001b[0m\u001b[0;34m,\u001b[0m \u001b[0mkwargs\u001b[0m \u001b[0;32min\u001b[0m \u001b[0mself\u001b[0m\u001b[0;34m.\u001b[0m\u001b[0mitems\u001b[0m\u001b[0;34m]\u001b[0m\u001b[0;34m\u001b[0m\u001b[0m\n\u001b[0m\u001b[1;32m    132\u001b[0m \u001b[0;34m\u001b[0m\u001b[0m\n\u001b[1;32m    133\u001b[0m     \u001b[0;32mdef\u001b[0m \u001b[0m__len__\u001b[0m\u001b[0;34m(\u001b[0m\u001b[0mself\u001b[0m\u001b[0;34m)\u001b[0m\u001b[0;34m:\u001b[0m\u001b[0;34m\u001b[0m\u001b[0m\n",
      "\u001b[0;32m~/anaconda3/lib/python3.6/site-packages/sklearn/ensemble/forest.py\u001b[0m in \u001b[0;36m_parallel_build_trees\u001b[0;34m(tree, forest, X, y, sample_weight, tree_idx, n_trees, verbose, class_weight)\u001b[0m\n\u001b[1;32m    118\u001b[0m             \u001b[0mcurr_sample_weight\u001b[0m \u001b[0;34m*=\u001b[0m \u001b[0mcompute_sample_weight\u001b[0m\u001b[0;34m(\u001b[0m\u001b[0;34m'balanced'\u001b[0m\u001b[0;34m,\u001b[0m \u001b[0my\u001b[0m\u001b[0;34m,\u001b[0m \u001b[0mindices\u001b[0m\u001b[0;34m)\u001b[0m\u001b[0;34m\u001b[0m\u001b[0m\n\u001b[1;32m    119\u001b[0m \u001b[0;34m\u001b[0m\u001b[0m\n\u001b[0;32m--> 120\u001b[0;31m         \u001b[0mtree\u001b[0m\u001b[0;34m.\u001b[0m\u001b[0mfit\u001b[0m\u001b[0;34m(\u001b[0m\u001b[0mX\u001b[0m\u001b[0;34m,\u001b[0m \u001b[0my\u001b[0m\u001b[0;34m,\u001b[0m \u001b[0msample_weight\u001b[0m\u001b[0;34m=\u001b[0m\u001b[0mcurr_sample_weight\u001b[0m\u001b[0;34m,\u001b[0m \u001b[0mcheck_input\u001b[0m\u001b[0;34m=\u001b[0m\u001b[0;32mFalse\u001b[0m\u001b[0;34m)\u001b[0m\u001b[0;34m\u001b[0m\u001b[0m\n\u001b[0m\u001b[1;32m    121\u001b[0m     \u001b[0;32melse\u001b[0m\u001b[0;34m:\u001b[0m\u001b[0;34m\u001b[0m\u001b[0m\n\u001b[1;32m    122\u001b[0m         \u001b[0mtree\u001b[0m\u001b[0;34m.\u001b[0m\u001b[0mfit\u001b[0m\u001b[0;34m(\u001b[0m\u001b[0mX\u001b[0m\u001b[0;34m,\u001b[0m \u001b[0my\u001b[0m\u001b[0;34m,\u001b[0m \u001b[0msample_weight\u001b[0m\u001b[0;34m=\u001b[0m\u001b[0msample_weight\u001b[0m\u001b[0;34m,\u001b[0m \u001b[0mcheck_input\u001b[0m\u001b[0;34m=\u001b[0m\u001b[0;32mFalse\u001b[0m\u001b[0;34m)\u001b[0m\u001b[0;34m\u001b[0m\u001b[0m\n",
      "\u001b[0;32m~/anaconda3/lib/python3.6/site-packages/sklearn/tree/tree.py\u001b[0m in \u001b[0;36mfit\u001b[0;34m(self, X, y, sample_weight, check_input, X_idx_sorted)\u001b[0m\n\u001b[1;32m    737\u001b[0m             \u001b[0msample_weight\u001b[0m\u001b[0;34m=\u001b[0m\u001b[0msample_weight\u001b[0m\u001b[0;34m,\u001b[0m\u001b[0;34m\u001b[0m\u001b[0m\n\u001b[1;32m    738\u001b[0m             \u001b[0mcheck_input\u001b[0m\u001b[0;34m=\u001b[0m\u001b[0mcheck_input\u001b[0m\u001b[0;34m,\u001b[0m\u001b[0;34m\u001b[0m\u001b[0m\n\u001b[0;32m--> 739\u001b[0;31m             X_idx_sorted=X_idx_sorted)\n\u001b[0m\u001b[1;32m    740\u001b[0m         \u001b[0;32mreturn\u001b[0m \u001b[0mself\u001b[0m\u001b[0;34m\u001b[0m\u001b[0m\n\u001b[1;32m    741\u001b[0m \u001b[0;34m\u001b[0m\u001b[0m\n",
      "\u001b[0;32m~/anaconda3/lib/python3.6/site-packages/sklearn/tree/tree.py\u001b[0m in \u001b[0;36mfit\u001b[0;34m(self, X, y, sample_weight, check_input, X_idx_sorted)\u001b[0m\n\u001b[1;32m    348\u001b[0m                                            self.min_impurity_split)\n\u001b[1;32m    349\u001b[0m \u001b[0;34m\u001b[0m\u001b[0m\n\u001b[0;32m--> 350\u001b[0;31m         \u001b[0mbuilder\u001b[0m\u001b[0;34m.\u001b[0m\u001b[0mbuild\u001b[0m\u001b[0;34m(\u001b[0m\u001b[0mself\u001b[0m\u001b[0;34m.\u001b[0m\u001b[0mtree_\u001b[0m\u001b[0;34m,\u001b[0m \u001b[0mX\u001b[0m\u001b[0;34m,\u001b[0m \u001b[0my\u001b[0m\u001b[0;34m,\u001b[0m \u001b[0msample_weight\u001b[0m\u001b[0;34m,\u001b[0m \u001b[0mX_idx_sorted\u001b[0m\u001b[0;34m)\u001b[0m\u001b[0;34m\u001b[0m\u001b[0m\n\u001b[0m\u001b[1;32m    351\u001b[0m \u001b[0;34m\u001b[0m\u001b[0m\n\u001b[1;32m    352\u001b[0m         \u001b[0;32mif\u001b[0m \u001b[0mself\u001b[0m\u001b[0;34m.\u001b[0m\u001b[0mn_outputs_\u001b[0m \u001b[0;34m==\u001b[0m \u001b[0;36m1\u001b[0m\u001b[0;34m:\u001b[0m\u001b[0;34m\u001b[0m\u001b[0m\n",
      "\u001b[0;31mKeyboardInterrupt\u001b[0m: "
     ]
    }
   ],
   "source": [
    "# 10-fold cross validation\n",
    "skf = StratifiedKFold(n_splits=20)\n",
    "\n",
    "# store results\n",
    "true_acc_ = []\n",
    "false_acc_ = []\n",
    "top_100_results_ = []\n",
    "\n",
    "\n",
    "for train, test in log_progress(skf.split(X_std, y), every=1):\n",
    "    X_train = X_std[train]\n",
    "    y_train = y[train]\n",
    "    X_test = X_std[test]\n",
    "    y_test = y[test]\n",
    "    test_metadata = metadata_df.iloc[test].copy()\n",
    "    \n",
    "    # train random forest, predict on test set\n",
    "    RF = RandomForestClassifier(max_depth=16, random_state=1, n_estimators=100)\n",
    "    RF.fit(X_train, y_train)\n",
    "    test_metadata['prediction'] = RF.predict(X_test)\n",
    "    test_metadata['prob'] = RF.predict_proba(X_test)[:,1]\n",
    "    \n",
    "    # test true/false accuracy\n",
    "    false_interactions = test_metadata[test_metadata.label==-1]\n",
    "    true_interactions = test_metadata[test_metadata.label==1]\n",
    "    false_accuracy = (false_interactions[false_interactions.prediction==-1].shape[0] /\n",
    "                      false_interactions.shape[0])\n",
    "    true_accuracy = (true_interactions[true_interactions.prediction==1].shape[0] /\n",
    "                      true_interactions.shape[0])\n",
    "    false_acc_.append(false_accuracy)\n",
    "    true_acc_.append(true_accuracy)\n",
    "\n",
    "    # evaluate top-100 accuracy\n",
    "    unique_cpds = test_metadata[test_metadata.label == 1].cpd.unique()\n",
    "    top_100_results = pd.DataFrame(index=unique_cpds, columns=['true_targets', 'true_targets_predicted', \n",
    "                                                               'total_targets_predicted',\n",
    "                                                               'top_true_target_rank', 'top_true_target_prob'])\n",
    "\n",
    "    for c in unique_cpds:\n",
    "        cpd_pairs = test_metadata.query('cpd == \"{}\"'.format(c)).copy()\n",
    "        sorted_cpd_pairs = cpd_pairs.sort_values(by=['prob'], ascending=False).reset_index(drop=True)\n",
    "\n",
    "        true_interactions = sorted_cpd_pairs.query('label == 1')\n",
    "        num_true_interactions = len(true_interactions)\n",
    "        num_true_interactions_predicted = len(true_interactions.query('prediction == 1'))\n",
    "        best_rank = true_interactions.prob.idxmax()\n",
    "        top_prob = true_interactions.iloc[0].prob\n",
    "\n",
    "        predicted_interactions = sorted_cpd_pairs.query('prediction == 1')\n",
    "        num_predicted_interactions = len(predicted_interactions)\n",
    "\n",
    "        top_100_results.at[c, 'top_true_target_rank'] = best_rank\n",
    "        top_100_results.at[c, 'true_targets'] = num_true_interactions\n",
    "        top_100_results.at[c, 'total_targets_predicted'] = num_predicted_interactions\n",
    "        top_100_results.at[c, 'top_true_target_prob'] = top_prob\n",
    "        top_100_results.at[c, 'true_targets_predicted'] = num_true_interactions_predicted\n",
    "    \n",
    "    top_100_results_.append(top_100_results)"
   ]
  },
  {
   "cell_type": "code",
   "execution_count": null,
   "metadata": {
    "collapsed": true
   },
   "outputs": [],
   "source": [
    "print('Accuracy on True interactions: ', np.mean(true_acc_))\n",
    "print('Accuracy on False interactions: ', np.mean(false_acc_))"
   ]
  },
  {
   "cell_type": "code",
   "execution_count": null,
   "metadata": {
    "collapsed": true
   },
   "outputs": [],
   "source": [
    "top100 = []\n",
    "top50 = []\n",
    "top10 = []\n",
    "\n",
    "for k, result in enumerate(top_100_results_):\n",
    "    #print('Fold',k)\n",
    "    \n",
    "    num_top_100 = len(result.query('top_true_target_rank < 101'))\n",
    "    percent_top_100 = num_top_100 / len(result)\n",
    "    top100.append(percent_top_100)\n",
    "    #print('Cpds with known target in top 100 predictions: {} ({:.4f})'.format(num_top_100, percent_top_100))\n",
    "    \n",
    "    num_top_50 = len(result.query('top_true_target_rank < 51'))\n",
    "    percent_top_50 = num_top_50 / len(result)\n",
    "    top50.append(percent_top_50)\n",
    "    #print('Cpds with known target in top 50 predictions: {} ({:.4f})\\n'.format(num_top_50, percent_top_50))\n",
    "    \n",
    "    num_top_10 = len(result.query('top_true_target_rank < 11'))\n",
    "    percent_top_10 = num_top_10 / len(result)\n",
    "    top10.append(percent_top_10)\n",
    "    #print('Cpds with known target in top 50 predictions: {} ({:.4f})\\n'.format(num_top_50, percent_top_50))\n",
    "    \n",
    "print('Percent top-100:  {:.2f}  +/-  {:.2f}'.format(np.mean(top100), np.std(top100)))\n",
    "print('Percent top-50:  {:.2f}  +/-  {:.2f}'.format(np.mean(top50), np.std(top50)))\n",
    "print('Percent top-10:  {:.2f}  +/-  {:.2f}'.format(np.mean(top10), np.std(top10)))"
   ]
  },
  {
   "cell_type": "code",
   "execution_count": 83,
   "metadata": {
    "collapsed": true
   },
   "outputs": [],
   "source": [
    "def RF_cross_val_top_100(X_std, y, metadata_df, k, nt, md):\n",
    "    \n",
    "    # k-fold cross validation\n",
    "    skf = StratifiedKFold(n_splits=k)\n",
    "\n",
    "    # store results\n",
    "    true_acc_ = []\n",
    "    false_acc_ = []\n",
    "    #top_100_results_ = []\n",
    "    top100_ = []\n",
    "    top50_ = []\n",
    "    top10_ = []\n",
    "\n",
    "    for train, test in skf.split(X_std, y):\n",
    "        X_train = X_std[train]\n",
    "        y_train = y[train]\n",
    "        X_test = X_std[test]\n",
    "        y_test = y[test]\n",
    "        test_metadata = metadata_df.iloc[test].copy()\n",
    "\n",
    "        # train random forest, predict on test set\n",
    "        RF = RandomForestClassifier(max_depth=md, \n",
    "                                    random_state=1, \n",
    "                                    n_estimators=nt,\n",
    "                                    n_jobs=-1\n",
    "                                   )\n",
    "        RF.fit(X_train, y_train)\n",
    "        test_metadata['prediction'] = RF.predict(X_test)\n",
    "        test_metadata['prob'] = RF.predict_proba(X_test)[:,1]\n",
    "\n",
    "        # test true/false accuracy\n",
    "        false_interactions = test_metadata[test_metadata.label==-1]\n",
    "        true_interactions = test_metadata[test_metadata.label==1]\n",
    "        false_accuracy = (false_interactions[false_interactions.prediction==-1].shape[0] /\n",
    "                          false_interactions.shape[0])\n",
    "        true_accuracy = (true_interactions[true_interactions.prediction==1].shape[0] /\n",
    "                          true_interactions.shape[0])\n",
    "        false_acc_.append(false_accuracy)\n",
    "        true_acc_.append(true_accuracy)\n",
    "\n",
    "        # evaluate top-100 accuracy\n",
    "        unique_cpds = test_metadata[test_metadata.label == 1].cpd.unique()\n",
    "        top_100_results = pd.DataFrame(index=unique_cpds, columns=['true_targets', 'true_targets_predicted', \n",
    "                                                                   'total_targets_predicted',\n",
    "                                                                   'top_true_target_rank', 'top_true_target_prob'])\n",
    "        for c in unique_cpds:\n",
    "            cpd_pairs = test_metadata.query('cpd == \"{}\"'.format(c)).copy()\n",
    "            sorted_cpd_pairs = cpd_pairs.sort_values(by=['prob'], ascending=False).reset_index(drop=True)\n",
    "\n",
    "            true_interactions = sorted_cpd_pairs.query('label == 1')\n",
    "            num_true_interactions = len(true_interactions)\n",
    "            num_true_interactions_predicted = len(true_interactions.query('prediction == 1'))\n",
    "            best_rank = true_interactions.prob.idxmax()\n",
    "            top_prob = true_interactions.iloc[0].prob\n",
    "\n",
    "            predicted_interactions = sorted_cpd_pairs.query('prediction == 1')\n",
    "            num_predicted_interactions = len(predicted_interactions)\n",
    "\n",
    "            top_100_results.at[c, 'top_true_target_rank'] = best_rank\n",
    "            top_100_results.at[c, 'true_targets'] = num_true_interactions\n",
    "            top_100_results.at[c, 'total_targets_predicted'] = num_predicted_interactions\n",
    "            top_100_results.at[c, 'top_true_target_prob'] = top_prob\n",
    "            top_100_results.at[c, 'true_targets_predicted'] = num_true_interactions_predicted\n",
    "\n",
    "        #top_100_results_.append(top_100_results)\n",
    "        #for k, result in enumerate(top_100_results_):\n",
    "\n",
    "        num_top_100 = len(top_100_results.query('top_true_target_rank < 101'))\n",
    "        percent_top_100 = num_top_100 / len(top_100_results)\n",
    "        top100_.append(percent_top_100)\n",
    "\n",
    "        num_top_50 = len(top_100_results.query('top_true_target_rank < 51'))\n",
    "        percent_top_50 = num_top_50 / len(top_100_results)\n",
    "        top50_.append(percent_top_50)\n",
    "\n",
    "        num_top_10 = len(top_100_results.query('top_true_target_rank < 11'))\n",
    "        percent_top_10 = num_top_10 / len(top_100_results)\n",
    "        top10_.append(percent_top_10)\n",
    "    \n",
    "    return (true_acc_, false_acc_, top100_, top50_, top10_)"
   ]
  },
  {
   "cell_type": "markdown",
   "metadata": {
    "collapsed": true
   },
   "source": [
    "___\n",
    "## Complexity Control"
   ]
  },
  {
   "cell_type": "code",
   "execution_count": 108,
   "metadata": {},
   "outputs": [
    {
     "name": "stdout",
     "output_type": "stream",
     "text": [
      "Number or CV runs:  320\n"
     ]
    }
   ],
   "source": [
    "# define parameter space\n",
    "n_trees_ = np.arange(10,410,20)\n",
    "max_depth_ = np.arange(2,33,2)\n",
    "print('Number or CV runs: ', len(n_trees_)*len(max_depth_))"
   ]
  },
  {
   "cell_type": "code",
   "execution_count": 109,
   "metadata": {},
   "outputs": [],
   "source": [
    "# cross val details\n",
    "k = 7"
   ]
  },
  {
   "cell_type": "code",
   "execution_count": null,
   "metadata": {},
   "outputs": [
    {
     "data": {
      "application/vnd.jupyter.widget-view+json": {
       "model_id": "257a2ae2d9804bdcb7e7981a0b0373a4"
      }
     },
     "metadata": {},
     "output_type": "display_data"
    }
   ],
   "source": [
    "# generate parameters & perform cross validation\n",
    "params_ = itertools.product(n_trees_, max_depth_) # 100 * 31 = 3100 pairs\n",
    "parameter_search_result_dict = {}\n",
    "\n",
    "for p in log_progress(params_, every=1):\n",
    "    (n_trees, max_depth) = p\n",
    "    results = RF_cross_val_top_100(X_std, y, metadata_df, k, n_trees, max_depth)\n",
    "    parameter_search_result_dict[p] = results"
   ]
  },
  {
   "cell_type": "code",
   "execution_count": 88,
   "metadata": {},
   "outputs": [
    {
     "data": {
      "text/plain": [
       "{(10, 2): ([0.0, 0.0],\n",
       "  [1.0, 1.0],\n",
       "  [0.1746031746031746, 0.475],\n",
       "  [0.1111111111111111, 0.35],\n",
       "  [0.07936507936507936, 0.15])}"
      ]
     },
     "execution_count": 88,
     "metadata": {},
     "output_type": "execute_result"
    }
   ],
   "source": [
    "parameter_search_result_dict"
   ]
  },
  {
   "cell_type": "code",
   "execution_count": 91,
   "metadata": {},
   "outputs": [
    {
     "data": {
      "text/plain": [
       "31"
      ]
     },
     "execution_count": 91,
     "metadata": {},
     "output_type": "execute_result"
    }
   ],
   "source": [
    "len(max_depth_)"
   ]
  },
  {
   "cell_type": "code",
   "execution_count": null,
   "metadata": {
    "collapsed": true
   },
   "outputs": [],
   "source": []
  }
 ],
 "metadata": {
  "kernelspec": {
   "display_name": "Python 3",
   "language": "python",
   "name": "python3"
  },
  "language_info": {
   "codemirror_mode": {
    "name": "ipython",
    "version": 3
   },
   "file_extension": ".py",
   "mimetype": "text/x-python",
   "name": "python",
   "nbconvert_exporter": "python",
   "pygments_lexer": "ipython3",
   "version": "3.6.1"
  }
 },
 "nbformat": 4,
 "nbformat_minor": 2
}
