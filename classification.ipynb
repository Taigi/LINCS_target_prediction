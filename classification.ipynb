{
 "cells": [
  {
   "cell_type": "markdown",
   "metadata": {},
   "source": [
    "# Drug-target interaction prediction using direct & inderect correlation features"
   ]
  },
  {
   "cell_type": "code",
   "execution_count": 1,
   "metadata": {
    "collapsed": true
   },
   "outputs": [],
   "source": [
    "import pandas as pd\n",
    "import numpy as np\n",
    "import scipy\n",
    "import itertools\n",
    "from support_functions import log_progress\n",
    "import matplotlib.pyplot as plt\n",
    "import seaborn as sns\n",
    "sns.set(color_codes=True)"
   ]
  },
  {
   "cell_type": "code",
   "execution_count": 39,
   "metadata": {
    "collapsed": true
   },
   "outputs": [],
   "source": [
    "# load the data\n",
    "X_std_df = pd.DataFrame.from_csv('features/X_std.csv')\n",
    "y_df = pd.DataFrame.from_csv('features/y.csv')\n",
    "metadata_df = pd.DataFrame.from_csv('features/metadata.csv')"
   ]
  },
  {
   "cell_type": "code",
   "execution_count": 36,
   "metadata": {},
   "outputs": [],
   "source": [
    "# format for sklearn\n",
    "X_std = X_std_df.values\n",
    "y = y_df.label.values"
   ]
  },
  {
   "cell_type": "markdown",
   "metadata": {},
   "source": [
    "___\n",
    "## Logistic regression"
   ]
  },
  {
   "cell_type": "code",
   "execution_count": 121,
   "metadata": {
    "collapsed": true
   },
   "outputs": [],
   "source": [
    "LogisticRegression?"
   ]
  },
  {
   "cell_type": "code",
   "execution_count": 154,
   "metadata": {},
   "outputs": [
    {
     "data": {
      "text/plain": [
       "LogisticRegression(C=10.0, class_weight='balanced', dual=False,\n",
       "          fit_intercept=True, intercept_scaling=1, max_iter=1000,\n",
       "          multi_class='ovr', n_jobs=1, penalty='l2', random_state=1,\n",
       "          solver='newton-cg', tol=1e-07, verbose=0, warm_start=False)"
      ]
     },
     "execution_count": 154,
     "metadata": {},
     "output_type": "execute_result"
    }
   ],
   "source": [
    "from sklearn.linear_model import LogisticRegression\n",
    "lr = LogisticRegression(C=10.0, random_state=1, class_weight=\"balanced\", \n",
    "                        tol=1e-7, solver='newton-cg', max_iter=1000)\n",
    "lr.fit(X_std, y)"
   ]
  },
  {
   "cell_type": "code",
   "execution_count": 155,
   "metadata": {},
   "outputs": [
    {
     "data": {
      "text/plain": [
       "array([19], dtype=int32)"
      ]
     },
     "execution_count": 155,
     "metadata": {},
     "output_type": "execute_result"
    }
   ],
   "source": [
    "lr.n_iter_"
   ]
  },
  {
   "cell_type": "code",
   "execution_count": 156,
   "metadata": {},
   "outputs": [
    {
     "name": "stdout",
     "output_type": "stream",
     "text": [
      "Accuracy on False interactions: 0.69\n",
      "Accuracy on True interactions: 0.70\n"
     ]
    }
   ],
   "source": [
    "metadata_df['prediction'] = lr.predict(X_std)\n",
    "\n",
    "false_interactions = metadata_df[metadata_df.label==-1]\n",
    "false_accuracy = (false_interactions[false_interactions.prediction==-1].shape[0] /\n",
    "                  false_interactions.shape[0])\n",
    "\n",
    "true_interactions = metadata_df[metadata_df.label==1]\n",
    "true_accuracy = (true_interactions[true_interactions.prediction==1].shape[0] /\n",
    "                  true_interactions.shape[0])\n",
    "\n",
    "\n",
    "print('Accuracy on False interactions: {:.2f}'.format(false_accuracy))\n",
    "print('Accuracy on True interactions: {:.2f}'.format(true_accuracy))"
   ]
  },
  {
   "cell_type": "code",
   "execution_count": 157,
   "metadata": {},
   "outputs": [],
   "source": [
    "# evaluate top-100 accuracy\n",
    "metadata_df['prob'] = lr.predict_proba(X_std)[:,1]"
   ]
  },
  {
   "cell_type": "code",
   "execution_count": 158,
   "metadata": {},
   "outputs": [],
   "source": [
    "unique_cpds = metadata_df.cpd.unique()\n",
    "top_100_results = pd.Series(index=unique_cpds)\n",
    "\n",
    "for c in unique_cpds:\n",
    "    cpd_pairs = metadata_df.query('cpd == \"{}\"'.format(c)).copy()\n",
    "    sorted_cpd_pairs = cpd_pairs.sort_values(by=['prob'], ascending=False).reset_index(drop=True)\n",
    "    true_interactions = cpd_pairs.query('label == 1')\n",
    "    best_rank = true_interactions.prob.idxmax()\n",
    "    top_100_results[c] = best_rank"
   ]
  },
  {
   "cell_type": "code",
   "execution_count": 159,
   "metadata": {},
   "outputs": [
    {
     "data": {
      "text/plain": [
       "BRD-K21680192     29252.0\n",
       "BRD-K81418486      2770.0\n",
       "BRD-K94441233     29041.0\n",
       "BRD-K09638361    208175.0\n",
       "BRD-K08547377     25777.0\n",
       "BRD-K92093830    101748.0\n",
       "BRD-K92428153     15058.0\n",
       "BRD-K54233340     13213.0\n",
       "BRD-K78126613     31390.0\n",
       "BRD-A45889380    158197.0\n",
       "BRD-K27305650    141300.0\n",
       "BRD-K31342827     32458.0\n",
       "BRD-K55127134     21454.0\n",
       "BRD-K56429665     26922.0\n",
       "BRD-K50836978     56530.0\n",
       "BRD-K12994359     36367.0\n",
       "BRD-K15108141     52982.0\n",
       "BRD-K19295594     24228.0\n",
       "BRD-K52075040     32678.0\n",
       "BRD-K56343971     44252.0\n",
       "BRD-K85606544       659.0\n",
       "BRD-K88510285     25652.0\n",
       "BRD-K92241597    117953.0\n",
       "BRD-A56592690     56752.0\n",
       "BRD-K68756823     19904.0\n",
       "BRD-K93034159     52991.0\n",
       "BRD-K55696337     25799.0\n",
       "BRD-K60038276     13801.0\n",
       "BRD-K87909389       667.0\n",
       "BRD-K68202742      5922.0\n",
       "                   ...   \n",
       "BRD-K64052750       680.0\n",
       "BRD-K17953061     32489.0\n",
       "BRD-K63828191     25177.0\n",
       "BRD-K07572174     12327.0\n",
       "BRD-K75295174      7287.0\n",
       "BRD-A82371568     53012.0\n",
       "BRD-A81772229     29086.0\n",
       "BRD-K12502280     38388.0\n",
       "BRD-K13049116     23905.0\n",
       "BRD-K53414658    195584.0\n",
       "BRD-K54256913     24830.0\n",
       "BRD-K57080016     13329.0\n",
       "BRD-K64890080     58628.0\n",
       "BRD-K67844266     13402.0\n",
       "BRD-K68065987    211138.0\n",
       "BRD-K87947369      7298.0\n",
       "BRD-K12184916     69779.0\n",
       "BRD-K23363278    200704.0\n",
       "BRD-K69932463     34991.0\n",
       "BRD-K59369769      7302.0\n",
       "BRD-K77908580      2688.0\n",
       "BRD-K19540840      7517.0\n",
       "BRD-K23192422     32226.0\n",
       "BRD-K52911425     69786.0\n",
       "BRD-K64800655     42949.0\n",
       "BRD-K84937637     13272.0\n",
       "BRD-K99749624     39401.0\n",
       "BRD-K36740062     11854.0\n",
       "BRD-K68488863     39403.0\n",
       "BRD-K24576554      7525.0\n",
       "Length: 71, dtype: float64"
      ]
     },
     "execution_count": 159,
     "metadata": {},
     "output_type": "execute_result"
    }
   ],
   "source": [
    "top_100_results"
   ]
  },
  {
   "cell_type": "code",
   "execution_count": null,
   "metadata": {
    "collapsed": true
   },
   "outputs": [],
   "source": []
  }
 ],
 "metadata": {
  "kernelspec": {
   "display_name": "Python 3",
   "language": "python",
   "name": "python3"
  },
  "language_info": {
   "codemirror_mode": {
    "name": "ipython",
    "version": 3
   },
   "file_extension": ".py",
   "mimetype": "text/x-python",
   "name": "python",
   "nbconvert_exporter": "python",
   "pygments_lexer": "ipython3",
   "version": "3.6.1"
  }
 },
 "nbformat": 4,
 "nbformat_minor": 2
}
