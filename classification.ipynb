{
 "cells": [
  {
   "cell_type": "markdown",
   "metadata": {},
   "source": [
    "# Drug-target interaction prediction using direct & inderect correlation features"
   ]
  },
  {
   "cell_type": "code",
   "execution_count": 1,
   "metadata": {},
   "outputs": [],
   "source": [
    "import pandas as pd\n",
    "import numpy as np\n",
    "import scipy\n",
    "import itertools\n",
    "from support_functions import log_progress\n",
    "\n",
    "import matplotlib\n",
    "import matplotlib.pyplot as plt\n",
    "import seaborn as sns\n",
    "sns.set(color_codes=True)\n",
    "plt.rc('font', size=20)          # controls default text sizes\n",
    "plt.rc('axes', titlesize=20)     # fontsize of the axes title\n",
    "plt.rc('axes', labelsize=24)    # fontsize of the x and y labels   # fontsize of the x and y labels\n",
    "plt.rc('xtick', labelsize=14)    # fontsize of the tick labels\n",
    "plt.rc('ytick', labelsize=14)    # fontsize of the tick labels"
   ]
  },
  {
   "cell_type": "code",
   "execution_count": 2,
   "metadata": {
    "collapsed": true
   },
   "outputs": [],
   "source": [
    "# load the data\n",
    "X_std_df = pd.DataFrame.from_csv('features/X_std.csv')\n",
    "y_df = pd.DataFrame.from_csv('features/y.csv')\n",
    "metadata_df = pd.DataFrame.from_csv('features/metadata.csv')"
   ]
  },
  {
   "cell_type": "code",
   "execution_count": 3,
   "metadata": {
    "collapsed": true
   },
   "outputs": [],
   "source": [
    "# format for sklearn\n",
    "X_std = X_std_df.values\n",
    "y = y_df.label.values"
   ]
  },
  {
   "cell_type": "markdown",
   "metadata": {},
   "source": [
    "___\n",
    "# Profile of the training set\n",
    "\n",
    "- **strict reproducibility criteria** on which signatures are used\n",
    "- **4 cell lines** with the most drug-target pairs tested\n",
    "- **71 cpds** with known targets in CHEMBL or DrugBank\n",
    "- **2520 potential targets** tested in the same cells\n",
    "- **237 true interactions**\n"
   ]
  },
  {
   "cell_type": "code",
   "execution_count": 43,
   "metadata": {},
   "outputs": [
    {
     "data": {
      "image/png": "[encoded data removed]",
      "text/plain": [
       "<matplotlib.figure.Figure at 0x1107f0da0>"
      ]
     },
     "metadata": {},
     "output_type": "display_data"
    }
   ],
   "source": [
    "target_counts = metadata_df[metadata_df.label == 1].cpd.value_counts()\n",
    "sns.distplot(target_counts, kde=False)\n",
    "plt.ylabel('# cpds')\n",
    "plt.xlabel('# targets')\n",
    "plt.title('Target counts in training set')\n",
    "plt.show()"
   ]
  },
  {
   "cell_type": "markdown",
   "metadata": {},
   "source": [
    "___\n",
    "# Features\n",
    "\n",
    "**16 features** for each cpd-target pair. For each cell line: \n",
    "1. **Direct correlation** between cpd and potential target\n",
    "2. **Max indirect correlation** with known interaction partners\n",
    "3. **Min indirect correlation** with known interaction partners\n",
    "4. **Avg indirect correlation** with known interaction partners"
   ]
  },
  {
   "cell_type": "markdown",
   "metadata": {},
   "source": [
    "___\n",
    "## Logistic regression"
   ]
  },
  {
   "cell_type": "code",
   "execution_count": 5,
   "metadata": {
    "collapsed": true
   },
   "outputs": [],
   "source": [
    "from sklearn.linear_model import LogisticRegression\n",
    "LogisticRegression?"
   ]
  },
  {
   "cell_type": "code",
   "execution_count": 6,
   "metadata": {},
   "outputs": [
    {
     "data": {
      "text/plain": [
       "LogisticRegression(C=100.0, class_weight='balanced', dual=False,\n",
       "          fit_intercept=True, intercept_scaling=1, max_iter=1000,\n",
       "          multi_class='ovr', n_jobs=1, penalty='l2', random_state=1,\n",
       "          solver='newton-cg', tol=1e-07, verbose=0, warm_start=False)"
      ]
     },
     "execution_count": 6,
     "metadata": {},
     "output_type": "execute_result"
    }
   ],
   "source": [
    "lr = LogisticRegression(C=100.0, random_state=1, class_weight=\"balanced\", \n",
    "                        tol=1e-7, solver='newton-cg', max_iter=1000)\n",
    "lr.fit(X_std, y)"
   ]
  },
  {
   "cell_type": "markdown",
   "metadata": {},
   "source": [
    "### Training accuracy"
   ]
  },
  {
   "cell_type": "code",
   "execution_count": 7,
   "metadata": {},
   "outputs": [
    {
     "name": "stdout",
     "output_type": "stream",
     "text": [
      "Accuracy on False interactions: 0.69\n",
      "Accuracy on True interactions: 0.70\n"
     ]
    }
   ],
   "source": [
    "metadata_df['prediction'] = lr.predict(X_std)\n",
    "\n",
    "false_interactions = metadata_df[metadata_df.label==-1]\n",
    "false_accuracy = (false_interactions[false_interactions.prediction==-1].shape[0] /\n",
    "                  false_interactions.shape[0])\n",
    "\n",
    "true_interactions = metadata_df[metadata_df.label==1]\n",
    "true_accuracy = (true_interactions[true_interactions.prediction==1].shape[0] /\n",
    "                  true_interactions.shape[0])\n",
    "\n",
    "\n",
    "print('Accuracy on False interactions: {:.2f}'.format(false_accuracy))\n",
    "print('Accuracy on True interactions: {:.2f}'.format(true_accuracy))"
   ]
  },
  {
   "cell_type": "code",
   "execution_count": 8,
   "metadata": {
    "collapsed": true
   },
   "outputs": [],
   "source": [
    "# evaluate top-100 accuracy\n",
    "metadata_df['prob'] = lr.predict_proba(X_std)[:,1]"
   ]
  },
  {
   "cell_type": "code",
   "execution_count": 9,
   "metadata": {
    "collapsed": true
   },
   "outputs": [],
   "source": [
    "unique_cpds = metadata_df.cpd.unique()\n",
    "top_100_results = pd.DataFrame(index=unique_cpds, columns=['num_targets', 'num_targets_predicted', 'top_target_rank'])\n",
    "\n",
    "for c in unique_cpds:\n",
    "    cpd_pairs = metadata_df.query('cpd == \"{}\"'.format(c)).copy()\n",
    "    sorted_cpd_pairs = cpd_pairs.sort_values(by=['prob'], ascending=False).reset_index(drop=True)\n",
    "    \n",
    "    true_interactions = sorted_cpd_pairs.query('label == 1')\n",
    "    num_true_interactions = len(true_interactions)\n",
    "    best_rank = true_interactions.prob.idxmax()\n",
    "    \n",
    "    predicted_interactions = sorted_cpd_pairs.query('prediction == 1')\n",
    "    num_predicted_interactions = len(predicted_interactions)\n",
    "    \n",
    "    top_100_results.at[c, 'top_target_rank'] = best_rank\n",
    "    top_100_results.at[c, 'num_targets'] = num_true_interactions\n",
    "    top_100_results.at[c, 'num_targets_predicted'] = num_predicted_interactions"
   ]
  },
  {
   "cell_type": "code",
   "execution_count": 10,
   "metadata": {},
   "outputs": [
    {
     "name": "stdout",
     "output_type": "stream",
     "text": [
      "Cpds with known target in top 100 predictions: 30 (0.42)\n"
     ]
    }
   ],
   "source": [
    "num_top_100 = len(top_100_results.query('top_target_rank < 101'))\n",
    "percent_top_100 = num_top_100 / len(top_100_results)\n",
    "print('Cpds with known target in top 100 predictions: {} ({:.2f})'.format(num_top_100, percent_top_100))"
   ]
  },
  {
   "cell_type": "markdown",
   "metadata": {},
   "source": [
    "So here, our very basic logistic regression achieves top-100 accuracy of 42% for 71 compounds using data from 4 different cell lines. In comparison, LR in our LINCS manuscipt achieves top-100 accuracy of 38% for 29 compounds using data from 7 different cell lines."
   ]
  },
  {
   "cell_type": "markdown",
   "metadata": {},
   "source": [
    "___\n",
    "# Random forest classification"
   ]
  },
  {
   "cell_type": "code",
   "execution_count": 11,
   "metadata": {
    "collapsed": true
   },
   "outputs": [],
   "source": [
    "from sklearn.ensemble import RandomForestClassifier\n",
    "from sklearn.model_selection import cross_val_score"
   ]
  },
  {
   "cell_type": "code",
   "execution_count": 22,
   "metadata": {},
   "outputs": [
    {
     "data": {
      "text/plain": [
       "RandomForestClassifier(bootstrap=True, class_weight=None, criterion='gini',\n",
       "            max_depth=16, max_features='auto', max_leaf_nodes=None,\n",
       "            min_impurity_split=1e-07, min_samples_leaf=1,\n",
       "            min_samples_split=2, min_weight_fraction_leaf=0.0,\n",
       "            n_estimators=100, n_jobs=1, oob_score=False, random_state=0,\n",
       "            verbose=0, warm_start=False)"
      ]
     },
     "execution_count": 22,
     "metadata": {},
     "output_type": "execute_result"
    }
   ],
   "source": [
    "RF = RandomForestClassifier(max_depth=16, random_state=0, n_estimators=100)\n",
    "RF.fit(X_std, y)"
   ]
  },
  {
   "cell_type": "code",
   "execution_count": 13,
   "metadata": {
    "collapsed": true
   },
   "outputs": [],
   "source": [
    "# save the model which was trained on all the data\n",
    "import pickle\n",
    "filename = 'model/RF_4.sav'\n",
    "pickle.dump(RF, open(filename, 'wb'))"
   ]
  },
  {
   "cell_type": "markdown",
   "metadata": {},
   "source": [
    "### Training Accuracy"
   ]
  },
  {
   "cell_type": "code",
   "execution_count": 14,
   "metadata": {},
   "outputs": [
    {
     "name": "stdout",
     "output_type": "stream",
     "text": [
      "Accuracy on False interactions: 1.000000\n",
      "Accuracy on True interactions: 0.354430\n"
     ]
    }
   ],
   "source": [
    "metadata_df = pd.DataFrame.from_csv('features/metadata.csv')\n",
    "metadata_df['prediction'] = RF.predict(X_std)\n",
    "\n",
    "false_interactions = metadata_df[metadata_df.label==-1]\n",
    "false_accuracy = (false_interactions[false_interactions.prediction==-1].shape[0] /\n",
    "                  false_interactions.shape[0])\n",
    "\n",
    "true_interactions = metadata_df[metadata_df.label==1]\n",
    "true_accuracy = (true_interactions[true_interactions.prediction==1].shape[0] /\n",
    "                  true_interactions.shape[0])\n",
    "\n",
    "\n",
    "print('Accuracy on False interactions: {:.6f}'.format(false_accuracy))\n",
    "print('Accuracy on True interactions: {:.6f}'.format(true_accuracy))"
   ]
  },
  {
   "cell_type": "code",
   "execution_count": 15,
   "metadata": {},
   "outputs": [],
   "source": [
    "# evaluate top-100 accuracy\n",
    "metadata_df['prob'] = RF.predict_proba(X_std)[:,1]"
   ]
  },
  {
   "cell_type": "code",
   "execution_count": 16,
   "metadata": {
    "collapsed": true
   },
   "outputs": [],
   "source": [
    "unique_cpds = metadata_df.cpd.unique()\n",
    "top_100_results = pd.DataFrame(index=unique_cpds, columns=['true_targets', 'true_targets_predicted', \n",
    "                                                           'total_targets_predicted',\n",
    "                                                           'top_true_target_rank', 'top_true_target_prob'])\n",
    "\n",
    "for c in unique_cpds:\n",
    "    cpd_pairs = metadata_df.query('cpd == \"{}\"'.format(c)).copy()\n",
    "    sorted_cpd_pairs = cpd_pairs.sort_values(by=['prob'], ascending=False).reset_index(drop=True)\n",
    "    \n",
    "    true_interactions = sorted_cpd_pairs.query('label == 1')\n",
    "    num_true_interactions = len(true_interactions)\n",
    "    num_true_interactions_predicted = len(true_interactions.query('prediction == 1'))\n",
    "    best_rank = true_interactions.prob.idxmax()\n",
    "    top_prob = true_interactions.iloc[0].prob\n",
    "    \n",
    "    predicted_interactions = sorted_cpd_pairs.query('prediction == 1')\n",
    "    num_predicted_interactions = len(predicted_interactions)\n",
    "    \n",
    "    top_100_results.at[c, 'top_true_target_rank'] = best_rank\n",
    "    top_100_results.at[c, 'true_targets'] = num_true_interactions\n",
    "    top_100_results.at[c, 'total_targets_predicted'] = num_predicted_interactions\n",
    "    top_100_results.at[c, 'top_true_target_prob'] = top_prob\n",
    "    top_100_results.at[c, 'true_targets_predicted'] = num_true_interactions_predicted"
   ]
  },
  {
   "cell_type": "code",
   "execution_count": 17,
   "metadata": {},
   "outputs": [
    {
     "name": "stdout",
     "output_type": "stream",
     "text": [
      "Cpds with known target in top 100 predictions: 71 (1.00)\n"
     ]
    }
   ],
   "source": [
    "num_top_100 = len(top_100_results.query('top_true_target_rank < 101'))\n",
    "percent_top_100 = num_top_100 / len(top_100_results)\n",
    "print('Cpds with known target in top 100 predictions: {} ({:.2f})'.format(num_top_100, percent_top_100))"
   ]
  },
  {
   "cell_type": "code",
   "execution_count": 33,
   "metadata": {},
   "outputs": [
    {
     "data": {
      "image/png": "[encoded data removed]",
      "text/plain": [
       "<matplotlib.figure.Figure at 0x1127130f0>"
      ]
     },
     "metadata": {},
     "output_type": "display_data"
    }
   ],
   "source": [
    "importances = RF.feature_importances_\n",
    "std = np.std([tree.feature_importances_ for tree in RF.estimators_],\n",
    "             axis=0) # standard deviation of importances\n",
    "indices = np.argsort(importances)[::-1]\n",
    "\n",
    "# Print the feature ranking\n",
    "# print(\"Feature ranking:\")\n",
    "# for f in range(X_std.shape[1]):\n",
    "#     print(\"%d. feature %d (%f)\" % (f + 1, indices[f], importances[indices[f]]))\n",
    "\n",
    "LABELS = np.array([\"DIR_A375\", \"DIR_A549\", \"DIR_MCF7\", \"DIR_PC3\",\n",
    "          \"MAX_A375\", \"MAX_A549\", \"MAX_MCF7\", \"MAX_PC3\",\n",
    "          \"MIN_A375\", \"MIN_A549\", \"MIN_MCF7\", \"MIN_PC3\",\n",
    "          \"AVG_A375\", \"AVG_A549\", \"AVG_MCF7\", \"AVG_PC3\",\n",
    "         ])[indices]\n",
    "\n",
    "# Plot the feature importances of the forest\n",
    "plt.figure(figsize=(12,6))\n",
    "plt.title(\"Feature importances\")\n",
    "plt.bar(range(X_std.shape[1]), importances[indices],\n",
    "       color=\"r\", yerr=std[indices], align=\"center\")\n",
    "#plt.xticks(range(X_std.shape[1]), indices)\n",
    "plt.xticks(range(X_std.shape[1]), LABELS, rotation=45)\n",
    "plt.xlim([-1, X_std.shape[1]])\n",
    "plt.show()"
   ]
  },
  {
   "cell_type": "markdown",
   "metadata": {},
   "source": [
    "___\n",
    "# Cross Validation - Random Forest\n",
    "\n",
    "The training error is very low. Next we'll perform cross validation to get a sense of how well this generalizes."
   ]
  },
  {
   "cell_type": "code",
   "execution_count": 34,
   "metadata": {
    "collapsed": true
   },
   "outputs": [],
   "source": [
    "# load data\n",
    "X_std_df = pd.DataFrame.from_csv('features/X_std.csv')\n",
    "y_df = pd.DataFrame.from_csv('features/y.csv')\n",
    "metadata_df = pd.DataFrame.from_csv('features/metadata.csv')\n",
    "\n",
    "# convert to np arrays\n",
    "X_std = X_std_df.values\n",
    "y = y_df.label.values"
   ]
  },
  {
   "cell_type": "code",
   "execution_count": 40,
   "metadata": {},
   "outputs": [
    {
     "data": {
      "application/vnd.jupyter.widget-view+json": {
       "model_id": "3dc2cfcad32c4473898d21308ea9fde7"
      }
     },
     "metadata": {},
     "output_type": "display_data"
    }
   ],
   "source": [
    "# 10-fold cross validation\n",
    "from sklearn.model_selection import StratifiedKFold\n",
    "skf = StratifiedKFold(n_splits=20)\n",
    "\n",
    "# store results\n",
    "true_acc_ = []\n",
    "false_acc_ = []\n",
    "top_100_results_ = []\n",
    "\n",
    "\n",
    "for train, test in log_progress(skf.split(X_std, y), every=1):\n",
    "    X_train = X_std[train]\n",
    "    y_train = y[train]\n",
    "    X_test = X_std[test]\n",
    "    y_test = y[test]\n",
    "    test_metadata = metadata_df.iloc[test].copy()\n",
    "    \n",
    "    # train random forest, predict on test set\n",
    "    RF = RandomForestClassifier(max_depth=16, random_state=1, n_estimators=100)\n",
    "    RF.fit(X_train, y_train)\n",
    "    test_metadata['prediction'] = RF.predict(X_test)\n",
    "    test_metadata['prob'] = RF.predict_proba(X_test)[:,1]\n",
    "    \n",
    "    # test true/false accuracy\n",
    "    false_interactions = test_metadata[test_metadata.label==-1]\n",
    "    true_interactions = test_metadata[test_metadata.label==1]\n",
    "    false_accuracy = (false_interactions[false_interactions.prediction==-1].shape[0] /\n",
    "                      false_interactions.shape[0])\n",
    "    true_accuracy = (true_interactions[true_interactions.prediction==1].shape[0] /\n",
    "                      true_interactions.shape[0])\n",
    "    false_acc_.append(false_accuracy)\n",
    "    true_acc_.append(true_accuracy)\n",
    "\n",
    "    # evaluate top-100 accuracy\n",
    "    unique_cpds = test_metadata[test_metadata.label == 1].cpd.unique()\n",
    "    top_100_results = pd.DataFrame(index=unique_cpds, columns=['true_targets', 'true_targets_predicted', \n",
    "                                                               'total_targets_predicted',\n",
    "                                                               'top_true_target_rank', 'top_true_target_prob'])\n",
    "\n",
    "    for c in unique_cpds:\n",
    "        cpd_pairs = test_metadata.query('cpd == \"{}\"'.format(c)).copy()\n",
    "        sorted_cpd_pairs = cpd_pairs.sort_values(by=['prob'], ascending=False).reset_index(drop=True)\n",
    "\n",
    "        true_interactions = sorted_cpd_pairs.query('label == 1')\n",
    "        num_true_interactions = len(true_interactions)\n",
    "        num_true_interactions_predicted = len(true_interactions.query('prediction == 1'))\n",
    "        best_rank = true_interactions.prob.idxmax()\n",
    "        top_prob = true_interactions.iloc[0].prob\n",
    "\n",
    "        predicted_interactions = sorted_cpd_pairs.query('prediction == 1')\n",
    "        num_predicted_interactions = len(predicted_interactions)\n",
    "\n",
    "        top_100_results.at[c, 'top_true_target_rank'] = best_rank\n",
    "        top_100_results.at[c, 'true_targets'] = num_true_interactions\n",
    "        top_100_results.at[c, 'total_targets_predicted'] = num_predicted_interactions\n",
    "        top_100_results.at[c, 'top_true_target_prob'] = top_prob\n",
    "        top_100_results.at[c, 'true_targets_predicted'] = num_true_interactions_predicted\n",
    "    \n",
    "    top_100_results_.append(top_100_results)"
   ]
  },
  {
   "cell_type": "code",
   "execution_count": 41,
   "metadata": {},
   "outputs": [
    {
     "name": "stdout",
     "output_type": "stream",
     "text": [
      "Accuracy on True interactions:  0.0314393939394\n",
      "Accuracy on False interactions:  1.0\n"
     ]
    }
   ],
   "source": [
    "print('Accuracy on True interactions: ', np.mean(true_acc_))\n",
    "print('Accuracy on False interactions: ', np.mean(false_acc_))"
   ]
  },
  {
   "cell_type": "code",
   "execution_count": 42,
   "metadata": {},
   "outputs": [
    {
     "name": "stdout",
     "output_type": "stream",
     "text": [
      "Percent top-100:  0.96  +/-  0.06\n",
      "Percent top-50:  0.83  +/-  0.14\n",
      "Percent top-10:  0.52  +/-  0.18\n"
     ]
    }
   ],
   "source": [
    "top100 = []\n",
    "top50 = []\n",
    "top10 = []\n",
    "\n",
    "for k, result in enumerate(top_100_results_):\n",
    "    #print('Fold',k)\n",
    "    \n",
    "    num_top_100 = len(result.query('top_true_target_rank < 101'))\n",
    "    percent_top_100 = num_top_100 / len(result)\n",
    "    top100.append(percent_top_100)\n",
    "    #print('Cpds with known target in top 100 predictions: {} ({:.4f})'.format(num_top_100, percent_top_100))\n",
    "    \n",
    "    num_top_50 = len(result.query('top_true_target_rank < 51'))\n",
    "    percent_top_50 = num_top_50 / len(result)\n",
    "    top50.append(percent_top_50)\n",
    "    #print('Cpds with known target in top 50 predictions: {} ({:.4f})\\n'.format(num_top_50, percent_top_50))\n",
    "    \n",
    "    num_top_10 = len(result.query('top_true_target_rank < 11'))\n",
    "    percent_top_10 = num_top_10 / len(result)\n",
    "    top10.append(percent_top_10)\n",
    "    #print('Cpds with known target in top 50 predictions: {} ({:.4f})\\n'.format(num_top_50, percent_top_50))\n",
    "    \n",
    "print('Percent top-100:  {:.2f}  +/-  {:.2f}'.format(np.mean(top100), np.std(top100)))\n",
    "print('Percent top-50:  {:.2f}  +/-  {:.2f}'.format(np.mean(top50), np.std(top50)))\n",
    "print('Percent top-10:  {:.2f}  +/-  {:.2f}'.format(np.mean(top10), np.std(top10)))"
   ]
  },
  {
   "cell_type": "code",
   "execution_count": null,
   "metadata": {
    "collapsed": true
   },
   "outputs": [],
   "source": []
  },
  {
   "cell_type": "code",
   "execution_count": null,
   "metadata": {
    "collapsed": true
   },
   "outputs": [],
   "source": []
  },
  {
   "cell_type": "code",
   "execution_count": null,
   "metadata": {
    "collapsed": true
   },
   "outputs": [],
   "source": []
  },
  {
   "cell_type": "code",
   "execution_count": null,
   "metadata": {
    "collapsed": true
   },
   "outputs": [],
   "source": []
  }
 ],
 "metadata": {
  "kernelspec": {
   "display_name": "Python 3",
   "language": "python",
   "name": "python3"
  },
  "language_info": {
   "codemirror_mode": {
    "name": "ipython",
    "version": 3
   },
   "file_extension": ".py",
   "mimetype": "text/x-python",
   "name": "python",
   "nbconvert_exporter": "python",
   "pygments_lexer": "ipython3",
   "version": "3.6.1"
  }
 },
 "nbformat": 4,
 "nbformat_minor": 2
}
