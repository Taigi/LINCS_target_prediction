{
 "cells": [
  {
   "cell_type": "code",
   "execution_count": 1,
   "metadata": {
    "collapsed": true
   },
   "outputs": [],
   "source": [
    "import pandas as pd\n",
    "import itertools\n",
    "from support_functions import log_progress"
   ]
  },
  {
   "cell_type": "markdown",
   "metadata": {},
   "source": [
    "# Predicting drug-target interactions\n",
    "___\n",
    "## Load the data from top-4 cell lines"
   ]
  },
  {
   "cell_type": "code",
   "execution_count": 2,
   "metadata": {
    "collapsed": true
   },
   "outputs": [],
   "source": [
    "all_pair_sig_ids = pd.DataFrame.from_csv('checkpoint_files/top_4_all_pair_sig_ids.csv')\n",
    "cpd_lm_sigs = pd.DataFrame.from_csv('checkpoint_files/top_4_cpd_lm_sigs.csv')\n",
    "target_kd_lm_sigs = pd.DataFrame.from_csv('checkpoint_files/top_4_target_kd_lm_sigs.csv')"
   ]
  },
  {
   "cell_type": "code",
   "execution_count": 3,
   "metadata": {
    "collapsed": true
   },
   "outputs": [],
   "source": [
    "# combine cpd and kd sigs into one dataframe\n",
    "lm_sigs = pd.concat([cpd_lm_sigs,target_kd_lm_sigs], axis=1)"
   ]
  },
  {
   "cell_type": "markdown",
   "metadata": {},
   "source": [
    "### Compute cpd-kd pearson correlations"
   ]
  },
  {
   "cell_type": "code",
   "execution_count": 4,
   "metadata": {
    "collapsed": true
   },
   "outputs": [],
   "source": [
    "# define the pairs we'll take the correlation between\n",
    "cpd_col_names = sorted([ c for c in all_pair_sig_ids.columns if 'cpd_' in c ])\n",
    "target_col_names = sorted([ c for c in all_pair_sig_ids.columns if 'target_' in c ])\n",
    "cpd_target_cell_pairs = [ list(p) for p in zip(cpd_col_names,target_col_names) ]"
   ]
  },
  {
   "cell_type": "code",
   "execution_count": 5,
   "metadata": {
    "collapsed": true
   },
   "outputs": [],
   "source": [
    "# extract the cell lines\n",
    "cell_lines = [ c.split('_')[1] for c in cpd_col_names ]\n",
    "\n",
    "# initialize empty dataframe to store correlation values\n",
    "training_data = all_pair_sig_ids[['pert_id', 'target', 'label']].reset_index(drop=True)\n",
    "for cell in cell_lines: \n",
    "    training_data[cell] = pd.Series(0, index=training_data.index)"
   ]
  },
  {
   "cell_type": "code",
   "execution_count": 6,
   "metadata": {},
   "outputs": [
    {
     "data": {
      "application/vnd.jupyter.widget-view+json": {
       "model_id": "0616a0d503ff429fa8ed3bcbd79e9081"
      }
     },
     "metadata": {},
     "output_type": "display_data"
    }
   ],
   "source": [
    "# extract the actual signatures and compute correlations\n",
    "for index, row in log_progress(all_pair_sig_ids.iterrows(), every=1):\n",
    "    for pair in cpd_target_cell_pairs:\n",
    "        cell_line = pair[0].split('_')[1]\n",
    "        [sig_id_1, sig_id_2] = row[pair].values\n",
    "        corr = lm_sigs[sig_id_1].corr(lm_sigs[sig_id_2])\n",
    "        training_data.loc[index, cell_line] = corr"
   ]
  },
  {
   "cell_type": "code",
   "execution_count": 7,
   "metadata": {
    "collapsed": true
   },
   "outputs": [],
   "source": [
    "training_data.to_csv('checkpoint_files/top_4_correlation_training_data.csv')"
   ]
  },
  {
   "cell_type": "code",
   "execution_count": 8,
   "metadata": {},
   "outputs": [
    {
     "data": {
      "text/html": [
       "<div>\n",
       "<style>\n",
       "    .dataframe thead tr:only-child th {\n",
       "        text-align: right;\n",
       "    }\n",
       "\n",
       "    .dataframe thead th {\n",
       "        text-align: left;\n",
       "    }\n",
       "\n",
       "    .dataframe tbody tr th {\n",
       "        vertical-align: top;\n",
       "    }\n",
       "</style>\n",
       "<table border=\"1\" class=\"dataframe\">\n",
       "  <thead>\n",
       "    <tr style=\"text-align: right;\">\n",
       "      <th></th>\n",
       "      <th>pert_id</th>\n",
       "      <th>target</th>\n",
       "      <th>label</th>\n",
       "      <th>A375</th>\n",
       "      <th>A549</th>\n",
       "      <th>MCF7</th>\n",
       "      <th>PC3</th>\n",
       "    </tr>\n",
       "  </thead>\n",
       "  <tbody>\n",
       "    <tr>\n",
       "      <th>7153</th>\n",
       "      <td>BRD-K07572174</td>\n",
       "      <td>PSMB8</td>\n",
       "      <td>-1.0</td>\n",
       "      <td>0.026937</td>\n",
       "      <td>0.411298</td>\n",
       "      <td>0.192492</td>\n",
       "      <td>0.063277</td>\n",
       "    </tr>\n",
       "    <tr>\n",
       "      <th>2521</th>\n",
       "      <td>BRD-K50836978</td>\n",
       "      <td>PDGFRA</td>\n",
       "      <td>-1.0</td>\n",
       "      <td>0.136004</td>\n",
       "      <td>0.123435</td>\n",
       "      <td>0.136657</td>\n",
       "      <td>0.184201</td>\n",
       "    </tr>\n",
       "    <tr>\n",
       "      <th>8016</th>\n",
       "      <td>BRD-K53414658</td>\n",
       "      <td>TXNRD1</td>\n",
       "      <td>-1.0</td>\n",
       "      <td>0.334166</td>\n",
       "      <td>0.133377</td>\n",
       "      <td>-0.044792</td>\n",
       "      <td>-0.151702</td>\n",
       "    </tr>\n",
       "    <tr>\n",
       "      <th>3406</th>\n",
       "      <td>BRD-K85606544</td>\n",
       "      <td>TXNRD1</td>\n",
       "      <td>-1.0</td>\n",
       "      <td>0.144653</td>\n",
       "      <td>0.088307</td>\n",
       "      <td>0.149488</td>\n",
       "      <td>-0.153384</td>\n",
       "    </tr>\n",
       "    <tr>\n",
       "      <th>7285</th>\n",
       "      <td>BRD-K75295174</td>\n",
       "      <td>JAK2</td>\n",
       "      <td>-1.0</td>\n",
       "      <td>0.038793</td>\n",
       "      <td>0.020993</td>\n",
       "      <td>-0.067938</td>\n",
       "      <td>0.112787</td>\n",
       "    </tr>\n",
       "    <tr>\n",
       "      <th>8640</th>\n",
       "      <td>BRD-K67844266</td>\n",
       "      <td>LTA4H</td>\n",
       "      <td>-1.0</td>\n",
       "      <td>-0.221447</td>\n",
       "      <td>-0.052077</td>\n",
       "      <td>0.206822</td>\n",
       "      <td>0.218072</td>\n",
       "    </tr>\n",
       "    <tr>\n",
       "      <th>8707</th>\n",
       "      <td>BRD-K67844266</td>\n",
       "      <td>IGF1R</td>\n",
       "      <td>-1.0</td>\n",
       "      <td>0.329923</td>\n",
       "      <td>0.059508</td>\n",
       "      <td>0.216304</td>\n",
       "      <td>0.098352</td>\n",
       "    </tr>\n",
       "    <tr>\n",
       "      <th>131</th>\n",
       "      <td>BRD-K07572174</td>\n",
       "      <td>ABCC5</td>\n",
       "      <td>1.0</td>\n",
       "      <td>0.204857</td>\n",
       "      <td>0.207595</td>\n",
       "      <td>0.098760</td>\n",
       "      <td>-0.019937</td>\n",
       "    </tr>\n",
       "    <tr>\n",
       "      <th>10493</th>\n",
       "      <td>BRD-K84937637</td>\n",
       "      <td>JUN</td>\n",
       "      <td>-1.0</td>\n",
       "      <td>0.263447</td>\n",
       "      <td>0.303619</td>\n",
       "      <td>0.102726</td>\n",
       "      <td>0.097837</td>\n",
       "    </tr>\n",
       "    <tr>\n",
       "      <th>10607</th>\n",
       "      <td>BRD-K99749624</td>\n",
       "      <td>HDAC2</td>\n",
       "      <td>-1.0</td>\n",
       "      <td>-0.013156</td>\n",
       "      <td>0.084224</td>\n",
       "      <td>0.059482</td>\n",
       "      <td>0.051612</td>\n",
       "    </tr>\n",
       "  </tbody>\n",
       "</table>\n",
       "</div>"
      ],
      "text/plain": [
       "             pert_id  target  label      A375      A549      MCF7       PC3\n",
       "7153   BRD-K07572174   PSMB8   -1.0  0.026937  0.411298  0.192492  0.063277\n",
       "2521   BRD-K50836978  PDGFRA   -1.0  0.136004  0.123435  0.136657  0.184201\n",
       "8016   BRD-K53414658  TXNRD1   -1.0  0.334166  0.133377 -0.044792 -0.151702\n",
       "3406   BRD-K85606544  TXNRD1   -1.0  0.144653  0.088307  0.149488 -0.153384\n",
       "7285   BRD-K75295174    JAK2   -1.0  0.038793  0.020993 -0.067938  0.112787\n",
       "8640   BRD-K67844266   LTA4H   -1.0 -0.221447 -0.052077  0.206822  0.218072\n",
       "8707   BRD-K67844266   IGF1R   -1.0  0.329923  0.059508  0.216304  0.098352\n",
       "131    BRD-K07572174   ABCC5    1.0  0.204857  0.207595  0.098760 -0.019937\n",
       "10493  BRD-K84937637     JUN   -1.0  0.263447  0.303619  0.102726  0.097837\n",
       "10607  BRD-K99749624   HDAC2   -1.0 -0.013156  0.084224  0.059482  0.051612"
      ]
     },
     "execution_count": 8,
     "metadata": {},
     "output_type": "execute_result"
    }
   ],
   "source": [
    "training_data.sample(n=10)"
   ]
  },
  {
   "cell_type": "code",
   "execution_count": null,
   "metadata": {
    "collapsed": true
   },
   "outputs": [],
   "source": []
  }
 ],
 "metadata": {
  "kernelspec": {
   "display_name": "Python 3",
   "language": "python",
   "name": "python3"
  },
  "language_info": {
   "codemirror_mode": {
    "name": "ipython",
    "version": 3
   },
   "file_extension": ".py",
   "mimetype": "text/x-python",
   "name": "python",
   "nbconvert_exporter": "python",
   "pygments_lexer": "ipython3",
   "version": "3.6.1"
  }
 },
 "nbformat": 4,
 "nbformat_minor": 2
}
