{
 "cells": [
  {
   "cell_type": "code",
   "execution_count": 8,
   "metadata": {
    "collapsed": true
   },
   "outputs": [],
   "source": [
    "import pandas as pd\n",
    "import itertools\n",
    "from support_functions import log_progress"
   ]
  },
  {
   "cell_type": "markdown",
   "metadata": {},
   "source": [
    "# Predicting drug-target interactions\n",
    "___\n",
    "## Load the data from top-4 cell lines"
   ]
  },
  {
   "cell_type": "code",
   "execution_count": 9,
   "metadata": {
    "collapsed": true
   },
   "outputs": [],
   "source": [
    "all_pair_sig_ids = pd.DataFrame.from_csv('checkpoint_files/top_4_all_pair_sig_ids.csv')\n",
    "cpd_lm_sigs = pd.DataFrame.from_csv('checkpoint_files/top_4_cpd_lm_sigs.csv')\n",
    "target_kd_lm_sigs = pd.DataFrame.from_csv('checkpoint_files/top_4_target_kd_lm_sigs.csv')"
   ]
  },
  {
   "cell_type": "code",
   "execution_count": 10,
   "metadata": {
    "collapsed": true
   },
   "outputs": [],
   "source": [
    "# combine cpd and kd sigs into one dataframe\n",
    "lm_sigs = pd.concat([cpd_lm_sigs,target_kd_lm_sigs], axis=1)"
   ]
  },
  {
   "cell_type": "markdown",
   "metadata": {},
   "source": [
    "### Compute cpd-kd pearson correlations"
   ]
  },
  {
   "cell_type": "code",
   "execution_count": 11,
   "metadata": {
    "collapsed": true
   },
   "outputs": [],
   "source": [
    "# define the pairs we'll take the correlation between\n",
    "cpd_col_names = sorted([ c for c in all_pair_sig_ids.columns if 'cpd_' in c ])\n",
    "target_col_names = sorted([ c for c in all_pair_sig_ids.columns if 'target_' in c ])\n",
    "cpd_target_cell_pairs = [ list(p) for p in zip(cpd_col_names,target_col_names) ]"
   ]
  },
  {
   "cell_type": "code",
   "execution_count": 12,
   "metadata": {
    "collapsed": true
   },
   "outputs": [],
   "source": [
    "# extract the cell lines\n",
    "cell_lines = [ c.split('_')[1] for c in cpd_col_names ]\n",
    "\n",
    "# initialize empty dataframe to store correlation values\n",
    "training_data = all_pair_sig_ids[['pert_id', 'target', 'label']].reset_index(drop=True)\n",
    "for cell in cell_lines: \n",
    "    training_data[cell] = pd.Series(0, index=training_data.index)"
   ]
  },
  {
   "cell_type": "code",
   "execution_count": 13,
   "metadata": {},
   "outputs": [
    {
     "data": {
      "application/vnd.jupyter.widget-view+json": {
       "model_id": "ac07db5ec0e4464fb4ead86bd99493a3"
      }
     },
     "metadata": {},
     "output_type": "display_data"
    }
   ],
   "source": [
    "# extract the actual signatures and compute correlations\n",
    "for index, row in log_progress(all_pair_sig_ids.iterrows(), every=1):\n",
    "    for pair in cpd_target_cell_pairs:\n",
    "        cell_line = pair[0].split('_')[1]\n",
    "        [sig_id_1, sig_id_2] = row[pair].values\n",
    "        corr = lm_sigs[sig_id_1].corr(lm_sigs[sig_id_2])\n",
    "        training_data.loc[index, cell_line] = corr"
   ]
  },
  {
   "cell_type": "code",
   "execution_count": 16,
   "metadata": {
    "collapsed": true
   },
   "outputs": [],
   "source": [
    "training_data.to_csv('checkpoint_files/top_4_correlation_training_data.csv')"
   ]
  },
  {
   "cell_type": "code",
   "execution_count": 18,
   "metadata": {},
   "outputs": [
    {
     "data": {
      "text/html": [
       "<div>\n",
       "<style>\n",
       "    .dataframe thead tr:only-child th {\n",
       "        text-align: right;\n",
       "    }\n",
       "\n",
       "    .dataframe thead th {\n",
       "        text-align: left;\n",
       "    }\n",
       "\n",
       "    .dataframe tbody tr th {\n",
       "        vertical-align: top;\n",
       "    }\n",
       "</style>\n",
       "<table border=\"1\" class=\"dataframe\">\n",
       "  <thead>\n",
       "    <tr style=\"text-align: right;\">\n",
       "      <th></th>\n",
       "      <th>pert_id</th>\n",
       "      <th>target</th>\n",
       "      <th>label</th>\n",
       "      <th>A375</th>\n",
       "      <th>A549</th>\n",
       "      <th>MCF7</th>\n",
       "      <th>PC3</th>\n",
       "    </tr>\n",
       "  </thead>\n",
       "  <tbody>\n",
       "    <tr>\n",
       "      <th>8512</th>\n",
       "      <td>BRD-K64890080</td>\n",
       "      <td>EPHA2</td>\n",
       "      <td>-1</td>\n",
       "      <td>-0.042758</td>\n",
       "      <td>-0.101152</td>\n",
       "      <td>0.165243</td>\n",
       "      <td>0.051858</td>\n",
       "    </tr>\n",
       "    <tr>\n",
       "      <th>4897</th>\n",
       "      <td>BRD-K68202742</td>\n",
       "      <td>JAK3</td>\n",
       "      <td>-1</td>\n",
       "      <td>0.165038</td>\n",
       "      <td>0.027302</td>\n",
       "      <td>0.079603</td>\n",
       "      <td>-0.031070</td>\n",
       "    </tr>\n",
       "    <tr>\n",
       "      <th>6729</th>\n",
       "      <td>BRD-K64052750</td>\n",
       "      <td>HDAC4</td>\n",
       "      <td>-1</td>\n",
       "      <td>-0.005062</td>\n",
       "      <td>-0.026603</td>\n",
       "      <td>-0.085391</td>\n",
       "      <td>-0.229337</td>\n",
       "    </tr>\n",
       "    <tr>\n",
       "      <th>9080</th>\n",
       "      <td>BRD-K12184916</td>\n",
       "      <td>IMPDH1</td>\n",
       "      <td>-1</td>\n",
       "      <td>-0.027646</td>\n",
       "      <td>-0.094541</td>\n",
       "      <td>0.013940</td>\n",
       "      <td>0.066537</td>\n",
       "    </tr>\n",
       "    <tr>\n",
       "      <th>10676</th>\n",
       "      <td>BRD-K99749624</td>\n",
       "      <td>EPHB4</td>\n",
       "      <td>-1</td>\n",
       "      <td>0.136830</td>\n",
       "      <td>0.023258</td>\n",
       "      <td>0.261020</td>\n",
       "      <td>0.098326</td>\n",
       "    </tr>\n",
       "    <tr>\n",
       "      <th>858</th>\n",
       "      <td>BRD-K09638361</td>\n",
       "      <td>HDAC4</td>\n",
       "      <td>-1</td>\n",
       "      <td>-0.130681</td>\n",
       "      <td>-0.017994</td>\n",
       "      <td>0.156870</td>\n",
       "      <td>0.232870</td>\n",
       "    </tr>\n",
       "    <tr>\n",
       "      <th>5307</th>\n",
       "      <td>BRD-K49328571</td>\n",
       "      <td>PSMB7</td>\n",
       "      <td>-1</td>\n",
       "      <td>0.101953</td>\n",
       "      <td>0.069006</td>\n",
       "      <td>0.103936</td>\n",
       "      <td>0.164845</td>\n",
       "    </tr>\n",
       "    <tr>\n",
       "      <th>9615</th>\n",
       "      <td>BRD-K59369769</td>\n",
       "      <td>ERBB4</td>\n",
       "      <td>-1</td>\n",
       "      <td>-0.103797</td>\n",
       "      <td>-0.280984</td>\n",
       "      <td>0.220235</td>\n",
       "      <td>-0.004970</td>\n",
       "    </tr>\n",
       "    <tr>\n",
       "      <th>3186</th>\n",
       "      <td>BRD-K52075040</td>\n",
       "      <td>METAP2</td>\n",
       "      <td>-1</td>\n",
       "      <td>0.322087</td>\n",
       "      <td>0.032957</td>\n",
       "      <td>-0.010839</td>\n",
       "      <td>-0.195411</td>\n",
       "    </tr>\n",
       "    <tr>\n",
       "      <th>9451</th>\n",
       "      <td>BRD-K69932463</td>\n",
       "      <td>CSK</td>\n",
       "      <td>-1</td>\n",
       "      <td>-0.107757</td>\n",
       "      <td>0.000891</td>\n",
       "      <td>-0.091516</td>\n",
       "      <td>0.147530</td>\n",
       "    </tr>\n",
       "  </tbody>\n",
       "</table>\n",
       "</div>"
      ],
      "text/plain": [
       "             pert_id  target  label      A375      A549      MCF7       PC3\n",
       "8512   BRD-K64890080   EPHA2     -1 -0.042758 -0.101152  0.165243  0.051858\n",
       "4897   BRD-K68202742    JAK3     -1  0.165038  0.027302  0.079603 -0.031070\n",
       "6729   BRD-K64052750   HDAC4     -1 -0.005062 -0.026603 -0.085391 -0.229337\n",
       "9080   BRD-K12184916  IMPDH1     -1 -0.027646 -0.094541  0.013940  0.066537\n",
       "10676  BRD-K99749624   EPHB4     -1  0.136830  0.023258  0.261020  0.098326\n",
       "858    BRD-K09638361   HDAC4     -1 -0.130681 -0.017994  0.156870  0.232870\n",
       "5307   BRD-K49328571   PSMB7     -1  0.101953  0.069006  0.103936  0.164845\n",
       "9615   BRD-K59369769   ERBB4     -1 -0.103797 -0.280984  0.220235 -0.004970\n",
       "3186   BRD-K52075040  METAP2     -1  0.322087  0.032957 -0.010839 -0.195411\n",
       "9451   BRD-K69932463     CSK     -1 -0.107757  0.000891 -0.091516  0.147530"
      ]
     },
     "execution_count": 18,
     "metadata": {},
     "output_type": "execute_result"
    }
   ],
   "source": [
    "training_data.sample(n=10)"
   ]
  },
  {
   "cell_type": "code",
   "execution_count": null,
   "metadata": {
    "collapsed": true
   },
   "outputs": [],
   "source": []
  }
 ],
 "metadata": {
  "kernelspec": {
   "display_name": "Python 3",
   "language": "python",
   "name": "python3"
  },
  "language_info": {
   "codemirror_mode": {
    "name": "ipython",
    "version": 3
   },
   "file_extension": ".py",
   "mimetype": "text/x-python",
   "name": "python",
   "nbconvert_exporter": "python",
   "pygments_lexer": "ipython3",
   "version": "3.6.1"
  }
 },
 "nbformat": 4,
 "nbformat_minor": 2
}
