{
 "cells": [
  {
   "cell_type": "code",
   "execution_count": 2,
   "metadata": {
    "collapsed": true
   },
   "outputs": [],
   "source": [
    "import pandas as pd\n",
    "from support_functions import log_progress\n",
    "import pickle\n",
    "import numpy as np\n",
    "pd.options.display.float_format = '{:.2f}'.format\n",
    "import matplotlib.pyplot as plt\n",
    "import seaborn as sns\n",
    "sns.set(style=\"ticks\")"
   ]
  },
  {
   "cell_type": "code",
   "execution_count": 3,
   "metadata": {
    "collapsed": true
   },
   "outputs": [],
   "source": [
    "# Visualization Parameters\n",
    "SMALL_SIZE = 14\n",
    "MEDIUM_SIZE = 16\n",
    "BIGGER_SIZE = 18\n",
    "\n",
    "plt.rc('font', size=BIGGER_SIZE)          # controls default text sizes\n",
    "plt.rc('axes', titlesize=SMALL_SIZE)     # fontsize of the axes title\n",
    "plt.rc('axes', labelsize=MEDIUM_SIZE)    # fontsize of the x and y labels\n",
    "plt.rc('xtick', labelsize=SMALL_SIZE)    # fontsize of the tick labels\n",
    "plt.rc('ytick', labelsize=SMALL_SIZE)    # fontsize of the tick labels\n",
    "plt.rc('legend', fontsize=SMALL_SIZE)    # legend fontsize\n",
    "plt.rc('figure', titlesize=BIGGER_SIZE)  # fontsize of the figure title"
   ]
  },
  {
   "cell_type": "code",
   "execution_count": 4,
   "metadata": {},
   "outputs": [
    {
     "name": "stdout",
     "output_type": "stream",
     "text": [
      "loocv_results_min4_tree100_depth12_balanced.csv\r\n",
      "loocv_results_model_1_min3_tree100_depth12_balanced.csv\r\n",
      "loocv_results_model_2_min3_tree200_nodepth_balanced.csv\r\n",
      "loocv_results_model_3_min3_tree300_depth12_balanced.csv\r\n",
      "model_1_ALL_results.png\r\n",
      "model_1_TOP_results.png\r\n",
      "model_2_ALL_results.png\r\n",
      "model_2_TOP_results.png\r\n",
      "model_3_ALL_results.png\r\n",
      "model_3_TOP_results.png\r\n"
     ]
    }
   ],
   "source": [
    "ls results"
   ]
  },
  {
   "cell_type": "code",
   "execution_count": 5,
   "metadata": {},
   "outputs": [
    {
     "name": "stdout",
     "output_type": "stream",
     "text": [
      "Number cpds tested:  1\n"
     ]
    }
   ],
   "source": [
    "model_no = 5\n",
    "\n",
    "# Load LOOCV results\n",
    "loocv_result_df = pd.DataFrame.from_csv('results/loocv_results_min4_tree100_depth12_balanced.csv')\n",
    "print('Number cpds tested: ', len(loocv_result_df.cpd.unique()))\n",
    "\n",
    "# Count number of cells tested \n",
    "cells_subdf = loocv_result_df[['PC3','MCF7','HCC515','VCAP','HEPG2','A549','HA1E']]\n",
    "loocv_result_df['n_cells'] = np.count_nonzero(cells_subdf, axis=1)\n",
    "\n",
    "# Calculate percentiles\n",
    "loocv_result_df['percentile'] = loocv_result_df['rank'] / loocv_result_df['n_potential_targets']"
   ]
  },
  {
   "cell_type": "code",
   "execution_count": 6,
   "metadata": {
    "collapsed": true
   },
   "outputs": [],
   "source": [
    "# Refine results to best ranking for each cpd\n",
    "loocv_top_result_df = pd.DataFrame(columns = loocv_result_df.columns)\n",
    "for cpd in loocv_result_df.cpd.unique():\n",
    "    cpd_results = loocv_result_df[loocv_result_df.cpd == cpd].sort_values('rank')\n",
    "    top_result = cpd_results.iloc[0]\n",
    "    loocv_top_result_df = loocv_top_result_df.append(top_result)"
   ]
  },
  {
   "cell_type": "code",
   "execution_count": 7,
   "metadata": {
    "collapsed": true
   },
   "outputs": [],
   "source": [
    "# Reorder columns\n",
    "cols = ['cpd',\n",
    "        'kd',\n",
    "        'label',\n",
    "        'proba',\n",
    "        'rank',\n",
    "        'n_potential_targets',\n",
    "        'percentile',\n",
    "        'n_cells',\n",
    "        'PC3',\n",
    "        'MCF7',\n",
    "        'HCC515',\n",
    "        'VCAP',\n",
    "        'HEPG2',\n",
    "        'A549',\n",
    "        'HA1E',]\n",
    "loocv_top_result_df = loocv_top_result_df[cols]"
   ]
  },
  {
   "cell_type": "code",
   "execution_count": 10,
   "metadata": {},
   "outputs": [
    {
     "data": {
      "text/html": [
       "<div>\n",
       "<style>\n",
       "    .dataframe thead tr:only-child th {\n",
       "        text-align: right;\n",
       "    }\n",
       "\n",
       "    .dataframe thead th {\n",
       "        text-align: left;\n",
       "    }\n",
       "\n",
       "    .dataframe tbody tr th {\n",
       "        vertical-align: top;\n",
       "    }\n",
       "</style>\n",
       "<table border=\"1\" class=\"dataframe\">\n",
       "  <thead>\n",
       "    <tr style=\"text-align: right;\">\n",
       "      <th></th>\n",
       "      <th>cpd</th>\n",
       "      <th>kd</th>\n",
       "      <th>label</th>\n",
       "      <th>n_cells</th>\n",
       "      <th>proba</th>\n",
       "      <th>rank</th>\n",
       "      <th>n_potential_targets</th>\n",
       "      <th>PC3</th>\n",
       "      <th>MCF7</th>\n",
       "      <th>HCC515</th>\n",
       "      <th>VCAP</th>\n",
       "      <th>HEPG2</th>\n",
       "      <th>A549</th>\n",
       "      <th>HA1E</th>\n",
       "      <th>percentile</th>\n",
       "    </tr>\n",
       "  </thead>\n",
       "  <tbody>\n",
       "    <tr>\n",
       "      <th>13202</th>\n",
       "      <td>BRD-K71879491</td>\n",
       "      <td>RARA</td>\n",
       "      <td>1</td>\n",
       "      <td>4</td>\n",
       "      <td>0.00</td>\n",
       "      <td>1690.50</td>\n",
       "      <td>2166</td>\n",
       "      <td>True</td>\n",
       "      <td>True</td>\n",
       "      <td>False</td>\n",
       "      <td>True</td>\n",
       "      <td>False</td>\n",
       "      <td>True</td>\n",
       "      <td>False</td>\n",
       "      <td>0.78</td>\n",
       "    </tr>\n",
       "    <tr>\n",
       "      <th>13290</th>\n",
       "      <td>BRD-K71879491</td>\n",
       "      <td>RXRA</td>\n",
       "      <td>1</td>\n",
       "      <td>3</td>\n",
       "      <td>0.08</td>\n",
       "      <td>260.00</td>\n",
       "      <td>2166</td>\n",
       "      <td>True</td>\n",
       "      <td>True</td>\n",
       "      <td>False</td>\n",
       "      <td>False</td>\n",
       "      <td>False</td>\n",
       "      <td>True</td>\n",
       "      <td>False</td>\n",
       "      <td>0.12</td>\n",
       "    </tr>\n",
       "  </tbody>\n",
       "</table>\n",
       "</div>"
      ],
      "text/plain": [
       "                 cpd    kd  label  n_cells  proba    rank  \\\n",
       "13202  BRD-K71879491  RARA      1        4   0.00 1690.50   \n",
       "13290  BRD-K71879491  RXRA      1        3   0.08  260.00   \n",
       "\n",
       "       n_potential_targets   PC3  MCF7  HCC515   VCAP  HEPG2  A549   HA1E  \\\n",
       "13202                 2166  True  True   False   True  False  True  False   \n",
       "13290                 2166  True  True   False  False  False  True  False   \n",
       "\n",
       "       percentile  \n",
       "13202        0.78  \n",
       "13290        0.12  "
      ]
     },
     "execution_count": 10,
     "metadata": {},
     "output_type": "execute_result"
    }
   ],
   "source": [
    "loocv_result_df"
   ]
  },
  {
   "cell_type": "code",
   "execution_count": 12,
   "metadata": {},
   "outputs": [
    {
     "data": {
      "image/png": "[encoded data removed]",
      "text/plain": [
       "<matplotlib.figure.Figure at 0x10fe13780>"
      ]
     },
     "metadata": {},
     "output_type": "display_data"
    }
   ],
   "source": [
    "loocv_top_result_df['rank'].hist()\n",
    "plt.show()"
   ]
  },
  {
   "cell_type": "code",
   "execution_count": 81,
   "metadata": {},
   "outputs": [
    {
     "data": {
      "image/png": "[encoded data removed]",
      "text/plain": [
       "<matplotlib.figure.Figure at 0x11751f198>"
      ]
     },
     "metadata": {},
     "output_type": "display_data"
    }
   ],
   "source": [
    "# Draw a boxplot to show rank by # cell lines tested\n",
    "fig = plt.figure(figsize=(12,8))\n",
    "sns.boxplot(x=loocv_result_df.n_cells.values, \n",
    "            y=loocv_result_df.percentile.values,)\n",
    "plt.title(\"Model {} ALL Results\".format(model_no))\n",
    "plt.xlabel(\"number of cells tested\")\n",
    "plt.ylabel(\"percentile ranking of known target\")\n",
    "plt.show()\n",
    "fig.savefig('results/model_{}_ALL_results'.format(model_no))"
   ]
  },
  {
   "cell_type": "code",
   "execution_count": 82,
   "metadata": {},
   "outputs": [
    {
     "data": {
      "image/png": "[encoded data removed]",
      "text/plain": [
       "<matplotlib.figure.Figure at 0x10b7d9630>"
      ]
     },
     "metadata": {},
     "output_type": "display_data"
    }
   ],
   "source": [
    "# Draw a boxplot to show rank by # cell lines tested\n",
    "fig = plt.figure(figsize=(12,8))\n",
    "sns.boxplot(x=loocv_top_result_df.n_cells.values, \n",
    "            y=loocv_top_result_df.percentile.values,)\n",
    "plt.title(\"Model {} TOP Results\".format(model_no))\n",
    "plt.xlabel(\"number of cells tested\")\n",
    "plt.ylabel(\"percentile ranking of known target\")\n",
    "plt.show()\n",
    "fig.savefig('results/model_{}_TOP_results'.format(model_no))"
   ]
  },
  {
   "cell_type": "code",
   "execution_count": 83,
   "metadata": {},
   "outputs": [
    {
     "name": "stdout",
     "output_type": "stream",
     "text": [
      "Percent Top-100:\t 0.23626373626373626\n",
      "Percent Top Quantile:\t 0.45604395604395603\n"
     ]
    }
   ],
   "source": [
    "pct_top_100 = np.count_nonzero(loocv_top_result_df['rank'] <= 100) / len(loocv_top_result_df)\n",
    "pct_top_10_pct = np.count_nonzero(loocv_top_result_df['percentile'] <= 0.1) / len(loocv_top_result_df)\n",
    "print('Percent Top-100:\\t', pct_top_100)\n",
    "print('Percent Top Quantile:\\t', pct_top_10_pct)"
   ]
  },
  {
   "cell_type": "code",
   "execution_count": 84,
   "metadata": {},
   "outputs": [
    {
     "data": {
      "text/html": [
       "<div>\n",
       "<style>\n",
       "    .dataframe thead tr:only-child th {\n",
       "        text-align: right;\n",
       "    }\n",
       "\n",
       "    .dataframe thead th {\n",
       "        text-align: left;\n",
       "    }\n",
       "\n",
       "    .dataframe tbody tr th {\n",
       "        vertical-align: top;\n",
       "    }\n",
       "</style>\n",
       "<table border=\"1\" class=\"dataframe\">\n",
       "  <thead>\n",
       "    <tr style=\"text-align: right;\">\n",
       "      <th></th>\n",
       "      <th>n_cells</th>\n",
       "      <th>n_cpds</th>\n",
       "      <th>top_100</th>\n",
       "      <th>top_10_percent</th>\n",
       "    </tr>\n",
       "  </thead>\n",
       "  <tbody>\n",
       "    <tr>\n",
       "      <th>0</th>\n",
       "      <td>3.00</td>\n",
       "      <td>59.00</td>\n",
       "      <td>0.24</td>\n",
       "      <td>0.41</td>\n",
       "    </tr>\n",
       "    <tr>\n",
       "      <th>1</th>\n",
       "      <td>4.00</td>\n",
       "      <td>42.00</td>\n",
       "      <td>0.26</td>\n",
       "      <td>0.38</td>\n",
       "    </tr>\n",
       "    <tr>\n",
       "      <th>4</th>\n",
       "      <td>5.00</td>\n",
       "      <td>35.00</td>\n",
       "      <td>0.14</td>\n",
       "      <td>0.31</td>\n",
       "    </tr>\n",
       "    <tr>\n",
       "      <th>2</th>\n",
       "      <td>6.00</td>\n",
       "      <td>31.00</td>\n",
       "      <td>0.29</td>\n",
       "      <td>0.61</td>\n",
       "    </tr>\n",
       "    <tr>\n",
       "      <th>3</th>\n",
       "      <td>7.00</td>\n",
       "      <td>15.00</td>\n",
       "      <td>0.27</td>\n",
       "      <td>0.87</td>\n",
       "    </tr>\n",
       "  </tbody>\n",
       "</table>\n",
       "</div>"
      ],
      "text/plain": [
       "   n_cells  n_cpds  top_100  top_10_percent\n",
       "0     3.00   59.00     0.24            0.41\n",
       "1     4.00   42.00     0.26            0.38\n",
       "4     5.00   35.00     0.14            0.31\n",
       "2     6.00   31.00     0.29            0.61\n",
       "3     7.00   15.00     0.27            0.87"
      ]
     },
     "execution_count": 84,
     "metadata": {},
     "output_type": "execute_result"
    }
   ],
   "source": [
    "# create a table to display top-100 accuracy as a function of cell line\n",
    "cell_based_results = pd.DataFrame(columns=['n_cells','n_cpds','top_100','top_10_percent'])\n",
    "for nc in loocv_top_result_df.n_cells.unique():\n",
    "    cpds = loocv_top_result_df[loocv_top_result_df.n_cells == nc]\n",
    "    pct_top_100 = np.count_nonzero(cpds['rank'] <= 100) / len(cpds)\n",
    "    pct_top_10_pct = np.count_nonzero(cpds['percentile'] <= 0.1) / len(cpds)\n",
    "    row = {'n_cells': nc, 'n_cpds': len(cpds), 'top_100': pct_top_100, 'top_10_percent': pct_top_10_pct}\n",
    "    cell_based_results = cell_based_results.append(row, ignore_index=True)\n",
    "cell_based_results.sort_values('n_cells')"
   ]
  },
  {
   "cell_type": "code",
   "execution_count": null,
   "metadata": {
    "collapsed": true
   },
   "outputs": [],
   "source": []
  },
  {
   "cell_type": "code",
   "execution_count": null,
   "metadata": {
    "collapsed": true
   },
   "outputs": [],
   "source": []
  }
 ],
 "metadata": {
  "kernelspec": {
   "display_name": "Python 3",
   "language": "python",
   "name": "python3"
  },
  "language_info": {
   "codemirror_mode": {
    "name": "ipython",
    "version": 3
   },
   "file_extension": ".py",
   "mimetype": "text/x-python",
   "name": "python",
   "nbconvert_exporter": "python",
   "pygments_lexer": "ipython3",
   "version": "3.6.1"
  }
 },
 "nbformat": 4,
 "nbformat_minor": 2
}
