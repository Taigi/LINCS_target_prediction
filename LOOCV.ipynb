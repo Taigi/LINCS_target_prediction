{
 "cells": [
  {
   "cell_type": "markdown",
   "metadata": {
    "collapsed": true
   },
   "source": [
    "# Leave-One-Out Cross Validation\n",
    "\n",
    "We'll perform LOOCV using our modified LINCS Random Forest implementation and test the model's accuracy on each compounds after training on the remaining compounds. \n"
   ]
  },
  {
   "cell_type": "code",
   "execution_count": 4,
   "metadata": {
    "collapsed": true
   },
   "outputs": [],
   "source": [
    "import pandas as pd\n",
    "import numpy as np\n",
    "import itertools\n",
    "from sklearn.ensemble import RandomForestClassifier\n",
    "from support_functions import log_progress"
   ]
  },
  {
   "cell_type": "markdown",
   "metadata": {},
   "source": [
    "## Load training and validation data"
   ]
  },
  {
   "cell_type": "code",
   "execution_count": 33,
   "metadata": {},
   "outputs": [
    {
     "data": {
      "application/vnd.jupyter.widget-view+json": {
       "model_id": "525063dedd8e4398a117ff7430a46254"
      }
     },
     "metadata": {},
     "output_type": "display_data"
    }
   ],
   "source": [
    "# Metadata\n",
    "cpd_kd_pair_df = pd.DataFrame(columns=['cpd', 'label', 'target'])\n",
    "\n",
    "for j in log_progress(range(10)):\n",
    "    df_filename = 'checkpoint_files/pair_set_6_df_{}.csv'.format(j)\n",
    "    cpd_kd_pair_df = cpd_kd_pair_df.append(pd.DataFrame.from_csv(df_filename))\n",
    "    \n",
    "cpd_kd_pair_df = cpd_kd_pair_df.reset_index(drop=True)"
   ]
  },
  {
   "cell_type": "code",
   "execution_count": 9,
   "metadata": {},
   "outputs": [
    {
     "name": "stdout",
     "output_type": "stream",
     "text": [
      "Profile of training data: \n",
      "\n",
      "No. True interactions:\t 1303\n",
      "No. True cpds:\t\t 229\n",
      "No. True genes:\t\t 302\n",
      "\n",
      "No. False interactions:\t 4394682\n",
      "No. False cpds:\t\t 1180\n",
      "No. False genes:\t 3245\n"
     ]
    }
   ],
   "source": [
    "print('Profile of training data: \\n')\n",
    "print('No. True interactions:\\t', cpd_kd_pair_df.label.value_counts()[1])\n",
    "print('No. True cpds:\\t\\t', len(cpd_kd_pair_df[cpd_kd_pair_df.label == 1].cpd.unique()))\n",
    "print('No. True genes:\\t\\t', len(cpd_kd_pair_df[cpd_kd_pair_df.label == 1].target.unique()))\n",
    "print('\\nNo. False interactions:\\t', cpd_kd_pair_df.label.value_counts()[0])\n",
    "print('No. False cpds:\\t\\t', len(cpd_kd_pair_df[cpd_kd_pair_df.label == 0].cpd.unique()))\n",
    "print('No. False genes:\\t', len(cpd_kd_pair_df[cpd_kd_pair_df.label == 0].target.unique()))"
   ]
  },
  {
   "cell_type": "code",
   "execution_count": 83,
   "metadata": {},
   "outputs": [
    {
     "data": {
      "application/vnd.jupyter.widget-view+json": {
       "model_id": "eb017544bab24e1097a386873929adc1"
      }
     },
     "metadata": {},
     "output_type": "display_data"
    }
   ],
   "source": [
    "# Direct Correlation Data\n",
    "dir_corr_df_0 = pd.DataFrame.from_csv('features/top_9_dir_corr_sub_df_0_redo.csv')\n",
    "dir_corr_df = pd.DataFrame(columns=dir_corr_df_0.columns)\n",
    "dir_corr_df = dir_corr_df.append(dir_corr_df_0)\n",
    "\n",
    "for j in log_progress(range(1,10)):\n",
    "    df_filename = 'features/top_9_dir_corr_sub_df_{}_redo.csv'.format(j)\n",
    "    dir_corr_df = dir_corr_df.append(pd.DataFrame.from_csv(df_filename))\n",
    "    \n",
    "dir_corr_df = dir_corr_df.reset_index(drop=True)"
   ]
  },
  {
   "cell_type": "code",
   "execution_count": 5,
   "metadata": {},
   "outputs": [
    {
     "data": {
      "application/vnd.jupyter.widget-view+json": {
       "model_id": "cc482d49cbfd43e7ab5e3187f55c0af9"
      }
     },
     "metadata": {},
     "output_type": "display_data"
    }
   ],
   "source": [
    "# Indirect Correlation Data\n",
    "indir_max_corr_df_0 = pd.DataFrame.from_csv('features/top_9_indir_max_corr_sub_df_0.csv')\n",
    "indir_max_corr_df = pd.DataFrame(columns=indir_max_corr_df_0.columns)\n",
    "indir_max_corr_df = indir_max_corr_df.append(indir_max_corr_df_0)\n",
    "\n",
    "indir_min_corr_df_0 = pd.DataFrame.from_csv('features/top_9_indir_min_corr_sub_df_0.csv')\n",
    "indir_min_corr_df = pd.DataFrame(columns=indir_min_corr_df_0.columns)\n",
    "indir_min_corr_df = indir_min_corr_df.append(indir_min_corr_df_0)\n",
    "\n",
    "indir_avg_corr_df_0 = pd.DataFrame.from_csv('features/top_9_indir_avg_corr_sub_df_0.csv')\n",
    "indir_avg_corr_df = pd.DataFrame(columns=indir_avg_corr_df_0.columns)\n",
    "indir_avg_corr_df = indir_avg_corr_df.append(indir_avg_corr_df_0)\n",
    "\n",
    "\n",
    "for j in log_progress(range(1,10)):\n",
    "    max_df_filename = 'features/top_9_indir_max_corr_sub_df_{}.csv'.format(j)\n",
    "    min_df_filename = 'features/top_9_indir_min_corr_sub_df_{}.csv'.format(j)\n",
    "    avg_df_filename = 'features/top_9_indir_avg_corr_sub_df_{}.csv'.format(j)\n",
    "    \n",
    "    indir_max_corr_df = indir_max_corr_df.append(pd.DataFrame.from_csv(max_df_filename))\n",
    "    indir_min_corr_df = indir_min_corr_df.append(pd.DataFrame.from_csv(min_df_filename))\n",
    "    indir_avg_corr_df = indir_avg_corr_df.append(pd.DataFrame.from_csv(avg_df_filename))"
   ]
  },
  {
   "cell_type": "code",
   "execution_count": 30,
   "metadata": {},
   "outputs": [
    {
     "data": {
      "application/vnd.jupyter.widget-view+json": {
       "model_id": "e1ff13a3b74549fdb952c6e56ffd6dd2"
      }
     },
     "metadata": {},
     "output_type": "display_data"
    }
   ],
   "source": [
    "# Compile features into dataframe\n",
    "cell_lines = dir_corr_df.columns\n",
    "X_df = pd.DataFrame()\n",
    "\n",
    "for cell_line in log_progress(cell_lines):\n",
    "    dir_corr = dir_corr_df[cell_line].values\n",
    "    indir_max_corr = indir_max_corr_df[cell_line].values\n",
    "    indir_min_corr = indir_min_corr_df[cell_line].values\n",
    "    indir_avg_corr = indir_avg_corr_df[cell_line].values\n",
    "  \n",
    "    tmp_df = pd.DataFrame({'{}_dir'.format(cell_line): dir_corr,\n",
    "                           '{}_max'.format(cell_line): indir_max_corr,\n",
    "                           '{}_min'.format(cell_line): indir_min_corr,\n",
    "                           '{}_avg'.format(cell_line): indir_avg_corr,\n",
    "                          })\n",
    "    \n",
    "    X_df = pd.concat([X_df, tmp_df], axis=1)"
   ]
  },
  {
   "cell_type": "markdown",
   "metadata": {},
   "source": [
    "## Cross validation"
   ]
  },
  {
   "cell_type": "code",
   "execution_count": 26,
   "metadata": {},
   "outputs": [],
   "source": [
    "pos_cpds = cpd_kd_pair_df[cpd_kd_pair_df.label == 1].cpd.unique()\n",
    "\n",
    "# just for debugging\n",
    "test_pos_cpds = ['BRD-A01320529']"
   ]
  },
  {
   "cell_type": "code",
   "execution_count": 54,
   "metadata": {},
   "outputs": [
    {
     "name": "stdout",
     "output_type": "stream",
     "text": [
      "Growing forest for cell lines:  (0, 1, 2)\tSample class distribution:  [375160    175]\n",
      "Growing forest for cell lines:  (0, 1, 3)\tSample class distribution:  [520653    231]\n",
      "Growing forest for cell lines:  (0, 1, 4)\tSample class distribution:  [546972    260]\n",
      "Growing forest for cell lines:  (0, 1, 5)\tSample class distribution:  [587557    272]\n",
      "Growing forest for cell lines:  (0, 1, 6)\tSample class distribution:  [590861    275]\n",
      "Growing forest for cell lines:  (0, 1, 7)\tSample class distribution:  [617105    291]\n",
      "Growing forest for cell lines:  (0, 1, 8)\tSample class distribution:  [380855    181]\n",
      "Growing forest for cell lines:  (0, 2, 3)\tSample class distribution:  [448029    166]\n",
      "Growing forest for cell lines:  (0, 2, 4)\tSample class distribution:  [497471    193]\n",
      "Growing forest for cell lines:  (0, 2, 5)\tSample class distribution:  [514913    199]\n",
      "Growing forest for cell lines:  (0, 2, 6)\tSample class distribution:  [556947    205]\n",
      "Growing forest for cell lines:  (0, 2, 7)\tSample class distribution:  [540338    202]\n",
      "Growing forest for cell lines:  (0, 2, 8)\tSample class distribution:  [365448    131]\n",
      "Growing forest for cell lines:  (0, 3, 4)\tSample class distribution:  [662722    276]\n",
      "Growing forest for cell lines:  (0, 3, 5)\tSample class distribution:  [736590    306]\n",
      "Growing forest for cell lines:  (0, 3, 6)\tSample class distribution:  [747512    328]\n",
      "Growing forest for cell lines:  (0, 3, 7)\tSample class distribution:  [765408    344]\n",
      "Growing forest for cell lines:  (0, 3, 8)\tSample class distribution:  [520613    242]\n",
      "Growing forest for cell lines:  (0, 4, 5)\tSample class distribution:  [763959    317]\n",
      "Growing forest for cell lines:  (0, 4, 6)\tSample class distribution:  [794442    312]\n",
      "Growing forest for cell lines:  (0, 4, 7)\tSample class distribution:  [793397    317]\n",
      "Growing forest for cell lines:  (0, 4, 8)\tSample class distribution:  [528422    208]\n",
      "Growing forest for cell lines:  (0, 5, 6)\tSample class distribution:  [847128    358]\n",
      "Growing forest for cell lines:  (0, 5, 7)\tSample class distribution:  [856330    380]\n",
      "Growing forest for cell lines:  (0, 5, 8)\tSample class distribution:  [541864    216]\n",
      "Growing forest for cell lines:  (0, 6, 7)\tSample class distribution:  [876113    385]\n",
      "Growing forest for cell lines:  (0, 6, 8)\tSample class distribution:  [532639    217]\n",
      "Growing forest for cell lines:  (0, 7, 8)\tSample class distribution:  [570877    248]\n",
      "Growing forest for cell lines:  (1, 2, 3)\tSample class distribution:  [529221    240]\n",
      "Growing forest for cell lines:  (1, 2, 4)\tSample class distribution:  [562679    271]\n",
      "Growing forest for cell lines:  (1, 2, 5)\tSample class distribution:  [586115    261]\n",
      "Growing forest for cell lines:  (1, 2, 6)\tSample class distribution:  [590613    291]\n",
      "Growing forest for cell lines:  (1, 2, 7)\tSample class distribution:  [640470    300]\n",
      "Growing forest for cell lines:  (1, 2, 8)\tSample class distribution:  [393594    168]\n",
      "Growing forest for cell lines:  (1, 3, 4)\tSample class distribution:  [883935    431]\n",
      "Growing forest for cell lines:  (1, 3, 5)\tSample class distribution:  [903169    423]\n",
      "Growing forest for cell lines:  (1, 3, 6)\tSample class distribution:  [932979    453]\n",
      "Growing forest for cell lines:  (1, 3, 7)\tSample class distribution:  [1037656     472]\n",
      "Growing forest for cell lines:  (1, 3, 8)\tSample class distribution:  [618718    322]\n",
      "Growing forest for cell lines:  (1, 4, 5)\tSample class distribution:  [906078    422]\n",
      "Growing forest for cell lines:  (1, 4, 6)\tSample class distribution:  [959660    460]\n",
      "Growing forest for cell lines:  (1, 4, 7)\tSample class distribution:  [1024218     490]\n",
      "Growing forest for cell lines:  (1, 4, 8)\tSample class distribution:  [640852    306]\n",
      "Growing forest for cell lines:  (1, 5, 6)\tSample class distribution:  [1015659     468]\n",
      "Growing forest for cell lines:  (1, 5, 7)\tSample class distribution:  [1126430     494]\n",
      "Growing forest for cell lines:  (1, 5, 8)\tSample class distribution:  [642984    318]\n",
      "Growing forest for cell lines:  (1, 6, 7)\tSample class distribution:  [1115169     527]\n",
      "Growing forest for cell lines:  (1, 6, 8)\tSample class distribution:  [620202    294]\n",
      "Growing forest for cell lines:  (1, 7, 8)\tSample class distribution:  [700553    335]\n",
      "Growing forest for cell lines:  (2, 3, 4)\tSample class distribution:  [706204    292]\n",
      "Growing forest for cell lines:  (2, 3, 5)\tSample class distribution:  [741031    281]\n",
      "Growing forest for cell lines:  (2, 3, 6)\tSample class distribution:  [717868    279]\n",
      "Growing forest for cell lines:  (2, 3, 7)\tSample class distribution:  [781340    320]\n",
      "Growing forest for cell lines:  (2, 3, 8)\tSample class distribution:  [521085    201]\n",
      "Growing forest for cell lines:  (2, 4, 5)\tSample class distribution:  [772276    302]\n",
      "Growing forest for cell lines:  (2, 4, 6)\tSample class distribution:  [778653    300]\n",
      "Growing forest for cell lines:  (2, 4, 7)\tSample class distribution:  [837408    350]\n",
      "Growing forest for cell lines:  (2, 4, 8)\tSample class distribution:  [547530    196]\n",
      "Growing forest for cell lines:  (2, 5, 6)\tSample class distribution:  [805460    289]\n",
      "Growing forest for cell lines:  (2, 5, 7)\tSample class distribution:  [865579    335]\n",
      "Growing forest for cell lines:  (2, 5, 8)\tSample class distribution:  [554492    202]\n",
      "Growing forest for cell lines:  (2, 6, 7)\tSample class distribution:  [847102    346]\n",
      "Growing forest for cell lines:  (2, 6, 8)\tSample class distribution:  [551963    197]\n",
      "Growing forest for cell lines:  (2, 7, 8)\tSample class distribution:  [576807    213]\n",
      "Growing forest for cell lines:  (3, 4, 5)\tSample class distribution:  [1269815     475]\n",
      "Growing forest for cell lines:  (3, 4, 6)\tSample class distribution:  [1310530     510]\n",
      "Growing forest for cell lines:  (3, 4, 7)\tSample class distribution:  [1467942     558]\n",
      "Growing forest for cell lines:  (3, 4, 8)\tSample class distribution:  [937703    377]\n",
      "Growing forest for cell lines:  (3, 5, 6)\tSample class distribution:  [1411294     506]\n",
      "Growing forest for cell lines:  (3, 5, 7)\tSample class distribution:  [1503883     545]\n",
      "Growing forest for cell lines:  (3, 5, 8)\tSample class distribution:  [969796    374]\n",
      "Growing forest for cell lines:  (3, 6, 7)\tSample class distribution:  [1481712     588]\n",
      "Growing forest for cell lines:  (3, 6, 8)\tSample class distribution:  [937464    373]\n",
      "Growing forest for cell lines:  (3, 7, 8)\tSample class distribution:  [1017479     428]\n",
      "Growing forest for cell lines:  (4, 5, 6)\tSample class distribution:  [1318737     470]\n",
      "Growing forest for cell lines:  (4, 5, 7)\tSample class distribution:  [1453368     552]\n",
      "Growing forest for cell lines:  (4, 5, 8)\tSample class distribution:  [908874    347]\n",
      "Growing forest for cell lines:  (4, 6, 7)\tSample class distribution:  [1407656     532]\n",
      "Growing forest for cell lines:  (4, 6, 8)\tSample class distribution:  [885619    341]\n",
      "Growing forest for cell lines:  (4, 7, 8)\tSample class distribution:  [1006529     365]\n",
      "Growing forest for cell lines:  (5, 6, 7)\tSample class distribution:  [1530245     571]\n",
      "Growing forest for cell lines:  (5, 6, 8)\tSample class distribution:  [921811    343]\n",
      "Growing forest for cell lines:  (5, 7, 8)\tSample class distribution:  [994873    371]\n",
      "Growing forest for cell lines:  (6, 7, 8)\tSample class distribution:  [966400    377]\n"
     ]
    }
   ],
   "source": [
    "# split up data into training and validation\n",
    "loocv_result_df = pd.DataFrame()\n",
    "\n",
    "for cpd in test_pos_cpds:\n",
    "    \n",
    "    # split train/test, testing 1 cpd at a time\n",
    "    test_idx = cpd_kd_pair_df[cpd_kd_pair_df.cpd == cpd].index\n",
    "    train_idx = cpd_kd_pair_df[cpd_kd_pair_df.cpd != cpd].index\n",
    "    X_test = X_df.loc[test_idx].values\n",
    "    X_train = X_df.loc[train_idx].values\n",
    "    y_train = cpd_kd_pair_df.loc[train_idx].label.values.astype(int)\n",
    "    \n",
    "    # train the model\n",
    "    LRF = LincsRandomForestClassifier(n_cells_per_forest = 3,\n",
    "                                      n_estimators_per_forest=100, \n",
    "                                      max_depth=12, \n",
    "                                      max_features=\"auto\",\n",
    "                                      class_weight=\"balanced_subsample\",\n",
    "                                      random_state=1)\n",
    "    LRF.fit(X_train, y_train)\n",
    "    \n",
    "    # predict probabilities for test cpd's potential targets\n",
    "    test_proba_ = LRF.predict_proba_(X_test)\n",
    "    \n",
    "    "
   ]
  },
  {
   "cell_type": "code",
   "execution_count": 109,
   "metadata": {
    "collapsed": true
   },
   "outputs": [],
   "source": [
    "loocv_result_df = pd.DataFrame()"
   ]
  },
  {
   "cell_type": "code",
   "execution_count": null,
   "metadata": {
    "collapsed": true
   },
   "outputs": [],
   "source": [
    "# predict probabilities for test cpd's potential targets\n",
    "test_proba_ = LRF.predict_proba_(X_test)"
   ]
  },
  {
   "cell_type": "code",
   "execution_count": 110,
   "metadata": {},
   "outputs": [],
   "source": [
    "# rank potential targets predicted probability\n",
    "test_result_df = cpd_kd_pair_df.loc[test_idx].copy()\n",
    "test_result_df['proba'] = test_proba_[:,1]\n",
    "test_result_df['rank'] = test_result_df.proba.rank(ascending=False)\n",
    "\n",
    "# record rank of true target and which cell lines had data\n",
    "true_target_result = test_result_df[test_result_df.label == 1]\n",
    "true_target_cell_lines = ~dir_corr_df.loc[true_target_result.index].isnull()\n",
    "loo_result = pd.concat([true_target_result, true_target_cell_lines], axis=1)\n",
    "\n",
    "# record results\n",
    "loocv_result_df = loocv_result_df.append(loo_result)"
   ]
  },
  {
   "cell_type": "code",
   "execution_count": 112,
   "metadata": {},
   "outputs": [],
   "source": [
    "loocv_result_df = loocv_result_df.append(loo_result)"
   ]
  },
  {
   "cell_type": "code",
   "execution_count": 113,
   "metadata": {},
   "outputs": [
    {
     "data": {
      "text/html": [
       "<div>\n",
       "<style>\n",
       "    .dataframe thead tr:only-child th {\n",
       "        text-align: right;\n",
       "    }\n",
       "\n",
       "    .dataframe thead th {\n",
       "        text-align: left;\n",
       "    }\n",
       "\n",
       "    .dataframe tbody tr th {\n",
       "        vertical-align: top;\n",
       "    }\n",
       "</style>\n",
       "<table border=\"1\" class=\"dataframe\">\n",
       "  <thead>\n",
       "    <tr style=\"text-align: right;\">\n",
       "      <th></th>\n",
       "      <th>cpd</th>\n",
       "      <th>label</th>\n",
       "      <th>target</th>\n",
       "      <th>proba</th>\n",
       "      <th>rank</th>\n",
       "      <th>HCC515</th>\n",
       "      <th>HEPG2</th>\n",
       "      <th>VCAP</th>\n",
       "      <th>A375</th>\n",
       "      <th>PC3</th>\n",
       "      <th>A549</th>\n",
       "      <th>HA1E</th>\n",
       "      <th>MCF7</th>\n",
       "      <th>HT29</th>\n",
       "    </tr>\n",
       "  </thead>\n",
       "  <tbody>\n",
       "    <tr>\n",
       "      <th>2658</th>\n",
       "      <td>BRD-A01320529</td>\n",
       "      <td>1</td>\n",
       "      <td>ADRB2</td>\n",
       "      <td>0.23</td>\n",
       "      <td>117.5</td>\n",
       "      <td>False</td>\n",
       "      <td>False</td>\n",
       "      <td>False</td>\n",
       "      <td>True</td>\n",
       "      <td>True</td>\n",
       "      <td>False</td>\n",
       "      <td>True</td>\n",
       "      <td>False</td>\n",
       "      <td>False</td>\n",
       "    </tr>\n",
       "  </tbody>\n",
       "</table>\n",
       "</div>"
      ],
      "text/plain": [
       "                cpd label target  proba   rank  HCC515  HEPG2   VCAP  A375  \\\n",
       "2658  BRD-A01320529     1  ADRB2   0.23  117.5   False  False  False  True   \n",
       "\n",
       "       PC3   A549  HA1E   MCF7   HT29  \n",
       "2658  True  False  True  False  False  "
      ]
     },
     "execution_count": 113,
     "metadata": {},
     "output_type": "execute_result"
    }
   ],
   "source": [
    "loocv_result_df"
   ]
  },
  {
   "cell_type": "code",
   "execution_count": null,
   "metadata": {
    "collapsed": true
   },
   "outputs": [],
   "source": []
  },
  {
   "cell_type": "code",
   "execution_count": 42,
   "metadata": {
    "collapsed": true
   },
   "outputs": [],
   "source": [
    "class LincsRandomForestClassifier(object):\n",
    "    \n",
    "    \"\"\"WE ASSUME THE DATA IS GROUPED BY CELL LINE AND HAS 4 FEATURES PER CELL LINE\"\"\"\n",
    "   \n",
    "    def __init__(self, n_cells_per_forest, \n",
    "                 n_estimators_per_forest=10, \n",
    "                 max_depth=None, \n",
    "                 max_features=\"auto\",\n",
    "                 class_weight=\"balanced_subsample\",\n",
    "                 random_state=1,):\n",
    "        self.n_cells_per_forest = n_cells_per_forest\n",
    "        self.n_estimators_per_forest = n_estimators_per_forest\n",
    "        self.max_depth = max_depth\n",
    "        self.max_features = max_features\n",
    "        self.class_weight = class_weight\n",
    "        self.random_state = random_state\n",
    "        \n",
    "    def fit(self, X, y):\n",
    "        '''\n",
    "        Train several random forests, each one on a different\n",
    "        subset of cells. Store forests in a dictionary called\n",
    "        self.forests.\n",
    "        '''\n",
    "        # make sure we have enough data to work with\n",
    "        min_num_cells = self.get_min_num_cells(X)\n",
    "        assert min_num_cells >= self.n_cells_per_forest, \"Too much missing data for n_cells_per_forest = %s. (Some samples only tested in %d cells)\" % \\\n",
    "                                                         (self.n_cells_per_forest, min_num_cells)\n",
    "        \n",
    "        # generate cell subsets for training\n",
    "        # ASSUMES 4 FEATURES PER CELL\n",
    "        total_num_cells = int(X.shape[1] / 4) # THIS IS HARDCODED IN\n",
    "        cell_subsets = itertools.combinations(np.arange(total_num_cells), self.n_cells_per_forest)\n",
    "        \n",
    "        # initialize dictionary to hold the forests\n",
    "        self.forests = {}\n",
    "        \n",
    "        # train forest on each subset\n",
    "        for cell_subset in cell_subsets:\n",
    "            print('Growing forest for cell lines: ', cell_subset, end=\"\\t\")\n",
    "            \n",
    "            # find samples that have complete data from the cell subset\n",
    "            cell_subset_idx = np.array([ 4*i + np.array([0, 1, 2, 3])for i in cell_subset ]).reshape(1,-1)[0].astype(int)\n",
    "            cell_subset_data = X[:,cell_subset_idx]\n",
    "            bad_sample_idx = np.isnan(cell_subset_data).any(axis=1)\n",
    "            good_samples = cell_subset_data[~bad_sample_idx]\n",
    "            good_labels = y[~bad_sample_idx]\n",
    "            print('Sample class distribution: ', np.bincount(good_labels.astype(int)))\n",
    "            \n",
    "            # train and store a RF classifier on this training subset\n",
    "            # print('Growing forest for cell subset: %s' % str(cell_subset))\n",
    "            forest = RandomForestClassifier(criterion='gini',\n",
    "                                            n_estimators=self.n_estimators_per_forest,\n",
    "                                            max_depth=self.max_depth,\n",
    "                                            max_features=self.max_features,\n",
    "                                            class_weight=self.class_weight,\n",
    "                                            random_state=self.random_state,\n",
    "                                            n_jobs=-1)\n",
    "            forest.fit(good_samples, good_labels)\n",
    "            self.forests[cell_subset] = forest            \n",
    "\n",
    "        \n",
    "    def get_min_num_cells(self, X):\n",
    "        '''\n",
    "        Calculate the minimum number of cells any sample has data for\n",
    "        ASSUMES 4 FEATURES PER CELL LINE\n",
    "        '''\n",
    "        X_not_missing = ~np.isnan(X)\n",
    "        num_cells_not_missing = np.count_nonzero(X_not_missing, axis=1) / 4\n",
    "        min_num_cells = np.min(num_cells_not_missing)\n",
    "        return min_num_cells\n",
    "    \n",
    "    def predict_proba(self, X):\n",
    "        '''\n",
    "        Return the class probabilities label OF ONE SINGLE SAMPLE FOR FUCKS SAKE\n",
    "        '''\n",
    "        # figure out which cell lines we have data for\n",
    "        non_nan_idx = np.where(np.isnan(X) == False)[0]\n",
    "        good_cells = (non_nan_idx[np.where(non_nan_idx/4%1 == 0)[0]] / 4).astype(int)\n",
    "        # select appropriate forests and predict\n",
    "        cell_subsets = itertools.combinations(good_cells, self.n_cells_per_forest)\n",
    "        tree_predictions_ = []\n",
    "        for cell_subset in cell_subsets:\n",
    "            # extract appropriate data\n",
    "            cell_subset_idx = np.array([ 4*i + np.array([0, 1, 2, 3])for i in cell_subset ]).reshape(1,-1)[0].astype(int)\n",
    "            cell_subset_data = X[cell_subset_idx].reshape(1,-1) \n",
    "            # extract appropriate forest and make prediction\n",
    "            forest = self.forests[cell_subset]\n",
    "            tree_predictions = [ tree.predict(cell_subset_data) for tree in forest.estimators_ ]\n",
    "            tree_predictions_.append(tree_predictions)\n",
    "        \n",
    "        # majority vote of all the trees in all the forests\n",
    "        results = np.array(tree_predictions_).flatten()\n",
    "        proba = results.sum() / len(results)\n",
    "        return np.array([1.-proba, proba])\n",
    "    \n",
    "    def predict(self, X):\n",
    "        '''\n",
    "        Return the predicted class label OF ONE SINGLE SAMPLE FOR FUCKS SAKE\n",
    "        '''\n",
    "        class_probabilities = self.predict_proba(X)\n",
    "        return np.argmax(class_probabilities)\n",
    "    \n",
    "    def predict_proba_parallel_(self, X):\n",
    "        '''\n",
    "        Predict probabilities for a multidimentional X\n",
    "        '''\n",
    "        import multiprocessing\n",
    "        # calculate the chunk size as an integer\n",
    "        num_processes = multiprocessing.cpu_count()\n",
    "        chunk_size = int(len(X)/num_processes)\n",
    "\n",
    "        # break the dataframe up into chunks\n",
    "        X_chunks = [ X[i:i + chunk_size] for i in range(0, len(X), chunk_size)]\n",
    "\n",
    "        # filter each section of the pairs dataframe in parallel\n",
    "        pool = multiprocessing.Pool(processes=num_processes)\n",
    "        result = pool.map(self.predict_proba_, X_chunks)\n",
    "        pool.close()\n",
    "        \n",
    "        flat_result = functools.reduce(lambda x,y: x+y, result)\n",
    "        return flat_result\n",
    "    \n",
    "    \n",
    "    def predict_proba_(self, X):\n",
    "        proba_ = []\n",
    "        for i in range(len(X)):\n",
    "            if i % 100 == 0: print(i, end=\" \")\n",
    "            proba_.append(self.predict_proba(X[i]))\n",
    "        return np.array(proba_)\n",
    "    \n",
    "    def predict_(self, X):\n",
    "        '''\n",
    "        for a multidimentional X\n",
    "        '''\n",
    "        predicted_classes = np.array([ self.predict(x) for x in X ])\n",
    "        return predicted_classes"
   ]
  },
  {
   "cell_type": "code",
   "execution_count": 73,
   "metadata": {
    "collapsed": true
   },
   "outputs": [],
   "source": [
    "RandomForestClassifier?"
   ]
  },
  {
   "cell_type": "code",
   "execution_count": null,
   "metadata": {
    "collapsed": true
   },
   "outputs": [],
   "source": []
  }
 ],
 "metadata": {
  "kernelspec": {
   "display_name": "Python 3",
   "language": "python",
   "name": "python3"
  },
  "language_info": {
   "codemirror_mode": {
    "name": "ipython",
    "version": 3
   },
   "file_extension": ".py",
   "mimetype": "text/x-python",
   "name": "python",
   "nbconvert_exporter": "python",
   "pygments_lexer": "ipython3",
   "version": "3.6.1"
  }
 },
 "nbformat": 4,
 "nbformat_minor": 2
}
