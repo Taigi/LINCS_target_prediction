{
 "cells": [
  {
   "cell_type": "markdown",
   "metadata": {
    "collapsed": true
   },
   "source": [
    "# Random Forest\n",
    "\n",
    "Some brief notes about decision trees and random forest mathods, taken from Nando de Freitas\n",
    "' lecture: https://www.youtube.com/watch?v=-dCtJjlEEgM"
   ]
  },
  {
   "cell_type": "code",
   "execution_count": 40,
   "metadata": {
    "collapsed": true
   },
   "outputs": [],
   "source": [
    "import numpy as np\n",
    "import matplotlib.pyplot as plt\n",
    "import math\n",
    "plt.rc('font', size=20)          # controls default text sizes\n",
    "plt.rc('axes', titlesize=16)     # fontsize of the axes title\n",
    "plt.rc('axes', labelsize=16)    # fontsize of the x and y labels   # fontsize of the x and y labels\n",
    "plt.rc('xtick', labelsize=12)    # fontsize of the tick labels\n",
    "plt.rc('ytick', labelsize=12)    # fontsize of the tick labels"
   ]
  },
  {
   "cell_type": "markdown",
   "metadata": {},
   "source": [
    "## 1. Constructing decision trees\n",
    "\n",
    "### How do you decide which attributes (features) to use to split the data at each node?\n",
    "\n",
    "The first thing to note is that we use a **greedy** algorithm to construct the tree. That is, at each node, we pick the optimal feature to make the split. This may not be the way to construct the optimal tree, but enumerating all possible trees is often computationally infeasible so the greedy algorithm is used as an efficient heuristic. Due to using the greedy algorithm, trees have **high variance**: if we change the label on one single training datum, we might end up with a very different tree structure. Random forest corrects for this variance by averaging lots of trees together. \n",
    "<br><br>\n",
    "So how do you choose the feature to split on?\n",
    "- Intuitively, you want to choose the feature that *tells you the most* about the data labels.\n",
    "- A good choice of feature will *ideally* split the data into subsets that are all positive or all negative.\n",
    "\n",
    "Consider the distribution of the data at the root node. At the root node you're working with the entire training set, and you have some probability distribution over the labels (+1, -1). If the data is balanced, then each point at the root node has a 50% chance of being +1 and a 50% chance of being -1.\n",
    "<br><br>\n",
    "You want to split the data in a way that shifts the probability histogram towards one of the labels. As a counter example, assume you split on some feature such that the subsets at each child node are still 50% +1 and 50% -1. You've learned nothing about your data by making this split - it is useless. You'd rather want to perform a split such that the histograms at each child node begin to concentrate about one label.\n",
    "\n",
    "### Entropy\n",
    "\n",
    "In order to decide which feature to use to split the data, we'll use the concept of entropy. Entropy is a measure of uncertainty, or equivalently, a measure of information. The units of entropy are *bits*.\n",
    "\n",
    "Formally, for $n$ classes with marginal probabilities $p_{n}$:\n",
    "\n",
    "$$\n",
    "H = \\sum^{n}_{i=1} - p_{n}log(p_{n})\n",
    "$$\n",
    "\n",
    "For binary classification:\n",
    "\n",
    "$$\n",
    "H\\big( \\ p^{+} \\ , p^{-} \\ \\big) = - p^{+} log_{2} \\big( p^{+} \\big) - p^{-} log_{2} \\big( p^{-} \\big)\n",
    "$$\n",
    "\n",
    "\n",
    "Or, for a training set with $p$ positive examples and $n$ negative examples:\n",
    "\n",
    "$$\n",
    "H\\Big( \\frac{p}{p+n} \\ , \\frac{n}{p+n} \\Big) = - \\frac{p}{p+n} log_{2} \\Big( \\frac{p}{p+n} \\Big) - \\frac{n}{p+n} log_{2} \\Big( \\frac{n}{p+n} \\Big)\n",
    "$$\n",
    "\n",
    "a plot of entropy as a function of $p^{+}$ is shown below:"
   ]
  },
  {
   "cell_type": "code",
   "execution_count": 42,
   "metadata": {},
   "outputs": [
    {
     "data": {
      "image/png": "[encoded data removed]",
      "text/plain": [
       "<matplotlib.figure.Figure at 0x11b9ac940>"
      ]
     },
     "metadata": {},
     "output_type": "display_data"
    }
   ],
   "source": [
    "def H(fp):\n",
    "    fn = 1.0 - fp\n",
    "    H = -1.0 * fp * math.log(fp,2) - fn * math.log(fn,2)\n",
    "    return H\n",
    "\n",
    "fp_ = np.arange(0.01,1,0.01)\n",
    "H_ = [ H(fp) for fp in fp_ ]\n",
    "plt.figure(figsize=(10,6))\n",
    "plt.plot(fp_, H_)\n",
    "plt.xlabel('$p^{+}$')\n",
    "plt.ylabel('Entropy')\n",
    "plt.show()"
   ]
  },
  {
   "cell_type": "markdown",
   "metadata": {},
   "source": [
    "As we can see **entropy is maximized when the distribution of labels is uniform**, or when there are equal numbers of positive and negative data points at a node.\n",
    "\n",
    "#### So how do we use entropy to split at each node?\n",
    "\n",
    "Say we choose to split on attribute $A$, which takes $k$ different values, and splits the training set $E$ into subsets $\\{E_{1}, \\ ..., \\ E_{k}\\}$. We define the **expected entropy (EH)** remaining after splitting on attribute $A$ to be:\n",
    "\n",
    "$$\n",
    "EH(A) = \\sum^{k}_{i=1} \\frac {p_i+p_n} {p + n} H\\Big( \\frac{p_i}{p_i+n_i} \\ , \\frac{n_i}{p_i+n_i} \\Big)\n",
    "$$\n",
    "\n",
    "Notice that **this is an expectation: a weighted average of the entropies of the child nodes**.\n",
    "<br><br>\n",
    "We then define the **information gain** of attribute $A$ as **the reduction of entropy that would result from splitting the data using attribute A**:\n",
    "\n",
    "$$\n",
    "I(A) = H\\Big( \\frac{p}{p+n} \\ , \\frac{n}{p+n} \\Big) - EH(A)\n",
    "$$\n",
    "\n",
    "So we want to choose the attribute $A$ that gives us the maximum information gain. To construct the tree repeat this process recursively for subsequent nodes until we've split the data cleanly."
   ]
  },
  {
   "cell_type": "markdown",
   "metadata": {},
   "source": [
    "### How do we deal with continuous-valued features?\n",
    "\n",
    "One way to create attributes from a continuous valued feature is to use thresholds. This basically turns a continuous variable into a binary variable representing if it is above or below the chosed threshold.\n",
    "<br><br>\n",
    "Assume we have 2-dimensional continuous data (x,y). One way to create attributes from this data is to create equally-spaced grid on the X and Y axes, where each gridline is a threshold value. Assume you split the X axis using 10 thresholds and you split the Y axis using 10 thresholds. Then each 2D data point (x,y) gets converted to a 20-dimensional binary vector where each entry represents if the datum is above or below a given threshold on the x or y axes.\n",
    "<br><br>\n",
    "For deeper reading and some examples of this procedure, see the Microsoft Research technical report **Decision Forests for Classification,Regression, Density Estimation, Manifold Learning and Semi-Supervised Learning**: \n",
    "https://www.microsoft.com/en-us/research/wp-content/uploads/2016/02/decisionForests_MSR_TR_2011_114.pdf\n",
    "<br><br>\n",
    "Rather than exhaustively gridding each dimension for all possible splits, you can also choose splits randomly and still get pretty good results. Also, for very high dimensional data, before choosing the splits you can sample a subset of the dimensions to evaluate your splits on, to make things even faster."
   ]
  },
  {
   "cell_type": "code",
   "execution_count": null,
   "metadata": {
    "collapsed": true
   },
   "outputs": [],
   "source": []
  }
 ],
 "metadata": {
  "kernelspec": {
   "display_name": "Python 3",
   "language": "python",
   "name": "python3"
  },
  "language_info": {
   "codemirror_mode": {
    "name": "ipython",
    "version": 3
   },
   "file_extension": ".py",
   "mimetype": "text/x-python",
   "name": "python",
   "nbconvert_exporter": "python",
   "pygments_lexer": "ipython3",
   "version": "3.6.1"
  }
 },
 "nbformat": 4,
 "nbformat_minor": 2
}
