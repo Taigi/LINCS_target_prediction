{
 "cells": [
  {
   "cell_type": "code",
   "execution_count": 5,
   "metadata": {
    "collapsed": true
   },
   "outputs": [],
   "source": [
    "from support_functions import log_progress, clean_drugbank, query_chembl\n",
    "import pickle\n",
    "import pandas as pd"
   ]
  },
  {
   "cell_type": "markdown",
   "metadata": {},
   "source": [
    "# Extracting drug targets from Drugbank\n",
    "\n",
    "The original Drugbank database is stored in XML format and contains a ton of information that we don't need. Our  goal is to clean this data and create a stripped-down dictionary of drug-target pairings that we can use to lookup the gene targets of drugs tested in the LINCS library. The keys of this dictionary will be the drugs' InChiKeys and the values will be the targets' Hugo Gene Symbols. \n",
    "\n",
    "*In the future we may want to use additional metadata from the DrugBank database, such as whether the drugs are inhibitors or activators.*\n",
    "\n",
    "First we need to clean the data, as the target names are difficult to extract for several reasons: \n",
    "\n",
    "* Some drugs are not small molecules but polymers or other macromolecules we are not interested in\n",
    "* Some drugs have multiple targets with their names stored in a list structure rather than an ordered dictionary\n",
    "* Some drugs target protein complexes, composed of multiple distinct proteins with different names\n",
    "* Some target names are missing"
   ]
  },
  {
   "cell_type": "code",
   "execution_count": 2,
   "metadata": {
    "collapsed": true
   },
   "outputs": [],
   "source": [
    "# parse the downloaded drugbank database into a dictionary\n",
    "drugbank_db_path = 'data/full_drugbank_database.xml'\n",
    "drugbank_target_dict = clean_drugbank(drugbank_db_path)"
   ]
  },
  {
   "cell_type": "code",
   "execution_count": null,
   "metadata": {
    "collapsed": true
   },
   "outputs": [],
   "source": [
    "# save the drugbank dictionary to file\n",
    "db_filename = 'checkpoint_files/drugbank_target_dict.sav'\n",
    "pickle.dump(drugbank_target_dict, open(db_filename, 'wb'))"
   ]
  },
  {
   "cell_type": "markdown",
   "metadata": {},
   "source": [
    "## Extracting drug targets from ChEMBL\n",
    "\n",
    "The ChEMBL database does not appear to be downloadable, so we'll have to query the compounds one by one using the REST API:"
   ]
  },
  {
   "cell_type": "code",
   "execution_count": 13,
   "metadata": {
    "collapsed": true
   },
   "outputs": [],
   "source": [
    "# load list of compounds we'll lookup \n",
    "pert_info_1 = pd.read_csv('data/GSE92742_Broad_LINCS_pert_info.txt', sep='\\t', header=0)\n",
    "pert_info_2 = pd.read_csv('data/GSE70138_Broad_LINCS_pert_info.txt', sep='\\t', header=0)\n",
    "pert_info = pd.concat([pert_info_1, pert_info_2], ignore_index=True)\n",
    "all_LINCS_inchis = pert_info[pert_info.pert_type == 'trt_cp'].inchi_key.unique().astype(str)"
   ]
  },
  {
   "cell_type": "code",
   "execution_count": 24,
   "metadata": {
    "collapsed": true
   },
   "outputs": [],
   "source": [
    "# lookup targets and store results in a dictionary\n",
    "seen_cpds = set()\n",
    "chembl_target_dict = {}"
   ]
  },
  {
   "cell_type": "code",
   "execution_count": 25,
   "metadata": {},
   "outputs": [
    {
     "data": {
      "application/vnd.jupyter.widget-view+json": {
       "model_id": "408832d4ed294eb886fb34ff58d76f65"
      }
     },
     "metadata": {},
     "output_type": "display_data"
    }
   ],
   "source": [
    "# this step occasionally times out due to network connectivity issues,\n",
    "# so we'll make sure to not repeat ourselves\n",
    "for inchi in log_progress(all_LINCS_inchis, every=1):\n",
    "    if inchi not in seen_cpds:\n",
    "        human_target_genes = query_chembl(inchi)\n",
    "        if len(human_target_genes) > 0:\n",
    "            chembl_target_dict[inchi] = human_target_genes\n",
    "        seen_cpds.add(inchi)"
   ]
  },
  {
   "cell_type": "code",
   "execution_count": null,
   "metadata": {},
   "outputs": [],
   "source": [
    "# save the chembl dictionary to file\n",
    "chembl_filename = 'checkpoint_files/chembl_target_dict.sav'\n",
    "pickle.dump(chembl_target_dict, open(chembl_filename, 'wb'))"
   ]
  },
  {
   "cell_type": "markdown",
   "metadata": {},
   "source": [
    "# Combine DrugBank and ChEMBL targets"
   ]
  },
  {
   "cell_type": "code",
   "execution_count": null,
   "metadata": {
    "collapsed": true
   },
   "outputs": [],
   "source": [
    "# Load targets extracted from Drugbank and Chembl\n",
    "drugbank_target_dict = pickle.load(open('checkpoint_files/drugbank_target_dict.sav', 'rb'))\n",
    "chembl_target_dict = pickle.load(open('checkpoint_files/chembl_target_dict.sav', 'rb'))\n",
    "\n",
    "# Lookup pert_id <-> inchi_key mappings\n",
    "cpd_pert_info = pert_info[pert_info.pert_type == 'trt_cp']\n",
    "cpd_inchis = cpd_pert_info[['pert_id', 'inchi_key']]\n",
    "\n",
    "# Combine Drugbank and Chembl dicts, using pert_id for keys\n",
    "LINCS_target_dict = {}\n",
    "\n",
    "for inchi, targets in log_progress(drugbank_target_dict.items()):\n",
    "    cpd = cpd_inchis[cpd_inchis.inchi_key == inchi].pert_id.values\n",
    "    if cpd.size > 0: \n",
    "        cpd = cpd[0]\n",
    "        LINCS_target_dict[cpd] = set(targets)\n",
    "\n",
    "for inchi, targets in log_progress(chembl_target_dict.items()):\n",
    "    cpd = cpd_inchis[cpd_inchis.inchi_key == inchi].pert_id.values\n",
    "    if cpd.size > 0: \n",
    "        cpd = cpd[0]\n",
    "        if cpd in LINCS_target_dict.keys():\n",
    "            all_targets = LINCS_target_dict[cpd].union(set(targets))\n",
    "            LINCS_target_dict[cpd] = all_targets\n",
    "        else:\n",
    "            LINCS_target_dict[cpd] = set(targets)\n",
    "\n",
    "# Save the LINCS target dictionary            \n",
    "filename = 'checkpoint_files/LINCS_target_dict.sav'\n",
    "pickle.dump(LINCS_target_dict, open(filename, 'wb'))"
   ]
  },
  {
   "cell_type": "code",
   "execution_count": null,
   "metadata": {
    "collapsed": true
   },
   "outputs": [],
   "source": []
  }
 ],
 "metadata": {
  "kernelspec": {
   "display_name": "Python 3",
   "language": "python",
   "name": "python3"
  },
  "language_info": {
   "codemirror_mode": {
    "name": "ipython",
    "version": 3
   },
   "file_extension": ".py",
   "mimetype": "text/x-python",
   "name": "python",
   "nbconvert_exporter": "python",
   "pygments_lexer": "ipython3",
   "version": "3.6.1"
  }
 },
 "nbformat": 4,
 "nbformat_minor": 2
}
