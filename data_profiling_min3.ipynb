{
 "cells": [
  {
   "cell_type": "markdown",
   "metadata": {},
   "source": [
    "# Data profiling"
   ]
  },
  {
   "cell_type": "code",
   "execution_count": 2,
   "metadata": {},
   "outputs": [],
   "source": [
    "from support_functions import log_progress, clean_drugbank, query_chembl\n",
    "import pandas as pd\n",
    "import numpy as np\n",
    "import pickle\n",
    "import seaborn as sns\n",
    "import matplotlib.pyplot as plt\n",
    "import functools\n",
    "from cmapPy.pandasGEXpress import parse\n",
    "import scipy"
   ]
  },
  {
   "cell_type": "markdown",
   "metadata": {},
   "source": [
    "## 0. Lookup known targets"
   ]
  },
  {
   "cell_type": "code",
   "execution_count": 5,
   "metadata": {
    "collapsed": true
   },
   "outputs": [],
   "source": [
    "# load perturbation info\n",
    "pert_info_1 = pd.read_csv('data/GSE92742_Broad_LINCS_pert_info.txt', sep='\\t', header=0)\n",
    "pert_info_2a = pd.read_csv('data/GSE70138_Broad_LINCS_pert_info.txt', sep='\\t', header=0)\n",
    "all_pert_info = pd.concat([pert_info_1, pert_info_2a], ignore_index=True)"
   ]
  },
  {
   "cell_type": "code",
   "execution_count": 6,
   "metadata": {
    "collapsed": true
   },
   "outputs": [],
   "source": [
    "# lookup cpd inchi keys\n",
    "all_cpd_pert_info = all_pert_info[all_pert_info.pert_type == 'trt_cp']\n",
    "all_cpd_inchis = all_cpd_pert_info[['pert_id','inchi_key']].set_index('pert_id').copy()\n",
    "# remove duplicates, store as series\n",
    "all_cpd_inchis = all_cpd_inchis[~all_cpd_inchis.index.duplicated()].inchi_key"
   ]
  },
  {
   "cell_type": "markdown",
   "metadata": {},
   "source": [
    "### 0a. Lookup Drugbank targets"
   ]
  },
  {
   "cell_type": "code",
   "execution_count": 5,
   "metadata": {
    "collapsed": true
   },
   "outputs": [
    {
     "ename": "KeyboardInterrupt",
     "evalue": "",
     "output_type": "error",
     "traceback": [
      "\u001b[0;31m---------------------------------------------------------------------------\u001b[0m",
      "\u001b[0;31mKeyboardInterrupt\u001b[0m                         Traceback (most recent call last)",
      "\u001b[0;32m<ipython-input-5-7005fee9dbb8>\u001b[0m in \u001b[0;36m<module>\u001b[0;34m()\u001b[0m\n\u001b[1;32m      1\u001b[0m \u001b[0;31m# lookup and store drugbank targets as dictionary: { inchi: [targets]}\u001b[0m\u001b[0;34m\u001b[0m\u001b[0;34m\u001b[0m\u001b[0m\n\u001b[1;32m      2\u001b[0m \u001b[0mdb_db_path\u001b[0m \u001b[0;34m=\u001b[0m \u001b[0;34m'data/full_drugbank_database.xml'\u001b[0m\u001b[0;34m\u001b[0m\u001b[0m\n\u001b[0;32m----> 3\u001b[0;31m \u001b[0mdrugbank_target_dict\u001b[0m \u001b[0;34m=\u001b[0m \u001b[0mclean_drugbank\u001b[0m\u001b[0;34m(\u001b[0m\u001b[0mdb_db_path\u001b[0m\u001b[0;34m)\u001b[0m\u001b[0;34m\u001b[0m\u001b[0m\n\u001b[0m",
      "\u001b[0;32m~/git/LINCS_target_prediction/support_functions.py\u001b[0m in \u001b[0;36mclean_drugbank\u001b[0;34m(db_path)\u001b[0m\n\u001b[1;32m     49\u001b[0m \u001b[0;32mdef\u001b[0m \u001b[0mclean_drugbank\u001b[0m\u001b[0;34m(\u001b[0m\u001b[0mdb_path\u001b[0m\u001b[0;34m)\u001b[0m\u001b[0;34m:\u001b[0m\u001b[0;34m\u001b[0m\u001b[0m\n\u001b[1;32m     50\u001b[0m     \u001b[0;32mimport\u001b[0m \u001b[0mxmltodict\u001b[0m\u001b[0;34m\u001b[0m\u001b[0m\n\u001b[0;32m---> 51\u001b[0;31m     \u001b[0mdrugbank_db\u001b[0m \u001b[0;34m=\u001b[0m \u001b[0mxmltodict\u001b[0m\u001b[0;34m.\u001b[0m\u001b[0mparse\u001b[0m\u001b[0;34m(\u001b[0m\u001b[0mopen\u001b[0m\u001b[0;34m(\u001b[0m\u001b[0mdb_path\u001b[0m\u001b[0;34m)\u001b[0m\u001b[0;34m.\u001b[0m\u001b[0mread\u001b[0m\u001b[0;34m(\u001b[0m\u001b[0;34m)\u001b[0m\u001b[0;34m)\u001b[0m\u001b[0;34m\u001b[0m\u001b[0m\n\u001b[0m\u001b[1;32m     52\u001b[0m     \u001b[0mdrug0\u001b[0m \u001b[0;34m=\u001b[0m \u001b[0mdrugbank_db\u001b[0m\u001b[0;34m[\u001b[0m\u001b[0;34m'drugbank'\u001b[0m\u001b[0;34m]\u001b[0m\u001b[0;34m[\u001b[0m\u001b[0;34m'drug'\u001b[0m\u001b[0;34m]\u001b[0m\u001b[0;34m[\u001b[0m\u001b[0;36m0\u001b[0m\u001b[0;34m]\u001b[0m \u001b[0;31m# an example drug to use as a type reference\u001b[0m\u001b[0;34m\u001b[0m\u001b[0m\n\u001b[1;32m     53\u001b[0m     \u001b[0mdrugbank_target_dict\u001b[0m \u001b[0;34m=\u001b[0m \u001b[0;34m{\u001b[0m\u001b[0;34m}\u001b[0m\u001b[0;34m\u001b[0m\u001b[0m\n",
      "\u001b[0;32m~/anaconda3/lib/python3.6/site-packages/xmltodict.py\u001b[0m in \u001b[0;36mparse\u001b[0;34m(xml_input, encoding, expat, process_namespaces, namespace_separator, disable_entities, **kwargs)\u001b[0m\n\u001b[1;32m    328\u001b[0m         \u001b[0mparser\u001b[0m\u001b[0;34m.\u001b[0m\u001b[0mParseFile\u001b[0m\u001b[0;34m(\u001b[0m\u001b[0mxml_input\u001b[0m\u001b[0;34m)\u001b[0m\u001b[0;34m\u001b[0m\u001b[0m\n\u001b[1;32m    329\u001b[0m     \u001b[0;32melse\u001b[0m\u001b[0;34m:\u001b[0m\u001b[0;34m\u001b[0m\u001b[0m\n\u001b[0;32m--> 330\u001b[0;31m         \u001b[0mparser\u001b[0m\u001b[0;34m.\u001b[0m\u001b[0mParse\u001b[0m\u001b[0;34m(\u001b[0m\u001b[0mxml_input\u001b[0m\u001b[0;34m,\u001b[0m \u001b[0;32mTrue\u001b[0m\u001b[0;34m)\u001b[0m\u001b[0;34m\u001b[0m\u001b[0m\n\u001b[0m\u001b[1;32m    331\u001b[0m     \u001b[0;32mreturn\u001b[0m \u001b[0mhandler\u001b[0m\u001b[0;34m.\u001b[0m\u001b[0mitem\u001b[0m\u001b[0;34m\u001b[0m\u001b[0m\n\u001b[1;32m    332\u001b[0m \u001b[0;34m\u001b[0m\u001b[0m\n",
      "\u001b[0;32m/Users/ilan/minonda/conda-bld/python-3.6_1494525719021/work/Python-3.6.1/Modules/pyexpat.c\u001b[0m in \u001b[0;36mStartElement\u001b[0;34m()\u001b[0m\n",
      "\u001b[0;32m~/anaconda3/lib/python3.6/site-packages/xmltodict.py\u001b[0m in \u001b[0;36mstartElement\u001b[0;34m(self, full_name, attrs)\u001b[0m\n\u001b[1;32m     98\u001b[0m     \u001b[0;32mdef\u001b[0m \u001b[0mstartElement\u001b[0m\u001b[0;34m(\u001b[0m\u001b[0mself\u001b[0m\u001b[0;34m,\u001b[0m \u001b[0mfull_name\u001b[0m\u001b[0;34m,\u001b[0m \u001b[0mattrs\u001b[0m\u001b[0;34m)\u001b[0m\u001b[0;34m:\u001b[0m\u001b[0;34m\u001b[0m\u001b[0m\n\u001b[1;32m     99\u001b[0m         \u001b[0mname\u001b[0m \u001b[0;34m=\u001b[0m \u001b[0mself\u001b[0m\u001b[0;34m.\u001b[0m\u001b[0m_build_name\u001b[0m\u001b[0;34m(\u001b[0m\u001b[0mfull_name\u001b[0m\u001b[0;34m)\u001b[0m\u001b[0;34m\u001b[0m\u001b[0m\n\u001b[0;32m--> 100\u001b[0;31m         \u001b[0mattrs\u001b[0m \u001b[0;34m=\u001b[0m \u001b[0mself\u001b[0m\u001b[0;34m.\u001b[0m\u001b[0m_attrs_to_dict\u001b[0m\u001b[0;34m(\u001b[0m\u001b[0mattrs\u001b[0m\u001b[0;34m)\u001b[0m\u001b[0;34m\u001b[0m\u001b[0m\n\u001b[0m\u001b[1;32m    101\u001b[0m         \u001b[0;32mif\u001b[0m \u001b[0mattrs\u001b[0m \u001b[0;32mand\u001b[0m \u001b[0mself\u001b[0m\u001b[0;34m.\u001b[0m\u001b[0mnamespace_declarations\u001b[0m\u001b[0;34m:\u001b[0m\u001b[0;34m\u001b[0m\u001b[0m\n\u001b[1;32m    102\u001b[0m             \u001b[0mattrs\u001b[0m\u001b[0;34m[\u001b[0m\u001b[0;34m'xmlns'\u001b[0m\u001b[0;34m]\u001b[0m \u001b[0;34m=\u001b[0m \u001b[0mself\u001b[0m\u001b[0;34m.\u001b[0m\u001b[0mnamespace_declarations\u001b[0m\u001b[0;34m\u001b[0m\u001b[0m\n",
      "\u001b[0;32m~/anaconda3/lib/python3.6/site-packages/xmltodict.py\u001b[0m in \u001b[0;36m_attrs_to_dict\u001b[0;34m(self, attrs)\u001b[0m\n\u001b[1;32m     91\u001b[0m         \u001b[0;32mif\u001b[0m \u001b[0misinstance\u001b[0m\u001b[0;34m(\u001b[0m\u001b[0mattrs\u001b[0m\u001b[0;34m,\u001b[0m \u001b[0mdict\u001b[0m\u001b[0;34m)\u001b[0m\u001b[0;34m:\u001b[0m\u001b[0;34m\u001b[0m\u001b[0m\n\u001b[1;32m     92\u001b[0m             \u001b[0;32mreturn\u001b[0m \u001b[0mattrs\u001b[0m\u001b[0;34m\u001b[0m\u001b[0m\n\u001b[0;32m---> 93\u001b[0;31m         \u001b[0;32mreturn\u001b[0m \u001b[0mself\u001b[0m\u001b[0;34m.\u001b[0m\u001b[0mdict_constructor\u001b[0m\u001b[0;34m(\u001b[0m\u001b[0mzip\u001b[0m\u001b[0;34m(\u001b[0m\u001b[0mattrs\u001b[0m\u001b[0;34m[\u001b[0m\u001b[0;36m0\u001b[0m\u001b[0;34m:\u001b[0m\u001b[0;34m:\u001b[0m\u001b[0;36m2\u001b[0m\u001b[0;34m]\u001b[0m\u001b[0;34m,\u001b[0m \u001b[0mattrs\u001b[0m\u001b[0;34m[\u001b[0m\u001b[0;36m1\u001b[0m\u001b[0;34m:\u001b[0m\u001b[0;34m:\u001b[0m\u001b[0;36m2\u001b[0m\u001b[0;34m]\u001b[0m\u001b[0;34m)\u001b[0m\u001b[0;34m)\u001b[0m\u001b[0;34m\u001b[0m\u001b[0m\n\u001b[0m\u001b[1;32m     94\u001b[0m \u001b[0;34m\u001b[0m\u001b[0m\n\u001b[1;32m     95\u001b[0m     \u001b[0;32mdef\u001b[0m \u001b[0mstartNamespaceDecl\u001b[0m\u001b[0;34m(\u001b[0m\u001b[0mself\u001b[0m\u001b[0;34m,\u001b[0m \u001b[0mprefix\u001b[0m\u001b[0;34m,\u001b[0m \u001b[0muri\u001b[0m\u001b[0;34m)\u001b[0m\u001b[0;34m:\u001b[0m\u001b[0;34m\u001b[0m\u001b[0m\n",
      "\u001b[0;31mKeyboardInterrupt\u001b[0m: "
     ]
    }
   ],
   "source": [
    "# lookup and store drugbank targets as dictionary: { inchi: [targets]}\n",
    "db_db_path = 'data/full_drugbank_database.xml'\n",
    "drugbank_target_dict = clean_drugbank(db_db_path)"
   ]
  },
  {
   "cell_type": "code",
   "execution_count": null,
   "metadata": {
    "collapsed": true
   },
   "outputs": [],
   "source": [
    "# save to file\n",
    "filename = 'checkpoint_files/drugbank_target_dict.sav'\n",
    "pickle.dump(drugbank_target_dict, open(filename, 'wb'))"
   ]
  },
  {
   "cell_type": "markdown",
   "metadata": {},
   "source": [
    "### 0b. Lookup Chembl targets"
   ]
  },
  {
   "cell_type": "code",
   "execution_count": null,
   "metadata": {
    "collapsed": true
   },
   "outputs": [],
   "source": [
    "# lookup and store chembl targets as dictionary: { inchi: [targets]}\n",
    "chembl_target_dict = {}\n",
    "tested_inchis = [] # b/c this bitch keeps crashing"
   ]
  },
  {
   "cell_type": "code",
   "execution_count": null,
   "metadata": {
    "collapsed": true
   },
   "outputs": [],
   "source": [
    "# query CHEMBL API using cpd inchi_keys to find human targets\n",
    "for inchi in log_progress(all_cpd_inchis.values, every=2):\n",
    "    if inchi not in tested_inchis:\n",
    "        human_target_genes = query_chembl(inchi)\n",
    "        if len(human_target_genes) > 0:\n",
    "            chembl_target_dict[inchi] = human_target_genes\n",
    "        tested_inchis.append(inchi)"
   ]
  },
  {
   "cell_type": "code",
   "execution_count": null,
   "metadata": {
    "collapsed": true
   },
   "outputs": [],
   "source": [
    "# save to file\n",
    "filename = 'checkpoint_files/chembl_target_dict.sav'\n",
    "pickle.dump(chembl_target_dict, open(filename, 'wb'))"
   ]
  },
  {
   "cell_type": "markdown",
   "metadata": {},
   "source": [
    "### 0c. Combine targets"
   ]
  },
  {
   "cell_type": "code",
   "execution_count": 3,
   "metadata": {},
   "outputs": [
    {
     "data": {
      "application/vnd.jupyter.widget-view+json": {
       "model_id": "b1dbeb43a98b4cac8559e8bfe7c8f28e"
      }
     },
     "metadata": {},
     "output_type": "display_data"
    }
   ],
   "source": [
    "drugbank_target_dict = pickle.load(open('checkpoint_files/drugbank_target_dict.sav', 'rb'))\n",
    "chembl_target_dict = pickle.load(open('checkpoint_files/chembl_target_dict.sav', 'rb'))\n",
    "\n",
    "combined_target_dict = drugbank_target_dict.copy()\n",
    "for cpd, chembl_targets in log_progress(chembl_target_dict.items()):\n",
    "    try:\n",
    "        drugbank_targets = drugbank_target_dict[cpd]\n",
    "        combined_targets = list(set().union(chembl_targets,drugbank_targets))\n",
    "        combined_target_dict[cpd] = combined_targets\n",
    "    except KeyError:\n",
    "        combined_target_dict[cpd] = chembl_targets"
   ]
  },
  {
   "cell_type": "markdown",
   "metadata": {},
   "source": [
    "## 1. Identify cpd-KD pairs (pair set 1)\n",
    "\n",
    "The first of several filtering steps, this set is composed of pairs of known cpd-target interactions where both the cpd and the target KD have been tested in at least one LINCS experiment."
   ]
  },
  {
   "cell_type": "code",
   "execution_count": 7,
   "metadata": {},
   "outputs": [
    {
     "data": {
      "text/plain": [
       "4371"
      ]
     },
     "execution_count": 7,
     "metadata": {},
     "output_type": "execute_result"
    }
   ],
   "source": [
    "all_kd_pert_info = all_pert_info[all_pert_info.pert_type == 'trt_sh']\n",
    "kd_genes = all_kd_pert_info.pert_iname.unique()\n",
    "len(kd_genes)"
   ]
  },
  {
   "cell_type": "code",
   "execution_count": 8,
   "metadata": {},
   "outputs": [
    {
     "data": {
      "application/vnd.jupyter.widget-view+json": {
       "model_id": "0d05a9a2e6da4bbbad3747c611163c16"
      }
     },
     "metadata": {},
     "output_type": "display_data"
    }
   ],
   "source": [
    "cpd_1_, target_1_, label_1_ = [], [], []\n",
    "for index, row in log_progress(all_cpd_pert_info.iterrows(), every=1):\n",
    "    inchi = row.inchi_key\n",
    "    \n",
    "    # if the cpd has targets\n",
    "    if inchi in combined_target_dict.keys():\n",
    "        pert_id = row.pert_id\n",
    "        targets = combined_target_dict[inchi]\n",
    "        \n",
    "        # add targets as positive examples\n",
    "        for target in targets:\n",
    "            if target in kd_genes:\n",
    "                cpd_1_.append(pert_id)\n",
    "                target_1_.append(target)\n",
    "                label_1_.append(1)\n",
    "                \n",
    "        # add non-targets as negative examples\n",
    "        for gene in kd_genes:\n",
    "            if gene not in targets:\n",
    "                cpd_1_.append(pert_id)\n",
    "                target_1_.append(gene)\n",
    "                label_1_.append(0)\n",
    "                \n",
    "    # if the compound has no targets\n",
    "    else:\n",
    "        pert_id = row.pert_id\n",
    "        for gene in kd_genes:\n",
    "            cpd_1_.append(pert_id)\n",
    "            target_1_.append(gene)\n",
    "            label_1_.append(0)"
   ]
  },
  {
   "cell_type": "code",
   "execution_count": 9,
   "metadata": {
    "collapsed": true
   },
   "outputs": [],
   "source": [
    "pair_set_1_df = pd.DataFrame({'cpd': cpd_1_, 'target': target_1_, 'label': label_1_})"
   ]
  },
  {
   "cell_type": "code",
   "execution_count": 10,
   "metadata": {},
   "outputs": [
    {
     "name": "stdout",
     "output_type": "stream",
     "text": [
      "Pair set 1 statistics\n",
      "\n",
      "No. True interactions:\t 4220\n",
      "No. True cpds:\t\t 1076\n",
      "No. True genes:\t\t 624\n",
      "\n",
      "No. False interactions:\t 97071332\n",
      "No. False cpds:\t\t 21299\n",
      "No. False genes:\t 4371\n"
     ]
    }
   ],
   "source": [
    "print('Pair set 1 statistics\\n')\n",
    "print('No. True interactions:\\t', pair_set_1_df.label.value_counts()[1])\n",
    "print('No. True cpds:\\t\\t', len(pair_set_1_df[pair_set_1_df.label == 1].cpd.unique()))\n",
    "print('No. True genes:\\t\\t', len(pair_set_1_df[pair_set_1_df.label == 1].target.unique()))\n",
    "print('\\nNo. False interactions:\\t', pair_set_1_df.label.value_counts()[0])\n",
    "print('No. False cpds:\\t\\t', len(pair_set_1_df[pair_set_1_df.label == 0].cpd.unique()))\n",
    "print('No. False genes:\\t', len(pair_set_1_df[pair_set_1_df.label == 0].target.unique()))"
   ]
  },
  {
   "cell_type": "markdown",
   "metadata": {},
   "source": [
    "## 2. Identify same-cell cpd-KD pairs (pair set 2)\n",
    "\n",
    "The second of several filtering steps, here we filter out cpd-KD pairs that have not both been tested in at least one common cell line.\n",
    "\n",
    "### 2a. Signature quality filter\n",
    "\n",
    "This step of finding common cells for all 100 million potential cpd-kd pairs is very slow. To speed things up we'll apply the signature quality filter here, rather than later on in the pipeline. We'll also store the high-quality signatures in dictionaries so that we can look them up quickly."
   ]
  },
  {
   "cell_type": "code",
   "execution_count": 11,
   "metadata": {},
   "outputs": [
    {
     "name": "stderr",
     "output_type": "stream",
     "text": [
      "/Users/Nico/anaconda3/lib/python3.6/site-packages/IPython/core/interactiveshell.py:2850: DtypeWarning: Columns (4,6,10) have mixed types. Specify dtype option on import or set low_memory=False.\n",
      "  if self.run_code(code, result):\n"
     ]
    }
   ],
   "source": [
    "# load the signature information\n",
    "all_sig_info = pd.DataFrame.from_csv('checkpoint_files/all_sig_info.csv')\n",
    "all_cpd_sig_info = all_sig_info[all_sig_info.pert_type == 'trt_cp'].copy()\n",
    "all_kd_sig_info = all_sig_info[all_sig_info.pert_type == 'trt_sh'].copy()"
   ]
  },
  {
   "cell_type": "code",
   "execution_count": 12,
   "metadata": {
    "collapsed": true
   },
   "outputs": [],
   "source": [
    "# data quality parameters \n",
    "pct_self_rank_cutoff = 0.05\n",
    "distill_cc_cutoff = 0.2\n",
    "\n",
    "# filter the data\n",
    "good_cpd_sig_info = all_cpd_sig_info[(all_cpd_sig_info.distil_cc_q75 >= distill_cc_cutoff) &\n",
    "                                     (all_cpd_sig_info.pct_self_rank_q25 <= pct_self_rank_cutoff)].copy()\n",
    "good_kd_sig_info = all_kd_sig_info[(all_kd_sig_info.distil_cc_q75 >= distill_cc_cutoff) &\n",
    "                                   (all_kd_sig_info.pct_self_rank_q25 <= pct_self_rank_cutoff)].copy()"
   ]
  },
  {
   "cell_type": "code",
   "execution_count": 17,
   "metadata": {},
   "outputs": [
    {
     "data": {
      "application/vnd.jupyter.widget-view+json": {
       "model_id": "ced9d088c5484b10b8e5e13d6e44caa6"
      }
     },
     "metadata": {},
     "output_type": "display_data"
    },
    {
     "data": {
      "application/vnd.jupyter.widget-view+json": {
       "model_id": "cf62f65731294a31b96f612b66d26c3c"
      }
     },
     "metadata": {},
     "output_type": "display_data"
    }
   ],
   "source": [
    "# create a dictionary of the good signatures so we can \n",
    "# look them up quickly by cpd/kd\n",
    "good_cpds = set(good_cpd_sig_info.pert_id.unique())\n",
    "good_cpd_sig_info_dict = {}\n",
    "for cpd in log_progress(good_cpds):\n",
    "    good_cpd_sig_info_dict[cpd] = good_cpd_sig_info[good_cpd_sig_info.pert_id == cpd].copy()\n",
    "    \n",
    "good_kds = set(good_kd_sig_info.pert_iname.unique())\n",
    "good_kd_sig_info_dict = {}\n",
    "for kd in log_progress(good_kds):\n",
    "    good_kd_sig_info_dict[kd] = good_kd_sig_info[good_kd_sig_info.pert_iname == kd].copy()"
   ]
  },
  {
   "cell_type": "code",
   "execution_count": 14,
   "metadata": {},
   "outputs": [
    {
     "data": {
      "application/vnd.jupyter.widget-view+json": {
       "model_id": "9ddc1f3eedd14a299a4a43d63556355a"
      }
     },
     "metadata": {},
     "output_type": "display_data"
    },
    {
     "data": {
      "application/vnd.jupyter.widget-view+json": {
       "model_id": "083a0834c1f4435a90bd5f63525c022c"
      }
     },
     "metadata": {},
     "output_type": "display_data"
    }
   ],
   "source": [
    "# select representative sigs for good cpds\n",
    "repr_cpd_sig_info_dict = {}\n",
    "for cpd, good_sig_df in log_progress(good_cpd_sig_info_dict.items()):\n",
    "    repr_cpd_sigs_df = pd.DataFrame(columns=good_sig_df.columns)\n",
    "    for cell_line in good_sig_df.cell_id.unique():\n",
    "        candidate_sigs = good_sig_df[good_sig_df.cell_id == cell_line]\n",
    "        repr_sig = candidate_sigs.loc[candidate_sigs['tas'].idxmax()].copy()\n",
    "        repr_cpd_sigs_df = repr_cpd_sigs_df.append(repr_sig)\n",
    "    repr_cpd_sig_info_dict[cpd] = repr_cpd_sigs_df\n",
    "\n",
    "# select representative kd sigs for good kds\n",
    "repr_kd_sig_info_dict = {}\n",
    "for kd, good_sig_df in log_progress(good_kd_sig_info_dict.items()):\n",
    "    repr_kd_sigs_df = pd.DataFrame(columns=good_sig_df.columns)\n",
    "    for cell_line in good_sig_df.cell_id.unique():\n",
    "        candidate_sigs = good_sig_df[good_sig_df.cell_id == cell_line]\n",
    "        repr_sig = candidate_sigs.loc[candidate_sigs['tas'].idxmax()].copy()\n",
    "        repr_kd_sigs_df = repr_kd_sigs_df.append(repr_sig)\n",
    "    repr_kd_sig_info_dict[kd] = repr_kd_sigs_df"
   ]
  },
  {
   "cell_type": "markdown",
   "metadata": {},
   "source": [
    "### 2b. Identify pairs w/ high quality sigs (both cpd and kd)"
   ]
  },
  {
   "cell_type": "code",
   "execution_count": null,
   "metadata": {},
   "outputs": [
    {
     "data": {
      "application/vnd.jupyter.widget-view+json": {
       "model_id": "e46e6a2870cf465f9e50276ffd739445"
      }
     },
     "metadata": {},
     "output_type": "display_data"
    }
   ],
   "source": [
    "cpd_2_, target_2_, label_2_, common_cells_2_ = [], [], [], []\n",
    "\n",
    "for index, row in log_progress(pair_set_1_df.iterrows(), every=5000):\n",
    "\n",
    "    # bookmark to (hopfeully) save time\n",
    "    curr_cpd = ''\n",
    "    curr_cpd_sigs_df = ''\n",
    "    curr_cpd_cells = ''\n",
    "    \n",
    "    # extract signatures\n",
    "    cpd = row.cpd\n",
    "    if cpd in good_cpds:\n",
    "        target = row.target\n",
    "        if target in good_kds: \n",
    "            \n",
    "            # check if we need to load data for new cpd\n",
    "            if not cpd == curr_cpd:\n",
    "                curr_cpd = cpd\n",
    "                curr_cpd_sigs_df = repr_cpd_sig_info_dict[curr_cpd]\n",
    "                curr_cpd_cells = set(curr_cpd_sigs_df.cell_id.unique())\n",
    "            \n",
    "            # load data for target\n",
    "            kd_sigs = repr_kd_sig_info_dict[target]\n",
    "            kd_cells = set(kd_sigs.cell_id.unique())\n",
    "            \n",
    "            # compare cell lines\n",
    "            common_cells = curr_cpd_cells & kd_cells\n",
    "            if len(common_cells) > 0:\n",
    "                cpd_2_.append(cpd)\n",
    "                target_2_.append(target)\n",
    "                label_2_.append(row.label)\n",
    "                common_cells_2_.append(common_cells)"
   ]
  },
  {
   "cell_type": "code",
   "execution_count": null,
   "metadata": {
    "collapsed": true
   },
   "outputs": [],
   "source": [
    "pair_set_2_df = pd.DataFrame({'cpd': cpd_2_, 'target': target_2_, 'label': label_2_})\n",
    "pair_set_2_df.to_csv('checkpoint_files/pair_set_2_df.csv')"
   ]
  },
  {
   "cell_type": "code",
   "execution_count": null,
   "metadata": {
    "collapsed": true
   },
   "outputs": [],
   "source": [
    "print('Pair set 2 statistics\\n')\n",
    "print('No. True interactions:\\t', pair_set_2_df.label.value_counts()[1])\n",
    "print('No. True cpds:\\t\\t', len(pair_set_2_df[pair_set_2_df.label == 1].cpd.unique()))\n",
    "print('No. True genes:\\t\\t', len(pair_set_2_df[pair_set_2_df.label == 1].target.unique()))\n",
    "print('\\nNo. False interactions:\\t', pair_set_2_df.label.value_counts()[0])\n",
    "print('No. False cpds:\\t\\t', len(pair_set_2_df[pair_set_2_df.label == 0].cpd.unique()))\n",
    "print('No. False genes:\\t', len(pair_set_2_df[pair_set_2_df.label == 0].target.unique()))"
   ]
  },
  {
   "cell_type": "markdown",
   "metadata": {},
   "source": [
    "## 3. Identify cpd-KD pairs with interaction partners (pair set 3)\n",
    "\n",
    "The third of several filtering steps, here we filter out cpd-KD pairs for which we do not know any interaction partners for the target."
   ]
  },
  {
   "cell_type": "code",
   "execution_count": null,
   "metadata": {
    "collapsed": true
   },
   "outputs": [],
   "source": [
    "# load STRING 4.0 database\n",
    "# 355319.0 high confidence interactions for 14893 genes\n",
    "string_gene_interactions_700 = pd.DataFrame.from_csv('checkpoint_files/string_gene_interactions_700.csv')\n",
    "string_genes = set(string_gene_interactions_700.gene_1.unique())"
   ]
  },
  {
   "cell_type": "code",
   "execution_count": null,
   "metadata": {
    "collapsed": true
   },
   "outputs": [],
   "source": [
    "# convert string interactions to dictionary of sets for fast lookup\n",
    "string_interactions_dict = {}\n",
    "for gene in log_progress(string_genes):\n",
    "    partners = string_gene_interactions_700[string_gene_interactions_700.gene_1 == target].gene_2\n",
    "    string_interactions_dict[gene] = set(partners)"
   ]
  },
  {
   "cell_type": "code",
   "execution_count": null,
   "metadata": {
    "collapsed": true
   },
   "outputs": [],
   "source": [
    "cpd_3_, target_3_, label_3_, common_cells_3_ = [], [], [], []\n",
    "\n",
    "for index, row in log_progress(pair_set_2_df.iterrows(), every=100):\n",
    "    if row.target in string_genes:\n",
    "        cpd_3_.append(row.cpd)\n",
    "        target_3_.append(row.target)\n",
    "        label_3_.append(row.label)\n",
    "        common_cells_3_.append(common_cells_2_[index])"
   ]
  },
  {
   "cell_type": "code",
   "execution_count": null,
   "metadata": {
    "collapsed": true
   },
   "outputs": [],
   "source": [
    "pair_set_3_df = pd.DataFrame({'cpd': cpd_3_, 'target': target_3_, 'label': label_3_})\n",
    "pair_set_3_df.to_csv('checkpoint_files/pair_set_3_df.csv')"
   ]
  },
  {
   "cell_type": "code",
   "execution_count": null,
   "metadata": {
    "collapsed": true
   },
   "outputs": [],
   "source": [
    "print('Pair set 3 statistics\\n')\n",
    "print('No. True interactions:\\t', pair_set_3_df.label.value_counts()[1])\n",
    "print('No. True cpds:\\t\\t', len(pair_set_3_df[pair_set_3_df.label == 1].cpd.unique()))\n",
    "print('No. True genes:\\t\\t', len(pair_set_3_df[pair_set_3_df.label == 1].target.unique()))\n",
    "print('\\nNo. False interactions:\\t', pair_set_3_df.label.value_counts()[0])\n",
    "print('No. False cpds:\\t\\t', len(pair_set_3_df[pair_set_3_df.label == 0].cpd.unique()))\n",
    "print('No. False genes:\\t', len(pair_set_3_df[pair_set_3_df.label == 0].target.unique()))"
   ]
  },
  {
   "cell_type": "markdown",
   "metadata": {},
   "source": [
    "## 4. Identify cpd-KD pairs with same-cell interaction partner KDs (pair set 4)\n",
    "\n",
    "The fourth of several filtering steps, here we filter out cpd-KD pairs for which the target's interaction partners were not knocked down in any of the same cells as the cpd-target pair"
   ]
  },
  {
   "cell_type": "code",
   "execution_count": null,
   "metadata": {
    "collapsed": true
   },
   "outputs": [],
   "source": [
    "cpd_4_, target_4_, common_cells_4_, common_partners_4_ = [], [], [], []\n",
    "\n",
    "for index, row in log_progress(pair_set_3_df.iterrows(), every=100):\n",
    "    common_cells = common_cells_3_[index]\n",
    "    target = row.target\n",
    "    common_partners_dict = {}\n",
    "    \n",
    "    # find interaction partner signatures\n",
    "    partners = string_interactions_dict[target]\n",
    "    partner_sigs = pd.concat([ repr_kd_sig_info_dict[p] for p in partners ], ignore_index=True)\n",
    "    \n",
    "    print(partner_sigs)\n",
    "    break\n",
    "    \n",
    "    # repr_kd_sig_info_dict[target]\n",
    "    #partner_sigs = all_kd_sig_info[all_kd_sig_info.pert_iname.isin(partners)]\n",
    "    \n",
    "    # group by cell line\n",
    "    for cell_line in common_cells:\n",
    "        partner_cell_sigs = partner_sigs[partner_sigs.cell_id == cell_line]\n",
    "        cell_partners = partner_cell_sigs.pert_iname.unique()\n",
    "        if len(cell_partners) > 0:\n",
    "            # store in dictionary\n",
    "            common_partners_dict[cell_line] = cell_partners\n",
    "    \n",
    "    # make sure we have partner KDs in at least one cell line\n",
    "    if len(common_partners_dict.keys()) > 0:\n",
    "        common_cells_4 = set(common_partners_dict.keys())\n",
    "        cpd_4_.append(row.cpd)\n",
    "        target_4_.append(target)\n",
    "        common_cells_4_.append(common_cells_4)\n",
    "        common_partners_4_.append(common_partners_dict)"
   ]
  },
  {
   "cell_type": "code",
   "execution_count": null,
   "metadata": {
    "collapsed": true
   },
   "outputs": [],
   "source": [
    "pair_set_4_df = pd.DataFrame({'cpd': cpd_4_, 'target': target_4_})\n",
    "print('Pair set 4 statistics')\n",
    "print('No. unique cpds:\\t', len(pair_set_4_df.cpd.unique()))\n",
    "print('No. unique KDs:\\t\\t', len(pair_set_4_df.target.unique()))\n",
    "print('No. interactions:\\t', pair_set_4_df.shape[0])"
   ]
  },
  {
   "cell_type": "markdown",
   "metadata": {},
   "source": [
    "## 5. Signature quality of cpd (pair set 5)\n",
    "\n",
    "Now we'll look at how the size of the training set changes as we place more stringent requirements on the quality of the expression signatures for the cpd in the pair. Next we'll enforce the same signature quality requirements on the KD and the interaction partners."
   ]
  },
  {
   "cell_type": "code",
   "execution_count": null,
   "metadata": {
    "collapsed": true
   },
   "outputs": [],
   "source": [
    "# data quality parameters \n",
    "pct_self_rank_cutoff = 0.05\n",
    "distill_cc_cutoff = 0.2"
   ]
  },
  {
   "cell_type": "code",
   "execution_count": null,
   "metadata": {
    "collapsed": true
   },
   "outputs": [],
   "source": [
    "cpd_5_, target_5_, common_cells_5_, common_partners_5_ = [], [], [], []\n",
    "\n",
    "for index, row in log_progress(pair_set_4_df.iterrows(), every=1):\n",
    "    cpd = row.cpd\n",
    "    target = row.target\n",
    "    common_cells = common_cells_4_[index]\n",
    "    \n",
    "    # new common cells and partners after filtering\n",
    "    common_cells_5 = set()\n",
    "    common_partners_dict_5 = {}\n",
    "    \n",
    "    # check if criteria are met in each cell line\n",
    "    for cell_line in common_cells:\n",
    "        cpd_cell_sigs = all_cpd_sig_info[(all_cpd_sig_info.pert_id == cpd) &\n",
    "                                         (all_cpd_sig_info.cell_id == cell_line)]\n",
    "        good_cpd_cell_sigs = cpd_cell_sigs[(cpd_cell_sigs.distil_cc_q75 >= distill_cc_cutoff) &\n",
    "                                           (cpd_cell_sigs.pct_self_rank_q25 <= pct_self_rank_cutoff)]\n",
    "        \n",
    "        # if the cell line has at least one high quality cpd sig\n",
    "        if len(good_cpd_cell_sigs) > 0:\n",
    "            common_cells_5.add(cell_line)\n",
    "            common_partners_dict_5[cell_line] = common_partners_4_[index][cell_line]\n",
    "        \n",
    "    # if we have at least one good cell line for the cpd\n",
    "    if len(common_cells_5) > 0:\n",
    "        cpd_5_.append(cpd)\n",
    "        target_5_.append(target)\n",
    "        common_cells_5_.append(common_cells_5)\n",
    "        common_partners_5_.append(common_partners_dict_5)"
   ]
  },
  {
   "cell_type": "code",
   "execution_count": null,
   "metadata": {
    "collapsed": true
   },
   "outputs": [],
   "source": [
    "pair_set_5_df = pd.DataFrame({'cpd': cpd_5_, 'target': target_5_})\n",
    "print('Pair set 5 statistics')\n",
    "print('No. unique cpds:\\t', len(pair_set_5_df.cpd.unique()))\n",
    "print('No. unique KDs:\\t\\t', len(pair_set_5_df.target.unique()))\n",
    "print('No. interactions:\\t', pair_set_5_df.shape[0])"
   ]
  },
  {
   "cell_type": "markdown",
   "metadata": {},
   "source": [
    "## 6. Signature quality of KD (pair set 6)\n",
    "\n",
    "Now we'll look at how the size of the training set changes as we place more stringent requirements on the quality of the expression signatures for the KD in the pair. Next we'll enforce the same signature quality requirements on the interaction partners."
   ]
  },
  {
   "cell_type": "code",
   "execution_count": null,
   "metadata": {
    "collapsed": true
   },
   "outputs": [],
   "source": [
    "cpd_6_, target_6_, common_cells_6_, common_partners_6_ = [], [], [], []\n",
    "\n",
    "for index, row in log_progress(pair_set_5_df.iterrows(), every=1):\n",
    "    cpd = row.cpd\n",
    "    target = row.target\n",
    "    common_cells = common_cells_5_[index]\n",
    "    \n",
    "    # new common cells and partners after filtering\n",
    "    common_cells_6 = set()\n",
    "    common_partners_dict_6 = {}\n",
    "    \n",
    "    # check if criteria are met in each cell line\n",
    "    for cell_line in common_cells:\n",
    "        kd_cell_sigs = all_kd_sig_info[(all_kd_sig_info.pert_iname == target) &\n",
    "                                       (all_kd_sig_info.cell_id == cell_line)]\n",
    "        good_kd_cell_sigs = kd_cell_sigs[(kd_cell_sigs.distil_cc_q75 >= distill_cc_cutoff) &\n",
    "                                         (kd_cell_sigs.pct_self_rank_q25 <= pct_self_rank_cutoff)]\n",
    "        \n",
    "        # if the cell line has at least one high quality kd sig\n",
    "        if len(good_kd_cell_sigs) > 0:\n",
    "            common_cells_6.add(cell_line)\n",
    "            common_partners_dict_6[cell_line] = common_partners_5_[index][cell_line]\n",
    "        \n",
    "    # if we have at least one good cell line for the kd\n",
    "    if len(common_cells_6) > 0:\n",
    "        cpd_6_.append(cpd)\n",
    "        target_6_.append(target)\n",
    "        common_cells_6_.append(common_cells_6)\n",
    "        common_partners_6_.append(common_partners_dict_6)"
   ]
  },
  {
   "cell_type": "code",
   "execution_count": null,
   "metadata": {
    "collapsed": true
   },
   "outputs": [],
   "source": [
    "pair_set_6_df = pd.DataFrame({'cpd': cpd_6_, 'target': target_6_})\n",
    "print('Pair set 6 statistics')\n",
    "print('No. unique cpds:\\t', len(pair_set_6_df.cpd.unique()))\n",
    "print('No. unique KDs:\\t\\t', len(pair_set_6_df.target.unique()))\n",
    "print('No. interactions:\\t', pair_set_6_df.shape[0])"
   ]
  },
  {
   "cell_type": "markdown",
   "metadata": {},
   "source": [
    "## 7. Signature quality of interaction partners (pair set 7)\n",
    "\n",
    "Now we'll look at how the size of the training set changes as we place more stringent requirements on the quality of the expression signatures for the interaction partners of the target."
   ]
  },
  {
   "cell_type": "code",
   "execution_count": null,
   "metadata": {
    "collapsed": true
   },
   "outputs": [],
   "source": [
    "cpd_7_, target_7_, common_cells_7_, common_partners_7_ = [], [], [], []\n",
    "\n",
    "for index, row in log_progress(pair_set_6_df.iterrows(), every=1):\n",
    "    cpd = row.cpd\n",
    "    target = row.target\n",
    "    common_cells = common_cells_6_[index]\n",
    "    common_partners_dict = common_partners_6_[index]\n",
    "    \n",
    "    # new common cells and partners after filtering\n",
    "    common_cells_7 = set()\n",
    "    common_partners_dict_7 = {}\n",
    "    \n",
    "    # check if criteria are met in each cell line\n",
    "    for cell_line in common_cells:\n",
    "        cell_partners = common_partners_dict[cell_line]\n",
    "        partner_cell_sigs = all_kd_sig_info[(all_kd_sig_info.pert_iname.isin(cell_partners)) &\n",
    "                                            (all_kd_sig_info.cell_id == cell_line)]\n",
    "        good_partner_cell_sigs = partner_cell_sigs[(partner_cell_sigs.distil_cc_q75 >= distill_cc_cutoff) &\n",
    "                                                   (partner_cell_sigs.pct_self_rank_q25 <= pct_self_rank_cutoff)]\n",
    "        \n",
    "        # if the cell line has at least one high quality partner sig\n",
    "        if len(good_partner_cell_sigs) > 0:\n",
    "            common_cells_7.add(cell_line)\n",
    "            good_partners = good_partner_cell_sigs.pert_iname.unique()\n",
    "            common_partners_dict_7[cell_line] = good_partners\n",
    "        \n",
    "    # if we have at least one good cell line for the cpd\n",
    "    if len(common_cells_7) > 0:\n",
    "        cpd_7_.append(cpd)\n",
    "        target_7_.append(target)\n",
    "        common_cells_7_.append(common_cells_7)\n",
    "        common_partners_7_.append(common_partners_dict_7)"
   ]
  },
  {
   "cell_type": "code",
   "execution_count": null,
   "metadata": {
    "collapsed": true
   },
   "outputs": [],
   "source": [
    "pair_set_7_df = pd.DataFrame({'cpd': cpd_7_, 'target': target_7_})\n",
    "print('Pair set 7 statistics')\n",
    "print('No. unique cpds:\\t', len(pair_set_7_df.cpd.unique()))\n",
    "print('No. unique KDs:\\t\\t', len(pair_set_7_df.target.unique()))\n",
    "print('No. interactions:\\t', pair_set_7_df.shape[0])"
   ]
  },
  {
   "cell_type": "code",
   "execution_count": null,
   "metadata": {
    "collapsed": true
   },
   "outputs": [],
   "source": [
    "# save to file\n",
    "pickle.dump(pair_set_7_df, open('checkpoint_files/pair_set_7_df.sav', 'wb'))\n",
    "pickle.dump(common_cells_7_, open('checkpoint_files/common_cells_7_.sav', 'wb'))\n",
    "pickle.dump(common_partners_7_, open('checkpoint_files/common_partners_7_', 'wb'))"
   ]
  },
  {
   "cell_type": "markdown",
   "metadata": {},
   "source": [
    "## Cell count anaylsis"
   ]
  },
  {
   "cell_type": "code",
   "execution_count": 12,
   "metadata": {
    "collapsed": true
   },
   "outputs": [],
   "source": [
    "# load filtered data\n",
    "pair_set_7_df = pickle.load(open('checkpoint_files/pair_set_7_df.sav', 'rb'))\n",
    "common_cells_7_ = pickle.load(open('checkpoint_files/common_cells_7_.sav', 'rb'))\n",
    "common_partners_7_ = pickle.load(open('checkpoint_files/common_partners_7_', 'rb'))"
   ]
  },
  {
   "cell_type": "code",
   "execution_count": 13,
   "metadata": {},
   "outputs": [
    {
     "data": {
      "image/png": "[encoded data removed]",
      "text/plain": [
       "<matplotlib.figure.Figure at 0x1482b5080>"
      ]
     },
     "metadata": {},
     "output_type": "display_data"
    }
   ],
   "source": [
    "# which cell lines are most common?\n",
    "all_cell_list = np.array(functools.reduce( lambda x,y: x+y, [ list(s) for s in common_cells_7_ ] ))\n",
    "cell_line_counts = pd.Series(all_cell_list).value_counts()\n",
    "cell_line_counts.plot.bar()\n",
    "plt.show()"
   ]
  },
  {
   "cell_type": "code",
   "execution_count": 14,
   "metadata": {},
   "outputs": [
    {
     "data": {
      "image/png": "[encoded data removed]",
      "text/plain": [
       "<matplotlib.figure.Figure at 0x1404eb320>"
      ]
     },
     "metadata": {},
     "output_type": "display_data"
    }
   ],
   "source": [
    "# how many pairs tested in at least n cell lines?\n",
    "num_common_cells_7 = np.array([ len(cells) for cells in common_cells_7_])\n",
    "pair_set_7_df['ncells'] = num_common_cells_7\n",
    "ncell_counts = pair_set_7_df.ncells.value_counts()\n",
    "cum_ncell_counts = [0]\n",
    "for i in ncell_counts.index:\n",
    "    cum_ncell_counts.append(sum(ncell_counts.loc[i:]))\n",
    "cum_ncell_counts = pd.Series(cum_ncell_counts)\n",
    "cum_ncell_counts.plot.bar()\n",
    "plt.show()"
   ]
  },
  {
   "cell_type": "markdown",
   "metadata": {},
   "source": [
    "\n"
   ]
  },
  {
   "cell_type": "markdown",
   "metadata": {},
   "source": [
    "## 8. Most common cell lines (pair set 8)\n",
    "Three of the cell lines have very few drugs. We can ignore them and just focus on data from the 9 most common cell lines."
   ]
  },
  {
   "cell_type": "code",
   "execution_count": 15,
   "metadata": {
    "collapsed": true
   },
   "outputs": [],
   "source": [
    "top_9_cell_lines = set(cell_line_counts.index[:9])"
   ]
  },
  {
   "cell_type": "code",
   "execution_count": 16,
   "metadata": {},
   "outputs": [
    {
     "data": {
      "application/vnd.jupyter.widget-view+json": {
       "model_id": "6f0c026903104cbaa4be7623e0144674"
      }
     },
     "metadata": {},
     "output_type": "display_data"
    }
   ],
   "source": [
    "# filter out pairs not in the top-9 cell lines\n",
    "cpd_8_, target_8_, common_cells_8_, common_partners_8_ = [], [], [], []\n",
    "\n",
    "for index, row in log_progress(pair_set_7_df.iterrows(), every=1):\n",
    "    common_cells = common_cells_7_[index]\n",
    "    top_common_cells = common_cells & top_9_cell_lines\n",
    "    if len(top_common_cells) > 0:\n",
    "        cpd_8_.append(row.cpd)\n",
    "        target_8_.append(row.target)\n",
    "        common_cells_8_.append(top_common_cells)\n",
    "        \n",
    "        common_partners = {}\n",
    "        for c in top_common_cells:\n",
    "            common_partners[c] = common_partners_7_[index][c]\n",
    "        common_partners_8_.append(common_partners)"
   ]
  },
  {
   "cell_type": "code",
   "execution_count": 17,
   "metadata": {},
   "outputs": [
    {
     "name": "stdout",
     "output_type": "stream",
     "text": [
      "Pair set 8 statistics\n",
      "No. unique cpds:\t 628\n",
      "No. unique KDs:\t\t 453\n",
      "No. interactions:\t 2777\n"
     ]
    }
   ],
   "source": [
    "pair_set_8_df = pd.DataFrame({'cpd': cpd_8_, 'target': target_8_})\n",
    "print('Pair set 8 statistics')\n",
    "print('No. unique cpds:\\t', len(pair_set_8_df.cpd.unique()))\n",
    "print('No. unique KDs:\\t\\t', len(pair_set_8_df.target.unique()))\n",
    "print('No. interactions:\\t', pair_set_8_df.shape[0])"
   ]
  },
  {
   "cell_type": "code",
   "execution_count": 18,
   "metadata": {},
   "outputs": [
    {
     "data": {
      "image/png": "[encoded data removed]",
      "text/plain": [
       "<matplotlib.figure.Figure at 0x1401d1f28>"
      ]
     },
     "metadata": {},
     "output_type": "display_data"
    }
   ],
   "source": [
    "# which cell lines are most common?\n",
    "all_cell_list = np.array(functools.reduce( lambda x,y: x+y, [ list(s) for s in common_cells_8_ ] ))\n",
    "cell_line_counts = pd.Series(all_cell_list).value_counts()\n",
    "cell_line_counts.plot.bar()\n",
    "plt.show()"
   ]
  },
  {
   "cell_type": "code",
   "execution_count": 19,
   "metadata": {},
   "outputs": [
    {
     "data": {
      "image/png": "[encoded data removed]",
      "text/plain": [
       "<matplotlib.figure.Figure at 0x140179ac8>"
      ]
     },
     "metadata": {},
     "output_type": "display_data"
    },
    {
     "name": "stdout",
     "output_type": "stream",
     "text": [
      "0       0\n",
      "1    2777\n",
      "2    1885\n",
      "3    1303\n",
      "4    1029\n",
      "5     797\n",
      "6     579\n",
      "7     385\n",
      "8     215\n",
      "9      67\n",
      "dtype: int64\n"
     ]
    }
   ],
   "source": [
    "# how many pairs tested in at least n cell lines?\n",
    "num_common_cells_8 = np.array([ len(cells) for cells in common_cells_8_])\n",
    "pair_set_8_df['ncells'] = num_common_cells_8\n",
    "ncell_counts = pair_set_8_df.ncells.value_counts()\n",
    "cum_ncell_counts = [0]\n",
    "for i in ncell_counts.index:\n",
    "    cum_ncell_counts.append(sum(ncell_counts.loc[i:]))\n",
    "cum_ncell_counts = pd.Series(cum_ncell_counts)\n",
    "cum_ncell_counts.plot.bar()\n",
    "plt.title('Number of pairs vs cell line')\n",
    "plt.show()\n",
    "print(cum_ncell_counts)"
   ]
  },
  {
   "cell_type": "code",
   "execution_count": 20,
   "metadata": {},
   "outputs": [
    {
     "data": {
      "image/png": "[encoded data removed]",
      "text/plain": [
       "<matplotlib.figure.Figure at 0x14499e6a0>"
      ]
     },
     "metadata": {},
     "output_type": "display_data"
    },
    {
     "name": "stdout",
     "output_type": "stream",
     "text": [
      "1    628.0\n",
      "2    371.0\n",
      "3    229.0\n",
      "4    175.0\n",
      "5    128.0\n",
      "6     95.0\n",
      "7     71.0\n",
      "8     44.0\n",
      "9     12.0\n",
      "dtype: float64\n"
     ]
    }
   ],
   "source": [
    "cpd_counts = pd.Series(index=range(1,10))\n",
    "for i in range(1,10):\n",
    "    pairs = pair_set_8_df[pair_set_8_df.ncells >= i]\n",
    "    ncpds = len(pairs.cpd.unique())\n",
    "    cpd_counts[i] = ncpds\n",
    "cpd_counts.plot.bar()\n",
    "plt.title('Number of cpds vs cell line')\n",
    "plt.show()\n",
    "print(cpd_counts)"
   ]
  },
  {
   "cell_type": "code",
   "execution_count": 21,
   "metadata": {
    "collapsed": true
   },
   "outputs": [],
   "source": [
    "# save to file\n",
    "pickle.dump(pair_set_8_df, open('checkpoint_files/pair_set_8_df.sav', 'wb'))\n",
    "pickle.dump(common_cells_8_, open('checkpoint_files/common_cells_8_.sav', 'wb'))\n",
    "pickle.dump(common_partners_8_, open('checkpoint_files/common_partners_8_', 'wb'))"
   ]
  },
  {
   "cell_type": "markdown",
   "metadata": {},
   "source": [
    "___\n",
    "# 9. Minimum of 3 common cell lines (pair set 9)\n",
    "\n",
    "Many of our pairs are tested in only one or two cell lines. These are likely to be very hard to predict with. So, for now, we will only consider pairs with data from three or more common cell lines."
   ]
  },
  {
   "cell_type": "code",
   "execution_count": null,
   "metadata": {
    "collapsed": true
   },
   "outputs": [],
   "source": []
  },
  {
   "cell_type": "code",
   "execution_count": null,
   "metadata": {
    "collapsed": true
   },
   "outputs": [],
   "source": []
  },
  {
   "cell_type": "code",
   "execution_count": null,
   "metadata": {
    "collapsed": true
   },
   "outputs": [],
   "source": []
  },
  {
   "cell_type": "code",
   "execution_count": null,
   "metadata": {
    "collapsed": true
   },
   "outputs": [],
   "source": []
  },
  {
   "cell_type": "code",
   "execution_count": null,
   "metadata": {
    "collapsed": true
   },
   "outputs": [],
   "source": []
  },
  {
   "cell_type": "markdown",
   "metadata": {},
   "source": [
    "___\n",
    "# Extract gene expression signatures\n",
    "\n",
    "### Compounds"
   ]
  },
  {
   "cell_type": "code",
   "execution_count": 165,
   "metadata": {
    "collapsed": true
   },
   "outputs": [],
   "source": [
    "# load filtered data\n",
    "pair_set_8_df = pickle.load(open('checkpoint_files/pair_set_7_df.sav', 'rb'))\n",
    "common_cells_8_ = pickle.load(open('checkpoint_files/common_cells_7_.sav', 'rb'))\n",
    "common_partners_8_ = pickle.load(open('checkpoint_files/common_partners_7_', 'rb'))"
   ]
  },
  {
   "cell_type": "code",
   "execution_count": 200,
   "metadata": {
    "collapsed": true
   },
   "outputs": [],
   "source": [
    "# reference lists\n",
    "top_9_cell_lines = list(top_9_cell_lines)\n",
    "top_9_cell_line_cpds = pair_set_8_df.cpd.unique()\n",
    "top_9_cell_line_targets = pair_set_8_df.target.unique()\n",
    "\n",
    "gene_info_1 = pd.read_csv('data/GSE92742_Broad_LINCS_gene_info.txt', sep='\\t', header=0)\n",
    "lm_genes = gene_info_1[gene_info_1['pr_is_lm'].astype(bool)]\n",
    "lm_gene_ids = lm_genes['pr_gene_id'].astype(str).values"
   ]
  },
  {
   "cell_type": "code",
   "execution_count": 256,
   "metadata": {},
   "outputs": [
    {
     "name": "stderr",
     "output_type": "stream",
     "text": [
      "Widget Javascript not detected.  It may not be installed or enabled properly.\n"
     ]
    },
    {
     "data": {
      "application/vnd.jupyter.widget-view+json": {
       "model_id": "1506eb4fac0046ae857e327e1d1569a0"
      }
     },
     "metadata": {},
     "output_type": "display_data"
    }
   ],
   "source": [
    "# extract cpd sigs\n",
    "top_9_cpd_sigs = all_cpd_sig_info[(all_cpd_sig_info['cell_id'].isin(top_9_cell_lines)) &\n",
    "                                  (all_cpd_sig_info['pert_id'].isin(top_9_cell_line_cpds))]\n",
    "\n",
    "# select representatives\n",
    "repr_top_9_cpd_sigs = pd.DataFrame(columns=top_9_cpd_sigs.columns)\n",
    "for pert_id in log_progress(top_9_cell_line_cpds):\n",
    "    for cell_id in top_9_cell_lines:\n",
    "        candidate_sigs = top_9_cpd_sigs[(top_9_cpd_sigs.pert_id == pert_id) &\n",
    "                                        (top_9_cpd_sigs.cell_id == cell_id)]\n",
    "        good_candidate_sigs = candidate_sigs[(candidate_sigs.distil_cc_q75 >= distill_cc_cutoff) &\n",
    "                                             (candidate_sigs.pct_self_rank_q25 <= pct_self_rank_cutoff)]\n",
    "        if len(good_candidate_sigs) > 0:\n",
    "            repr_sig = good_candidate_sigs.loc[good_candidate_sigs['tas'].idxmax()]\n",
    "            repr_top_9_cpd_sigs = repr_top_9_cpd_sigs.append(repr_sig)"
   ]
  },
  {
   "cell_type": "code",
   "execution_count": 266,
   "metadata": {},
   "outputs": [
    {
     "data": {
      "text/html": [
       "<div>\n",
       "<style>\n",
       "    .dataframe thead tr:only-child th {\n",
       "        text-align: right;\n",
       "    }\n",
       "\n",
       "    .dataframe thead th {\n",
       "        text-align: left;\n",
       "    }\n",
       "\n",
       "    .dataframe tbody tr th {\n",
       "        vertical-align: top;\n",
       "    }\n",
       "</style>\n",
       "<table border=\"1\" class=\"dataframe\">\n",
       "  <thead>\n",
       "    <tr style=\"text-align: right;\">\n",
       "      <th>cid</th>\n",
       "      <th>CPC004_A375_6H:BRD-K89997465-001-05-3:10</th>\n",
       "      <th>CPC004_A375_6H:BRD-A69815203-001-05-0:10</th>\n",
       "      <th>CPC005_A375_6H:BRD-A47494775-003-03-0:10</th>\n",
       "      <th>CPC005_A375_6H:BRD-K63630713-001-15-9:10</th>\n",
       "      <th>CPC005_A375_6H:BRD-K64755930-003-02-4:10</th>\n",
       "      <th>CPC004_A375_6H:BRD-A97104540-004-08-5:10</th>\n",
       "      <th>CPC004_A375_6H:BRD-K09602097-001-04-5:10</th>\n",
       "      <th>CPC005_A375_6H:BRD-K65146499-001-14-7:10</th>\n",
       "      <th>CPC005_A375_6H:BRD-K50836978-001-01-7:10</th>\n",
       "      <th>CPC005_A375_6H:BRD-K51465424-003-03-6:10</th>\n",
       "      <th>...</th>\n",
       "      <th>LJP009_PC3_24H:E21</th>\n",
       "      <th>LJP009_PC3_24H:G18</th>\n",
       "      <th>LJP009_PC3_24H:L09</th>\n",
       "      <th>LPROT001_A375_6H:L01</th>\n",
       "      <th>LPROT001_MCF7_6H:K01</th>\n",
       "      <th>LPROT001_PC3_6H:H18</th>\n",
       "      <th>LPROT002_MCF7_6H:H20</th>\n",
       "      <th>REP.A026_HA1E_24H:C09</th>\n",
       "      <th>REP.A026_HA1E_24H:D10</th>\n",
       "      <th>REP.A026_HA1E_24H:F03</th>\n",
       "    </tr>\n",
       "  </thead>\n",
       "  <tbody>\n",
       "    <tr>\n",
       "      <th>10007</th>\n",
       "      <td>0.246128</td>\n",
       "      <td>-0.884828</td>\n",
       "      <td>-2.406841</td>\n",
       "      <td>-0.276369</td>\n",
       "      <td>-2.673422</td>\n",
       "      <td>-0.660713</td>\n",
       "      <td>-0.764945</td>\n",
       "      <td>0.319655</td>\n",
       "      <td>-3.253649</td>\n",
       "      <td>-0.213951</td>\n",
       "      <td>...</td>\n",
       "      <td>0.968474</td>\n",
       "      <td>-0.510815</td>\n",
       "      <td>-0.087325</td>\n",
       "      <td>-0.1917</td>\n",
       "      <td>-0.9115</td>\n",
       "      <td>-3.5535</td>\n",
       "      <td>-0.9865</td>\n",
       "      <td>-0.002179</td>\n",
       "      <td>-0.405487</td>\n",
       "      <td>-0.058607</td>\n",
       "    </tr>\n",
       "    <tr>\n",
       "      <th>1001</th>\n",
       "      <td>0.004896</td>\n",
       "      <td>-0.062786</td>\n",
       "      <td>1.795862</td>\n",
       "      <td>-0.982720</td>\n",
       "      <td>-0.629860</td>\n",
       "      <td>-0.527487</td>\n",
       "      <td>-0.819784</td>\n",
       "      <td>-1.175159</td>\n",
       "      <td>3.122064</td>\n",
       "      <td>-0.681915</td>\n",
       "      <td>...</td>\n",
       "      <td>0.481926</td>\n",
       "      <td>-1.340263</td>\n",
       "      <td>0.046377</td>\n",
       "      <td>0.0650</td>\n",
       "      <td>-0.5532</td>\n",
       "      <td>-0.1200</td>\n",
       "      <td>-0.9039</td>\n",
       "      <td>1.141393</td>\n",
       "      <td>-0.510453</td>\n",
       "      <td>0.887252</td>\n",
       "    </tr>\n",
       "    <tr>\n",
       "      <th>10013</th>\n",
       "      <td>0.165795</td>\n",
       "      <td>-0.539606</td>\n",
       "      <td>1.765759</td>\n",
       "      <td>0.091157</td>\n",
       "      <td>1.409056</td>\n",
       "      <td>0.413121</td>\n",
       "      <td>0.203825</td>\n",
       "      <td>-0.183082</td>\n",
       "      <td>-0.716842</td>\n",
       "      <td>0.392804</td>\n",
       "      <td>...</td>\n",
       "      <td>0.648107</td>\n",
       "      <td>0.589351</td>\n",
       "      <td>-0.803818</td>\n",
       "      <td>0.5969</td>\n",
       "      <td>-0.8921</td>\n",
       "      <td>-3.4834</td>\n",
       "      <td>-0.1152</td>\n",
       "      <td>-0.215681</td>\n",
       "      <td>-0.234399</td>\n",
       "      <td>0.645195</td>\n",
       "    </tr>\n",
       "    <tr>\n",
       "      <th>10038</th>\n",
       "      <td>-0.208777</td>\n",
       "      <td>-0.727963</td>\n",
       "      <td>-1.403634</td>\n",
       "      <td>0.701902</td>\n",
       "      <td>1.469781</td>\n",
       "      <td>1.332837</td>\n",
       "      <td>1.471901</td>\n",
       "      <td>0.336726</td>\n",
       "      <td>-2.547382</td>\n",
       "      <td>0.862813</td>\n",
       "      <td>...</td>\n",
       "      <td>0.676413</td>\n",
       "      <td>-1.309107</td>\n",
       "      <td>-0.803498</td>\n",
       "      <td>5.8980</td>\n",
       "      <td>2.0580</td>\n",
       "      <td>1.0855</td>\n",
       "      <td>0.2946</td>\n",
       "      <td>-0.310775</td>\n",
       "      <td>0.206856</td>\n",
       "      <td>-0.125399</td>\n",
       "    </tr>\n",
       "    <tr>\n",
       "      <th>10046</th>\n",
       "      <td>0.105232</td>\n",
       "      <td>-0.086188</td>\n",
       "      <td>0.449683</td>\n",
       "      <td>-0.555949</td>\n",
       "      <td>-0.310975</td>\n",
       "      <td>-0.316771</td>\n",
       "      <td>0.006420</td>\n",
       "      <td>-0.210040</td>\n",
       "      <td>2.728706</td>\n",
       "      <td>0.862758</td>\n",
       "      <td>...</td>\n",
       "      <td>-0.763923</td>\n",
       "      <td>-0.448527</td>\n",
       "      <td>-0.566167</td>\n",
       "      <td>-2.3078</td>\n",
       "      <td>1.1517</td>\n",
       "      <td>-1.2228</td>\n",
       "      <td>0.3952</td>\n",
       "      <td>4.949234</td>\n",
       "      <td>-0.123612</td>\n",
       "      <td>3.239362</td>\n",
       "    </tr>\n",
       "  </tbody>\n",
       "</table>\n",
       "<p>5 rows × 1830 columns</p>\n",
       "</div>"
      ],
      "text/plain": [
       "cid    CPC004_A375_6H:BRD-K89997465-001-05-3:10  \\\n",
       "10007                                  0.246128   \n",
       "1001                                   0.004896   \n",
       "10013                                  0.165795   \n",
       "10038                                 -0.208777   \n",
       "10046                                  0.105232   \n",
       "\n",
       "cid    CPC004_A375_6H:BRD-A69815203-001-05-0:10  \\\n",
       "10007                                 -0.884828   \n",
       "1001                                  -0.062786   \n",
       "10013                                 -0.539606   \n",
       "10038                                 -0.727963   \n",
       "10046                                 -0.086188   \n",
       "\n",
       "cid    CPC005_A375_6H:BRD-A47494775-003-03-0:10  \\\n",
       "10007                                 -2.406841   \n",
       "1001                                   1.795862   \n",
       "10013                                  1.765759   \n",
       "10038                                 -1.403634   \n",
       "10046                                  0.449683   \n",
       "\n",
       "cid    CPC005_A375_6H:BRD-K63630713-001-15-9:10  \\\n",
       "10007                                 -0.276369   \n",
       "1001                                  -0.982720   \n",
       "10013                                  0.091157   \n",
       "10038                                  0.701902   \n",
       "10046                                 -0.555949   \n",
       "\n",
       "cid    CPC005_A375_6H:BRD-K64755930-003-02-4:10  \\\n",
       "10007                                 -2.673422   \n",
       "1001                                  -0.629860   \n",
       "10013                                  1.409056   \n",
       "10038                                  1.469781   \n",
       "10046                                 -0.310975   \n",
       "\n",
       "cid    CPC004_A375_6H:BRD-A97104540-004-08-5:10  \\\n",
       "10007                                 -0.660713   \n",
       "1001                                  -0.527487   \n",
       "10013                                  0.413121   \n",
       "10038                                  1.332837   \n",
       "10046                                 -0.316771   \n",
       "\n",
       "cid    CPC004_A375_6H:BRD-K09602097-001-04-5:10  \\\n",
       "10007                                 -0.764945   \n",
       "1001                                  -0.819784   \n",
       "10013                                  0.203825   \n",
       "10038                                  1.471901   \n",
       "10046                                  0.006420   \n",
       "\n",
       "cid    CPC005_A375_6H:BRD-K65146499-001-14-7:10  \\\n",
       "10007                                  0.319655   \n",
       "1001                                  -1.175159   \n",
       "10013                                 -0.183082   \n",
       "10038                                  0.336726   \n",
       "10046                                 -0.210040   \n",
       "\n",
       "cid    CPC005_A375_6H:BRD-K50836978-001-01-7:10  \\\n",
       "10007                                 -3.253649   \n",
       "1001                                   3.122064   \n",
       "10013                                 -0.716842   \n",
       "10038                                 -2.547382   \n",
       "10046                                  2.728706   \n",
       "\n",
       "cid    CPC005_A375_6H:BRD-K51465424-003-03-6:10          ...            \\\n",
       "10007                                 -0.213951          ...             \n",
       "1001                                  -0.681915          ...             \n",
       "10013                                  0.392804          ...             \n",
       "10038                                  0.862813          ...             \n",
       "10046                                  0.862758          ...             \n",
       "\n",
       "cid    LJP009_PC3_24H:E21  LJP009_PC3_24H:G18  LJP009_PC3_24H:L09  \\\n",
       "10007            0.968474           -0.510815           -0.087325   \n",
       "1001             0.481926           -1.340263            0.046377   \n",
       "10013            0.648107            0.589351           -0.803818   \n",
       "10038            0.676413           -1.309107           -0.803498   \n",
       "10046           -0.763923           -0.448527           -0.566167   \n",
       "\n",
       "cid    LPROT001_A375_6H:L01  LPROT001_MCF7_6H:K01  LPROT001_PC3_6H:H18  \\\n",
       "10007               -0.1917               -0.9115              -3.5535   \n",
       "1001                 0.0650               -0.5532              -0.1200   \n",
       "10013                0.5969               -0.8921              -3.4834   \n",
       "10038                5.8980                2.0580               1.0855   \n",
       "10046               -2.3078                1.1517              -1.2228   \n",
       "\n",
       "cid    LPROT002_MCF7_6H:H20  REP.A026_HA1E_24H:C09  REP.A026_HA1E_24H:D10  \\\n",
       "10007               -0.9865              -0.002179              -0.405487   \n",
       "1001                -0.9039               1.141393              -0.510453   \n",
       "10013               -0.1152              -0.215681              -0.234399   \n",
       "10038                0.2946              -0.310775               0.206856   \n",
       "10046                0.3952               4.949234              -0.123612   \n",
       "\n",
       "cid    REP.A026_HA1E_24H:F03  \n",
       "10007              -0.058607  \n",
       "1001                0.887252  \n",
       "10013               0.645195  \n",
       "10038              -0.125399  \n",
       "10046               3.239362  \n",
       "\n",
       "[5 rows x 1830 columns]"
      ]
     },
     "execution_count": 266,
     "metadata": {},
     "output_type": "execute_result"
    }
   ],
   "source": [
    "# extract the actual signatures\n",
    "phase_1_sig_ids = parse('data/GSE92742_Broad_LINCS_Level5_COMPZ.MODZ_n473647x12328.gctx', col_meta_only=True).index.values\n",
    "phase_2_sig_ids = parse('data/GSE70138_Broad_LINCS_Level5_COMPZ_n118050x12328_2017-03-06.gctx', col_meta_only=True).index.values\n",
    "\n",
    "# The GCTX files encode the sig IDS as strings of byte strings (why????) so we have to deal with that\n",
    "top_9_cpd_sig_ids = [ str(s.encode('UTF8')) for s  in repr_top_9_cpd_sigs.sig_id.values ]\n",
    "phase_1_top_9_cpd_sig_ids = [ s for s in top_9_cpd_sig_ids if s in phase_1_sig_ids ]\n",
    "phase_2_top_9_cpd_sig_ids = [ s for s in top_9_cpd_sig_ids if s in phase_2_sig_ids ]\n",
    "\n",
    "# extract the actual signatures\n",
    "phase_1_top_9_cpd_sigs = parse('data/GSE92742_Broad_LINCS_Level5_COMPZ.MODZ_n473647x12328.gctx', cid=phase_1_top_9_cpd_sig_ids).data_df\n",
    "phase_2_top_9_cpd_sigs = parse('data/GSE70138_Broad_LINCS_Level5_COMPZ_n118050x12328_2017-03-06.gctx', cid=phase_2_top_9_cpd_sig_ids).data_df\n",
    "phase_2_top_9_cpd_sigs.rename(lambda x: x[2:-1], inplace=True)\n",
    "top_9_cpd_raw_sigs = pd.concat([phase_1_top_9_cpd_sigs, phase_2_top_9_cpd_sigs], axis=1)\n",
    "\n",
    "# discard all but landmark gene values\n",
    "top_9_cpd_lm_sigs = top_9_cpd_raw_sigs[top_9_cpd_raw_sigs.index.isin(lm_gene_ids)].sort_index().copy()\n",
    "\n",
    "# reformat the sig_ids so they are nice strings\n",
    "top_9_cpd_lm_sigs = top_9_cpd_lm_sigs.T.rename(lambda x: x.lstrip('b\\'').rstrip('\\'')).T\n",
    "top_9_cpd_lm_sigs.head()"
   ]
  },
  {
   "cell_type": "code",
   "execution_count": 216,
   "metadata": {},
   "outputs": [
    {
     "name": "stdout",
     "output_type": "stream",
     "text": [
      "(1830, 15)\n",
      "(978, 1830)\n"
     ]
    }
   ],
   "source": [
    "print(repr_top_9_cpd_sigs.shape)\n",
    "print(top_9_cpd_lm_sigs.shape)\n",
    "repr_top_9_cpd_sigs.to_csv('checkpoint_files/repr_top_9_cpd_sigs.csv')\n",
    "top_9_cpd_lm_sigs.to_csv('checkpoint_files/top_9_cpd_lm_sigs.csv')"
   ]
  },
  {
   "cell_type": "markdown",
   "metadata": {},
   "source": [
    "### Knockdowns"
   ]
  },
  {
   "cell_type": "code",
   "execution_count": 213,
   "metadata": {},
   "outputs": [
    {
     "name": "stderr",
     "output_type": "stream",
     "text": [
      "Widget Javascript not detected.  It may not be installed or enabled properly.\n"
     ]
    },
    {
     "data": {
      "application/vnd.jupyter.widget-view+json": {
       "model_id": "144d0adae13249058ce5cdb4000c8011"
      }
     },
     "metadata": {},
     "output_type": "display_data"
    }
   ],
   "source": [
    "# extract KD sigs\n",
    "top_9_kd_sigs = all_kd_sig_info[(all_kd_sig_info['cell_id'].isin(top_9_cell_lines))]\n",
    "top_9_cell_line_kds = top_9_kd_sigs.pert_iname.unique()\n",
    "\n",
    "# select representatives\n",
    "repr_top_9_kd_sigs = pd.DataFrame(columns=top_9_kd_sigs.columns)\n",
    "for pert_iname in log_progress(top_9_cell_line_kds, every=1):\n",
    "    for cell_id in top_9_cell_lines:\n",
    "        candidate_sigs = top_9_kd_sigs[(top_9_kd_sigs.pert_iname == pert_iname) &\n",
    "                                       (top_9_kd_sigs.cell_id == cell_id)]\n",
    "        good_candidate_sigs = candidate_sigs[(candidate_sigs.distil_cc_q75 >= distill_cc_cutoff) &\n",
    "                                             (candidate_sigs.pct_self_rank_q25 <= pct_self_rank_cutoff)]\n",
    "        if len(good_candidate_sigs) > 0:\n",
    "            repr_sig = good_candidate_sigs.loc[good_candidate_sigs['tas'].idxmax()]\n",
    "            repr_top_9_kd_sigs = repr_top_9_kd_sigs.append(repr_sig)"
   ]
  },
  {
   "cell_type": "code",
   "execution_count": 238,
   "metadata": {},
   "outputs": [
    {
     "data": {
      "text/html": [
       "<div>\n",
       "<style>\n",
       "    .dataframe thead tr:only-child th {\n",
       "        text-align: right;\n",
       "    }\n",
       "\n",
       "    .dataframe thead th {\n",
       "        text-align: left;\n",
       "    }\n",
       "\n",
       "    .dataframe tbody tr th {\n",
       "        vertical-align: top;\n",
       "    }\n",
       "</style>\n",
       "<table border=\"1\" class=\"dataframe\">\n",
       "  <thead>\n",
       "    <tr style=\"text-align: right;\">\n",
       "      <th>cid</th>\n",
       "      <th>DER001_A375_96H:TRCN0000197159:-666</th>\n",
       "      <th>DER001_A375_96H:TRCN0000006029:-666</th>\n",
       "      <th>DER001_A375_96H:TRCN0000338772:-666</th>\n",
       "      <th>DER001_A375_96H:TRCN0000218565:-666</th>\n",
       "      <th>DER001_A375_96H:TRCN0000369366:-666</th>\n",
       "      <th>DER001_A375_96H:TRCN0000138966:-666</th>\n",
       "      <th>DER001_A375_96H:TRCN0000262375:-666</th>\n",
       "      <th>DER001_A375_96H:TRCN0000141905:-666</th>\n",
       "      <th>DER001_A375_96H:TRCN0000350521:-666</th>\n",
       "      <th>DER001_A375_96H:TRCN0000051204:-666</th>\n",
       "      <th>...</th>\n",
       "      <th>KDB001_PC3_96H:TRCN0000343797:-666</th>\n",
       "      <th>KDB001_PC3_96H:TRCN0000319318:-666</th>\n",
       "      <th>KDB001_PC3_96H:TRCN0000323290:-666</th>\n",
       "      <th>KDB001_PC3_96H:TRCN0000159391:-666</th>\n",
       "      <th>KDB001_PC3_96H:TRCN0000364667:-666</th>\n",
       "      <th>KDB001_PC3_96H:TRCN0000135504:-666</th>\n",
       "      <th>KDB001_PC3_96H:TRCN0000142389:-666</th>\n",
       "      <th>KDB001_PC3_96H:TRCN0000180510:-666</th>\n",
       "      <th>KDB001_PC3_96H:TRCN0000254328:-666</th>\n",
       "      <th>KDB001_PC3_96H:TRCN0000133950:-666</th>\n",
       "    </tr>\n",
       "    <tr>\n",
       "      <th>rid</th>\n",
       "      <th></th>\n",
       "      <th></th>\n",
       "      <th></th>\n",
       "      <th></th>\n",
       "      <th></th>\n",
       "      <th></th>\n",
       "      <th></th>\n",
       "      <th></th>\n",
       "      <th></th>\n",
       "      <th></th>\n",
       "      <th></th>\n",
       "      <th></th>\n",
       "      <th></th>\n",
       "      <th></th>\n",
       "      <th></th>\n",
       "      <th></th>\n",
       "      <th></th>\n",
       "      <th></th>\n",
       "      <th></th>\n",
       "      <th></th>\n",
       "      <th></th>\n",
       "    </tr>\n",
       "  </thead>\n",
       "  <tbody>\n",
       "    <tr>\n",
       "      <th>10007</th>\n",
       "      <td>-1.582821</td>\n",
       "      <td>1.147524</td>\n",
       "      <td>-0.233997</td>\n",
       "      <td>0.705900</td>\n",
       "      <td>-0.493815</td>\n",
       "      <td>-0.215770</td>\n",
       "      <td>0.451134</td>\n",
       "      <td>-0.327473</td>\n",
       "      <td>-0.766019</td>\n",
       "      <td>2.288669</td>\n",
       "      <td>...</td>\n",
       "      <td>-0.39430</td>\n",
       "      <td>0.39255</td>\n",
       "      <td>0.40935</td>\n",
       "      <td>1.98080</td>\n",
       "      <td>0.46525</td>\n",
       "      <td>-0.81515</td>\n",
       "      <td>-0.31605</td>\n",
       "      <td>-0.02665</td>\n",
       "      <td>0.36655</td>\n",
       "      <td>1.32305</td>\n",
       "    </tr>\n",
       "    <tr>\n",
       "      <th>1001</th>\n",
       "      <td>-0.037421</td>\n",
       "      <td>1.322280</td>\n",
       "      <td>0.614880</td>\n",
       "      <td>-0.021201</td>\n",
       "      <td>1.828483</td>\n",
       "      <td>1.179174</td>\n",
       "      <td>-0.062841</td>\n",
       "      <td>0.722374</td>\n",
       "      <td>0.865695</td>\n",
       "      <td>0.364353</td>\n",
       "      <td>...</td>\n",
       "      <td>0.75325</td>\n",
       "      <td>-0.32005</td>\n",
       "      <td>-1.70935</td>\n",
       "      <td>0.82750</td>\n",
       "      <td>0.14065</td>\n",
       "      <td>-0.61405</td>\n",
       "      <td>-0.14040</td>\n",
       "      <td>0.64610</td>\n",
       "      <td>1.46140</td>\n",
       "      <td>0.01925</td>\n",
       "    </tr>\n",
       "    <tr>\n",
       "      <th>10013</th>\n",
       "      <td>0.156317</td>\n",
       "      <td>0.654752</td>\n",
       "      <td>1.081601</td>\n",
       "      <td>0.210859</td>\n",
       "      <td>0.883683</td>\n",
       "      <td>-0.093974</td>\n",
       "      <td>1.296774</td>\n",
       "      <td>-1.416878</td>\n",
       "      <td>-0.155374</td>\n",
       "      <td>-0.297705</td>\n",
       "      <td>...</td>\n",
       "      <td>-0.43025</td>\n",
       "      <td>-0.46250</td>\n",
       "      <td>-0.24895</td>\n",
       "      <td>0.34875</td>\n",
       "      <td>-0.56190</td>\n",
       "      <td>0.47240</td>\n",
       "      <td>-0.57825</td>\n",
       "      <td>-0.82385</td>\n",
       "      <td>0.35615</td>\n",
       "      <td>0.69620</td>\n",
       "    </tr>\n",
       "    <tr>\n",
       "      <th>10038</th>\n",
       "      <td>0.717362</td>\n",
       "      <td>0.046802</td>\n",
       "      <td>0.573958</td>\n",
       "      <td>-1.193527</td>\n",
       "      <td>-0.049510</td>\n",
       "      <td>0.716104</td>\n",
       "      <td>1.441153</td>\n",
       "      <td>-0.215514</td>\n",
       "      <td>0.236909</td>\n",
       "      <td>-1.513038</td>\n",
       "      <td>...</td>\n",
       "      <td>-0.14960</td>\n",
       "      <td>-0.22880</td>\n",
       "      <td>0.61105</td>\n",
       "      <td>-2.17760</td>\n",
       "      <td>0.02495</td>\n",
       "      <td>0.22810</td>\n",
       "      <td>-1.60735</td>\n",
       "      <td>0.69330</td>\n",
       "      <td>-0.59275</td>\n",
       "      <td>-0.38195</td>\n",
       "    </tr>\n",
       "    <tr>\n",
       "      <th>10046</th>\n",
       "      <td>-0.171960</td>\n",
       "      <td>1.246416</td>\n",
       "      <td>4.340301</td>\n",
       "      <td>-0.888133</td>\n",
       "      <td>0.597416</td>\n",
       "      <td>1.460984</td>\n",
       "      <td>-1.016598</td>\n",
       "      <td>0.117003</td>\n",
       "      <td>0.889986</td>\n",
       "      <td>0.808288</td>\n",
       "      <td>...</td>\n",
       "      <td>-0.15285</td>\n",
       "      <td>-0.22195</td>\n",
       "      <td>-0.83325</td>\n",
       "      <td>0.00205</td>\n",
       "      <td>-1.43080</td>\n",
       "      <td>0.42020</td>\n",
       "      <td>-0.35985</td>\n",
       "      <td>0.94590</td>\n",
       "      <td>-0.75705</td>\n",
       "      <td>0.32970</td>\n",
       "    </tr>\n",
       "  </tbody>\n",
       "</table>\n",
       "<p>5 rows × 30323 columns</p>\n",
       "</div>"
      ],
      "text/plain": [
       "cid    DER001_A375_96H:TRCN0000197159:-666  \\\n",
       "rid                                          \n",
       "10007                            -1.582821   \n",
       "1001                             -0.037421   \n",
       "10013                             0.156317   \n",
       "10038                             0.717362   \n",
       "10046                            -0.171960   \n",
       "\n",
       "cid    DER001_A375_96H:TRCN0000006029:-666  \\\n",
       "rid                                          \n",
       "10007                             1.147524   \n",
       "1001                              1.322280   \n",
       "10013                             0.654752   \n",
       "10038                             0.046802   \n",
       "10046                             1.246416   \n",
       "\n",
       "cid    DER001_A375_96H:TRCN0000338772:-666  \\\n",
       "rid                                          \n",
       "10007                            -0.233997   \n",
       "1001                              0.614880   \n",
       "10013                             1.081601   \n",
       "10038                             0.573958   \n",
       "10046                             4.340301   \n",
       "\n",
       "cid    DER001_A375_96H:TRCN0000218565:-666  \\\n",
       "rid                                          \n",
       "10007                             0.705900   \n",
       "1001                             -0.021201   \n",
       "10013                             0.210859   \n",
       "10038                            -1.193527   \n",
       "10046                            -0.888133   \n",
       "\n",
       "cid    DER001_A375_96H:TRCN0000369366:-666  \\\n",
       "rid                                          \n",
       "10007                            -0.493815   \n",
       "1001                              1.828483   \n",
       "10013                             0.883683   \n",
       "10038                            -0.049510   \n",
       "10046                             0.597416   \n",
       "\n",
       "cid    DER001_A375_96H:TRCN0000138966:-666  \\\n",
       "rid                                          \n",
       "10007                            -0.215770   \n",
       "1001                              1.179174   \n",
       "10013                            -0.093974   \n",
       "10038                             0.716104   \n",
       "10046                             1.460984   \n",
       "\n",
       "cid    DER001_A375_96H:TRCN0000262375:-666  \\\n",
       "rid                                          \n",
       "10007                             0.451134   \n",
       "1001                             -0.062841   \n",
       "10013                             1.296774   \n",
       "10038                             1.441153   \n",
       "10046                            -1.016598   \n",
       "\n",
       "cid    DER001_A375_96H:TRCN0000141905:-666  \\\n",
       "rid                                          \n",
       "10007                            -0.327473   \n",
       "1001                              0.722374   \n",
       "10013                            -1.416878   \n",
       "10038                            -0.215514   \n",
       "10046                             0.117003   \n",
       "\n",
       "cid    DER001_A375_96H:TRCN0000350521:-666  \\\n",
       "rid                                          \n",
       "10007                            -0.766019   \n",
       "1001                              0.865695   \n",
       "10013                            -0.155374   \n",
       "10038                             0.236909   \n",
       "10046                             0.889986   \n",
       "\n",
       "cid    DER001_A375_96H:TRCN0000051204:-666  \\\n",
       "rid                                          \n",
       "10007                             2.288669   \n",
       "1001                              0.364353   \n",
       "10013                            -0.297705   \n",
       "10038                            -1.513038   \n",
       "10046                             0.808288   \n",
       "\n",
       "cid                   ...                  KDB001_PC3_96H:TRCN0000343797:-666  \\\n",
       "rid                   ...                                                       \n",
       "10007                 ...                                            -0.39430   \n",
       "1001                  ...                                             0.75325   \n",
       "10013                 ...                                            -0.43025   \n",
       "10038                 ...                                            -0.14960   \n",
       "10046                 ...                                            -0.15285   \n",
       "\n",
       "cid    KDB001_PC3_96H:TRCN0000319318:-666  KDB001_PC3_96H:TRCN0000323290:-666  \\\n",
       "rid                                                                             \n",
       "10007                             0.39255                             0.40935   \n",
       "1001                             -0.32005                            -1.70935   \n",
       "10013                            -0.46250                            -0.24895   \n",
       "10038                            -0.22880                             0.61105   \n",
       "10046                            -0.22195                            -0.83325   \n",
       "\n",
       "cid    KDB001_PC3_96H:TRCN0000159391:-666  KDB001_PC3_96H:TRCN0000364667:-666  \\\n",
       "rid                                                                             \n",
       "10007                             1.98080                             0.46525   \n",
       "1001                              0.82750                             0.14065   \n",
       "10013                             0.34875                            -0.56190   \n",
       "10038                            -2.17760                             0.02495   \n",
       "10046                             0.00205                            -1.43080   \n",
       "\n",
       "cid    KDB001_PC3_96H:TRCN0000135504:-666  KDB001_PC3_96H:TRCN0000142389:-666  \\\n",
       "rid                                                                             \n",
       "10007                            -0.81515                            -0.31605   \n",
       "1001                             -0.61405                            -0.14040   \n",
       "10013                             0.47240                            -0.57825   \n",
       "10038                             0.22810                            -1.60735   \n",
       "10046                             0.42020                            -0.35985   \n",
       "\n",
       "cid    KDB001_PC3_96H:TRCN0000180510:-666  KDB001_PC3_96H:TRCN0000254328:-666  \\\n",
       "rid                                                                             \n",
       "10007                            -0.02665                             0.36655   \n",
       "1001                              0.64610                             1.46140   \n",
       "10013                            -0.82385                             0.35615   \n",
       "10038                             0.69330                            -0.59275   \n",
       "10046                             0.94590                            -0.75705   \n",
       "\n",
       "cid    KDB001_PC3_96H:TRCN0000133950:-666  \n",
       "rid                                        \n",
       "10007                             1.32305  \n",
       "1001                              0.01925  \n",
       "10013                             0.69620  \n",
       "10038                            -0.38195  \n",
       "10046                             0.32970  \n",
       "\n",
       "[5 rows x 30323 columns]"
      ]
     },
     "execution_count": 238,
     "metadata": {},
     "output_type": "execute_result"
    }
   ],
   "source": [
    "# The GCTX files encode the sig IDS as strings of byte strings (why????) so we have to deal with that\n",
    "top_9_kd_sig_ids = [ str(s.encode('UTF8')) for s in repr_top_9_kd_sigs.sig_id.values ]\n",
    "\n",
    "# read in the data\n",
    "top_9_kd_raw_sigs = parse('data/GSE92742_Broad_LINCS_Level5_COMPZ.MODZ_n473647x12328.gctx', cid=top_9_kd_sig_ids).data_df\n",
    "\n",
    "# discard non-landmark gene expression scores\n",
    "top_9_kd_lm_sigs = top_9_kd_raw_sigs[top_9_kd_raw_sigs.index.isin(lm_gene_ids)].sort_index().copy()\n",
    "\n",
    "# reformat the sig_ids so they are nice strings\n",
    "top_9_kd_lm_sigs = top_9_kd_lm_sigs.T.rename(lambda x: x.lstrip('b\\'').rstrip('\\'')).T\n",
    "top_9_kd_lm_sigs.head()"
   ]
  },
  {
   "cell_type": "code",
   "execution_count": 239,
   "metadata": {},
   "outputs": [
    {
     "name": "stdout",
     "output_type": "stream",
     "text": [
      "(30323, 15)\n",
      "(978, 30323)\n"
     ]
    }
   ],
   "source": [
    "print(repr_top_9_kd_sigs.shape)\n",
    "print(top_9_kd_lm_sigs.shape)\n",
    "repr_top_9_kd_sigs.to_csv('checkpoint_files/repr_top_9_kd_sigs.csv')\n",
    "top_9_kd_lm_sigs.to_csv('checkpoint_files/top_9_kd_lm_sigs.csv')"
   ]
  },
  {
   "cell_type": "markdown",
   "metadata": {},
   "source": [
    "___\n",
    "## Feature construction"
   ]
  },
  {
   "cell_type": "code",
   "execution_count": 240,
   "metadata": {
    "collapsed": true
   },
   "outputs": [],
   "source": [
    "# load data\n",
    "pair_set_8_df = pickle.load(open('checkpoint_files/pair_set_8_df.sav', 'rb'))\n",
    "common_cells_8_ = pickle.load(open('checkpoint_files/common_cells_8_.sav', 'rb'))\n",
    "common_partners_8_ = pickle.load(open('checkpoint_files/common_partners_8_', 'rb'))\n",
    "\n",
    "repr_top_9_cpd_sigs = pd.DataFrame.from_csv('checkpoint_files/repr_top_9_cpd_sigs.csv')\n",
    "top_9_cpd_lm_sigs = pd.DataFrame.from_csv('checkpoint_files/top_9_cpd_lm_sigs.csv')\n",
    "repr_top_9_kd_sigs = pd.DataFrame.from_csv('checkpoint_files/repr_top_9_kd_sigs.csv')\n",
    "top_9_kd_lm_sigs = pd.DataFrame.from_csv('checkpoint_files/top_9_kd_lm_sigs.csv')"
   ]
  },
  {
   "cell_type": "markdown",
   "metadata": {},
   "source": [
    "### Labels"
   ]
  },
  {
   "cell_type": "code",
   "execution_count": 241,
   "metadata": {},
   "outputs": [
    {
     "name": "stderr",
     "output_type": "stream",
     "text": [
      "Widget Javascript not detected.  It may not be installed or enabled properly.\n"
     ]
    },
    {
     "data": {
      "application/vnd.jupyter.widget-view+json": {
       "model_id": "d05878ad77814b0da14c8fcb72f91eb3"
      }
     },
     "metadata": {},
     "output_type": "display_data"
    }
   ],
   "source": [
    "# create cpd-kd mapping with labels\n",
    "all_top_9_kds = repr_top_9_kd_sigs.pert_iname.unique()\n",
    "all_top_9_cpds = repr_top_9_cpd_sigs.pert_id.unique()\n",
    "top_9_known_interactions = pair_set_8_df\n",
    "\n",
    "cpd_, kd_, label_ = [], [], []\n",
    "for kd in log_progress(all_top_9_kds, every=1):\n",
    "    for cpd in all_top_9_cpds:\n",
    "        if top_9_known_interactions.query('cpd == \"{}\" & target == \"{}\"'.format(cpd,kd)).shape[0]:\n",
    "            label = 1 # true interaction\n",
    "        else:\n",
    "            label = -1 # false interaction\n",
    "        cpd_.append(cpd)\n",
    "        kd_.append(kd)\n",
    "        label_.append(label)\n",
    "                 \n",
    "# store pairs & labels in dataframe\n",
    "top_9_cpd_kd_pairs_df = pd.DataFrame({'cpd': cpd_, 'kd': kd_, 'label': label_})\n",
    "top_9_cpd_kd_pairs_df.to_csv('features/top_9_cpd_kd_pairs_df.csv')"
   ]
  },
  {
   "cell_type": "markdown",
   "metadata": {},
   "source": [
    "### Direct Correlation"
   ]
  },
  {
   "cell_type": "code",
   "execution_count": 277,
   "metadata": {},
   "outputs": [
    {
     "name": "stderr",
     "output_type": "stream",
     "text": [
      "Widget Javascript not detected.  It may not be installed or enabled properly.\n"
     ]
    },
    {
     "data": {
      "application/vnd.jupyter.widget-view+json": {
       "model_id": "f9511a9da38544b8a144557122201e53"
      }
     },
     "metadata": {},
     "output_type": "display_data"
    }
   ],
   "source": [
    "# correlation computation is slow b/c we have to look up cpd/kd/cell specific signatures in \n",
    "# large dataframes with 30,000+ rows. We can perhaps speed this up if we create cell-line \n",
    "# specific dataframes\n",
    "repr_top_9_cpd_sigs_dict = {}\n",
    "top_9_cpd_lm_sigs_dict = {}\n",
    "for cell_line in log_progress(top_9_cell_lines):\n",
    "    cpd_sig_info = repr_top_9_cpd_sigs[repr_top_9_cpd_sigs.cell_id == cell_line].copy()\n",
    "    repr_top_9_cpd_sigs_dict[cell_line] = cpd_sig_info\n",
    "    sig_ids = cpd_sig_info.sig_id\n",
    "    lm_sigs = top_9_cpd_lm_sigs[sig_ids].copy()\n",
    "    top_9_cpd_lm_sigs_dict[cell_line] = lm_sigs"
   ]
  },
  {
   "cell_type": "code",
   "execution_count": 279,
   "metadata": {},
   "outputs": [
    {
     "name": "stderr",
     "output_type": "stream",
     "text": [
      "Widget Javascript not detected.  It may not be installed or enabled properly.\n"
     ]
    },
    {
     "data": {
      "application/vnd.jupyter.widget-view+json": {
       "model_id": "6489704e248741e1ae6f44b467a87ba6"
      }
     },
     "metadata": {},
     "output_type": "display_data"
    }
   ],
   "source": [
    "repr_top_9_kd_sigs_dict = {}\n",
    "top_9_kd_lm_sigs_dict = {}\n",
    "for cell_line in log_progress(top_9_cell_lines):\n",
    "    kd_sig_info = repr_top_9_kd_sigs[repr_top_9_kd_sigs.cell_id == cell_line].copy()\n",
    "    repr_top_9_kd_sigs_dict[cell_line] = kd_sig_info\n",
    "    sig_ids = kd_sig_info.sig_id\n",
    "    lm_sigs = top_9_kd_lm_sigs[sig_ids].copy()\n",
    "    top_9_kd_lm_sigs_dict[cell_line] = lm_sigs"
   ]
  },
  {
   "cell_type": "code",
   "execution_count": 285,
   "metadata": {},
   "outputs": [
    {
     "data": {
      "text/plain": [
       "2721124"
      ]
     },
     "execution_count": 285,
     "metadata": {},
     "output_type": "execute_result"
    }
   ],
   "source": [
    "len(top_9_cpd_kd_pairs_df)"
   ]
  },
  {
   "cell_type": "code",
   "execution_count": 286,
   "metadata": {},
   "outputs": [
    {
     "name": "stderr",
     "output_type": "stream",
     "text": [
      "Widget Javascript not detected.  It may not be installed or enabled properly.\n"
     ]
    },
    {
     "data": {
      "application/vnd.jupyter.widget-view+json": {
       "model_id": "8ffa3bbfe55f48bca9f8407b43319836"
      }
     },
     "metadata": {},
     "output_type": "display_data"
    }
   ],
   "source": [
    "# initialize empty dataframe to hold direct correlation values\n",
    "dir_corr_df = pd.DataFrame(index=top_9_cpd_kd_pairs_df.index, columns=top_9_cell_lines)\n",
    "\n",
    "# loop through cpd-target pairs, calculate correlations in each cell line\n",
    "for index, row in log_progress(top_9_cpd_kd_pairs_df.iterrows(), every=100):\n",
    "    cpd = row.cpd\n",
    "    kd = row.kd\n",
    "    \n",
    "    for cell_line in top_9_cell_lines:\n",
    "        cpd_sig_info = repr_top_9_cpd_sigs_dict[cell_line].query('pert_id == \"{}\"'.format(cpd))\n",
    "        kd_sig_info = repr_top_9_kd_sigs_dict[cell_line].query('pert_iname == \"{}\"'.format(kd))\n",
    "        \n",
    "        # remember we have missing data, not all pairs are tested in all cell lines\n",
    "        if not (cpd_sig_info.empty or kd_sig_info.empty):\n",
    "            # extract signatures\n",
    "            cpd_sig_id = cpd_sig_info.sig_id\n",
    "            kd_sig_id = kd_sig_info.sig_id\n",
    "            cpd_lm_sig = top_9_cpd_lm_sigs_dict[cell_line][cpd_sig_id].values\n",
    "            kd_lm_sig = top_9_kd_lm_sigs_dict[cell_line][kd_sig_id].values\n",
    "            #compute and store correlation\n",
    "            corr = scipy.stats.pearsonr(cpd_lm_sig, kd_lm_sig)[0][0]\n",
    "            dir_corr_df.at[index, cell_line] = corr"
   ]
  },
  {
   "cell_type": "code",
   "execution_count": 287,
   "metadata": {
    "collapsed": true
   },
   "outputs": [],
   "source": [
    "dir_corr_df.to_csv('features/top_9_dir_corr_df.csv')"
   ]
  },
  {
   "cell_type": "markdown",
   "metadata": {},
   "source": [
    "### Indirect Correlation"
   ]
  },
  {
   "cell_type": "code",
   "execution_count": null,
   "metadata": {},
   "outputs": [
    {
     "name": "stderr",
     "output_type": "stream",
     "text": [
      "Widget Javascript not detected.  It may not be installed or enabled properly.\n"
     ]
    },
    {
     "data": {
      "application/vnd.jupyter.widget-view+json": {
       "model_id": "e8b1a8c75fd94ce492898d26f88f205b"
      }
     },
     "metadata": {},
     "output_type": "display_data"
    }
   ],
   "source": [
    "# list of all KDs in top-4 cells, for reference\n",
    "all_kds = repr_top_9_kd_sigs.pert_iname.unique()\n",
    "\n",
    "# initialize empty dataframe to hold direct correlation values\n",
    "indir_max_corr_df = pd.DataFrame(index=top_9_cpd_kd_pairs_df.index, columns=top_9_cell_lines)\n",
    "indir_min_corr_df = pd.DataFrame(index=top_9_cpd_kd_pairs_df.index, columns=top_9_cell_lines)\n",
    "indir_avg_corr_df = pd.DataFrame(index=top_9_cpd_kd_pairs_df.index, columns=top_9_cell_lines)\n",
    "\n",
    "# loop through cpd-target pairs, calculate correlations in each cell line\n",
    "for index, row in log_progress(top_9_cpd_kd_pairs_df.iterrows(), every=10):\n",
    "    cpd = row.cpd\n",
    "    kd = row.kd\n",
    "    \n",
    "    # find the target's interaction partners that have KDs\n",
    "    interaction_partners = string_gene_interactions_700.query('gene_1 == \"{}\"'.format(kd)).gene_2\n",
    "    partner_kds = np.intersect1d(interaction_partners, all_kds)\n",
    "    \n",
    "    # compute corr with each partner in each cell line\n",
    "    for cell_line in top_9_cell_lines:\n",
    "        \n",
    "        # extract the cpd signature\n",
    "        cpd_sig_info = repr_top_9_cpd_sigs_dict[cell_line].query('pert_id == \"{}\"'.format(cpd))\n",
    "        \n",
    "        # remember we have missing data, not all pairs are tested in all cell lines\n",
    "        if not cpd_sig_info.empty :\n",
    "            cpd_sig_id = cpd_sig_info.sig_id\n",
    "            cpd_lm_sig = top_9_cpd_lm_sigs[cpd_sig_id].values\n",
    "\n",
    "            # initialize empty Series to hold corrs for all partners in this cell line\n",
    "            pkd_corrs = pd.Series(index=partner_kds)\n",
    "\n",
    "            for pkd in partner_kds:\n",
    "                # extract the partner kd signature\n",
    "                pkd_sig_info = repr_top_9_kd_sigs_dict[cell_line].query('pert_iname == \"{}\"'.format(pkd))\n",
    "                # remember we have missing data, not all pairs are tested in all cell lines\n",
    "                if not pkd_sig_info.empty :\n",
    "                    pkd_sig_id = pkd_sig_info.sig_id\n",
    "                    pkd_lm_sig = top_9_kd_lm_sigs[pkd_sig_id].values\n",
    "\n",
    "                    #compute and store correlation\n",
    "                    corr = scipy.stats.pearsonr(cpd_lm_sig, pkd_lm_sig)[0][0]\n",
    "                    pkd_corrs[pkd] = corr\n",
    "\n",
    "            if not pkd_corrs.empty:\n",
    "                # compute max, min, and average of the partner kd corrs\n",
    "                max_pkd_corr = pkd_corrs.max()\n",
    "                min_pkd_corr = pkd_corrs.min()\n",
    "                avg_pkd_corr = pkd_corrs.mean()\n",
    "\n",
    "                # store these in the appropriate data frames\n",
    "                indir_max_corr_df.at[index, cell_line] = max_pkd_corr\n",
    "                indir_min_corr_df.at[index, cell_line] = min_pkd_corr\n",
    "                indir_avg_corr_df.at[index, cell_line] = avg_pkd_corr"
   ]
  },
  {
   "cell_type": "code",
   "execution_count": null,
   "metadata": {
    "collapsed": true
   },
   "outputs": [],
   "source": []
  }
 ],
 "metadata": {
  "kernelspec": {
   "display_name": "Python 3",
   "language": "python",
   "name": "python3"
  },
  "language_info": {
   "codemirror_mode": {
    "name": "ipython",
    "version": 3
   },
   "file_extension": ".py",
   "mimetype": "text/x-python",
   "name": "python",
   "nbconvert_exporter": "python",
   "pygments_lexer": "ipython3",
   "version": "3.6.1"
  }
 },
 "nbformat": 4,
 "nbformat_minor": 2
}
