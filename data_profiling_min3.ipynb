{
 "cells": [
  {
   "cell_type": "markdown",
   "metadata": {},
   "source": [
    "# Data profiling"
   ]
  },
  {
   "cell_type": "code",
   "execution_count": 2,
   "metadata": {},
   "outputs": [
    {
     "name": "stdout",
     "output_type": "stream",
     "text": [
      "The line_profiler extension is already loaded. To reload it, use:\n",
      "  %reload_ext line_profiler\n"
     ]
    }
   ],
   "source": [
    "import pandas as pd\n",
    "import numpy as np\n",
    "from support_functions import log_progress, clean_drugbank, query_chembl\n",
    "import pickle\n",
    "import seaborn as sns\n",
    "import matplotlib.pyplot as plt\n",
    "import functools\n",
    "from cmapPy.pandasGEXpress import parse\n",
    "import scipy\n",
    "%load_ext line_profiler\n",
    "import time"
   ]
  },
  {
   "cell_type": "markdown",
   "metadata": {},
   "source": [
    "## 0. Lookup known targets"
   ]
  },
  {
   "cell_type": "code",
   "execution_count": 77,
   "metadata": {
    "collapsed": true
   },
   "outputs": [],
   "source": [
    "# load perturbation info\n",
    "pert_info_1 = pd.read_csv('data/GSE92742_Broad_LINCS_pert_info.txt', sep='\\t', header=0)\n",
    "pert_info_2a = pd.read_csv('data/GSE70138_Broad_LINCS_pert_info.txt', sep='\\t', header=0)\n",
    "all_pert_info = pd.concat([pert_info_1, pert_info_2a], ignore_index=True)"
   ]
  },
  {
   "cell_type": "code",
   "execution_count": 78,
   "metadata": {
    "collapsed": true
   },
   "outputs": [],
   "source": [
    "# lookup cpd inchi keys\n",
    "all_cpd_pert_info = all_pert_info[all_pert_info.pert_type == 'trt_cp']\n",
    "all_cpd_inchis = all_cpd_pert_info[['pert_id','inchi_key']].set_index('pert_id').copy()\n",
    "# remove duplicates, store as series\n",
    "all_cpd_inchis = all_cpd_inchis[~all_cpd_inchis.index.duplicated()].inchi_key"
   ]
  },
  {
   "cell_type": "markdown",
   "metadata": {},
   "source": [
    "### 0a. Lookup Drugbank targets"
   ]
  },
  {
   "cell_type": "code",
   "execution_count": 5,
   "metadata": {
    "collapsed": true
   },
   "outputs": [
    {
     "ename": "KeyboardInterrupt",
     "evalue": "",
     "output_type": "error",
     "traceback": [
      "\u001b[0;31m---------------------------------------------------------------------------\u001b[0m",
      "\u001b[0;31mKeyboardInterrupt\u001b[0m                         Traceback (most recent call last)",
      "\u001b[0;32m<ipython-input-5-7005fee9dbb8>\u001b[0m in \u001b[0;36m<module>\u001b[0;34m()\u001b[0m\n\u001b[1;32m      1\u001b[0m \u001b[0;31m# lookup and store drugbank targets as dictionary: { inchi: [targets]}\u001b[0m\u001b[0;34m\u001b[0m\u001b[0;34m\u001b[0m\u001b[0m\n\u001b[1;32m      2\u001b[0m \u001b[0mdb_db_path\u001b[0m \u001b[0;34m=\u001b[0m \u001b[0;34m'data/full_drugbank_database.xml'\u001b[0m\u001b[0;34m\u001b[0m\u001b[0m\n\u001b[0;32m----> 3\u001b[0;31m \u001b[0mdrugbank_target_dict\u001b[0m \u001b[0;34m=\u001b[0m \u001b[0mclean_drugbank\u001b[0m\u001b[0;34m(\u001b[0m\u001b[0mdb_db_path\u001b[0m\u001b[0;34m)\u001b[0m\u001b[0;34m\u001b[0m\u001b[0m\n\u001b[0m",
      "\u001b[0;32m~/git/LINCS_target_prediction/support_functions.py\u001b[0m in \u001b[0;36mclean_drugbank\u001b[0;34m(db_path)\u001b[0m\n\u001b[1;32m     49\u001b[0m \u001b[0;32mdef\u001b[0m \u001b[0mclean_drugbank\u001b[0m\u001b[0;34m(\u001b[0m\u001b[0mdb_path\u001b[0m\u001b[0;34m)\u001b[0m\u001b[0;34m:\u001b[0m\u001b[0;34m\u001b[0m\u001b[0m\n\u001b[1;32m     50\u001b[0m     \u001b[0;32mimport\u001b[0m \u001b[0mxmltodict\u001b[0m\u001b[0;34m\u001b[0m\u001b[0m\n\u001b[0;32m---> 51\u001b[0;31m     \u001b[0mdrugbank_db\u001b[0m \u001b[0;34m=\u001b[0m \u001b[0mxmltodict\u001b[0m\u001b[0;34m.\u001b[0m\u001b[0mparse\u001b[0m\u001b[0;34m(\u001b[0m\u001b[0mopen\u001b[0m\u001b[0;34m(\u001b[0m\u001b[0mdb_path\u001b[0m\u001b[0;34m)\u001b[0m\u001b[0;34m.\u001b[0m\u001b[0mread\u001b[0m\u001b[0;34m(\u001b[0m\u001b[0;34m)\u001b[0m\u001b[0;34m)\u001b[0m\u001b[0;34m\u001b[0m\u001b[0m\n\u001b[0m\u001b[1;32m     52\u001b[0m     \u001b[0mdrug0\u001b[0m \u001b[0;34m=\u001b[0m \u001b[0mdrugbank_db\u001b[0m\u001b[0;34m[\u001b[0m\u001b[0;34m'drugbank'\u001b[0m\u001b[0;34m]\u001b[0m\u001b[0;34m[\u001b[0m\u001b[0;34m'drug'\u001b[0m\u001b[0;34m]\u001b[0m\u001b[0;34m[\u001b[0m\u001b[0;36m0\u001b[0m\u001b[0;34m]\u001b[0m \u001b[0;31m# an example drug to use as a type reference\u001b[0m\u001b[0;34m\u001b[0m\u001b[0m\n\u001b[1;32m     53\u001b[0m     \u001b[0mdrugbank_target_dict\u001b[0m \u001b[0;34m=\u001b[0m \u001b[0;34m{\u001b[0m\u001b[0;34m}\u001b[0m\u001b[0;34m\u001b[0m\u001b[0m\n",
      "\u001b[0;32m~/anaconda3/lib/python3.6/site-packages/xmltodict.py\u001b[0m in \u001b[0;36mparse\u001b[0;34m(xml_input, encoding, expat, process_namespaces, namespace_separator, disable_entities, **kwargs)\u001b[0m\n\u001b[1;32m    328\u001b[0m         \u001b[0mparser\u001b[0m\u001b[0;34m.\u001b[0m\u001b[0mParseFile\u001b[0m\u001b[0;34m(\u001b[0m\u001b[0mxml_input\u001b[0m\u001b[0;34m)\u001b[0m\u001b[0;34m\u001b[0m\u001b[0m\n\u001b[1;32m    329\u001b[0m     \u001b[0;32melse\u001b[0m\u001b[0;34m:\u001b[0m\u001b[0;34m\u001b[0m\u001b[0m\n\u001b[0;32m--> 330\u001b[0;31m         \u001b[0mparser\u001b[0m\u001b[0;34m.\u001b[0m\u001b[0mParse\u001b[0m\u001b[0;34m(\u001b[0m\u001b[0mxml_input\u001b[0m\u001b[0;34m,\u001b[0m \u001b[0;32mTrue\u001b[0m\u001b[0;34m)\u001b[0m\u001b[0;34m\u001b[0m\u001b[0m\n\u001b[0m\u001b[1;32m    331\u001b[0m     \u001b[0;32mreturn\u001b[0m \u001b[0mhandler\u001b[0m\u001b[0;34m.\u001b[0m\u001b[0mitem\u001b[0m\u001b[0;34m\u001b[0m\u001b[0m\n\u001b[1;32m    332\u001b[0m \u001b[0;34m\u001b[0m\u001b[0m\n",
      "\u001b[0;32m/Users/ilan/minonda/conda-bld/python-3.6_1494525719021/work/Python-3.6.1/Modules/pyexpat.c\u001b[0m in \u001b[0;36mStartElement\u001b[0;34m()\u001b[0m\n",
      "\u001b[0;32m~/anaconda3/lib/python3.6/site-packages/xmltodict.py\u001b[0m in \u001b[0;36mstartElement\u001b[0;34m(self, full_name, attrs)\u001b[0m\n\u001b[1;32m     98\u001b[0m     \u001b[0;32mdef\u001b[0m \u001b[0mstartElement\u001b[0m\u001b[0;34m(\u001b[0m\u001b[0mself\u001b[0m\u001b[0;34m,\u001b[0m \u001b[0mfull_name\u001b[0m\u001b[0;34m,\u001b[0m \u001b[0mattrs\u001b[0m\u001b[0;34m)\u001b[0m\u001b[0;34m:\u001b[0m\u001b[0;34m\u001b[0m\u001b[0m\n\u001b[1;32m     99\u001b[0m         \u001b[0mname\u001b[0m \u001b[0;34m=\u001b[0m \u001b[0mself\u001b[0m\u001b[0;34m.\u001b[0m\u001b[0m_build_name\u001b[0m\u001b[0;34m(\u001b[0m\u001b[0mfull_name\u001b[0m\u001b[0;34m)\u001b[0m\u001b[0;34m\u001b[0m\u001b[0m\n\u001b[0;32m--> 100\u001b[0;31m         \u001b[0mattrs\u001b[0m \u001b[0;34m=\u001b[0m \u001b[0mself\u001b[0m\u001b[0;34m.\u001b[0m\u001b[0m_attrs_to_dict\u001b[0m\u001b[0;34m(\u001b[0m\u001b[0mattrs\u001b[0m\u001b[0;34m)\u001b[0m\u001b[0;34m\u001b[0m\u001b[0m\n\u001b[0m\u001b[1;32m    101\u001b[0m         \u001b[0;32mif\u001b[0m \u001b[0mattrs\u001b[0m \u001b[0;32mand\u001b[0m \u001b[0mself\u001b[0m\u001b[0;34m.\u001b[0m\u001b[0mnamespace_declarations\u001b[0m\u001b[0;34m:\u001b[0m\u001b[0;34m\u001b[0m\u001b[0m\n\u001b[1;32m    102\u001b[0m             \u001b[0mattrs\u001b[0m\u001b[0;34m[\u001b[0m\u001b[0;34m'xmlns'\u001b[0m\u001b[0;34m]\u001b[0m \u001b[0;34m=\u001b[0m \u001b[0mself\u001b[0m\u001b[0;34m.\u001b[0m\u001b[0mnamespace_declarations\u001b[0m\u001b[0;34m\u001b[0m\u001b[0m\n",
      "\u001b[0;32m~/anaconda3/lib/python3.6/site-packages/xmltodict.py\u001b[0m in \u001b[0;36m_attrs_to_dict\u001b[0;34m(self, attrs)\u001b[0m\n\u001b[1;32m     91\u001b[0m         \u001b[0;32mif\u001b[0m \u001b[0misinstance\u001b[0m\u001b[0;34m(\u001b[0m\u001b[0mattrs\u001b[0m\u001b[0;34m,\u001b[0m \u001b[0mdict\u001b[0m\u001b[0;34m)\u001b[0m\u001b[0;34m:\u001b[0m\u001b[0;34m\u001b[0m\u001b[0m\n\u001b[1;32m     92\u001b[0m             \u001b[0;32mreturn\u001b[0m \u001b[0mattrs\u001b[0m\u001b[0;34m\u001b[0m\u001b[0m\n\u001b[0;32m---> 93\u001b[0;31m         \u001b[0;32mreturn\u001b[0m \u001b[0mself\u001b[0m\u001b[0;34m.\u001b[0m\u001b[0mdict_constructor\u001b[0m\u001b[0;34m(\u001b[0m\u001b[0mzip\u001b[0m\u001b[0;34m(\u001b[0m\u001b[0mattrs\u001b[0m\u001b[0;34m[\u001b[0m\u001b[0;36m0\u001b[0m\u001b[0;34m:\u001b[0m\u001b[0;34m:\u001b[0m\u001b[0;36m2\u001b[0m\u001b[0;34m]\u001b[0m\u001b[0;34m,\u001b[0m \u001b[0mattrs\u001b[0m\u001b[0;34m[\u001b[0m\u001b[0;36m1\u001b[0m\u001b[0;34m:\u001b[0m\u001b[0;34m:\u001b[0m\u001b[0;36m2\u001b[0m\u001b[0;34m]\u001b[0m\u001b[0;34m)\u001b[0m\u001b[0;34m)\u001b[0m\u001b[0;34m\u001b[0m\u001b[0m\n\u001b[0m\u001b[1;32m     94\u001b[0m \u001b[0;34m\u001b[0m\u001b[0m\n\u001b[1;32m     95\u001b[0m     \u001b[0;32mdef\u001b[0m \u001b[0mstartNamespaceDecl\u001b[0m\u001b[0;34m(\u001b[0m\u001b[0mself\u001b[0m\u001b[0;34m,\u001b[0m \u001b[0mprefix\u001b[0m\u001b[0;34m,\u001b[0m \u001b[0muri\u001b[0m\u001b[0;34m)\u001b[0m\u001b[0;34m:\u001b[0m\u001b[0;34m\u001b[0m\u001b[0m\n",
      "\u001b[0;31mKeyboardInterrupt\u001b[0m: "
     ]
    }
   ],
   "source": [
    "# lookup and store drugbank targets as dictionary: { inchi: [targets]}\n",
    "db_db_path = 'data/full_drugbank_database.xml'\n",
    "drugbank_target_dict = clean_drugbank(db_db_path)"
   ]
  },
  {
   "cell_type": "code",
   "execution_count": null,
   "metadata": {
    "collapsed": true
   },
   "outputs": [],
   "source": [
    "# save to file\n",
    "filename = 'checkpoint_files/drugbank_target_dict.sav'\n",
    "pickle.dump(drugbank_target_dict, open(filename, 'wb'))"
   ]
  },
  {
   "cell_type": "markdown",
   "metadata": {},
   "source": [
    "### 0b. Lookup Chembl targets"
   ]
  },
  {
   "cell_type": "code",
   "execution_count": null,
   "metadata": {
    "collapsed": true
   },
   "outputs": [],
   "source": [
    "# lookup and store chembl targets as dictionary: { inchi: [targets]}\n",
    "chembl_target_dict = {}\n",
    "tested_inchis = [] # b/c this bitch keeps crashing"
   ]
  },
  {
   "cell_type": "code",
   "execution_count": null,
   "metadata": {
    "collapsed": true
   },
   "outputs": [],
   "source": [
    "# query CHEMBL API using cpd inchi_keys to find human targets\n",
    "for inchi in log_progress(all_cpd_inchis.values, every=2):\n",
    "    if inchi not in tested_inchis:\n",
    "        human_target_genes = query_chembl(inchi)\n",
    "        if len(human_target_genes) > 0:\n",
    "            chembl_target_dict[inchi] = human_target_genes\n",
    "        tested_inchis.append(inchi)"
   ]
  },
  {
   "cell_type": "code",
   "execution_count": null,
   "metadata": {
    "collapsed": true
   },
   "outputs": [],
   "source": [
    "# save to file\n",
    "filename = 'checkpoint_files/chembl_target_dict.sav'\n",
    "pickle.dump(chembl_target_dict, open(filename, 'wb'))"
   ]
  },
  {
   "cell_type": "markdown",
   "metadata": {},
   "source": [
    "### 0c. Combine targets"
   ]
  },
  {
   "cell_type": "code",
   "execution_count": 79,
   "metadata": {},
   "outputs": [
    {
     "data": {
      "application/vnd.jupyter.widget-view+json": {
       "model_id": "8def78ac2fde49358cba32c012166a1d"
      }
     },
     "metadata": {},
     "output_type": "display_data"
    }
   ],
   "source": [
    "drugbank_target_dict = pickle.load(open('checkpoint_files/drugbank_target_dict.sav', 'rb'))\n",
    "chembl_target_dict = pickle.load(open('checkpoint_files/chembl_target_dict.sav', 'rb'))\n",
    "\n",
    "combined_target_dict = drugbank_target_dict.copy()\n",
    "for cpd, chembl_targets in log_progress(chembl_target_dict.items()):\n",
    "    try:\n",
    "        drugbank_targets = drugbank_target_dict[cpd]\n",
    "        combined_targets = list(set().union(chembl_targets,drugbank_targets))\n",
    "        combined_target_dict[cpd] = combined_targets\n",
    "    except KeyError:\n",
    "        combined_target_dict[cpd] = chembl_targets"
   ]
  },
  {
   "cell_type": "markdown",
   "metadata": {},
   "source": [
    "## 1. Identify cpd-KD pairs (pair set 1)\n",
    "\n",
    "The first of several filtering steps, this set is composed of pairs of known cpd-target interactions where both the cpd and the target KD have been tested in at least one LINCS experiment."
   ]
  },
  {
   "cell_type": "code",
   "execution_count": 80,
   "metadata": {},
   "outputs": [
    {
     "data": {
      "text/plain": [
       "4371"
      ]
     },
     "execution_count": 80,
     "metadata": {},
     "output_type": "execute_result"
    }
   ],
   "source": [
    "all_kd_pert_info = all_pert_info[all_pert_info.pert_type == 'trt_sh']\n",
    "kd_genes = all_kd_pert_info.pert_iname.unique()\n",
    "len(kd_genes)"
   ]
  },
  {
   "cell_type": "code",
   "execution_count": 83,
   "metadata": {},
   "outputs": [
    {
     "data": {
      "application/vnd.jupyter.widget-view+json": {
       "model_id": "85896e9b040b435ab303eaf06c1ddf89"
      }
     },
     "metadata": {},
     "output_type": "display_data"
    }
   ],
   "source": [
    "cpd_1_, target_1_, label_1_ = [], [], []\n",
    "for index, row in log_progress(all_cpd_pert_info.iterrows(), every=1000):\n",
    "    inchi = row.inchi_key\n",
    "    \n",
    "    # if the cpd has targets\n",
    "    if inchi in combined_target_dict.keys():\n",
    "        pert_id = row.pert_id\n",
    "        targets = combined_target_dict[inchi]\n",
    "        \n",
    "        # add targets as positive examples\n",
    "        for target in targets:\n",
    "            if target in kd_genes:\n",
    "                cpd_1_.append(pert_id)\n",
    "                target_1_.append(target)\n",
    "                label_1_.append(1)\n",
    "                \n",
    "        # add non-targets as negative examples\n",
    "        for gene in kd_genes:\n",
    "            if gene not in targets:\n",
    "                cpd_1_.append(pert_id)\n",
    "                target_1_.append(gene)\n",
    "                label_1_.append(0)\n",
    "                \n",
    "    # if the compound has no targets\n",
    "    else:\n",
    "        pert_id = row.pert_id\n",
    "        for gene in kd_genes:\n",
    "            cpd_1_.append(pert_id)\n",
    "            target_1_.append(gene)\n",
    "            label_1_.append(0)"
   ]
  },
  {
   "cell_type": "code",
   "execution_count": 84,
   "metadata": {
    "collapsed": true
   },
   "outputs": [],
   "source": [
    "pair_set_1_df = pd.DataFrame({'cpd': cpd_1_, 'target': target_1_, 'label': label_1_})\n",
    "pair_set_1_df.to_csv('checkpoint_files/pair_set_1_df.csv')"
   ]
  },
  {
   "cell_type": "code",
   "execution_count": 85,
   "metadata": {},
   "outputs": [
    {
     "name": "stdout",
     "output_type": "stream",
     "text": [
      "Pair set 1 statistics\n",
      "\n",
      "No. True interactions:\t 4220\n",
      "No. True cpds:\t\t 1076\n",
      "No. True genes:\t\t 624\n",
      "\n",
      "No. False interactions:\t 97071332\n",
      "No. False cpds:\t\t 21299\n",
      "No. False genes:\t 4371\n"
     ]
    }
   ],
   "source": [
    "pair_set_1_df = pd.DataFrame.from_csv('checkpoint_files/pair_set_1_df.csv')\n",
    "\n",
    "print('Pair set 1 statistics\\n')\n",
    "print('No. True interactions:\\t', pair_set_1_df.label.value_counts()[1])\n",
    "print('No. True cpds:\\t\\t', len(pair_set_1_df[pair_set_1_df.label == 1].cpd.unique()))\n",
    "print('No. True genes:\\t\\t', len(pair_set_1_df[pair_set_1_df.label == 1].target.unique()))\n",
    "print('\\nNo. False interactions:\\t', pair_set_1_df.label.value_counts()[0])\n",
    "print('No. False cpds:\\t\\t', len(pair_set_1_df[pair_set_1_df.label == 0].cpd.unique()))\n",
    "print('No. False genes:\\t', len(pair_set_1_df[pair_set_1_df.label == 0].target.unique()))"
   ]
  },
  {
   "cell_type": "markdown",
   "metadata": {},
   "source": [
    "## 2. Identify same-cell cpd-KD pairs (pair set 2)\n",
    "\n",
    "The second of several filtering steps, here we filter out cpd-KD pairs that have not both been tested in at least one common cell line.\n",
    "\n",
    "### 2a. Signature quality filter\n",
    "\n",
    "This step of finding common cells for all 100 million potential cpd-kd pairs is very slow. To speed things up we'll apply the signature quality filter here, rather than later on in the pipeline. We'll also store the high-quality signatures in dictionaries so that we can look them up quickly."
   ]
  },
  {
   "cell_type": "code",
   "execution_count": 8,
   "metadata": {},
   "outputs": [
    {
     "name": "stderr",
     "output_type": "stream",
     "text": [
      "/Users/Nico/anaconda3/lib/python3.6/site-packages/IPython/core/interactiveshell.py:2850: DtypeWarning: Columns (4,6,10) have mixed types. Specify dtype option on import or set low_memory=False.\n",
      "  if self.run_code(code, result):\n"
     ]
    }
   ],
   "source": [
    "# load the signature information\n",
    "all_sig_info = pd.DataFrame.from_csv('checkpoint_files/all_sig_info.csv')\n",
    "all_cpd_sig_info = all_sig_info[all_sig_info.pert_type == 'trt_cp'].copy()\n",
    "all_kd_sig_info = all_sig_info[all_sig_info.pert_type == 'trt_sh'].copy()"
   ]
  },
  {
   "cell_type": "code",
   "execution_count": 12,
   "metadata": {
    "collapsed": true
   },
   "outputs": [],
   "source": [
    "# data quality parameters \n",
    "pct_self_rank_cutoff = 0.05\n",
    "distill_cc_cutoff = 0.2\n",
    "\n",
    "# filter the data\n",
    "good_cpd_sig_info = all_cpd_sig_info[(all_cpd_sig_info.distil_cc_q75 >= distill_cc_cutoff) &\n",
    "                                     (all_cpd_sig_info.pct_self_rank_q25 <= pct_self_rank_cutoff)].copy()\n",
    "good_kd_sig_info = all_kd_sig_info[(all_kd_sig_info.distil_cc_q75 >= distill_cc_cutoff) &\n",
    "                                   (all_kd_sig_info.pct_self_rank_q25 <= pct_self_rank_cutoff)].copy()"
   ]
  },
  {
   "cell_type": "code",
   "execution_count": 13,
   "metadata": {},
   "outputs": [
    {
     "data": {
      "application/vnd.jupyter.widget-view+json": {
       "model_id": "0173b88b175a488bbb9c01bae8e6ace6"
      }
     },
     "metadata": {},
     "output_type": "display_data"
    },
    {
     "data": {
      "application/vnd.jupyter.widget-view+json": {
       "model_id": "7b29e8575e984e70a61fd64a6b64bd3d"
      }
     },
     "metadata": {},
     "output_type": "display_data"
    }
   ],
   "source": [
    "# create a dictionary of the good signatures so we can \n",
    "# look them up quickly by cpd/kd\n",
    "good_cpds = set(good_cpd_sig_info.pert_id.unique())\n",
    "good_cpd_sig_info_dict = {}\n",
    "for cpd in log_progress(good_cpds):\n",
    "    good_cpd_sig_info_dict[cpd] = good_cpd_sig_info[good_cpd_sig_info.pert_id == cpd].copy()\n",
    "    \n",
    "good_kds = set(good_kd_sig_info.pert_iname.unique())\n",
    "good_kd_sig_info_dict = {}\n",
    "for kd in log_progress(good_kds):\n",
    "    good_kd_sig_info_dict[kd] = good_kd_sig_info[good_kd_sig_info.pert_iname == kd].copy()"
   ]
  },
  {
   "cell_type": "code",
   "execution_count": 14,
   "metadata": {},
   "outputs": [
    {
     "data": {
      "application/vnd.jupyter.widget-view+json": {
       "model_id": "7403c051741d42469eaa4ff6d3b20f1c"
      }
     },
     "metadata": {},
     "output_type": "display_data"
    },
    {
     "data": {
      "application/vnd.jupyter.widget-view+json": {
       "model_id": "55ee3a10c1af4c30a4cab88eb0b080f7"
      }
     },
     "metadata": {},
     "output_type": "display_data"
    }
   ],
   "source": [
    "# select representative sigs for good cpds\n",
    "repr_cpd_sig_info_dict = {}\n",
    "for cpd, good_sig_df in log_progress(good_cpd_sig_info_dict.items()):\n",
    "    repr_cpd_sigs_df = pd.DataFrame(columns=good_sig_df.columns)\n",
    "    for cell_line in good_sig_df.cell_id.unique():\n",
    "        candidate_sigs = good_sig_df[good_sig_df.cell_id == cell_line]\n",
    "        repr_sig = candidate_sigs.loc[candidate_sigs['tas'].idxmax()].copy()\n",
    "        repr_cpd_sigs_df = repr_cpd_sigs_df.append(repr_sig)\n",
    "    repr_cpd_sig_info_dict[cpd] = repr_cpd_sigs_df\n",
    "\n",
    "# select representative kd sigs for good kds\n",
    "repr_kd_sig_info_dict = {}\n",
    "for kd, good_sig_df in log_progress(good_kd_sig_info_dict.items()):\n",
    "    repr_kd_sigs_df = pd.DataFrame(columns=good_sig_df.columns)\n",
    "    for cell_line in good_sig_df.cell_id.unique():\n",
    "        candidate_sigs = good_sig_df[good_sig_df.cell_id == cell_line]\n",
    "        repr_sig = candidate_sigs.loc[candidate_sigs['tas'].idxmax()].copy()\n",
    "        repr_kd_sigs_df = repr_kd_sigs_df.append(repr_sig)\n",
    "    repr_kd_sig_info_dict[kd] = repr_kd_sigs_df"
   ]
  },
  {
   "cell_type": "code",
   "execution_count": 15,
   "metadata": {
    "collapsed": true
   },
   "outputs": [],
   "source": [
    "# save the data\n",
    "pickle.dump(good_cpds, open('checkpoint_files/good_cpds.sav', 'wb'))\n",
    "pickle.dump(good_kds, open('checkpoint_files/good_kds.sav', 'wb'))\n",
    "pickle.dump(repr_cpd_sig_info_dict, open('checkpoint_files/repr_cpd_sig_info_dict.sav', 'wb'))\n",
    "pickle.dump(repr_kd_sig_info_dict, open('checkpoint_files/repr_kd_sig_info_dict.sav', 'wb'))"
   ]
  },
  {
   "cell_type": "code",
   "execution_count": 3,
   "metadata": {
    "collapsed": true
   },
   "outputs": [],
   "source": [
    "# load the data\n",
    "good_cpds = pickle.load(open('checkpoint_files/good_cpds.sav', 'rb'))\n",
    "good_kds = pickle.load(open('checkpoint_files/good_kds.sav', 'rb'))\n",
    "repr_cpd_sig_info_dict = pickle.load(open('checkpoint_files/repr_cpd_sig_info_dict.sav', 'rb'))\n",
    "repr_kd_sig_info_dict = pickle.load(open('checkpoint_files/repr_kd_sig_info_dict.sav', 'rb'))"
   ]
  },
  {
   "cell_type": "markdown",
   "metadata": {},
   "source": [
    "### 2b. Identify pairs w/ high quality sigs (both cpd and kd)"
   ]
  },
  {
   "cell_type": "code",
   "execution_count": 92,
   "metadata": {},
   "outputs": [
    {
     "data": {
      "application/vnd.jupyter.widget-view+json": {
       "model_id": "c8983764f2ca4005bde3761dd57233c8"
      }
     },
     "metadata": {},
     "output_type": "display_data"
    }
   ],
   "source": [
    "cpd_2_, target_2_, label_2_, common_cells_2_ = [], [], [], []\n",
    "\n",
    "for index, row in log_progress(pair_set_1_df.iterrows(), every=5000):\n",
    "\n",
    "    # bookmark to (hopfeully) save time\n",
    "    curr_cpd = ''\n",
    "    curr_cpd_sigs_df = ''\n",
    "    curr_cpd_cells = ''\n",
    "    \n",
    "    # extract signatures\n",
    "    cpd = row.cpd\n",
    "    if cpd in good_cpds:\n",
    "        target = row.target\n",
    "        if target in good_kds: \n",
    "            \n",
    "            # check if we need to load data for new cpd\n",
    "            if not cpd == curr_cpd:\n",
    "                curr_cpd = cpd\n",
    "                curr_cpd_sigs_df = repr_cpd_sig_info_dict[curr_cpd]\n",
    "                curr_cpd_cells = set(curr_cpd_sigs_df.cell_id.unique())\n",
    "            \n",
    "            # load data for target\n",
    "            kd_sigs = repr_kd_sig_info_dict[target]\n",
    "            kd_cells = set(kd_sigs.cell_id.unique())\n",
    "            \n",
    "            # compare cell lines\n",
    "            common_cells = curr_cpd_cells & kd_cells\n",
    "            if len(common_cells) > 0:\n",
    "                cpd_2_.append(cpd)\n",
    "                target_2_.append(target)\n",
    "                label_2_.append(row.label)\n",
    "                common_cells_2_.append(common_cells)"
   ]
  },
  {
   "cell_type": "code",
   "execution_count": 93,
   "metadata": {
    "collapsed": true
   },
   "outputs": [],
   "source": [
    "pair_set_2_df = pd.DataFrame({'cpd': cpd_2_, 'target': target_2_, 'label': label_2_})\n",
    "pair_set_2_df.to_csv('checkpoint_files/pair_set_2_df.csv')\n",
    "pickle.dump(common_cells_2_, open('checkpoint_files/common_cells_2_.sav', 'wb'))"
   ]
  },
  {
   "cell_type": "code",
   "execution_count": 4,
   "metadata": {
    "collapsed": true
   },
   "outputs": [],
   "source": [
    "pair_set_2_df = pd.DataFrame.from_csv('checkpoint_files/pair_set_2_df.csv')\n",
    "common_cells_2_ = pickle.load(open('checkpoint_files/common_cells_2_.sav', 'rb'))"
   ]
  },
  {
   "cell_type": "code",
   "execution_count": 5,
   "metadata": {},
   "outputs": [
    {
     "name": "stdout",
     "output_type": "stream",
     "text": [
      "Pair set 2 statistics\n",
      "\n",
      "No. True interactions:\t 2827\n",
      "No. True cpds:\t\t 636\n",
      "No. True genes:\t\t 469\n",
      "\n",
      "No. False interactions:\t 18171209\n",
      "No. False cpds:\t\t 4240\n",
      "No. False genes:\t 4344\n"
     ]
    }
   ],
   "source": [
    "print('Pair set 2 statistics\\n')\n",
    "print('No. True interactions:\\t', pair_set_2_df.label.value_counts()[1])\n",
    "print('No. True cpds:\\t\\t', len(pair_set_2_df[pair_set_2_df.label == 1].cpd.unique()))\n",
    "print('No. True genes:\\t\\t', len(pair_set_2_df[pair_set_2_df.label == 1].target.unique()))\n",
    "print('\\nNo. False interactions:\\t', pair_set_2_df.label.value_counts()[0])\n",
    "print('No. False cpds:\\t\\t', len(pair_set_2_df[pair_set_2_df.label == 0].cpd.unique()))\n",
    "print('No. False genes:\\t', len(pair_set_2_df[pair_set_2_df.label == 0].target.unique()))"
   ]
  },
  {
   "cell_type": "markdown",
   "metadata": {},
   "source": [
    "## 3. Identify cpd-KD pairs with interaction partner KDs (pair set 3)\n",
    "\n",
    "The third of several filtering steps, here we filter out cpd-KD pairs for which we do not know any interaction partners for the target."
   ]
  },
  {
   "cell_type": "code",
   "execution_count": 6,
   "metadata": {
    "collapsed": true
   },
   "outputs": [],
   "source": [
    "# load STRING 4.0 database\n",
    "# 355319.0 high confidence interactions for 14893 genes\n",
    "string_gene_interactions_700 = pd.DataFrame.from_csv('checkpoint_files/string_gene_interactions_700.csv')\n",
    "string_genes = set(string_gene_interactions_700.gene_1.unique())"
   ]
  },
  {
   "cell_type": "code",
   "execution_count": 10,
   "metadata": {},
   "outputs": [
    {
     "data": {
      "application/vnd.jupyter.widget-view+json": {
       "model_id": "082cd57b542540b39132561fe1ee5116"
      }
     },
     "metadata": {},
     "output_type": "display_data"
    }
   ],
   "source": [
    "# convert string interactions to dictionary of sets for fast lookup\n",
    "string_interactions_dict = {}\n",
    "for gene in log_progress(string_genes, every=10):\n",
    "    partners = string_gene_interactions_700[string_gene_interactions_700.gene_1 == gene].gene_2\n",
    "    partner_set = set(partners)\n",
    "    string_interactions_dict[gene] = partner_set"
   ]
  },
  {
   "cell_type": "code",
   "execution_count": 11,
   "metadata": {
    "collapsed": true
   },
   "outputs": [],
   "source": [
    "# save the interactions\n",
    "pickle.dump(string_interactions_dict, open('checkpoint_files/string_interactions_dict.sav', 'wb'))"
   ]
  },
  {
   "cell_type": "code",
   "execution_count": 4,
   "metadata": {
    "collapsed": true
   },
   "outputs": [],
   "source": [
    "# load the interactions\n",
    "string_interactions_dict = pickle.load(open('checkpoint_files/string_interactions_dict.sav', 'rb'))"
   ]
  },
  {
   "cell_type": "code",
   "execution_count": 14,
   "metadata": {},
   "outputs": [
    {
     "data": {
      "application/vnd.jupyter.widget-view+json": {
       "model_id": "b69c9f794d6d423088ecc521fb18053a"
      }
     },
     "metadata": {},
     "output_type": "display_data"
    }
   ],
   "source": [
    "cpd_3_, target_3_, label_3_, common_cells_3_ = [], [], [], []\n",
    "targets_without_partner_kds = []\n",
    "\n",
    "for index, row in log_progress(pair_set_2_df.iterrows(), every=5000):\n",
    "    target = row.target\n",
    "    # check if there are interaction partners\n",
    "    if target in string_genes:\n",
    "        partners = string_interactions_dict[target]\n",
    "        # check if partners have KDS\n",
    "        partner_kds = partners.intersection(good_kds)   \n",
    "        if len(partner_kds) > 0:\n",
    "            cpd_3_.append(row.cpd)\n",
    "            target_3_.append(target)\n",
    "            label_3_.append(row.label)\n",
    "            common_cells_3_.append(common_cells_2_[index])\n",
    "        else:\n",
    "            targets_without_partner_kds.append(target)"
   ]
  },
  {
   "cell_type": "code",
   "execution_count": 15,
   "metadata": {
    "collapsed": true
   },
   "outputs": [],
   "source": [
    "pair_set_3_df = pd.DataFrame({'cpd': cpd_3_, 'target': target_3_, 'label': label_3_})\n",
    "pair_set_3_df.to_csv('checkpoint_files/pair_set_3_df.csv')\n",
    "pickle.dump(common_cells_3_, open('checkpoint_files/common_cells_3_.sav', 'wb'))"
   ]
  },
  {
   "cell_type": "code",
   "execution_count": 129,
   "metadata": {
    "collapsed": true
   },
   "outputs": [],
   "source": [
    "pair_set_3_df = pd.DataFrame.from_csv('checkpoint_files/pair_set_3_df.csv')\n",
    "common_cells_3_ = pickle.load(open('checkpoint_files/common_cells_3_.sav', 'rb'))"
   ]
  },
  {
   "cell_type": "code",
   "execution_count": 16,
   "metadata": {},
   "outputs": [
    {
     "name": "stdout",
     "output_type": "stream",
     "text": [
      "Pair set 3 statistics\n",
      "\n",
      "No. True interactions:\t 2789\n",
      "No. True cpds:\t\t 634\n",
      "No. True genes:\t\t 455\n",
      "\n",
      "No. False interactions:\t 15528727\n",
      "No. False cpds:\t\t 4240\n",
      "No. False genes:\t 3668\n"
     ]
    }
   ],
   "source": [
    "print('Pair set 3 statistics\\n')\n",
    "print('No. True interactions:\\t', pair_set_3_df.label.value_counts()[1])\n",
    "print('No. True cpds:\\t\\t', len(pair_set_3_df[pair_set_3_df.label == 1].cpd.unique()))\n",
    "print('No. True genes:\\t\\t', len(pair_set_3_df[pair_set_3_df.label == 1].target.unique()))\n",
    "print('\\nNo. False interactions:\\t', pair_set_3_df.label.value_counts()[0])\n",
    "print('No. False cpds:\\t\\t', len(pair_set_3_df[pair_set_3_df.label == 0].cpd.unique()))\n",
    "print('No. False genes:\\t', len(pair_set_3_df[pair_set_3_df.label == 0].target.unique()))"
   ]
  },
  {
   "cell_type": "markdown",
   "metadata": {},
   "source": [
    "# 4. Discard pairs not tested in at least 3 different cell lines. (pair set 4)"
   ]
  },
  {
   "cell_type": "code",
   "execution_count": 14,
   "metadata": {
    "collapsed": true
   },
   "outputs": [],
   "source": [
    "min_num_cells = 3"
   ]
  },
  {
   "cell_type": "code",
   "execution_count": 17,
   "metadata": {},
   "outputs": [
    {
     "data": {
      "application/vnd.jupyter.widget-view+json": {
       "model_id": "c27f9434b1834bc7b983617ef985eaa1"
      }
     },
     "metadata": {},
     "output_type": "display_data"
    }
   ],
   "source": [
    "cpd_4_, target_4_, label_4_, common_cells_4_ = [], [], [], [],\n",
    "\n",
    "for index, row in log_progress(pair_set_3_df.iterrows(), every=5000):\n",
    "    common_cells = common_cells_3_[index]\n",
    "    if len(common_cells) >= min_num_cells:\n",
    "        cpd_4_.append(row.cpd)\n",
    "        target_4_.append(row.target)\n",
    "        label_4_.append(row.label)\n",
    "        common_cells_4_.append(common_cells)"
   ]
  },
  {
   "cell_type": "code",
   "execution_count": 18,
   "metadata": {
    "collapsed": true
   },
   "outputs": [],
   "source": [
    "pair_set_4_df = pd.DataFrame({'cpd': cpd_4_, 'target': target_4_, 'label': label_4_})"
   ]
  },
  {
   "cell_type": "code",
   "execution_count": 19,
   "metadata": {
    "collapsed": true
   },
   "outputs": [],
   "source": [
    "pair_set_4_df.to_csv('checkpoint_files/pair_set_4_df.csv')\n",
    "pickle.dump(common_cells_4_, open('checkpoint_files/common_cells_4_.sav', 'wb'))"
   ]
  },
  {
   "cell_type": "code",
   "execution_count": 4,
   "metadata": {
    "collapsed": true
   },
   "outputs": [],
   "source": [
    "pair_set_4_df = pd.DataFrame.from_csv('checkpoint_files/pair_set_4_df.csv')\n",
    "common_cells_4_ = pickle.load(open('checkpoint_files/common_cells_4_.sav', 'rb'))"
   ]
  },
  {
   "cell_type": "code",
   "execution_count": 20,
   "metadata": {},
   "outputs": [
    {
     "name": "stdout",
     "output_type": "stream",
     "text": [
      "Pair set 4 statistics\n",
      "\n",
      "No. True interactions:\t 1310\n",
      "No. True cpds:\t\t 232\n",
      "No. True genes:\t\t 303\n",
      "\n",
      "No. False interactions:\t 4498567\n",
      "No. False cpds:\t\t 1228\n",
      "No. False genes:\t 3320\n"
     ]
    }
   ],
   "source": [
    "print('Pair set 4 statistics\\n')\n",
    "print('No. True interactions:\\t', pair_set_4_df.label.value_counts()[1])\n",
    "print('No. True cpds:\\t\\t', len(pair_set_4_df[pair_set_4_df.label == 1].cpd.unique()))\n",
    "print('No. True genes:\\t\\t', len(pair_set_4_df[pair_set_4_df.label == 1].target.unique()))\n",
    "print('\\nNo. False interactions:\\t', pair_set_4_df.label.value_counts()[0])\n",
    "print('No. False cpds:\\t\\t', len(pair_set_4_df[pair_set_4_df.label == 0].cpd.unique()))\n",
    "print('No. False genes:\\t', len(pair_set_4_df[pair_set_4_df.label == 0].target.unique()))"
   ]
  },
  {
   "cell_type": "markdown",
   "metadata": {},
   "source": [
    "## 5. Identify cpd-KD pairs with same-cell interaction partner KDs (pair set 5)\n",
    "\n",
    "The fourth of several filtering steps, here we filter out cpd-KD pairs for which the target's interaction partners were not knocked down in any of the same cells as the cpd-target pair.\n",
    "\n",
    "Because this step takes SO long we're going to break up our dataframe into chunks and then run run the filter in parallel."
   ]
  },
  {
   "cell_type": "code",
   "execution_count": 11,
   "metadata": {
    "collapsed": true
   },
   "outputs": [],
   "source": [
    "import multiprocessing\n",
    "num_processes = 6 #multiprocessing.cpu_count()"
   ]
  },
  {
   "cell_type": "code",
   "execution_count": 12,
   "metadata": {
    "collapsed": true
   },
   "outputs": [],
   "source": [
    "def filter_pairs(input_stuff):\n",
    "    pair_df, common_cells_ = input_stuff\n",
    "    cpd_5_, target_5_, label_5_, common_cells_5_, common_partners_5_ = [], [], [], [], []\n",
    "    \n",
    "    for index, row in pair_df.iterrows(): \n",
    "        \n",
    "        if index % 10000 == 0: print(index)\n",
    "        \n",
    "        common_cells = common_cells_[index]\n",
    "        target = row.target\n",
    "        common_partners_dict = {}\n",
    "\n",
    "        # find interaction partner signatures\n",
    "        partners = string_interactions_dict[target]\n",
    "        partner_kds = partners.intersection(good_kds)\n",
    "        partner_sigs = pd.concat([ repr_kd_sig_info_dict[p] for p in partner_kds ], ignore_index=True)\n",
    "        # group partner sigs by cell line\n",
    "        for cell_line in common_cells:\n",
    "            partner_cell_sigs = partner_sigs[partner_sigs.cell_id == cell_line]\n",
    "            \n",
    "            if not partner_cell_sigs.empty:\n",
    "                cell_partners = set(partner_cell_sigs.pert_iname.unique())\n",
    "                common_partners_dict[cell_line] = cell_partners\n",
    "\n",
    "        # make sure we have partner KDs in at least three cell lines,\n",
    "        # since we're only considering pairs with this minimum amount of data\n",
    "        if len(common_partners_dict.keys()) >= min_num_cells:\n",
    "            common_cells_5 = set(common_partners_dict.keys())\n",
    "            cpd_5_.append(row.cpd)\n",
    "            target_5_.append(target)\n",
    "            label_5_.append(row.label)\n",
    "            common_cells_5_.append(common_cells_5)\n",
    "            common_partners_5_.append(common_partners_dict)\n",
    "            \n",
    "    return cpd_5_, target_5_, label_5_, common_cells_5_, common_partners_5_"
   ]
  },
  {
   "cell_type": "code",
   "execution_count": 13,
   "metadata": {
    "collapsed": true
   },
   "outputs": [],
   "source": [
    "# break the pairs up into batches\n",
    "num_batches = 10\n",
    "batch_size = 450000 # len(pair_set_4_df) / num_batches = 449987.7\n",
    "pdf4_batches = [ pair_set_4_df.iloc[pair_set_4_df.index[i:i + batch_size]].reset_index(drop=True)for i in range(0,num_batches*batch_size,batch_size) ]\n",
    "common_cell_batches = [ common_cells_4_[i:i + batch_size] for i in range(0,num_batches*batch_size,batch_size) ]"
   ]
  },
  {
   "cell_type": "code",
   "execution_count": 14,
   "metadata": {},
   "outputs": [
    {
     "name": "stdout",
     "output_type": "stream",
     "text": [
      "STARTING BATCH:  0\n",
      "0\n",
      "0\n",
      "0\n",
      "0\n",
      "0\n",
      "0\n",
      "10000\n",
      "10000\n",
      "10000\n",
      "10000\n",
      "10000\n",
      "10000\n",
      "20000\n",
      "20000\n",
      "20000\n",
      "20000\n",
      "20000\n",
      "20000\n",
      "30000\n",
      "30000\n",
      "30000\n",
      "30000\n",
      "30000\n",
      "30000\n",
      "40000\n",
      "40000\n",
      "40000\n",
      "40000\n",
      "40000\n",
      "40000\n",
      "50000\n",
      "50000\n",
      "50000\n",
      "50000\n",
      "50000\n",
      "50000\n",
      "60000\n",
      "60000\n",
      "60000\n",
      "60000\n",
      "60000\n",
      "60000\n",
      "70000\n",
      "70000\n",
      "70000\n",
      "70000\n",
      "70000\n",
      "70000\n",
      "\n",
      "MAKING DATAFRAME\n",
      "\n",
      "SAVING DATAFRAME\n",
      "\n",
      "SAVING COMMON CELLS\n",
      "\n",
      "SAVING COMMON PARTNERS\n",
      "\n",
      "DONE\n",
      "STARTING BATCH:  1\n",
      "0\n",
      "0\n",
      "0\n",
      "0\n",
      "0\n",
      "0\n",
      "10000\n",
      "10000\n",
      "10000\n",
      "10000\n",
      "10000\n",
      "10000\n",
      "20000\n",
      "20000\n",
      "20000\n",
      "20000\n",
      "20000\n",
      "20000\n",
      "30000\n",
      "30000\n",
      "30000\n",
      "30000\n",
      "30000\n",
      "30000\n",
      "40000\n",
      "40000\n",
      "40000\n",
      "40000\n",
      "40000\n",
      "40000\n",
      "50000\n",
      "50000\n",
      "50000\n",
      "50000\n",
      "50000\n",
      "50000\n",
      "60000\n",
      "60000\n",
      "60000\n",
      "60000\n",
      "60000\n",
      "60000\n",
      "70000\n",
      "70000\n",
      "70000\n",
      "70000\n",
      "70000\n",
      "70000\n",
      "\n",
      "MAKING DATAFRAME\n",
      "\n",
      "SAVING DATAFRAME\n",
      "\n",
      "SAVING COMMON CELLS\n",
      "\n",
      "SAVING COMMON PARTNERS\n",
      "\n",
      "DONE\n",
      "STARTING BATCH:  2\n",
      "0\n",
      "0\n",
      "0\n",
      "0\n",
      "0\n",
      "0\n",
      "10000\n",
      "10000\n",
      "10000\n",
      "10000\n",
      "10000\n",
      "10000\n",
      "20000\n",
      "20000\n",
      "20000\n",
      "20000\n",
      "20000\n",
      "20000\n",
      "30000\n",
      "30000\n",
      "30000\n",
      "30000\n",
      "30000\n",
      "30000\n",
      "40000\n",
      "40000\n",
      "40000\n",
      "40000\n",
      "40000\n",
      "40000\n",
      "50000\n",
      "50000\n",
      "50000\n",
      "50000\n",
      "50000\n",
      "50000\n",
      "60000\n",
      "60000\n",
      "60000\n",
      "60000\n",
      "60000\n",
      "60000\n",
      "70000\n",
      "70000\n",
      "70000\n",
      "70000\n",
      "70000\n",
      "70000\n",
      "\n",
      "MAKING DATAFRAME\n",
      "\n",
      "SAVING DATAFRAME\n",
      "\n",
      "SAVING COMMON CELLS\n",
      "\n",
      "SAVING COMMON PARTNERS\n",
      "\n",
      "DONE\n",
      "STARTING BATCH:  3\n",
      "0\n",
      "0\n",
      "0\n",
      "0\n",
      "0\n",
      "0\n",
      "10000\n",
      "10000\n",
      "10000\n",
      "10000\n",
      "10000\n",
      "10000\n",
      "20000\n",
      "20000\n",
      "20000\n",
      "20000\n",
      "20000\n",
      "20000\n",
      "30000\n",
      "30000\n",
      "30000\n",
      "30000\n",
      "30000\n",
      "30000\n",
      "40000\n",
      "40000\n",
      "40000\n",
      "40000\n",
      "40000\n",
      "40000\n",
      "50000\n",
      "50000\n",
      "50000\n",
      "50000\n",
      "50000\n",
      "50000\n",
      "60000\n",
      "60000\n",
      "60000\n",
      "60000\n",
      "60000\n",
      "60000\n",
      "70000\n",
      "70000\n",
      "70000\n",
      "70000\n",
      "70000\n",
      "70000\n",
      "\n",
      "MAKING DATAFRAME\n",
      "\n",
      "SAVING DATAFRAME\n",
      "\n",
      "SAVING COMMON CELLS\n",
      "\n",
      "SAVING COMMON PARTNERS\n",
      "\n",
      "DONE\n",
      "STARTING BATCH:  4\n",
      "0\n",
      "0\n",
      "0\n",
      "0\n",
      "0\n",
      "0\n",
      "10000\n",
      "10000\n",
      "10000\n",
      "10000\n",
      "10000\n",
      "10000\n",
      "20000\n",
      "20000\n",
      "20000\n",
      "20000\n",
      "20000\n",
      "20000\n",
      "30000\n",
      "30000\n",
      "30000\n",
      "30000\n",
      "30000\n",
      "30000\n",
      "40000\n",
      "40000\n",
      "40000\n",
      "40000\n",
      "40000\n",
      "40000\n",
      "50000\n",
      "50000\n",
      "50000\n",
      "50000\n",
      "50000\n",
      "50000\n",
      "60000\n",
      "60000\n",
      "60000\n",
      "60000\n",
      "60000\n",
      "60000\n",
      "70000\n",
      "70000\n",
      "70000\n",
      "70000\n",
      "70000\n",
      "70000\n",
      "\n",
      "MAKING DATAFRAME\n",
      "\n",
      "SAVING DATAFRAME\n",
      "\n",
      "SAVING COMMON CELLS\n",
      "\n",
      "SAVING COMMON PARTNERS\n",
      "\n",
      "DONE\n",
      "STARTING BATCH:  5\n",
      "0\n",
      "0\n",
      "0\n",
      "0\n",
      "0\n",
      "0\n",
      "10000\n",
      "10000\n",
      "10000\n",
      "10000\n",
      "10000\n",
      "10000\n",
      "20000\n",
      "20000\n",
      "20000\n",
      "20000\n",
      "20000\n",
      "20000\n",
      "30000\n",
      "30000\n",
      "30000\n",
      "30000\n",
      "30000\n",
      "30000\n",
      "40000\n",
      "40000\n",
      "40000\n",
      "40000\n",
      "40000\n",
      "40000\n",
      "50000\n",
      "50000\n",
      "50000\n",
      "50000\n",
      "50000\n",
      "50000\n",
      "60000\n",
      "60000\n",
      "60000\n",
      "60000\n",
      "60000\n",
      "60000\n",
      "70000\n",
      "70000\n",
      "70000\n",
      "70000\n",
      "70000\n",
      "70000\n",
      "\n",
      "MAKING DATAFRAME\n",
      "\n",
      "SAVING DATAFRAME\n",
      "\n",
      "SAVING COMMON CELLS\n",
      "\n",
      "SAVING COMMON PARTNERS\n",
      "\n",
      "DONE\n",
      "STARTING BATCH:  6\n",
      "0\n",
      "0\n",
      "0\n",
      "0\n",
      "0\n",
      "0\n",
      "10000\n",
      "10000\n",
      "10000\n",
      "10000\n",
      "10000\n",
      "10000\n",
      "20000\n",
      "20000\n",
      "20000\n",
      "20000\n",
      "20000\n",
      "20000\n",
      "30000\n",
      "30000\n",
      "30000\n",
      "30000\n",
      "30000\n",
      "30000\n",
      "40000\n",
      "40000\n",
      "40000\n",
      "40000\n",
      "40000\n",
      "40000\n",
      "50000\n",
      "50000\n",
      "50000\n",
      "50000\n",
      "50000\n",
      "50000\n",
      "60000\n",
      "60000\n",
      "60000\n",
      "60000\n",
      "60000\n",
      "60000\n",
      "70000\n",
      "70000\n",
      "70000\n",
      "70000\n",
      "70000\n",
      "70000\n",
      "\n",
      "MAKING DATAFRAME\n",
      "\n",
      "SAVING DATAFRAME\n",
      "\n",
      "SAVING COMMON CELLS\n",
      "\n",
      "SAVING COMMON PARTNERS\n",
      "\n",
      "DONE\n",
      "STARTING BATCH:  7\n",
      "0\n",
      "0\n",
      "0\n",
      "0\n",
      "0\n",
      "0\n",
      "10000\n",
      "10000\n",
      "10000\n",
      "10000\n",
      "10000\n",
      "10000\n",
      "20000\n",
      "20000\n",
      "20000\n",
      "20000\n",
      "20000\n",
      "20000\n",
      "30000\n",
      "30000\n",
      "30000\n",
      "30000\n",
      "30000\n",
      "30000\n",
      "40000\n",
      "40000\n",
      "40000\n",
      "40000\n",
      "40000\n",
      "40000\n",
      "50000\n",
      "50000\n",
      "50000\n",
      "50000\n",
      "50000\n",
      "50000\n",
      "60000\n",
      "60000\n",
      "60000\n",
      "60000\n",
      "60000\n",
      "60000\n",
      "70000\n",
      "70000\n",
      "70000\n",
      "70000\n",
      "70000\n",
      "70000\n",
      "\n",
      "MAKING DATAFRAME\n",
      "\n",
      "SAVING DATAFRAME\n",
      "\n",
      "SAVING COMMON CELLS\n",
      "\n",
      "SAVING COMMON PARTNERS\n",
      "\n",
      "DONE\n",
      "STARTING BATCH:  8\n",
      "0\n",
      "0\n",
      "0\n",
      "0\n",
      "0\n",
      "0\n",
      "10000\n",
      "10000\n",
      "10000\n",
      "10000\n",
      "10000\n",
      "10000\n",
      "20000\n",
      "20000\n",
      "20000\n",
      "20000\n",
      "20000\n",
      "20000\n",
      "30000\n",
      "30000\n",
      "30000\n",
      "30000\n",
      "30000\n",
      "30000\n",
      "40000\n",
      "40000\n",
      "40000\n",
      "40000\n",
      "40000\n",
      "40000\n",
      "50000\n",
      "50000\n",
      "50000\n",
      "50000\n",
      "50000\n",
      "50000\n",
      "60000\n",
      "60000\n",
      "60000\n",
      "60000\n",
      "60000\n",
      "60000\n",
      "70000\n",
      "70000\n",
      "70000\n",
      "70000\n",
      "70000\n",
      "70000\n",
      "\n",
      "MAKING DATAFRAME\n",
      "\n",
      "SAVING DATAFRAME\n",
      "\n",
      "SAVING COMMON CELLS\n",
      "\n",
      "SAVING COMMON PARTNERS\n",
      "\n",
      "DONE\n",
      "STARTING BATCH:  9\n",
      "0\n",
      "0\n",
      "0\n",
      "0\n",
      "0\n",
      "0\n",
      "10000\n",
      "10000\n",
      "10000\n",
      "10000\n",
      "10000\n",
      "10000\n",
      "20000\n",
      "20000\n",
      "20000\n",
      "20000\n",
      "20000\n",
      "20000\n",
      "30000\n",
      "30000\n",
      "30000\n",
      "30000\n",
      "30000\n",
      "30000\n",
      "40000\n",
      "40000\n",
      "40000\n",
      "40000\n",
      "40000\n",
      "40000\n",
      "50000\n",
      "50000\n",
      "50000\n",
      "50000\n",
      "50000\n",
      "50000\n",
      "60000\n",
      "60000\n",
      "60000\n",
      "60000\n",
      "60000\n",
      "60000\n",
      "70000\n",
      "70000\n",
      "70000\n",
      "70000\n",
      "70000\n",
      "70000\n",
      "0\n",
      "\n",
      "MAKING DATAFRAME\n",
      "\n",
      "SAVING DATAFRAME\n",
      "\n",
      "SAVING COMMON CELLS\n",
      "\n",
      "SAVING COMMON PARTNERS\n",
      "\n",
      "DONE\n"
     ]
    }
   ],
   "source": [
    "# run the filter on each batch of the data\n",
    "for j in range(10):\n",
    "    \n",
    "    print('STARTING BATCH: ', j)\n",
    "    # reset memory\n",
    "    cpd_5_, target_5_, label_5_, common_cells_5_, common_partners_5_, pair_set_5_df = [None]*6\n",
    "    result = None\n",
    "    cpd_5_t, target_5_t, label_5_t, common_cells_5_t, common_partners_5_t = [None]*5\n",
    "\n",
    "    # get data\n",
    "    pdf4_batch = pdf4_batches[j]\n",
    "    cc_batch = common_cell_batches[j]\n",
    "\n",
    "    # calculate the chunk size as an integer\n",
    "    chunk_size = int(pdf4_batch.shape[0]/num_processes)\n",
    "\n",
    "    # break the dataframe up into chunks\n",
    "    pair_chunks = [ pdf4_batch.iloc[pdf4_batch.index[i:i + chunk_size]].reset_index(drop=True) for i in range(0, pdf4_batch.shape[0], chunk_size)]\n",
    "    cell_chunks = [ cc_batch[i:i + chunk_size] for i in range(0, len(cc_batch), chunk_size) ]\n",
    "    chunks = list(zip(pair_chunks, cell_chunks))\n",
    "\n",
    "    # filter each section of the pairs dataframe in parallel\n",
    "    cpd_5_, target_5_, label_5_, common_cells_5_, common_partners_5_ = [], [], [], [], []\n",
    "    pool = multiprocessing.Pool(processes=num_processes)\n",
    "    result = pool.map(filter_pairs, chunks)\n",
    "    pool.close()\n",
    "\n",
    "    cpd_5_t, target_5_t, label_5_t, common_cells_5_t, common_partners_5_t = zip(*result)\n",
    "    cpd_5_ = functools.reduce( lambda x,y: x+y, [ c for c in list(cpd_5_t) ] )\n",
    "    target_5_ = functools.reduce( lambda x,y: x+y, [ t for t in list(target_5_t) ] )\n",
    "    label_5_ = functools.reduce( lambda x,y: x+y, [ l for l in list(label_5_t) ] )\n",
    "    common_cells_5_ = functools.reduce( lambda x,y: x+y, [ cc for cc in list(common_cells_5_t) ] )\n",
    "    common_partners_5_ = functools.reduce( lambda x,y: x+y, [ cc for cc in list(common_partners_5_t) ] )\n",
    "\n",
    "    print('\\nMAKING DATAFRAME')\n",
    "    pair_set_5_df = pd.DataFrame({'cpd': cpd_5_, 'target': target_5_, 'label': label_5_})\n",
    "\n",
    "    print('\\nSAVING DATAFRAME')\n",
    "    df_filename = 'checkpoint_files/pair_set_5_df_{}.csv'.format(j)\n",
    "    pair_set_5_df.to_csv(df_filename)\n",
    "\n",
    "    print('\\nSAVING COMMON CELLS')\n",
    "    cc_filename = 'checkpoint_files/common_cells_5_{}.sav'.format(j)\n",
    "    cc_file = open(cc_filename, 'wb')\n",
    "    pickle.dump(common_cells_5_, cc_file)\n",
    "    cc_file.close()\n",
    "\n",
    "    print('\\nSAVING COMMON PARTNERS')\n",
    "    cp_filename = 'checkpoint_files/common_partners_5_{}.sav'.format(j)\n",
    "    cp_file = open(cp_filename, 'wb')\n",
    "    pickle.dump(common_partners_5_, cp_file)\n",
    "    cp_file.close()\n",
    "\n",
    "    print('\\nDONE')"
   ]
  },
  {
   "cell_type": "code",
   "execution_count": 15,
   "metadata": {},
   "outputs": [
    {
     "data": {
      "application/vnd.jupyter.widget-view+json": {
       "model_id": "83165544a86744bc900a3016dc2730c8"
      }
     },
     "metadata": {},
     "output_type": "display_data"
    }
   ],
   "source": [
    "# LOAD DATA AND put the pieces back together\n",
    "pair_set_5_df = pd.DataFrame(columns=pair_set_4_df.columns)\n",
    "common_cells_5_ = []\n",
    "common_partners_5_ = []\n",
    "\n",
    "for j in log_progress(range(10)):\n",
    "    df_filename = 'checkpoint_files/pair_set_5_df_{}.csv'.format(j)\n",
    "    cc_filename = 'checkpoint_files/common_cells_5_{}.sav'.format(j)\n",
    "    cp_filename = 'checkpoint_files/common_partners_5_{}.sav'.format(j)\n",
    "    \n",
    "    pair_set_5_df = pair_set_5_df.append(pd.DataFrame.from_csv(df_filename))\n",
    "    common_cells_5_ += pickle.load(open(cc_filename, 'rb'))\n",
    "    #common_partners_5_ += pickle.load(open(cp_filename, 'rb'))"
   ]
  },
  {
   "cell_type": "code",
   "execution_count": 8,
   "metadata": {},
   "outputs": [
    {
     "name": "stdout",
     "output_type": "stream",
     "text": [
      "Pair set 5 statistics\n",
      "\n",
      "No. True interactions:\t 1308\n",
      "No. True cpds:\t\t 232\n",
      "No. True genes:\t\t 302\n",
      "\n",
      "No. False interactions:\t 4429884\n",
      "No. False cpds:\t\t 1228\n",
      "No. False genes:\t 3288\n"
     ]
    }
   ],
   "source": [
    "print('Pair set 5 statistics\\n')\n",
    "print('No. True interactions:\\t', pair_set_5_df.label.value_counts()[1])\n",
    "print('No. True cpds:\\t\\t', len(pair_set_5_df[pair_set_5_df.label == 1].cpd.unique()))\n",
    "print('No. True genes:\\t\\t', len(pair_set_5_df[pair_set_5_df.label == 1].target.unique()))\n",
    "print('\\nNo. False interactions:\\t', pair_set_5_df.label.value_counts()[0])\n",
    "print('No. False cpds:\\t\\t', len(pair_set_5_df[pair_set_5_df.label == 0].cpd.unique()))\n",
    "print('No. False genes:\\t', len(pair_set_5_df[pair_set_5_df.label == 0].target.unique()))"
   ]
  },
  {
   "cell_type": "markdown",
   "metadata": {},
   "source": [
    "## Cell count anaylsis\n",
    "Which cell lines are are true interactions happening in?"
   ]
  },
  {
   "cell_type": "code",
   "execution_count": 16,
   "metadata": {},
   "outputs": [],
   "source": [
    "true_pair_idx = pair_set_5_df[pair_set_5_df.label == 1].index.values.astype(int)\n",
    "true_pair_common_cells = np.array(common_cells_5_)[true_pair_idx]"
   ]
  },
  {
   "cell_type": "code",
   "execution_count": 17,
   "metadata": {},
   "outputs": [
    {
     "data": {
      "image/png": "[encoded data removed]",
      "text/plain": [
       "<matplotlib.figure.Figure at 0x21244b128>"
      ]
     },
     "metadata": {},
     "output_type": "display_data"
    }
   ],
   "source": [
    "# which cell lines are most common?\n",
    "all_cell_list = np.array(functools.reduce( lambda x,y: x+y, [ list(s) for s in true_pair_common_cells ] ))\n",
    "cell_line_counts = pd.Series(all_cell_list).value_counts()\n",
    "cell_line_counts.plot.bar()\n",
    "plt.show()"
   ]
  },
  {
   "cell_type": "code",
   "execution_count": 18,
   "metadata": {},
   "outputs": [
    {
     "data": {
      "image/png": "[encoded data removed]",
      "text/plain": [
       "<matplotlib.figure.Figure at 0x2205dd6a0>"
      ]
     },
     "metadata": {},
     "output_type": "display_data"
    }
   ],
   "source": [
    "# how many pairs tested in at least n cell lines?\n",
    "num_common_cells_5 = np.array([ len(cells) for cells in common_cells_5_])\n",
    "pair_set_5_df['ncells'] = num_common_cells_5\n",
    "ncell_counts = pair_set_5_df.ncells.value_counts()\n",
    "cum_ncell_counts = [0,0,0]\n",
    "for i in ncell_counts.index:\n",
    "    cum_ncell_counts.append(sum(ncell_counts.loc[i:]))\n",
    "cum_ncell_counts = pd.Series(cum_ncell_counts)\n",
    "cum_ncell_counts.plot.bar()\n",
    "plt.ylabel('Num Pairs')\n",
    "plt.xlabel('Num Cell Lines')\n",
    "plt.show()"
   ]
  },
  {
   "cell_type": "markdown",
   "metadata": {},
   "source": [
    "\n"
   ]
  },
  {
   "cell_type": "markdown",
   "metadata": {},
   "source": [
    "## 6. Most common cell lines (pair set 6)\n",
    "Three of the cell lines have very few drugs. We can ignore them and just focus on data from the 9 most common cell lines. \n",
    "\n",
    "**This also has to be done in batches**"
   ]
  },
  {
   "cell_type": "code",
   "execution_count": 19,
   "metadata": {},
   "outputs": [],
   "source": [
    "top_9_cell_lines = set(cell_line_counts.index[:9])"
   ]
  },
  {
   "cell_type": "code",
   "execution_count": null,
   "metadata": {
    "collapsed": true
   },
   "outputs": [],
   "source": []
  },
  {
   "cell_type": "code",
   "execution_count": 18,
   "metadata": {},
   "outputs": [
    {
     "name": "stdout",
     "output_type": "stream",
     "text": [
      "BATCH 0\n",
      "LOADING DATA\n",
      "FILTERING DATA\n"
     ]
    },
    {
     "data": {
      "application/vnd.jupyter.widget-view+json": {
       "model_id": "2705890f31c54622be39b381a18e0520"
      }
     },
     "metadata": {},
     "output_type": "display_data"
    },
    {
     "name": "stdout",
     "output_type": "stream",
     "text": [
      "MAKING DATAFRAME\n",
      "SAVING DATAFRAME\n",
      "SAVING COMMON CELLS\n",
      "SAVING COMMON PARTNERS\n",
      "RESETTING MEMORY\n",
      "DONE\n",
      "\n",
      "BATCH 1\n",
      "LOADING DATA\n",
      "FILTERING DATA\n"
     ]
    },
    {
     "data": {
      "application/vnd.jupyter.widget-view+json": {
       "model_id": "f83676d05f9741fdaaee36a5617ec023"
      }
     },
     "metadata": {},
     "output_type": "display_data"
    },
    {
     "name": "stdout",
     "output_type": "stream",
     "text": [
      "MAKING DATAFRAME\n",
      "SAVING DATAFRAME\n",
      "SAVING COMMON CELLS\n",
      "SAVING COMMON PARTNERS\n",
      "RESETTING MEMORY\n",
      "DONE\n",
      "\n",
      "BATCH 2\n",
      "LOADING DATA\n",
      "FILTERING DATA\n"
     ]
    },
    {
     "data": {
      "application/vnd.jupyter.widget-view+json": {
       "model_id": "f7e344f0e89f4e699afce3c92da841c9"
      }
     },
     "metadata": {},
     "output_type": "display_data"
    },
    {
     "name": "stdout",
     "output_type": "stream",
     "text": [
      "MAKING DATAFRAME\n",
      "SAVING DATAFRAME\n",
      "SAVING COMMON CELLS\n",
      "SAVING COMMON PARTNERS\n",
      "RESETTING MEMORY\n",
      "DONE\n",
      "\n",
      "BATCH 3\n",
      "LOADING DATA\n",
      "FILTERING DATA\n"
     ]
    },
    {
     "data": {
      "application/vnd.jupyter.widget-view+json": {
       "model_id": "f235577a310547df92c84f28b13b7eac"
      }
     },
     "metadata": {},
     "output_type": "display_data"
    },
    {
     "name": "stdout",
     "output_type": "stream",
     "text": [
      "MAKING DATAFRAME\n",
      "SAVING DATAFRAME\n",
      "SAVING COMMON CELLS\n",
      "SAVING COMMON PARTNERS\n",
      "RESETTING MEMORY\n",
      "DONE\n",
      "\n",
      "BATCH 4\n",
      "LOADING DATA\n",
      "FILTERING DATA\n"
     ]
    },
    {
     "data": {
      "application/vnd.jupyter.widget-view+json": {
       "model_id": "f17e97c06bce422a8673c316cfb7a7b3"
      }
     },
     "metadata": {},
     "output_type": "display_data"
    },
    {
     "name": "stdout",
     "output_type": "stream",
     "text": [
      "MAKING DATAFRAME\n",
      "SAVING DATAFRAME\n",
      "SAVING COMMON CELLS\n",
      "SAVING COMMON PARTNERS\n",
      "RESETTING MEMORY\n",
      "DONE\n",
      "\n",
      "BATCH 5\n",
      "LOADING DATA\n",
      "FILTERING DATA\n"
     ]
    },
    {
     "data": {
      "application/vnd.jupyter.widget-view+json": {
       "model_id": "56fbba529d214975b0b9f9d3fa6d4907"
      }
     },
     "metadata": {},
     "output_type": "display_data"
    },
    {
     "name": "stdout",
     "output_type": "stream",
     "text": [
      "MAKING DATAFRAME\n",
      "SAVING DATAFRAME\n",
      "SAVING COMMON CELLS\n",
      "SAVING COMMON PARTNERS\n",
      "RESETTING MEMORY\n",
      "DONE\n",
      "\n",
      "BATCH 6\n",
      "LOADING DATA\n",
      "FILTERING DATA\n"
     ]
    },
    {
     "data": {
      "application/vnd.jupyter.widget-view+json": {
       "model_id": "8a25de7abe2c43cb9ec0bd6f8e995b91"
      }
     },
     "metadata": {},
     "output_type": "display_data"
    },
    {
     "name": "stdout",
     "output_type": "stream",
     "text": [
      "MAKING DATAFRAME\n",
      "SAVING DATAFRAME\n",
      "SAVING COMMON CELLS\n",
      "SAVING COMMON PARTNERS\n",
      "RESETTING MEMORY\n",
      "DONE\n",
      "\n",
      "BATCH 7\n",
      "LOADING DATA\n",
      "FILTERING DATA\n"
     ]
    },
    {
     "data": {
      "application/vnd.jupyter.widget-view+json": {
       "model_id": "bd2ff37792c34a9a85c8bacf52231550"
      }
     },
     "metadata": {},
     "output_type": "display_data"
    },
    {
     "name": "stdout",
     "output_type": "stream",
     "text": [
      "MAKING DATAFRAME\n",
      "SAVING DATAFRAME\n",
      "SAVING COMMON CELLS\n",
      "SAVING COMMON PARTNERS\n",
      "RESETTING MEMORY\n",
      "DONE\n",
      "\n",
      "BATCH 8\n",
      "LOADING DATA\n",
      "FILTERING DATA\n"
     ]
    },
    {
     "data": {
      "application/vnd.jupyter.widget-view+json": {
       "model_id": "73c4e1bddf6d40168e35bdcf5cbfdf91"
      }
     },
     "metadata": {},
     "output_type": "display_data"
    },
    {
     "name": "stdout",
     "output_type": "stream",
     "text": [
      "MAKING DATAFRAME\n",
      "SAVING DATAFRAME\n",
      "SAVING COMMON CELLS\n",
      "SAVING COMMON PARTNERS\n",
      "RESETTING MEMORY\n",
      "DONE\n",
      "\n",
      "BATCH 9\n",
      "LOADING DATA\n",
      "FILTERING DATA\n"
     ]
    },
    {
     "data": {
      "application/vnd.jupyter.widget-view+json": {
       "model_id": "7396d97860764c4ab849b9a419d5b194"
      }
     },
     "metadata": {},
     "output_type": "display_data"
    },
    {
     "name": "stdout",
     "output_type": "stream",
     "text": [
      "MAKING DATAFRAME\n",
      "SAVING DATAFRAME\n",
      "SAVING COMMON CELLS\n",
      "SAVING COMMON PARTNERS\n",
      "RESETTING MEMORY\n",
      "DONE\n",
      "\n"
     ]
    }
   ],
   "source": [
    "# filter out pairs not in the top-9 cell lines\n",
    "\n",
    "for j in range(10):\n",
    "    print('BATCH {}'.format(j))\n",
    "    cpd_6_, target_6_, label_6_, common_cells_6_, common_partners_6_ = [], [], [], [], []\n",
    "    \n",
    "    print('LOADING DATA')\n",
    "    df_filename = 'checkpoint_files/pair_set_5_df_{}.csv'.format(j)\n",
    "    cc_filename = 'checkpoint_files/common_cells_5_{}.sav'.format(j)\n",
    "    cp_filename = 'checkpoint_files/common_partners_5_{}.sav'.format(j)\n",
    "    \n",
    "    p_5_df = pd.DataFrame.from_csv(df_filename)\n",
    "    \n",
    "    cc_5_file = open(cc_filename, 'rb')\n",
    "    cc_5_ = pickle.load(cc_5_file)\n",
    "    cc_5_file.close()\n",
    "    \n",
    "    cp_5_file = open(cp_filename, 'rb')\n",
    "    cp_5_ = pickle.load(cp_5_file)\n",
    "    cp_5_file.close()\n",
    "    \n",
    "    print('FILTERING DATA')\n",
    "    for index, row in log_progress(p_5_df.iterrows(), every=5000):\n",
    "        common_cells = cc_5_[index]\n",
    "        top_common_cells = common_cells & top_9_cell_lines\n",
    "        if len(top_common_cells) >= min_num_cells:\n",
    "            cpd_6_.append(row.cpd)\n",
    "            target_6_.append(row.target)\n",
    "            label_6_.append(row.label)\n",
    "            common_cells_6_.append(top_common_cells)\n",
    "\n",
    "            common_partners = {}\n",
    "            for c in top_common_cells:\n",
    "                common_partners[c] = cp_5_[index][c]\n",
    "            common_partners_6_.append(common_partners)\n",
    "            \n",
    "    print('MAKING DATAFRAME')\n",
    "    pair_set_6_df = pd.DataFrame({'cpd': cpd_6_, 'target': target_6_, 'label': label_6_})\n",
    "\n",
    "    print('SAVING DATAFRAME')\n",
    "    df_filename = 'checkpoint_files/pair_set_6_df_{}.csv'.format(j)\n",
    "    pair_set_6_df.to_csv(df_filename)\n",
    "\n",
    "    print('SAVING COMMON CELLS')\n",
    "    cc_filename = 'checkpoint_files/common_cells_6_{}.sav'.format(j)\n",
    "    cc_file = open(cc_filename, 'wb')\n",
    "    pickle.dump(common_cells_6_, cc_file)\n",
    "    cc_file.close()\n",
    "\n",
    "    print('SAVING COMMON PARTNERS')\n",
    "    cp_filename = 'checkpoint_files/common_partners_6_{}.sav'.format(j)\n",
    "    cp_file = open(cp_filename, 'wb')\n",
    "    pickle.dump(common_partners_6_, cp_file)\n",
    "    cp_file.close()\n",
    "\n",
    "    print('RESETTING MEMORY')\n",
    "    cpd_6_, target_6_, label_6_, common_cells_6_, common_partners_6_ = None, None, None, None, None\n",
    "    p_5_df, cc_5_, cp_5_ = None, None, None\n",
    "    \n",
    "    \n",
    "    print('DONE\\n')"
   ]
  },
  {
   "cell_type": "code",
   "execution_count": 27,
   "metadata": {},
   "outputs": [
    {
     "data": {
      "application/vnd.jupyter.widget-view+json": {
       "model_id": "d7d7efe622ab4f0696c9c1388dd27de2"
      }
     },
     "metadata": {},
     "output_type": "display_data"
    }
   ],
   "source": [
    "# LOAD DATA AND put the pieces back together\n",
    "pair_set_6_df = pd.DataFrame(columns=['cpd', 'label', 'target'])\n",
    "common_cells_6_ = []\n",
    "common_partners_6_ = []\n",
    "\n",
    "for j in log_progress(range(10)):\n",
    "    df_filename = 'checkpoint_files/pair_set_6_df_{}.csv'.format(j)\n",
    "    cc_filename = 'checkpoint_files/common_cells_6_{}.sav'.format(j)\n",
    "    cp_filename = 'checkpoint_files/common_partners_6_{}.sav'.format(j)\n",
    "    \n",
    "    pair_set_6_df = pair_set_6_df.append(pd.DataFrame.from_csv(df_filename))\n",
    "    #common_cells_6_ += pickle.load(open(cc_filename, 'rb'))\n",
    "    #common_partners_5_ += pickle.load(open(cp_filename, 'rb'))"
   ]
  },
  {
   "cell_type": "code",
   "execution_count": 20,
   "metadata": {},
   "outputs": [
    {
     "name": "stdout",
     "output_type": "stream",
     "text": [
      "Pair set 6 statistics\n",
      "\n",
      "No. True interactions:\t 1303\n",
      "No. True cpds:\t\t 229\n",
      "No. True genes:\t\t 302\n",
      "\n",
      "No. False interactions:\t 4394682\n",
      "No. False cpds:\t\t 1180\n",
      "No. False genes:\t 3245\n"
     ]
    }
   ],
   "source": [
    "print('Pair set 6 statistics\\n')\n",
    "print('No. True interactions:\\t', pair_set_6_df.label.value_counts()[1])\n",
    "print('No. True cpds:\\t\\t', len(pair_set_6_df[pair_set_6_df.label == 1].cpd.unique()))\n",
    "print('No. True genes:\\t\\t', len(pair_set_6_df[pair_set_6_df.label == 1].target.unique()))\n",
    "print('\\nNo. False interactions:\\t', pair_set_6_df.label.value_counts()[0])\n",
    "print('No. False cpds:\\t\\t', len(pair_set_6_df[pair_set_6_df.label == 0].cpd.unique()))\n",
    "print('No. False genes:\\t', len(pair_set_6_df[pair_set_6_df.label == 0].target.unique()))"
   ]
  },
  {
   "cell_type": "markdown",
   "metadata": {},
   "source": [
    "___\n",
    "# Extract gene expression signatures\n",
    "\n",
    "### Compounds"
   ]
  },
  {
   "cell_type": "code",
   "execution_count": 165,
   "metadata": {
    "collapsed": true
   },
   "outputs": [],
   "source": [
    "# load filtered data\n",
    "pair_set_6_df = pickle.load(open('checkpoint_files/pair_set_6_df.sav', 'rb'))\n",
    "common_cells_6_ = pickle.load(open('checkpoint_files/common_cells_6_.sav', 'rb'))\n",
    "#common_partners_6_ = pickle.load(open('checkpoint_files/common_partners_7_', 'rb'))"
   ]
  },
  {
   "cell_type": "code",
   "execution_count": 6,
   "metadata": {
    "collapsed": true
   },
   "outputs": [],
   "source": [
    "# reference lists\n",
    "top_9_cell_line_cpds = pair_set_6_df.cpd.unique()\n",
    "top_9_cell_line_kds = pair_set_6_df.target.unique()\n",
    "\n",
    "gene_info_1 = pd.read_csv('data/GSE92742_Broad_LINCS_gene_info.txt', sep='\\t', header=0)\n",
    "lm_genes = gene_info_1[gene_info_1['pr_is_lm'].astype(bool)]\n",
    "lm_gene_ids = lm_genes['pr_gene_id'].astype(str).values"
   ]
  },
  {
   "cell_type": "code",
   "execution_count": 20,
   "metadata": {},
   "outputs": [
    {
     "data": {
      "application/vnd.jupyter.widget-view+json": {
       "model_id": "168e81e9e0fb45c9ad546f332e7a8ae9"
      }
     },
     "metadata": {},
     "output_type": "display_data"
    }
   ],
   "source": [
    "# select representatives\n",
    "repr_top_9_cpd_sigs = pd.DataFrame(columns=all_cpd_sig_info.columns)\n",
    "for pert_id in log_progress(top_9_cell_line_cpds):\n",
    "    repr_cpd_sigs = repr_cpd_sig_info_dict[pert_id]\n",
    "    repr_cpd_sigs = repr_cpd_sigs[repr_cpd_sigs.cell_id.isin(top_9_cell_lines)]\n",
    "    repr_top_9_cpd_sigs = repr_top_9_cpd_sigs.append(repr_cpd_sigs)"
   ]
  },
  {
   "cell_type": "code",
   "execution_count": 21,
   "metadata": {
    "collapsed": true
   },
   "outputs": [
    {
     "ename": "KeyboardInterrupt",
     "evalue": "",
     "output_type": "error",
     "traceback": [
      "\u001b[0;31m---------------------------------------------------------------------------\u001b[0m",
      "\u001b[0;31mKeyboardInterrupt\u001b[0m                         Traceback (most recent call last)",
      "\u001b[0;32m<ipython-input-21-59033ea23228>\u001b[0m in \u001b[0;36m<module>\u001b[0;34m()\u001b[0m\n\u001b[1;32m      9\u001b[0m \u001b[0;34m\u001b[0m\u001b[0m\n\u001b[1;32m     10\u001b[0m \u001b[0;31m# extract the actual signatures\u001b[0m\u001b[0;34m\u001b[0m\u001b[0;34m\u001b[0m\u001b[0m\n\u001b[0;32m---> 11\u001b[0;31m \u001b[0mphase_1_top_9_cpd_sigs\u001b[0m \u001b[0;34m=\u001b[0m \u001b[0mparse\u001b[0m\u001b[0;34m(\u001b[0m\u001b[0;34m'data/GSE92742_Broad_LINCS_Level5_COMPZ.MODZ_n473647x12328.gctx'\u001b[0m\u001b[0;34m,\u001b[0m \u001b[0mcid\u001b[0m\u001b[0;34m=\u001b[0m\u001b[0mphase_1_top_9_cpd_sig_ids\u001b[0m\u001b[0;34m)\u001b[0m\u001b[0;34m.\u001b[0m\u001b[0mdata_df\u001b[0m\u001b[0;34m\u001b[0m\u001b[0m\n\u001b[0m\u001b[1;32m     12\u001b[0m \u001b[0mphase_2_top_9_cpd_sigs\u001b[0m \u001b[0;34m=\u001b[0m \u001b[0mparse\u001b[0m\u001b[0;34m(\u001b[0m\u001b[0;34m'data/GSE70138_Broad_LINCS_Level5_COMPZ_n118050x12328_2017-03-06.gctx'\u001b[0m\u001b[0;34m,\u001b[0m \u001b[0mcid\u001b[0m\u001b[0;34m=\u001b[0m\u001b[0mphase_2_top_9_cpd_sig_ids\u001b[0m\u001b[0;34m)\u001b[0m\u001b[0;34m.\u001b[0m\u001b[0mdata_df\u001b[0m\u001b[0;34m\u001b[0m\u001b[0m\n\u001b[1;32m     13\u001b[0m \u001b[0mphase_2_top_9_cpd_sigs\u001b[0m\u001b[0;34m.\u001b[0m\u001b[0mrename\u001b[0m\u001b[0;34m(\u001b[0m\u001b[0;32mlambda\u001b[0m \u001b[0mx\u001b[0m\u001b[0;34m:\u001b[0m \u001b[0mx\u001b[0m\u001b[0;34m[\u001b[0m\u001b[0;36m2\u001b[0m\u001b[0;34m:\u001b[0m\u001b[0;34m-\u001b[0m\u001b[0;36m1\u001b[0m\u001b[0;34m]\u001b[0m\u001b[0;34m,\u001b[0m \u001b[0minplace\u001b[0m\u001b[0;34m=\u001b[0m\u001b[0;32mTrue\u001b[0m\u001b[0;34m)\u001b[0m\u001b[0;34m\u001b[0m\u001b[0m\n",
      "\u001b[0;32m~/anaconda3/lib/python3.6/site-packages/cmapPy/pandasGEXpress/parse.py\u001b[0m in \u001b[0;36mparse\u001b[0;34m(file_path, convert_neg_666, rid, cid, ridx, cidx, row_meta_only, col_meta_only, make_multiindex)\u001b[0m\n\u001b[1;32m     60\u001b[0m     \u001b[0;32melif\u001b[0m \u001b[0mfile_path\u001b[0m\u001b[0;34m.\u001b[0m\u001b[0mendswith\u001b[0m\u001b[0;34m(\u001b[0m\u001b[0;34m\".gctx\"\u001b[0m\u001b[0;34m)\u001b[0m\u001b[0;34m:\u001b[0m\u001b[0;34m\u001b[0m\u001b[0m\n\u001b[1;32m     61\u001b[0m         curr = parse_gctx.parse(file_path, convert_neg_666, rid, cid, ridx, cidx, row_meta_only, col_meta_only,\n\u001b[0;32m---> 62\u001b[0;31m                                 make_multiindex)\n\u001b[0m\u001b[1;32m     63\u001b[0m     \u001b[0;32melse\u001b[0m\u001b[0;34m:\u001b[0m\u001b[0;34m\u001b[0m\u001b[0m\n\u001b[1;32m     64\u001b[0m         \u001b[0merr_msg\u001b[0m \u001b[0;34m=\u001b[0m \u001b[0;34m\"File to parse must be .gct or .gctx!\"\u001b[0m\u001b[0;34m\u001b[0m\u001b[0m\n",
      "\u001b[0;32m~/anaconda3/lib/python3.6/site-packages/cmapPy/pandasGEXpress/parse_gctx.py\u001b[0m in \u001b[0;36mparse\u001b[0;34m(gctx_file_path, convert_neg_666, rid, cid, ridx, cidx, row_meta_only, col_meta_only, make_multiindex)\u001b[0m\n\u001b[1;32m    101\u001b[0m \u001b[0;34m\u001b[0m\u001b[0m\n\u001b[1;32m    102\u001b[0m         \u001b[0;31m# validate optional input ids & get indexes to subset by\u001b[0m\u001b[0;34m\u001b[0m\u001b[0;34m\u001b[0m\u001b[0m\n\u001b[0;32m--> 103\u001b[0;31m         \u001b[0;34m(\u001b[0m\u001b[0msorted_ridx\u001b[0m\u001b[0;34m,\u001b[0m \u001b[0msorted_cidx\u001b[0m\u001b[0;34m)\u001b[0m \u001b[0;34m=\u001b[0m \u001b[0mcheck_and_order_id_inputs\u001b[0m\u001b[0;34m(\u001b[0m\u001b[0mrid\u001b[0m\u001b[0;34m,\u001b[0m \u001b[0mridx\u001b[0m\u001b[0;34m,\u001b[0m \u001b[0mcid\u001b[0m\u001b[0;34m,\u001b[0m \u001b[0mcidx\u001b[0m\u001b[0;34m,\u001b[0m \u001b[0mrow_meta\u001b[0m\u001b[0;34m,\u001b[0m \u001b[0mcol_meta\u001b[0m\u001b[0;34m)\u001b[0m\u001b[0;34m\u001b[0m\u001b[0m\n\u001b[0m\u001b[1;32m    104\u001b[0m \u001b[0;34m\u001b[0m\u001b[0m\n\u001b[1;32m    105\u001b[0m         \u001b[0mdata_dset\u001b[0m \u001b[0;34m=\u001b[0m \u001b[0mgctx_file\u001b[0m\u001b[0;34m[\u001b[0m\u001b[0mdata_node\u001b[0m\u001b[0;34m]\u001b[0m\u001b[0;34m\u001b[0m\u001b[0m\n",
      "\u001b[0;32m~/anaconda3/lib/python3.6/site-packages/cmapPy/pandasGEXpress/parse_gctx.py\u001b[0m in \u001b[0;36mcheck_and_order_id_inputs\u001b[0;34m(rid, ridx, cid, cidx, row_meta_df, col_meta_df)\u001b[0m\n\u001b[1;32m    141\u001b[0m \u001b[0;34m\u001b[0m\u001b[0m\n\u001b[1;32m    142\u001b[0m     \u001b[0mcol_ids\u001b[0m \u001b[0;34m=\u001b[0m \u001b[0mcheck_and_convert_ids\u001b[0m\u001b[0;34m(\u001b[0m\u001b[0mcol_type\u001b[0m\u001b[0;34m,\u001b[0m \u001b[0mcol_ids\u001b[0m\u001b[0;34m,\u001b[0m \u001b[0mcol_meta_df\u001b[0m\u001b[0;34m)\u001b[0m\u001b[0;34m\u001b[0m\u001b[0m\n\u001b[0;32m--> 143\u001b[0;31m     \u001b[0mordered_cidx\u001b[0m \u001b[0;34m=\u001b[0m \u001b[0mget_ordered_idx\u001b[0m\u001b[0;34m(\u001b[0m\u001b[0mcol_type\u001b[0m\u001b[0;34m,\u001b[0m \u001b[0mcol_ids\u001b[0m\u001b[0;34m,\u001b[0m \u001b[0mcol_meta_df\u001b[0m\u001b[0;34m)\u001b[0m\u001b[0;34m\u001b[0m\u001b[0m\n\u001b[0m\u001b[1;32m    144\u001b[0m     \u001b[0;32mreturn\u001b[0m \u001b[0;34m(\u001b[0m\u001b[0mordered_ridx\u001b[0m\u001b[0;34m,\u001b[0m \u001b[0mordered_cidx\u001b[0m\u001b[0;34m)\u001b[0m\u001b[0;34m\u001b[0m\u001b[0m\n\u001b[1;32m    145\u001b[0m \u001b[0;34m\u001b[0m\u001b[0m\n",
      "\u001b[0;32m~/anaconda3/lib/python3.6/site-packages/cmapPy/pandasGEXpress/parse_gctx.py\u001b[0m in \u001b[0;36mget_ordered_idx\u001b[0;34m(id_type, id_list, meta_df)\u001b[0m\n\u001b[1;32m    226\u001b[0m             \u001b[0mid_list\u001b[0m \u001b[0;34m=\u001b[0m \u001b[0mrange\u001b[0m\u001b[0;34m(\u001b[0m\u001b[0;36m0\u001b[0m\u001b[0;34m,\u001b[0m \u001b[0mlen\u001b[0m\u001b[0;34m(\u001b[0m\u001b[0mlist\u001b[0m\u001b[0;34m(\u001b[0m\u001b[0mmeta_df\u001b[0m\u001b[0;34m.\u001b[0m\u001b[0mindex\u001b[0m\u001b[0;34m)\u001b[0m\u001b[0;34m)\u001b[0m\u001b[0;34m)\u001b[0m\u001b[0;34m\u001b[0m\u001b[0m\n\u001b[1;32m    227\u001b[0m         \u001b[0;32melif\u001b[0m \u001b[0mid_type\u001b[0m \u001b[0;34m==\u001b[0m \u001b[0;34m\"id\"\u001b[0m\u001b[0;34m:\u001b[0m\u001b[0;34m\u001b[0m\u001b[0m\n\u001b[0;32m--> 228\u001b[0;31m             \u001b[0mid_list\u001b[0m \u001b[0;34m=\u001b[0m \u001b[0;34m[\u001b[0m\u001b[0mlist\u001b[0m\u001b[0;34m(\u001b[0m\u001b[0mmeta_df\u001b[0m\u001b[0;34m.\u001b[0m\u001b[0mindex\u001b[0m\u001b[0;34m)\u001b[0m\u001b[0;34m.\u001b[0m\u001b[0mindex\u001b[0m\u001b[0;34m(\u001b[0m\u001b[0mi\u001b[0m\u001b[0;34m)\u001b[0m \u001b[0;32mfor\u001b[0m \u001b[0mi\u001b[0m \u001b[0;32min\u001b[0m \u001b[0mid_list\u001b[0m\u001b[0;34m]\u001b[0m\u001b[0;34m\u001b[0m\u001b[0m\n\u001b[0m\u001b[1;32m    229\u001b[0m         \u001b[0;32mreturn\u001b[0m \u001b[0msorted\u001b[0m\u001b[0;34m(\u001b[0m\u001b[0mid_list\u001b[0m\u001b[0;34m)\u001b[0m\u001b[0;34m\u001b[0m\u001b[0m\n\u001b[1;32m    230\u001b[0m     \u001b[0;32melse\u001b[0m\u001b[0;34m:\u001b[0m\u001b[0;34m\u001b[0m\u001b[0m\n",
      "\u001b[0;32m~/anaconda3/lib/python3.6/site-packages/cmapPy/pandasGEXpress/parse_gctx.py\u001b[0m in \u001b[0;36m<listcomp>\u001b[0;34m(.0)\u001b[0m\n\u001b[1;32m    226\u001b[0m             \u001b[0mid_list\u001b[0m \u001b[0;34m=\u001b[0m \u001b[0mrange\u001b[0m\u001b[0;34m(\u001b[0m\u001b[0;36m0\u001b[0m\u001b[0;34m,\u001b[0m \u001b[0mlen\u001b[0m\u001b[0;34m(\u001b[0m\u001b[0mlist\u001b[0m\u001b[0;34m(\u001b[0m\u001b[0mmeta_df\u001b[0m\u001b[0;34m.\u001b[0m\u001b[0mindex\u001b[0m\u001b[0;34m)\u001b[0m\u001b[0;34m)\u001b[0m\u001b[0;34m)\u001b[0m\u001b[0;34m\u001b[0m\u001b[0m\n\u001b[1;32m    227\u001b[0m         \u001b[0;32melif\u001b[0m \u001b[0mid_type\u001b[0m \u001b[0;34m==\u001b[0m \u001b[0;34m\"id\"\u001b[0m\u001b[0;34m:\u001b[0m\u001b[0;34m\u001b[0m\u001b[0m\n\u001b[0;32m--> 228\u001b[0;31m             \u001b[0mid_list\u001b[0m \u001b[0;34m=\u001b[0m \u001b[0;34m[\u001b[0m\u001b[0mlist\u001b[0m\u001b[0;34m(\u001b[0m\u001b[0mmeta_df\u001b[0m\u001b[0;34m.\u001b[0m\u001b[0mindex\u001b[0m\u001b[0;34m)\u001b[0m\u001b[0;34m.\u001b[0m\u001b[0mindex\u001b[0m\u001b[0;34m(\u001b[0m\u001b[0mi\u001b[0m\u001b[0;34m)\u001b[0m \u001b[0;32mfor\u001b[0m \u001b[0mi\u001b[0m \u001b[0;32min\u001b[0m \u001b[0mid_list\u001b[0m\u001b[0;34m]\u001b[0m\u001b[0;34m\u001b[0m\u001b[0m\n\u001b[0m\u001b[1;32m    229\u001b[0m         \u001b[0;32mreturn\u001b[0m \u001b[0msorted\u001b[0m\u001b[0;34m(\u001b[0m\u001b[0mid_list\u001b[0m\u001b[0;34m)\u001b[0m\u001b[0;34m\u001b[0m\u001b[0m\n\u001b[1;32m    230\u001b[0m     \u001b[0;32melse\u001b[0m\u001b[0;34m:\u001b[0m\u001b[0;34m\u001b[0m\u001b[0m\n",
      "\u001b[0;31mKeyboardInterrupt\u001b[0m: "
     ]
    }
   ],
   "source": [
    "# extract the actual signatures\n",
    "phase_1_sig_ids = parse('data/GSE92742_Broad_LINCS_Level5_COMPZ.MODZ_n473647x12328.gctx', col_meta_only=True).index.values\n",
    "phase_2_sig_ids = parse('data/GSE70138_Broad_LINCS_Level5_COMPZ_n118050x12328_2017-03-06.gctx', col_meta_only=True).index.values\n",
    "\n",
    "# The GCTX files encode the sig IDS as strings of byte strings (why????) so we have to deal with that\n",
    "top_9_cpd_sig_ids = [ str(s.encode('UTF8')) for s  in repr_top_9_cpd_sigs.sig_id.values ]\n",
    "phase_1_top_9_cpd_sig_ids = [ s for s in top_9_cpd_sig_ids if s in phase_1_sig_ids ]\n",
    "phase_2_top_9_cpd_sig_ids = [ s for s in top_9_cpd_sig_ids if s in phase_2_sig_ids ]\n",
    "\n",
    "# extract the actual signatures\n",
    "phase_1_top_9_cpd_sigs = parse('data/GSE92742_Broad_LINCS_Level5_COMPZ.MODZ_n473647x12328.gctx', cid=phase_1_top_9_cpd_sig_ids).data_df\n",
    "phase_2_top_9_cpd_sigs = parse('data/GSE70138_Broad_LINCS_Level5_COMPZ_n118050x12328_2017-03-06.gctx', cid=phase_2_top_9_cpd_sig_ids).data_df\n",
    "phase_2_top_9_cpd_sigs.rename(lambda x: x[2:-1], inplace=True)\n",
    "top_9_cpd_raw_sigs = pd.concat([phase_1_top_9_cpd_sigs, phase_2_top_9_cpd_sigs], axis=1)\n",
    "\n",
    "# discard all but landmark gene values\n",
    "top_9_cpd_lm_sigs = top_9_cpd_raw_sigs[top_9_cpd_raw_sigs.index.isin(lm_gene_ids)].sort_index().copy()\n",
    "\n",
    "# reformat the sig_ids so they are nice strings\n",
    "top_9_cpd_lm_sigs = top_9_cpd_lm_sigs.T.rename(lambda x: x.lstrip('b\\'').rstrip('\\'')).T\n",
    "top_9_cpd_lm_sigs.head()"
   ]
  },
  {
   "cell_type": "code",
   "execution_count": null,
   "metadata": {},
   "outputs": [],
   "source": [
    "print(repr_top_9_cpd_sigs.shape)\n",
    "print(top_9_cpd_lm_sigs.shape)\n",
    "repr_top_9_cpd_sigs.to_csv('checkpoint_files/repr_top_9_cpd_sigs.csv')\n",
    "top_9_cpd_lm_sigs.to_csv('checkpoint_files/top_9_cpd_lm_sigs.csv')"
   ]
  },
  {
   "cell_type": "markdown",
   "metadata": {},
   "source": [
    "### Knockdowns"
   ]
  },
  {
   "cell_type": "code",
   "execution_count": null,
   "metadata": {},
   "outputs": [],
   "source": [
    "# select representatives\n",
    "repr_top_9_kd_sigs = pd.DataFrame(columns=all_kd_sig_info.columns)\n",
    "for pert_iname in log_progress(top_9_cell_line_kds):\n",
    "    repr_kd_sigs = repr_kd_sig_info_dict[pert_iname]\n",
    "    repr_kd_sigs = repr_kd_sigs[repr_kd_sigs.cell_id.isin(top_9_cell_lines)]\n",
    "    repr_top_9_kd_sigs = repr_top_9_kd_sigs.append(repr_kd_sigs)"
   ]
  },
  {
   "cell_type": "code",
   "execution_count": null,
   "metadata": {},
   "outputs": [],
   "source": [
    "# The GCTX files encode the sig IDS as strings of byte strings (why????) so we have to deal with that\n",
    "top_9_kd_sig_ids = [ str(s.encode('UTF8')) for s in repr_top_9_kd_sigs.sig_id.values ]\n",
    "\n",
    "# read in the data\n",
    "top_9_kd_raw_sigs = parse('data/GSE92742_Broad_LINCS_Level5_COMPZ.MODZ_n473647x12328.gctx', cid=top_9_kd_sig_ids).data_df\n",
    "\n",
    "# discard non-landmark gene expression scores\n",
    "top_9_kd_lm_sigs = top_9_kd_raw_sigs[top_9_kd_raw_sigs.index.isin(lm_gene_ids)].sort_index().copy()\n",
    "\n",
    "# reformat the sig_ids so they are nice strings\n",
    "top_9_kd_lm_sigs = top_9_kd_lm_sigs.T.rename(lambda x: x.lstrip('b\\'').rstrip('\\'')).T\n",
    "top_9_kd_lm_sigs.head()"
   ]
  },
  {
   "cell_type": "code",
   "execution_count": null,
   "metadata": {},
   "outputs": [],
   "source": [
    "print(repr_top_9_kd_sigs.shape)\n",
    "print(top_9_kd_lm_sigs.shape)\n",
    "repr_top_9_kd_sigs.to_csv('checkpoint_files/repr_top_9_kd_sigs.csv')\n",
    "top_9_kd_lm_sigs.to_csv('checkpoint_files/top_9_kd_lm_sigs.csv')"
   ]
  },
  {
   "cell_type": "markdown",
   "metadata": {},
   "source": [
    "___\n",
    "## Feature construction"
   ]
  },
  {
   "cell_type": "markdown",
   "metadata": {},
   "source": [
    "### Direct Correlation"
   ]
  },
  {
   "cell_type": "code",
   "execution_count": 24,
   "metadata": {},
   "outputs": [
    {
     "name": "stdout",
     "output_type": "stream",
     "text": [
      "(6098, 15)\n",
      "(978, 6098)\n"
     ]
    }
   ],
   "source": [
    "# load data\n",
    "repr_top_9_cpd_sigs = pd.DataFrame.from_csv('checkpoint_files/repr_top_9_cpd_sigs.csv')\n",
    "top_9_cpd_lm_sigs = pd.DataFrame.from_csv('checkpoint_files/top_9_cpd_lm_sigs.csv')\n",
    "print(repr_top_9_cpd_sigs.shape)\n",
    "print(top_9_cpd_lm_sigs.shape)"
   ]
  },
  {
   "cell_type": "code",
   "execution_count": 25,
   "metadata": {},
   "outputs": [
    {
     "name": "stdout",
     "output_type": "stream",
     "text": [
      "(25386, 15)\n",
      "(978, 25386)\n"
     ]
    }
   ],
   "source": [
    "# load data\n",
    "repr_top_9_kd_sigs = pd.DataFrame.from_csv('checkpoint_files/repr_top_9_kd_sigs.csv')\n",
    "top_9_kd_lm_sigs = pd.DataFrame.from_csv('checkpoint_files/top_9_kd_lm_sigs.csv')\n",
    "print(repr_top_9_kd_sigs.shape)\n",
    "print(top_9_kd_lm_sigs.shape)"
   ]
  },
  {
   "cell_type": "code",
   "execution_count": 28,
   "metadata": {},
   "outputs": [],
   "source": [
    "# reset memory\n",
    "pair_set_4_df = None\n",
    "pair_set_5_df = None\n",
    "common_cells_4_ = None\n",
    "common_cells_5_ = None"
   ]
  },
  {
   "cell_type": "code",
   "execution_count": 29,
   "metadata": {},
   "outputs": [
    {
     "data": {
      "application/vnd.jupyter.widget-view+json": {
       "model_id": "4b1eff246d0c4634bb48ff86207af66d"
      }
     },
     "metadata": {},
     "output_type": "display_data"
    }
   ],
   "source": [
    "# correlation computation is slow b/c we have to look up cpd/kd/cell specific signatures in \n",
    "# large dataframes with 30,000+ rows. We can perhaps speed this up if we create cell-line \n",
    "# specific dataframes\n",
    "repr_top_9_cpd_sigs_dict = {}\n",
    "top_9_cpd_lm_sigs_dict = {}\n",
    "for cell_line in log_progress(top_9_cell_lines):\n",
    "    cpd_sig_info = repr_top_9_cpd_sigs[repr_top_9_cpd_sigs.cell_id == cell_line].copy()\n",
    "    repr_top_9_cpd_sigs_dict[cell_line] = cpd_sig_info\n",
    "    sig_ids = cpd_sig_info.sig_id\n",
    "    lm_sigs = top_9_cpd_lm_sigs[sig_ids].copy()\n",
    "    top_9_cpd_lm_sigs_dict[cell_line] = lm_sigs"
   ]
  },
  {
   "cell_type": "code",
   "execution_count": 30,
   "metadata": {},
   "outputs": [
    {
     "data": {
      "application/vnd.jupyter.widget-view+json": {
       "model_id": "d200a3b31fef4c5dabf7590f85d9b514"
      }
     },
     "metadata": {},
     "output_type": "display_data"
    }
   ],
   "source": [
    "repr_top_9_kd_sigs_dict = {}\n",
    "top_9_kd_lm_sigs_dict = {}\n",
    "for cell_line in log_progress(top_9_cell_lines):\n",
    "    kd_sig_info = repr_top_9_kd_sigs[repr_top_9_kd_sigs.cell_id == cell_line].copy()\n",
    "    repr_top_9_kd_sigs_dict[cell_line] = kd_sig_info\n",
    "    sig_ids = kd_sig_info.sig_id\n",
    "    lm_sigs = top_9_kd_lm_sigs[sig_ids].copy()\n",
    "    top_9_kd_lm_sigs_dict[cell_line] = lm_sigs"
   ]
  },
  {
   "cell_type": "markdown",
   "metadata": {},
   "source": [
    "We'll try to run this in parallel since it is SUPER slow."
   ]
  },
  {
   "cell_type": "code",
   "execution_count": 44,
   "metadata": {},
   "outputs": [
    {
     "data": {
      "text/plain": [
       "4395985"
      ]
     },
     "execution_count": 44,
     "metadata": {},
     "output_type": "execute_result"
    }
   ],
   "source": [
    "len(pair_set_6_df)"
   ]
  },
  {
   "cell_type": "code",
   "execution_count": 34,
   "metadata": {
    "collapsed": true
   },
   "outputs": [],
   "source": [
    "import multiprocessing\n",
    "num_processes = 4 #multiprocessing.cpu_count()"
   ]
  },
  {
   "cell_type": "code",
   "execution_count": 36,
   "metadata": {
    "collapsed": true
   },
   "outputs": [],
   "source": [
    "def compute_dir_corr(pair_subset):\n",
    "    \n",
    "    # initialize empty dataframe to hold direct correlation values\n",
    "    dir_corr_df = pd.DataFrame(index=pair_subset.index, columns=top_9_cell_lines)\n",
    "\n",
    "    # loop through cpd-target pairs, calculate correlations in each cell line\n",
    "    for index, row in log_progress(pair_subset.iterrows(), every=1):\n",
    "        if index % 1000 == 0: print('INDEX: {}'.format(index))\n",
    "        \n",
    "        cpd = row.cpd\n",
    "        cpd_sig_info = repr_cpd_sig_info_dict[cpd]\n",
    "        kd = row.target\n",
    "        kd_sig_info = repr_kd_sig_info_dict[kd]\n",
    "        \n",
    "        for cell_line in top_9_cell_lines:\n",
    "            cpd_cell_sig_info = cpd_sig_info[cpd_sig_info.cell_id == cell_line]\n",
    "            kd_cell_sig_info = kd_sig_info[kd_sig_info.cell_id == cell_line]\n",
    "\n",
    "            # remember we have missing data, not all pairs are tested in all cell lines\n",
    "            if not (cpd_cell_sig_info.empty or kd_cell_sig_info.empty):\n",
    "                # extract signatures\n",
    "                cpd_sig_id = cpd_cell_sig_info.sig_id\n",
    "                kd_sig_id = kd_cell_sig_info.sig_id\n",
    "                cpd_lm_sig = top_9_cpd_lm_sigs_dict[cell_line][cpd_sig_id].values\n",
    "                kd_lm_sig = top_9_kd_lm_sigs_dict[cell_line][kd_sig_id].values\n",
    "                #compute and store correlation\n",
    "                corr = scipy.stats.pearsonr(cpd_lm_sig, kd_lm_sig)[0][0]\n",
    "                dir_corr_df.at[index, cell_line] = corr\n",
    "    \n",
    "    return dir_corr_df"
   ]
  },
  {
   "cell_type": "code",
   "execution_count": 37,
   "metadata": {
    "collapsed": true
   },
   "outputs": [],
   "source": [
    "# break the pairs up into batches\n",
    "num_batches = 10\n",
    "batch_size = 450000 # len(pair_set_6_df) / num_batches = 439598.5\n",
    "pdf6_batches = [ pair_set_6_df.iloc[pair_set_6_df.index[i:i + batch_size]].reset_index(drop=True)for i in range(0,num_batches*batch_size,batch_size) ]"
   ]
  },
  {
   "cell_type": "code",
   "execution_count": null,
   "metadata": {},
   "outputs": [
    {
     "name": "stdout",
     "output_type": "stream",
     "text": [
      "STARTING BATCH:  0\n",
      "INDEX: 0\n",
      "INDEX: 0\n",
      "INDEX: 0\n",
      "INDEX: 0\n",
      "INDEX: 1000\n",
      "INDEX: 1000\n",
      "INDEX: 1000\n",
      "INDEX: 1000\n",
      "INDEX: 2000\n",
      "INDEX: 2000\n",
      "INDEX: 2000\n",
      "INDEX: 2000\n",
      "INDEX: 3000\n",
      "INDEX: 3000\n",
      "INDEX: 3000\n",
      "INDEX: 3000\n",
      "INDEX: 4000\n",
      "INDEX: 4000\n",
      "INDEX: 5000\n",
      "INDEX: 4000\n",
      "INDEX: 4000\n",
      "INDEX: 5000\n",
      "INDEX: 6000\n",
      "INDEX: 5000\n",
      "INDEX: 5000\n",
      "INDEX: 6000\n",
      "INDEX: 7000\n",
      "INDEX: 6000\n",
      "INDEX: 7000\n",
      "INDEX: 6000\n",
      "INDEX: 8000\n",
      "INDEX: 7000\n",
      "INDEX: 8000\n",
      "INDEX: 9000\n",
      "INDEX: 7000\n",
      "INDEX: 8000\n",
      "INDEX: 9000\n",
      "INDEX: 10000\n",
      "INDEX: 8000\n",
      "INDEX: 9000\n",
      "INDEX: 10000\n",
      "INDEX: 9000\n",
      "INDEX: 10000\n",
      "INDEX: 11000\n",
      "INDEX: 11000\n",
      "INDEX: 11000\n",
      "INDEX: 10000\n",
      "INDEX: 12000\n",
      "INDEX: 12000\n",
      "INDEX: 13000\n",
      "INDEX: 12000\n",
      "INDEX: 11000\n",
      "INDEX: 13000\n",
      "INDEX: 14000\n",
      "INDEX: 13000\n",
      "INDEX: 12000\n",
      "INDEX: 14000\n",
      "INDEX: 15000\n",
      "INDEX: 16000\n",
      "INDEX: 14000\n",
      "INDEX: 15000\n",
      "INDEX: 13000\n",
      "INDEX: 17000\n",
      "INDEX: 15000\n",
      "INDEX: 14000\n",
      "INDEX: 16000\n",
      "INDEX: 18000\n",
      "INDEX: 16000\n",
      "INDEX: 17000\n",
      "INDEX: 15000\n",
      "INDEX: 19000\n",
      "INDEX: 18000\n",
      "INDEX: 17000\n",
      "INDEX: 16000\n",
      "INDEX: 20000\n",
      "INDEX: 19000\n",
      "INDEX: 17000\n",
      "INDEX: 18000\n",
      "INDEX: 21000\n",
      "INDEX: 18000\n",
      "INDEX: 20000\n",
      "INDEX: 19000\n",
      "INDEX: 22000\n",
      "INDEX: 19000\n",
      "INDEX: 20000\n",
      "INDEX: 21000\n",
      "INDEX: 23000\n",
      "INDEX: 20000\n",
      "INDEX: 21000\n",
      "INDEX: 24000\n",
      "INDEX: 22000\n",
      "INDEX: 22000\n",
      "INDEX: 21000\n",
      "INDEX: 25000\n",
      "INDEX: 23000\n",
      "INDEX: 23000\n",
      "INDEX: 22000\n",
      "INDEX: 24000\n",
      "INDEX: 26000\n",
      "INDEX: 24000\n",
      "INDEX: 23000\n",
      "INDEX: 25000\n",
      "INDEX: 27000\n",
      "INDEX: 25000\n",
      "INDEX: 24000\n",
      "INDEX: 26000\n",
      "INDEX: 28000\n",
      "INDEX: 26000\n",
      "INDEX: 25000\n",
      "INDEX: 27000\n",
      "INDEX: 27000\n",
      "INDEX: 26000\n",
      "INDEX: 28000\n",
      "INDEX: 29000\n",
      "INDEX: 28000\n",
      "INDEX: 29000\n",
      "INDEX: 27000\n",
      "INDEX: 30000\n",
      "INDEX: 29000\n",
      "INDEX: 30000\n",
      "INDEX: 28000\n",
      "INDEX: 31000\n",
      "INDEX: 30000\n",
      "INDEX: 31000\n",
      "INDEX: 29000\n",
      "INDEX: 32000\n",
      "INDEX: 31000\n",
      "INDEX: 30000\n",
      "INDEX: 32000\n",
      "INDEX: 33000\n",
      "INDEX: 32000\n",
      "INDEX: 31000\n",
      "INDEX: 34000\n",
      "INDEX: 33000\n",
      "INDEX: 33000\n",
      "INDEX: 32000\n",
      "INDEX: 35000\n",
      "INDEX: 34000\n",
      "INDEX: 34000\n",
      "INDEX: 36000\n",
      "INDEX: 33000\n",
      "INDEX: 35000\n",
      "INDEX: 35000\n",
      "INDEX: 36000\n",
      "INDEX: 37000\n",
      "INDEX: 34000\n",
      "INDEX: 36000\n",
      "INDEX: 37000\n",
      "INDEX: 38000\n",
      "INDEX: 35000\n",
      "INDEX: 37000\n",
      "INDEX: 38000\n",
      "INDEX: 39000\n",
      "INDEX: 38000\n",
      "INDEX: 36000\n",
      "INDEX: 39000\n",
      "INDEX: 40000\n",
      "INDEX: 39000\n",
      "INDEX: 37000\n",
      "INDEX: 40000\n",
      "INDEX: 40000\n",
      "INDEX: 41000\n",
      "INDEX: 38000\n",
      "INDEX: 41000\n",
      "INDEX: 41000\n",
      "INDEX: 42000\n",
      "INDEX: 39000\n",
      "INDEX: 42000\n",
      "INDEX: 42000\n",
      "INDEX: 43000\n",
      "INDEX: 40000\n",
      "INDEX: 43000\n",
      "INDEX: 43000\n",
      "INDEX: 44000\n",
      "INDEX: 41000\n",
      "INDEX: 44000\n",
      "INDEX: 44000\n",
      "INDEX: 45000\n",
      "INDEX: 42000\n",
      "INDEX: 45000\n",
      "INDEX: 45000\n",
      "INDEX: 46000\n",
      "INDEX: 46000\n",
      "INDEX: 46000\n",
      "INDEX: 43000\n",
      "INDEX: 47000\n",
      "INDEX: 47000\n",
      "INDEX: 47000\n",
      "INDEX: 44000\n",
      "INDEX: 48000\n",
      "INDEX: 48000\n",
      "INDEX: 49000\n",
      "INDEX: 45000\n",
      "INDEX: 48000\n",
      "INDEX: 49000\n",
      "INDEX: 50000\n",
      "INDEX: 46000\n",
      "INDEX: 49000\n",
      "INDEX: 50000\n",
      "INDEX: 51000\n",
      "INDEX: 47000\n",
      "INDEX: 50000\n",
      "INDEX: 51000\n",
      "INDEX: 52000\n",
      "INDEX: 48000\n",
      "INDEX: 52000\n",
      "INDEX: 51000\n",
      "INDEX: 53000\n",
      "INDEX: 49000\n",
      "INDEX: 53000\n",
      "INDEX: 54000\n",
      "INDEX: 52000\n",
      "INDEX: 50000\n",
      "INDEX: 54000\n",
      "INDEX: 55000\n",
      "INDEX: 51000\n",
      "INDEX: 53000\n",
      "INDEX: 55000\n",
      "INDEX: 56000\n",
      "INDEX: 54000\n",
      "INDEX: 52000\n",
      "INDEX: 56000\n",
      "INDEX: 57000\n",
      "INDEX: 55000\n",
      "INDEX: 53000\n",
      "INDEX: 58000\n",
      "INDEX: 56000\n",
      "INDEX: 57000\n",
      "INDEX: 54000\n",
      "INDEX: 59000\n",
      "INDEX: 57000\n",
      "INDEX: 58000\n",
      "INDEX: 55000\n",
      "INDEX: 60000\n",
      "INDEX: 59000\n",
      "INDEX: 58000\n",
      "INDEX: 61000\n",
      "INDEX: 60000\n",
      "INDEX: 56000\n",
      "INDEX: 59000\n",
      "INDEX: 62000\n",
      "INDEX: 61000\n",
      "INDEX: 60000\n",
      "INDEX: 57000\n",
      "INDEX: 63000\n",
      "INDEX: 62000\n",
      "INDEX: 61000\n",
      "INDEX: 64000\n",
      "INDEX: 58000\n",
      "INDEX: 63000\n",
      "INDEX: 62000\n",
      "INDEX: 65000\n",
      "INDEX: 59000\n",
      "INDEX: 64000\n",
      "INDEX: 63000\n",
      "INDEX: 66000\n",
      "INDEX: 60000\n",
      "INDEX: 65000\n",
      "INDEX: 64000\n",
      "INDEX: 67000\n",
      "INDEX: 61000\n",
      "INDEX: 68000\n",
      "INDEX: 66000\n",
      "INDEX: 65000\n",
      "INDEX: 62000\n",
      "INDEX: 69000\n",
      "INDEX: 63000\n",
      "INDEX: 66000\n",
      "INDEX: 67000\n",
      "INDEX: 70000\n",
      "INDEX: 64000\n",
      "INDEX: 67000\n",
      "INDEX: 68000\n",
      "INDEX: 71000\n",
      "INDEX: 65000\n",
      "INDEX: 68000\n",
      "INDEX: 69000\n",
      "INDEX: 72000\n",
      "INDEX: 66000\n",
      "INDEX: 69000\n",
      "INDEX: 70000\n",
      "INDEX: 73000\n",
      "INDEX: 67000\n",
      "INDEX: 70000\n",
      "INDEX: 71000\n",
      "INDEX: 74000\n",
      "INDEX: 68000\n",
      "INDEX: 71000\n",
      "INDEX: 72000\n",
      "INDEX: 75000\n",
      "INDEX: 69000\n",
      "INDEX: 72000\n",
      "INDEX: 73000\n",
      "INDEX: 76000\n",
      "INDEX: 73000\n",
      "INDEX: 70000\n",
      "INDEX: 74000\n",
      "INDEX: 74000\n",
      "INDEX: 77000\n",
      "INDEX: 71000\n",
      "INDEX: 75000\n",
      "INDEX: 75000\n",
      "INDEX: 78000\n",
      "INDEX: 72000\n",
      "INDEX: 76000\n",
      "INDEX: 76000\n",
      "INDEX: 73000\n",
      "INDEX: 79000\n",
      "INDEX: 77000\n",
      "INDEX: 77000\n",
      "INDEX: 74000\n",
      "INDEX: 78000\n",
      "INDEX: 80000\n",
      "INDEX: 78000\n",
      "INDEX: 75000\n",
      "INDEX: 79000\n",
      "INDEX: 79000\n",
      "INDEX: 81000\n",
      "INDEX: 76000\n",
      "INDEX: 80000\n",
      "INDEX: 80000\n",
      "INDEX: 82000\n",
      "INDEX: 77000\n",
      "INDEX: 81000\n",
      "INDEX: 83000\n",
      "INDEX: 81000\n",
      "INDEX: 78000\n",
      "INDEX: 84000\n",
      "INDEX: 79000\n",
      "INDEX: 82000\n",
      "INDEX: 82000\n",
      "INDEX: 85000\n",
      "INDEX: 80000\n",
      "INDEX: 83000\n",
      "INDEX: 83000\n",
      "INDEX: 86000\n",
      "INDEX: 81000\n",
      "INDEX: 84000\n",
      "INDEX: 87000\n",
      "INDEX: 84000\n",
      "INDEX: 82000\n",
      "INDEX: 85000\n",
      "INDEX: 88000\n",
      "INDEX: 85000\n",
      "INDEX: 83000\n",
      "INDEX: 86000\n",
      "INDEX: 89000\n",
      "INDEX: 86000\n",
      "INDEX: 84000\n",
      "INDEX: 87000\n",
      "INDEX: 90000\n",
      "INDEX: 87000\n",
      "INDEX: 85000\n",
      "INDEX: 88000\n",
      "INDEX: 88000\n",
      "INDEX: 91000\n",
      "INDEX: 86000\n",
      "INDEX: 89000\n",
      "INDEX: 89000\n",
      "INDEX: 92000\n",
      "INDEX: 87000\n",
      "INDEX: 90000\n",
      "INDEX: 90000\n",
      "INDEX: 93000\n",
      "INDEX: 88000\n",
      "INDEX: 91000\n",
      "INDEX: 91000\n",
      "INDEX: 89000\n",
      "INDEX: 94000\n",
      "INDEX: 92000\n",
      "INDEX: 92000\n",
      "INDEX: 90000\n",
      "INDEX: 95000\n",
      "INDEX: 93000\n",
      "INDEX: 93000\n",
      "INDEX: 91000\n",
      "INDEX: 96000\n",
      "INDEX: 94000\n",
      "INDEX: 94000\n",
      "INDEX: 92000\n",
      "INDEX: 97000\n",
      "INDEX: 95000\n",
      "INDEX: 93000\n",
      "INDEX: 98000\n",
      "INDEX: 95000\n",
      "INDEX: 96000\n",
      "INDEX: 94000\n",
      "INDEX: 99000\n",
      "INDEX: 97000\n",
      "INDEX: 96000\n",
      "INDEX: 95000\n",
      "INDEX: 100000\n",
      "INDEX: 98000\n",
      "INDEX: 96000\n",
      "INDEX: 97000\n",
      "INDEX: 101000\n",
      "INDEX: 99000\n",
      "INDEX: 97000\n",
      "INDEX: 102000\n",
      "INDEX: 98000\n",
      "INDEX: 100000\n",
      "INDEX: 98000\n",
      "INDEX: 103000\n",
      "INDEX: 101000\n",
      "INDEX: 99000\n",
      "INDEX: 99000\n",
      "INDEX: 104000\n",
      "INDEX: 102000\n",
      "INDEX: 100000\n",
      "INDEX: 100000\n",
      "INDEX: 105000\n",
      "INDEX: 103000\n",
      "INDEX: 101000\n",
      "INDEX: 101000\n",
      "INDEX: 106000\n",
      "INDEX: 104000\n",
      "INDEX: 102000\n",
      "INDEX: 105000\n",
      "INDEX: 107000\n",
      "INDEX: 102000\n",
      "INDEX: 103000\n",
      "INDEX: 106000\n",
      "INDEX: 108000\n",
      "INDEX: 103000\n",
      "INDEX: 104000\n",
      "INDEX: 107000\n",
      "INDEX: 109000\n",
      "INDEX: 105000\n",
      "INDEX: 104000\n",
      "INDEX: 108000\n",
      "INDEX: 110000\n",
      "INDEX: 106000\n",
      "INDEX: 105000\n",
      "INDEX: 109000\n",
      "INDEX: 107000\n",
      "INDEX: 106000\n",
      "INDEX: 111000\n",
      "INDEX: 110000\n",
      "INDEX: 108000\n",
      "INDEX: 107000\n",
      "INDEX: 111000\n",
      "INDEX: 112000\n",
      "INDEX: 108000\n",
      "INDEX: 109000\n",
      "INDEX: 112000\n",
      "INDEX: 110000\n",
      "INDEX: 109000\n",
      "INDEX: 111000\n",
      "INDEX: 110000\n",
      "INDEX: 112000\n",
      "INDEX: 111000\n",
      "INDEX: 112000\n",
      "STARTING BATCH:  1\n",
      "INDEX: 0\n",
      "INDEX: 0\n",
      "INDEX: 0\n",
      "INDEX: 0\n"
     ]
    }
   ],
   "source": [
    "# run the filter on each batch of the data\n",
    "for j in range(10):\n",
    "    \n",
    "    print('STARTING BATCH: ', j)\n",
    "    # reset memory\n",
    "    result = None\n",
    "    dir_corr_sub_df = None\n",
    "    \n",
    "    # get data\n",
    "    pdf6_batch = pdf6_batches[j]\n",
    "\n",
    "    # calculate the chunk size as an integer\n",
    "    chunk_size = int(pdf6_batch.shape[0]/num_processes)\n",
    "\n",
    "    # break the dataframe up into chunks\n",
    "    pair_chunks = [ pdf6_batch.iloc[pdf6_batch.index[i:i + chunk_size]].reset_index(drop=True) for i in range(0, pdf6_batch.shape[0], chunk_size)]\n",
    "\n",
    "    # filter each section of the pairs dataframe in parallel\n",
    "    pool = multiprocessing.Pool(processes=num_processes)\n",
    "    result = pool.map(compute_dir_corr, pair_chunks)\n",
    "    pool.close()\n",
    "    \n",
    "    dir_corr_sub_df = functools.reduce(lambda x,y: pd.concat([x,y]), result)\n",
    "    filename = 'features/top_9_dir_corr_sub_df_{}.csv'.format(j)\n",
    "    dir_corr_sub_df.to_csv(filename)"
   ]
  },
  {
   "cell_type": "code",
   "execution_count": 82,
   "metadata": {},
   "outputs": [
    {
     "name": "stdout",
     "output_type": "stream",
     "text": [
      "<class 'list'> 4 <class 'pandas.core.frame.DataFrame'> (112500, 9)\n"
     ]
    }
   ],
   "source": [
    "print(type(result), len(result), type(result[0]), result[0].shape)"
   ]
  },
  {
   "cell_type": "code",
   "execution_count": 84,
   "metadata": {
    "collapsed": true
   },
   "outputs": [],
   "source": [
    "dir_corr_sub_df = functools.reduce(lambda x,y: pd.concat([x,y]), result)"
   ]
  },
  {
   "cell_type": "code",
   "execution_count": 91,
   "metadata": {
    "collapsed": true
   },
   "outputs": [],
   "source": [
    "filename = 'features/top_9_dir_corr_sub_df_{}.csv'.format(j)\n",
    "dir_corr_sub_df.to_csv(filename)"
   ]
  },
  {
   "cell_type": "code",
   "execution_count": 66,
   "metadata": {
    "collapsed": true
   },
   "outputs": [
    {
     "data": {
      "application/vnd.jupyter.widget-view+json": {
       "model_id": "582927ac29bc4a998820b42d557bfc02"
      }
     },
     "metadata": {},
     "output_type": "display_data"
    },
    {
     "ename": "KeyboardInterrupt",
     "evalue": "",
     "output_type": "error",
     "traceback": [
      "\u001b[0;31m---------------------------------------------------------------------------\u001b[0m",
      "\u001b[0;31mKeyboardInterrupt\u001b[0m                         Traceback (most recent call last)",
      "\u001b[0;32m<ipython-input-66-a254dcbd0080>\u001b[0m in \u001b[0;36m<module>\u001b[0;34m()\u001b[0m\n\u001b[1;32m     22\u001b[0m             \u001b[0;31m#compute and store correlation\u001b[0m\u001b[0;34m\u001b[0m\u001b[0;34m\u001b[0m\u001b[0m\n\u001b[1;32m     23\u001b[0m             \u001b[0mcorr\u001b[0m \u001b[0;34m=\u001b[0m \u001b[0mscipy\u001b[0m\u001b[0;34m.\u001b[0m\u001b[0mstats\u001b[0m\u001b[0;34m.\u001b[0m\u001b[0mpearsonr\u001b[0m\u001b[0;34m(\u001b[0m\u001b[0mcpd_lm_sig\u001b[0m\u001b[0;34m,\u001b[0m \u001b[0mkd_lm_sig\u001b[0m\u001b[0;34m)\u001b[0m\u001b[0;34m[\u001b[0m\u001b[0;36m0\u001b[0m\u001b[0;34m]\u001b[0m\u001b[0;34m[\u001b[0m\u001b[0;36m0\u001b[0m\u001b[0;34m]\u001b[0m\u001b[0;34m\u001b[0m\u001b[0m\n\u001b[0;32m---> 24\u001b[0;31m             \u001b[0mdir_corr_df\u001b[0m\u001b[0;34m.\u001b[0m\u001b[0mat\u001b[0m\u001b[0;34m[\u001b[0m\u001b[0mindex\u001b[0m\u001b[0;34m,\u001b[0m \u001b[0mcell_line\u001b[0m\u001b[0;34m]\u001b[0m \u001b[0;34m=\u001b[0m \u001b[0mcorr\u001b[0m\u001b[0;34m\u001b[0m\u001b[0m\n\u001b[0m",
      "\u001b[0;32m~/anaconda3/lib/python3.6/site-packages/pandas/core/indexing.py\u001b[0m in \u001b[0;36m__setitem__\u001b[0;34m(self, key, value)\u001b[0m\n\u001b[1;32m   1800\u001b[0m         \u001b[0mkey\u001b[0m \u001b[0;34m=\u001b[0m \u001b[0mlist\u001b[0m\u001b[0;34m(\u001b[0m\u001b[0mself\u001b[0m\u001b[0;34m.\u001b[0m\u001b[0m_convert_key\u001b[0m\u001b[0;34m(\u001b[0m\u001b[0mkey\u001b[0m\u001b[0;34m,\u001b[0m \u001b[0mis_setter\u001b[0m\u001b[0;34m=\u001b[0m\u001b[0;32mTrue\u001b[0m\u001b[0;34m)\u001b[0m\u001b[0;34m)\u001b[0m\u001b[0;34m\u001b[0m\u001b[0m\n\u001b[1;32m   1801\u001b[0m         \u001b[0mkey\u001b[0m\u001b[0;34m.\u001b[0m\u001b[0mappend\u001b[0m\u001b[0;34m(\u001b[0m\u001b[0mvalue\u001b[0m\u001b[0;34m)\u001b[0m\u001b[0;34m\u001b[0m\u001b[0m\n\u001b[0;32m-> 1802\u001b[0;31m         \u001b[0mself\u001b[0m\u001b[0;34m.\u001b[0m\u001b[0mobj\u001b[0m\u001b[0;34m.\u001b[0m\u001b[0mset_value\u001b[0m\u001b[0;34m(\u001b[0m\u001b[0;34m*\u001b[0m\u001b[0mkey\u001b[0m\u001b[0;34m,\u001b[0m \u001b[0mtakeable\u001b[0m\u001b[0;34m=\u001b[0m\u001b[0mself\u001b[0m\u001b[0;34m.\u001b[0m\u001b[0m_takeable\u001b[0m\u001b[0;34m)\u001b[0m\u001b[0;34m\u001b[0m\u001b[0m\n\u001b[0m\u001b[1;32m   1803\u001b[0m \u001b[0;34m\u001b[0m\u001b[0m\n\u001b[1;32m   1804\u001b[0m \u001b[0;34m\u001b[0m\u001b[0m\n",
      "\u001b[0;32m~/anaconda3/lib/python3.6/site-packages/pandas/core/frame.py\u001b[0m in \u001b[0;36mset_value\u001b[0;34m(self, index, col, value, takeable)\u001b[0m\n\u001b[1;32m   1952\u001b[0m             \u001b[0mseries\u001b[0m \u001b[0;34m=\u001b[0m \u001b[0mself\u001b[0m\u001b[0;34m.\u001b[0m\u001b[0m_get_item_cache\u001b[0m\u001b[0;34m(\u001b[0m\u001b[0mcol\u001b[0m\u001b[0;34m)\u001b[0m\u001b[0;34m\u001b[0m\u001b[0m\n\u001b[1;32m   1953\u001b[0m             \u001b[0mengine\u001b[0m \u001b[0;34m=\u001b[0m \u001b[0mself\u001b[0m\u001b[0;34m.\u001b[0m\u001b[0mindex\u001b[0m\u001b[0;34m.\u001b[0m\u001b[0m_engine\u001b[0m\u001b[0;34m\u001b[0m\u001b[0m\n\u001b[0;32m-> 1954\u001b[0;31m             \u001b[0mengine\u001b[0m\u001b[0;34m.\u001b[0m\u001b[0mset_value\u001b[0m\u001b[0;34m(\u001b[0m\u001b[0mseries\u001b[0m\u001b[0;34m.\u001b[0m\u001b[0m_values\u001b[0m\u001b[0;34m,\u001b[0m \u001b[0mindex\u001b[0m\u001b[0;34m,\u001b[0m \u001b[0mvalue\u001b[0m\u001b[0;34m)\u001b[0m\u001b[0;34m\u001b[0m\u001b[0m\n\u001b[0m\u001b[1;32m   1955\u001b[0m             \u001b[0;32mreturn\u001b[0m \u001b[0mself\u001b[0m\u001b[0;34m\u001b[0m\u001b[0m\n\u001b[1;32m   1956\u001b[0m         \u001b[0;32mexcept\u001b[0m \u001b[0;34m(\u001b[0m\u001b[0mKeyError\u001b[0m\u001b[0;34m,\u001b[0m \u001b[0mTypeError\u001b[0m\u001b[0;34m)\u001b[0m\u001b[0;34m:\u001b[0m\u001b[0;34m\u001b[0m\u001b[0m\n",
      "\u001b[0;31mKeyboardInterrupt\u001b[0m: "
     ]
    }
   ],
   "source": [
    "# initialize empty dataframe to hold direct correlation values\n",
    "dir_corr_df = pd.DataFrame(index=pair_set_6_df.index, columns=top_9_cell_lines)\n",
    "\n",
    "# loop through cpd-target pairs, calculate correlations in each cell line\n",
    "for index, row in log_progress(pair_set_6_df.iterrows(), every=1):\n",
    "    cpd = row.cpd\n",
    "    cpd_sig_info = repr_cpd_sig_info_dict[cpd]\n",
    "    kd = row.target\n",
    "    kd_sig_info = repr_kd_sig_info_dict[kd]\n",
    "    \n",
    "    for cell_line in top_9_cell_lines:\n",
    "        cpd_cell_sig_info = cpd_sig_info[cpd_sig_info.cell_id == cell_line]\n",
    "        kd_cell_sig_info = kd_sig_info[kd_sig_info.cell_id == cell_line]\n",
    "        \n",
    "        # remember we have missing data, not all pairs are tested in all cell lines\n",
    "        if not (cpd_cell_sig_info.empty or kd_cell_sig_info.empty):\n",
    "            # extract signatures\n",
    "            cpd_sig_id = cpd_cell_sig_info.sig_id\n",
    "            kd_sig_id = kd_cell_sig_info.sig_id\n",
    "            cpd_lm_sig = top_9_cpd_lm_sigs_dict[cell_line][cpd_sig_id].values\n",
    "            kd_lm_sig = top_9_kd_lm_sigs_dict[cell_line][kd_sig_id].values\n",
    "            #compute and store correlation\n",
    "            corr = scipy.stats.pearsonr(cpd_lm_sig, kd_lm_sig)[0][0]\n",
    "            dir_corr_df.at[index, cell_line] = corr"
   ]
  },
  {
   "cell_type": "code",
   "execution_count": 287,
   "metadata": {
    "collapsed": true
   },
   "outputs": [],
   "source": [
    "dir_corr_df.to_csv('features/top_9_dir_corr_df.csv')"
   ]
  },
  {
   "cell_type": "markdown",
   "metadata": {},
   "source": [
    "### Indirect Correlation"
   ]
  },
  {
   "cell_type": "code",
   "execution_count": null,
   "metadata": {},
   "outputs": [
    {
     "name": "stderr",
     "output_type": "stream",
     "text": [
      "Widget Javascript not detected.  It may not be installed or enabled properly.\n"
     ]
    },
    {
     "data": {
      "application/vnd.jupyter.widget-view+json": {
       "model_id": "e8b1a8c75fd94ce492898d26f88f205b"
      }
     },
     "metadata": {},
     "output_type": "display_data"
    }
   ],
   "source": [
    "# list of all KDs in top-4 cells, for reference\n",
    "all_kds = repr_top_9_kd_sigs.pert_iname.unique()\n",
    "\n",
    "# initialize empty dataframe to hold direct correlation values\n",
    "indir_max_corr_df = pd.DataFrame(index=top_9_cpd_kd_pairs_df.index, columns=top_9_cell_lines)\n",
    "indir_min_corr_df = pd.DataFrame(index=top_9_cpd_kd_pairs_df.index, columns=top_9_cell_lines)\n",
    "indir_avg_corr_df = pd.DataFrame(index=top_9_cpd_kd_pairs_df.index, columns=top_9_cell_lines)\n",
    "\n",
    "# loop through cpd-target pairs, calculate correlations in each cell line\n",
    "for index, row in log_progress(top_9_cpd_kd_pairs_df.iterrows(), every=10):\n",
    "    cpd = row.cpd\n",
    "    kd = row.kd\n",
    "    \n",
    "    # find the target's interaction partners that have KDs\n",
    "    interaction_partners = string_gene_interactions_700.query('gene_1 == \"{}\"'.format(kd)).gene_2\n",
    "    partner_kds = np.intersect1d(interaction_partners, all_kds)\n",
    "    \n",
    "    # compute corr with each partner in each cell line\n",
    "    for cell_line in top_9_cell_lines:\n",
    "        \n",
    "        # extract the cpd signature\n",
    "        cpd_sig_info = repr_top_9_cpd_sigs_dict[cell_line].query('pert_id == \"{}\"'.format(cpd))\n",
    "        \n",
    "        # remember we have missing data, not all pairs are tested in all cell lines\n",
    "        if not cpd_sig_info.empty :\n",
    "            cpd_sig_id = cpd_sig_info.sig_id\n",
    "            cpd_lm_sig = top_9_cpd_lm_sigs[cpd_sig_id].values\n",
    "\n",
    "            # initialize empty Series to hold corrs for all partners in this cell line\n",
    "            pkd_corrs = pd.Series(index=partner_kds)\n",
    "\n",
    "            for pkd in partner_kds:\n",
    "                # extract the partner kd signature\n",
    "                pkd_sig_info = repr_top_9_kd_sigs_dict[cell_line].query('pert_iname == \"{}\"'.format(pkd))\n",
    "                # remember we have missing data, not all pairs are tested in all cell lines\n",
    "                if not pkd_sig_info.empty :\n",
    "                    pkd_sig_id = pkd_sig_info.sig_id\n",
    "                    pkd_lm_sig = top_9_kd_lm_sigs[pkd_sig_id].values\n",
    "\n",
    "                    #compute and store correlation\n",
    "                    corr = scipy.stats.pearsonr(cpd_lm_sig, pkd_lm_sig)[0][0]\n",
    "                    pkd_corrs[pkd] = corr\n",
    "\n",
    "            if not pkd_corrs.empty:\n",
    "                # compute max, min, and average of the partner kd corrs\n",
    "                max_pkd_corr = pkd_corrs.max()\n",
    "                min_pkd_corr = pkd_corrs.min()\n",
    "                avg_pkd_corr = pkd_corrs.mean()\n",
    "\n",
    "                # store these in the appropriate data frames\n",
    "                indir_max_corr_df.at[index, cell_line] = max_pkd_corr\n",
    "                indir_min_corr_df.at[index, cell_line] = min_pkd_corr\n",
    "                indir_avg_corr_df.at[index, cell_line] = avg_pkd_corr"
   ]
  },
  {
   "cell_type": "code",
   "execution_count": null,
   "metadata": {
    "collapsed": true
   },
   "outputs": [],
   "source": []
  }
 ],
 "metadata": {
  "kernelspec": {
   "display_name": "Python 3",
   "language": "python",
   "name": "python3"
  },
  "language_info": {
   "codemirror_mode": {
    "name": "ipython",
    "version": 3
   },
   "file_extension": ".py",
   "mimetype": "text/x-python",
   "name": "python",
   "nbconvert_exporter": "python",
   "pygments_lexer": "ipython3",
   "version": "3.6.1"
  }
 },
 "nbformat": 4,
 "nbformat_minor": 2
}
