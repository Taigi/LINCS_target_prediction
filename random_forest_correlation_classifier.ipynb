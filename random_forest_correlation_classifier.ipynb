{
 "cells": [
  {
   "cell_type": "markdown",
   "metadata": {},
   "source": [
    "# Correlation-Based Random Forest Classification"
   ]
  },
  {
   "cell_type": "code",
   "execution_count": 1,
   "metadata": {
    "collapsed": true
   },
   "outputs": [],
   "source": [
    "import numpy as np\n",
    "import pandas as pd\n",
    "import sklearn"
   ]
  },
  {
   "cell_type": "code",
   "execution_count": 100,
   "metadata": {},
   "outputs": [
    {
     "data": {
      "text/html": [
       "<div>\n",
       "<style>\n",
       "    .dataframe thead tr:only-child th {\n",
       "        text-align: right;\n",
       "    }\n",
       "\n",
       "    .dataframe thead th {\n",
       "        text-align: left;\n",
       "    }\n",
       "\n",
       "    .dataframe tbody tr th {\n",
       "        vertical-align: top;\n",
       "    }\n",
       "</style>\n",
       "<table border=\"1\" class=\"dataframe\">\n",
       "  <thead>\n",
       "    <tr style=\"text-align: right;\">\n",
       "      <th></th>\n",
       "      <th>pert_id</th>\n",
       "      <th>target</th>\n",
       "      <th>label</th>\n",
       "      <th>A375</th>\n",
       "      <th>A549</th>\n",
       "      <th>MCF7</th>\n",
       "      <th>PC3</th>\n",
       "    </tr>\n",
       "  </thead>\n",
       "  <tbody>\n",
       "    <tr>\n",
       "      <th>6718</th>\n",
       "      <td>BRD-K64052750</td>\n",
       "      <td>XPNPEP3</td>\n",
       "      <td>-1</td>\n",
       "      <td>0.061478</td>\n",
       "      <td>-0.001093</td>\n",
       "      <td>-0.034774</td>\n",
       "      <td>-0.017798</td>\n",
       "    </tr>\n",
       "    <tr>\n",
       "      <th>6554</th>\n",
       "      <td>BRD-M64432851</td>\n",
       "      <td>DNPEP</td>\n",
       "      <td>-1</td>\n",
       "      <td>0.080946</td>\n",
       "      <td>0.076358</td>\n",
       "      <td>-0.039057</td>\n",
       "      <td>-0.026390</td>\n",
       "    </tr>\n",
       "    <tr>\n",
       "      <th>6651</th>\n",
       "      <td>BRD-K64052750</td>\n",
       "      <td>STAT5B</td>\n",
       "      <td>-1</td>\n",
       "      <td>-0.043271</td>\n",
       "      <td>0.040655</td>\n",
       "      <td>-0.056900</td>\n",
       "      <td>-0.057506</td>\n",
       "    </tr>\n",
       "    <tr>\n",
       "      <th>605</th>\n",
       "      <td>BRD-K94441233</td>\n",
       "      <td>CDK4</td>\n",
       "      <td>-1</td>\n",
       "      <td>0.166037</td>\n",
       "      <td>0.314397</td>\n",
       "      <td>-0.014367</td>\n",
       "      <td>0.394319</td>\n",
       "    </tr>\n",
       "    <tr>\n",
       "      <th>9243</th>\n",
       "      <td>BRD-K23363278</td>\n",
       "      <td>PDPK1</td>\n",
       "      <td>-1</td>\n",
       "      <td>0.153380</td>\n",
       "      <td>0.086145</td>\n",
       "      <td>0.232274</td>\n",
       "      <td>-0.063573</td>\n",
       "    </tr>\n",
       "    <tr>\n",
       "      <th>8186</th>\n",
       "      <td>BRD-K54256913</td>\n",
       "      <td>PYGL</td>\n",
       "      <td>-1</td>\n",
       "      <td>-0.131308</td>\n",
       "      <td>-0.043886</td>\n",
       "      <td>-0.074298</td>\n",
       "      <td>-0.001108</td>\n",
       "    </tr>\n",
       "    <tr>\n",
       "      <th>3682</th>\n",
       "      <td>BRD-K92241597</td>\n",
       "      <td>VKORC1</td>\n",
       "      <td>-1</td>\n",
       "      <td>-0.144646</td>\n",
       "      <td>-0.023281</td>\n",
       "      <td>-0.010137</td>\n",
       "      <td>0.004164</td>\n",
       "    </tr>\n",
       "    <tr>\n",
       "      <th>621</th>\n",
       "      <td>BRD-K94441233</td>\n",
       "      <td>LCK</td>\n",
       "      <td>-1</td>\n",
       "      <td>0.168164</td>\n",
       "      <td>0.245319</td>\n",
       "      <td>0.047586</td>\n",
       "      <td>0.280752</td>\n",
       "    </tr>\n",
       "    <tr>\n",
       "      <th>8473</th>\n",
       "      <td>BRD-K64890080</td>\n",
       "      <td>RRM1</td>\n",
       "      <td>-1</td>\n",
       "      <td>0.078507</td>\n",
       "      <td>0.112210</td>\n",
       "      <td>0.176226</td>\n",
       "      <td>0.124498</td>\n",
       "    </tr>\n",
       "    <tr>\n",
       "      <th>6809</th>\n",
       "      <td>BRD-K17953061</td>\n",
       "      <td>EPHB4</td>\n",
       "      <td>-1</td>\n",
       "      <td>0.382720</td>\n",
       "      <td>0.166355</td>\n",
       "      <td>0.324200</td>\n",
       "      <td>0.261688</td>\n",
       "    </tr>\n",
       "  </tbody>\n",
       "</table>\n",
       "</div>"
      ],
      "text/plain": [
       "            pert_id   target  label      A375      A549      MCF7       PC3\n",
       "6718  BRD-K64052750  XPNPEP3     -1  0.061478 -0.001093 -0.034774 -0.017798\n",
       "6554  BRD-M64432851    DNPEP     -1  0.080946  0.076358 -0.039057 -0.026390\n",
       "6651  BRD-K64052750   STAT5B     -1 -0.043271  0.040655 -0.056900 -0.057506\n",
       "605   BRD-K94441233     CDK4     -1  0.166037  0.314397 -0.014367  0.394319\n",
       "9243  BRD-K23363278    PDPK1     -1  0.153380  0.086145  0.232274 -0.063573\n",
       "8186  BRD-K54256913     PYGL     -1 -0.131308 -0.043886 -0.074298 -0.001108\n",
       "3682  BRD-K92241597   VKORC1     -1 -0.144646 -0.023281 -0.010137  0.004164\n",
       "621   BRD-K94441233      LCK     -1  0.168164  0.245319  0.047586  0.280752\n",
       "8473  BRD-K64890080     RRM1     -1  0.078507  0.112210  0.176226  0.124498\n",
       "6809  BRD-K17953061    EPHB4     -1  0.382720  0.166355  0.324200  0.261688"
      ]
     },
     "execution_count": 100,
     "metadata": {},
     "output_type": "execute_result"
    }
   ],
   "source": [
    "# load data\n",
    "correlation_training_data = pd.DataFrame.from_csv('checkpoint_files/top_4_correlation_training_data.csv')\n",
    "correlation_training_data.sample(n=10)"
   ]
  },
  {
   "cell_type": "code",
   "execution_count": 101,
   "metadata": {},
   "outputs": [],
   "source": [
    "# balance True and False samples\n",
    "pos_samples = correlation_training_data[correlation_training_data.label == 1]\n",
    "neg_samples = correlation_training_data[correlation_training_data.label == -1].sample(n=pos_samples.shape[0])\n",
    "balanced_training_data = np.vstack([pos_samples,neg_samples])"
   ]
  },
  {
   "cell_type": "code",
   "execution_count": 102,
   "metadata": {},
   "outputs": [],
   "source": [
    "# shuffle the data\n",
    "perm = np.random.RandomState(1).permutation(balanced_training_data.shape[0])\n",
    "shuffled_training_data = balanced_training_data[perm]"
   ]
  },
  {
   "cell_type": "code",
   "execution_count": 103,
   "metadata": {},
   "outputs": [],
   "source": [
    "# separate features and labels\n",
    "X = shuffled_training_data[:,3:7].astype(float)\n",
    "y = shuffled_training_data[:,2].astype(float)"
   ]
  },
  {
   "cell_type": "code",
   "execution_count": 104,
   "metadata": {},
   "outputs": [],
   "source": [
    "# scale the features\n",
    "from sklearn.preprocessing import StandardScaler\n",
    "sc = StandardScaler()\n",
    "sc.fit(X)\n",
    "X_std = sc.transform(X)"
   ]
  },
  {
   "cell_type": "code",
   "execution_count": 109,
   "metadata": {},
   "outputs": [
    {
     "data": {
      "text/plain": [
       "RandomForestClassifier(bootstrap=True, class_weight=None, criterion='gini',\n",
       "            max_depth=2, max_features='auto', max_leaf_nodes=None,\n",
       "            min_impurity_split=1e-07, min_samples_leaf=1,\n",
       "            min_samples_split=2, min_weight_fraction_leaf=0.0,\n",
       "            n_estimators=10, n_jobs=1, oob_score=False, random_state=0,\n",
       "            verbose=0, warm_start=False)"
      ]
     },
     "execution_count": 109,
     "metadata": {},
     "output_type": "execute_result"
    }
   ],
   "source": [
    "# random forest classification\n",
    "from sklearn.ensemble import RandomForestClassifier\n",
    "clf = RandomForestClassifier(max_depth=2, random_state=0, n_estimators=10)\n",
    "clf.fit(X_std, y)"
   ]
  },
  {
   "cell_type": "code",
   "execution_count": 110,
   "metadata": {},
   "outputs": [
    {
     "name": "stdout",
     "output_type": "stream",
     "text": [
      "Accuracy: 0.61\n"
     ]
    }
   ],
   "source": [
    "print('Accuracy: {:.2f}'.format(clf.score(X_std, y)))"
   ]
  },
  {
   "cell_type": "code",
   "execution_count": 114,
   "metadata": {},
   "outputs": [],
   "source": [
    "results = pd.DataFrame(shuffled_training_data, columns=correlation_training_data.columns)\n",
    "results['prediction'] = clf.predict(X_std).astype(int)"
   ]
  },
  {
   "cell_type": "code",
   "execution_count": 112,
   "metadata": {},
   "outputs": [
    {
     "name": "stdout",
     "output_type": "stream",
     "text": [
      "Accuracy on False interactions: 0.75\n",
      "Accuracy on True interactions: 0.48\n"
     ]
    }
   ],
   "source": [
    "false_interactions = results[results.label==-1]\n",
    "false_accuracy = (false_interactions[false_interactions.prediction==-1].shape[0] /\n",
    "                  false_interactions.shape[0])\n",
    "\n",
    "true_interactions = results[results.label==1]\n",
    "true_accuracy = (true_interactions[true_interactions.prediction==1].shape[0] /\n",
    "                  true_interactions.shape[0])\n",
    "\n",
    "\n",
    "print('Accuracy on False interactions: {:.2f}'.format(false_accuracy))\n",
    "print('Accuracy on True interactions: {:.2f}'.format(true_accuracy))"
   ]
  },
  {
   "cell_type": "markdown",
   "metadata": {},
   "source": [
    "## What if we don't balance the data beforehand"
   ]
  },
  {
   "cell_type": "code",
   "execution_count": 115,
   "metadata": {},
   "outputs": [],
   "source": [
    "# shuffle all data\n",
    "perm = np.random.RandomState(1).permutation(correlation_training_data.shape[0])\n",
    "shuffled_training_data = correlation_training_data.values[perm]"
   ]
  },
  {
   "cell_type": "code",
   "execution_count": 116,
   "metadata": {},
   "outputs": [],
   "source": [
    "# separate features and labels\n",
    "X = shuffled_training_data[:,3:7].astype(float)\n",
    "y = shuffled_training_data[:,2].astype(float)"
   ]
  },
  {
   "cell_type": "code",
   "execution_count": 117,
   "metadata": {
    "collapsed": true
   },
   "outputs": [],
   "source": [
    "# scale the features\n",
    "from sklearn.preprocessing import StandardScaler\n",
    "sc = StandardScaler()\n",
    "sc.fit(X)\n",
    "X_std = sc.transform(X)"
   ]
  },
  {
   "cell_type": "code",
   "execution_count": 118,
   "metadata": {},
   "outputs": [
    {
     "name": "stdout",
     "output_type": "stream",
     "text": [
      "Accuracy: 0.98\n"
     ]
    }
   ],
   "source": [
    "# random forest classification\n",
    "from sklearn.ensemble import RandomForestClassifier\n",
    "clf = RandomForestClassifier(max_depth=2, random_state=0)\n",
    "clf.fit(X_std, y)\n",
    "print('Accuracy: {:.2f}'.format(clf.score(X_std, y)))"
   ]
  },
  {
   "cell_type": "code",
   "execution_count": 119,
   "metadata": {},
   "outputs": [
    {
     "name": "stdout",
     "output_type": "stream",
     "text": [
      "Accuracy on False interactions: 1.00\n",
      "Accuracy on True interactions: 0.00\n"
     ]
    }
   ],
   "source": [
    "# look at accuract of true vs false interactions\n",
    "results = pd.DataFrame(shuffled_training_data, columns=correlation_training_data.columns)\n",
    "results['prediction'] = clf.predict(X_std).astype(int)\n",
    "\n",
    "false_interactions = results[results.label==-1]\n",
    "false_accuracy = (false_interactions[false_interactions.prediction==-1].shape[0] /\n",
    "                  false_interactions.shape[0])\n",
    "\n",
    "true_interactions = results[results.label==1]\n",
    "true_accuracy = (true_interactions[true_interactions.prediction==1].shape[0] /\n",
    "                  true_interactions.shape[0])\n",
    "\n",
    "\n",
    "print('Accuracy on False interactions: {:.2f}'.format(false_accuracy))\n",
    "print('Accuracy on True interactions: {:.2f}'.format(true_accuracy))"
   ]
  },
  {
   "cell_type": "markdown",
   "metadata": {},
   "source": [
    "### Very bad"
   ]
  },
  {
   "cell_type": "code",
   "execution_count": null,
   "metadata": {
    "collapsed": true
   },
   "outputs": [],
   "source": []
  }
 ],
 "metadata": {
  "kernelspec": {
   "display_name": "Python 3",
   "language": "python",
   "name": "python3"
  },
  "language_info": {
   "codemirror_mode": {
    "name": "ipython",
    "version": 3
   },
   "file_extension": ".py",
   "mimetype": "text/x-python",
   "name": "python",
   "nbconvert_exporter": "python",
   "pygments_lexer": "ipython3",
   "version": "3.6.1"
  }
 },
 "nbformat": 4,
 "nbformat_minor": 2
}
