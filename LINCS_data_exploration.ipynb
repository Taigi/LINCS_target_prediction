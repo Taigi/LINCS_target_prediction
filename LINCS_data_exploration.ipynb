{
 "cells": [
  {
   "cell_type": "code",
   "execution_count": 1,
   "metadata": {
    "collapsed": true
   },
   "outputs": [],
   "source": [
    "# data downloaded from:\n",
    "# https://www.ncbi.nlm.nih.gov/geo/query/acc.cgi?acc=GSE92742\n",
    "# CMAP data User Guide: \n",
    "# https://docs.google.com/document/d/1q2gciWRhVCAAnlvF2iRLuJ7whrGP6QjpsCMq1yWz7dU/\n",
    "\n",
    "from support_functions import log_progress, clean_drugbank, query_chembl\n",
    "\n",
    "import pandas as pd\n",
    "import numpy as np\n",
    "import itertools\n",
    "from cmapPy.pandasGEXpress import parse\n",
    "import requests\n",
    "\n",
    "# plotting\n",
    "import matplotlib as mpl\n",
    "import matplotlib.pyplot as plt\n",
    "import seaborn as sns\n",
    "sns.set(style=\"whitegrid\", color_codes=True)"
   ]
  },
  {
   "attachments": {},
   "cell_type": "markdown",
   "metadata": {},
   "source": [
    "___\n",
    "# Predicting drug targets from gene expression perturbation signatures<br>\n",
    "\n",
    "### (Very) Brief background on drug discovery\n",
    "\n",
    "Many medicinal drugs are small molecules that bind to specific proteins in your body and inihibit their function. This can have a variety of network-level effects depending on the target protein. In many cases the disease involves protein interactions that are happening \"too much\", and the inhibitor, by binding to the protein, has the effect of \"slowing down\" the interaction or preventing it entirely.\n",
    "\n",
    "Historically, drugs have been discovered by chance. High throughput screens test thousands of drugs and those that produce the desired outcome in *in-vitro* assays are selected for further development. Often, drugs' specific target protein(s) are not known a-priori, and this can lead to side-effects and toxicity later down the line when the drugs are tested in live animals. Being able to predict which specific proteins a bioactive compound will bind to and inhibit has immense potential to accelerate drug discovery and drug repurposing.\n",
    "\n",
    "### Leveraging \"big data\" to predict drug-target interactions\n",
    "\n",
    "Today we're witnessing an explosion of publicly available biological data through initiatives like the 1000 Genomes Project, The Cancer Genome Atlas, and the NIH's Library of Integrated Network-Based Cellular Signatures (LINCS) Program. The LINCS initiative generates and makes public gene expression data that indicates how different types of cells respond to various genetic and environmental perturbations, including drugs. \n",
    "\n",
    "Gene expression regulation in human cells is a complex and noisy process, making it difficult to determine the protein target of a drug by looking at which genes in the cell are up/down regulated as a result of drug treatment. However, here we hypothesize that a cell treated with an small molecule inhibitor for a given protein should produce a similar gene expression profile to that of an untreated cell in which the gene coding for that protein has been silenced.\n",
    "\n",
    "LINCS contains gene expression profiles for over 20,000 small molecule/drug treatments and over 20,000 gene silencing, or \"knockdown\" experiments. We know the protein targets of many of the drugs that are tested, and some of these proteins were knocked down in separate experiments. So, we can test our hypothesis by triyng to build a machine learning classifier to predict whether a drug and a protein interact by looking at the gene expression profiles from their corresponding treatment and knockdown experiments.\n",
    "\n",
    "If our classifier works, we can use it to predict targets for new drugs by comparing the drug's expression profiles against all the knockdown profiles in LINCS."
   ]
  },
  {
   "cell_type": "markdown",
   "metadata": {},
   "source": [
    "___\n",
    "## Import LINCS Phase 1 MetaData"
   ]
  },
  {
   "cell_type": "code",
   "execution_count": 2,
   "metadata": {
    "collapsed": true
   },
   "outputs": [],
   "source": [
    "# cell line information\n",
    "cell_info_1 = pd.read_csv('data/GSE92742_Broad_LINCS_cell_info.txt', sep='\\t', header=0)\n",
    "# primary gene symbols and IDs\n",
    "gene_info_1 = pd.read_csv('data/GSE92742_Broad_LINCS_gene_info.txt', sep='\\t', header=0)\n",
    "# landmark genes\n",
    "gene_into_delta_lm_1 = pd.read_csv('data/GSE92742_Broad_LINCS_gene_info_delta_landmark.txt', sep='\\t', header=0)\n",
    "# Metadata pertaining to individual profiles (or instances, experiments) \n",
    "inst_info_1 = pd.read_csv('data/GSE92742_Broad_LINCS_inst_info.txt', sep='\\t', header=0, dtype={'pert_dose_unit': str})\n",
    "# Metadata describing each perturbagen used in experiments (pert_id)\n",
    "pert_info_1 = pd.read_csv('data/GSE92742_Broad_LINCS_pert_info.txt', sep='\\t', header=0)\n",
    "# Calculated / derived / inferred metrics and annotations associated with each perturbagen that was used in the experiments.\n",
    "pert_metrics_1 = pd.read_csv('data/GSE92742_Broad_LINCS_pert_metrics.txt', sep='\\t', header=0)\n",
    "# Metadata for signatures of aggregated replicates (level 5 data)\n",
    "sig_info_1 = pd.read_csv('data/GSE92742_Broad_LINCS_sig_info.txt', sep='\\t', header=0, dtype={'pert_dose': float})\n",
    "# Calculated / derived / inferred metrics and annotations associated with each signature in the Level 5 matrix\n",
    "sig_metrics_1 = pd.read_csv('data/GSE92742_Broad_LINCS_sig_metrics.txt', sep='\\t', header=0)"
   ]
  },
  {
   "cell_type": "markdown",
   "metadata": {},
   "source": [
    "## Import LINCS Phase 2 MetaData"
   ]
  },
  {
   "cell_type": "code",
   "execution_count": 3,
   "metadata": {
    "collapsed": true
   },
   "outputs": [],
   "source": [
    "# cell line information\n",
    "cell_info_2 = pd.read_csv('data/GSE70138_Broad_LINCS_cell_info_2017-04-28.txt', sep='\\t', header=0)\n",
    "# primary gene symbols and IDs\n",
    "gene_info_2 = pd.read_csv('data/GSE70138_Broad_LINCS_gene_info_2017-03-06.txt', sep='\\t', header=0)\n",
    "# Metadata pertaining to individual profiles (or instances, experiments) \n",
    "inst_info_2 = pd.read_csv('data/GSE70138_Broad_LINCS_inst_info_2017-03-06.txt', sep='\\t', header=0, dtype={'pert_dose_unit': str})\n",
    "# Metadata describing each perturbagen used in experiments (pert_id)\n",
    "pert_info_2a = pd.read_csv('data/GSE70138_Broad_LINCS_pert_info.txt', sep='\\t', header=0)\n",
    "# Calculated / derived / inferred metrics and annotations associated with each perturbagen that was used in the experiments.\n",
    "pert_info_2b = pd.read_csv('data/GSE70138_Broad_LINCS_pert_info_2017-03-06.txt', sep='\\t', header=0)\n",
    "# Metadata for signatures of aggregated replicates (level 5 data)\n",
    "sig_info_2 = pd.read_csv('data/GSE70138_Broad_LINCS_sig_info_2017-03-06.txt', sep='\\t', header=0, dtype={'pert_dose': float})\n",
    "# Calculated / derived / inferred metrics and annotations associated with each signature in the Level 5 matrix\n",
    "sig_metrics_2 = pd.read_csv('data/GSE70138_Broad_LINCS_sig_metrics_2017-03-06.txt', sep='\\t', header=0)"
   ]
  },
  {
   "cell_type": "markdown",
   "metadata": {},
   "source": [
    "## Combine Phase 1 and Phase 2 data"
   ]
  },
  {
   "cell_type": "code",
   "execution_count": 11,
   "metadata": {
    "collapsed": true
   },
   "outputs": [],
   "source": [
    "pert_info = pd.concat([pert_info_1, pert_info_2a], ignore_index=True)\n",
    "sig_info = pd.concat([sig_info_1, sig_info_2], ignore_index=True)\n",
    "sig_metrics = pd.concat([sig_metrics_1, sig_metrics_2], ignore_index=True)"
   ]
  },
  {
   "cell_type": "markdown",
   "metadata": {},
   "source": [
    "## Identify landmark genes"
   ]
  },
  {
   "cell_type": "code",
   "execution_count": 5,
   "metadata": {
    "collapsed": true
   },
   "outputs": [],
   "source": [
    "lm_genes = gene_info_1[gene_info_1['pr_is_lm'].astype(bool)]\n",
    "lm_gene_ids = lm_genes['pr_gene_id'].astype(str).values"
   ]
  },
  {
   "cell_type": "markdown",
   "metadata": {},
   "source": [
    "## LINCS perturbation types\n",
    "\n",
    "<br>The most common types of LINCS perturbations by far are small molecule compounds (trt_cp) and gene knockdowns (trt_sh)."
   ]
  },
  {
   "cell_type": "code",
   "execution_count": 6,
   "metadata": {},
   "outputs": [
    {
     "data": {
      "image/png": "[encoded data removed]",
      "text/plain": [
       "<matplotlib.figure.Figure at 0x10ed70cf8>"
      ]
     },
     "metadata": {},
     "output_type": "display_data"
    },
    {
     "data": {
      "image/png": "[encoded data removed]",
      "text/plain": [
       "<matplotlib.figure.Figure at 0x12008bb70>"
      ]
     },
     "metadata": {},
     "output_type": "display_data"
    }
   ],
   "source": [
    "f, ax = plt.subplots(figsize=(12, 4))\n",
    "sns.countplot(x=\"pert_type\", data=pert_info_1)\n",
    "plt.title(\"LINCS Phase 1 perturbations\")\n",
    "plt.show()\n",
    "\n",
    "f, ax = plt.subplots(figsize=(12, 4))\n",
    "sns.countplot(x=\"pert_type\", data=pert_info_2a)\n",
    "plt.title(\"LINCS Phase 2 perturbations\")\n",
    "plt.show()"
   ]
  },
  {
   "cell_type": "markdown",
   "metadata": {},
   "source": [
    "## Checking TAS of our hits"
   ]
  },
  {
   "cell_type": "code",
   "execution_count": 10,
   "metadata": {
    "collapsed": true,
    "scrolled": true
   },
   "outputs": [],
   "source": [
    "# sns.distplot(all_sig_info[all_sig_info.pert_type == 'trt_cp'].tas)\n",
    "# plt.show()"
   ]
  },
  {
   "cell_type": "code",
   "execution_count": null,
   "metadata": {
    "collapsed": true
   },
   "outputs": [],
   "source": [
    "# sns.distplot(all_sig_info[all_sig_info.pert_iname == 'wortmannin'].tas)\n",
    "# plt.title('Wortmannin')\n",
    "# plt.show()\n",
    "\n",
    "# sns.distplot(all_sig_info[all_sig_info.pert_id == 'BRD-K20742498'].tas)\n",
    "# plt.title('HRAS cpd')\n",
    "# plt.show()\n",
    "\n",
    "# sns.distplot(all_sig_info[all_sig_info.pert_id == 'BRD-K15563106'].tas)\n",
    "# plt.title('KRAS cpd')\n",
    "# plt.show()\n",
    "\n",
    "# sns.distplot(all_sig_info[all_sig_info.pert_id == 'BRD-K19227686'].tas)\n",
    "# plt.title('CHIP cpd 1')\n",
    "# plt.show()\n",
    "\n",
    "# sns.distplot(all_sig_info[all_sig_info.pert_id == 'BRD-K65503129'].tas)\n",
    "# plt.title('CHIP cpd 2')\n",
    "# plt.show()\n",
    "\n",
    "# sns.distplot(all_sig_info[all_sig_info.pert_id == 'BRD-K29905972'].tas)\n",
    "# plt.title('CHIP cpd 3')\n",
    "# plt.show()\n",
    "\n",
    "# sns.distplot(all_sig_info[all_sig_info.pert_id == 'BRD-K59556282'].tas)\n",
    "# plt.title('CHIP cpd 4')\n",
    "# plt.show()"
   ]
  },
  {
   "cell_type": "markdown",
   "metadata": {},
   "source": [
    "## Refine scope to 'gold' perturbations\n",
    "\n",
    "Due to redundancy in the LINCS dataset, we can ignore a lot of the low-quality data. We want to focus on **GOLD** signatures, meaning:<br><br>\n",
    "*A heuristic for assessing whether a signature is reproducible and distinct. Requirements include: distil_cc_q75 >= 0.2 and pct_self_rank_q25 <= 0.05.*\n",
    "\n",
    "- **icc**: Inter-cell connectivity (ICC). The similarity (aggregated WTCS) between signatures of a given perturbagen across cell lines. This number ranges between -1 and 1, and the higher the number, the more similar the signatures across cell lines. Only exemplar signatures are used in computing ICC. See is_exemplar for more details.\n",
    "- **pct_self_rank_q25**:  Self connectivity of replicates expressed as a percentage of total instances in a replicate set.\n",
    "- **distil_cc_q75**:  75th quantile of pairwise spearman correlations in landmark space of replicate level 4 profiles.\n",
    "\n"
   ]
  },
  {
   "cell_type": "code",
   "execution_count": 12,
   "metadata": {},
   "outputs": [
    {
     "data": {
      "image/png": "[encoded data removed]",
      "text/plain": [
       "<matplotlib.figure.Figure at 0x12fd6aac8>"
      ]
     },
     "metadata": {},
     "output_type": "display_data"
    }
   ],
   "source": [
    "# n = 591697\n",
    "all_sig_info = pd.concat([sig_info, sig_metrics[['distil_cc_q75', 'pct_self_rank_q25', 'tas']]], axis=1)\n",
    "all_sig_info.to_csv('checkpoint_files/all_sig_info.csv')\n",
    "\n",
    "pct_self_rank_sigs = all_sig_info[(all_sig_info.pct_self_rank_q25 > -1) &\n",
    "                                  (all_sig_info.pct_self_rank_q25 < 30)\n",
    "                                 ]\n",
    "sns.distplot(pct_self_rank_sigs.pct_self_rank_q25);\n",
    "plt.show()"
   ]
  },
  {
   "cell_type": "code",
   "execution_count": 13,
   "metadata": {},
   "outputs": [
    {
     "data": {
      "image/png": "[encoded data removed]",
      "text/plain": [
       "<matplotlib.figure.Figure at 0x121230550>"
      ]
     },
     "metadata": {},
     "output_type": "display_data"
    }
   ],
   "source": [
    "distil_cc_q75_sigs = all_sig_info[all_sig_info.distil_cc_q75 > -1 ]\n",
    "sns.distplot(distil_cc_q75_sigs.distil_cc_q75);\n",
    "plt.show()"
   ]
  },
  {
   "cell_type": "code",
   "execution_count": 14,
   "metadata": {
    "collapsed": true
   },
   "outputs": [],
   "source": [
    "# n = 150095\n",
    "gold_sigs = all_sig_info[(all_sig_info['distil_cc_q75'] >= 0.2) \n",
    "                         & (all_sig_info['pct_self_rank_q25'] <= 0.05)\n",
    "                        ].reset_index(drop=True)\n",
    "gold_sigs.to_csv('checkpoint_files/gold_sigs.csv')"
   ]
  },
  {
   "cell_type": "code",
   "execution_count": 15,
   "metadata": {},
   "outputs": [
    {
     "data": {
      "image/png": "[encoded data removed]",
      "text/plain": [
       "<matplotlib.figure.Figure at 0x1203d5160>"
      ]
     },
     "metadata": {},
     "output_type": "display_data"
    }
   ],
   "source": [
    "f, ax = plt.subplots(figsize=(12, 4))\n",
    "sns.countplot(x=\"pert_type\", data=gold_sigs)\n",
    "plt.title(\"Gold Signatures\")\n",
    "plt.show()"
   ]
  },
  {
   "cell_type": "markdown",
   "metadata": {},
   "source": [
    "## Extract gold LINCS cpds"
   ]
  },
  {
   "cell_type": "code",
   "execution_count": 16,
   "metadata": {
    "collapsed": true
   },
   "outputs": [],
   "source": [
    "# n_gold_cpd_sigs = 21856\n",
    "# n_gold_cpds = 4488\n",
    "gold_cpd_sigs = gold_sigs[gold_sigs['pert_type'] == 'trt_cp'].reset_index(drop=True)"
   ]
  },
  {
   "cell_type": "code",
   "execution_count": 17,
   "metadata": {},
   "outputs": [
    {
     "data": {
      "application/vnd.jupyter.widget-view+json": {
       "model_id": "c342d17df523440294eccd06f93110eb"
      }
     },
     "metadata": {},
     "output_type": "display_data"
    },
    {
     "ename": "KeyboardInterrupt",
     "evalue": "",
     "output_type": "error",
     "traceback": [
      "\u001b[0;31m---------------------------------------------------------------------------\u001b[0m",
      "\u001b[0;31mKeyboardInterrupt\u001b[0m                         Traceback (most recent call last)",
      "\u001b[0;32m<ipython-input-17-d3a203638bf2>\u001b[0m in \u001b[0;36m<module>\u001b[0;34m()\u001b[0m\n\u001b[1;32m      3\u001b[0m \u001b[0;32mfor\u001b[0m \u001b[0mindex\u001b[0m\u001b[0;34m,\u001b[0m \u001b[0mrow\u001b[0m \u001b[0;32min\u001b[0m \u001b[0mlog_progress\u001b[0m\u001b[0;34m(\u001b[0m\u001b[0mgold_cpd_sigs\u001b[0m\u001b[0;34m.\u001b[0m\u001b[0miterrows\u001b[0m\u001b[0;34m(\u001b[0m\u001b[0;34m)\u001b[0m\u001b[0;34m,\u001b[0m \u001b[0mevery\u001b[0m\u001b[0;34m=\u001b[0m\u001b[0;36m1\u001b[0m\u001b[0;34m)\u001b[0m\u001b[0;34m:\u001b[0m\u001b[0;34m\u001b[0m\u001b[0m\n\u001b[1;32m      4\u001b[0m     \u001b[0mpert_id\u001b[0m \u001b[0;34m=\u001b[0m \u001b[0mrow\u001b[0m\u001b[0;34m[\u001b[0m\u001b[0;34m'pert_id'\u001b[0m\u001b[0;34m]\u001b[0m\u001b[0;34m\u001b[0m\u001b[0m\n\u001b[0;32m----> 5\u001b[0;31m     \u001b[0minchi_key\u001b[0m \u001b[0;34m=\u001b[0m \u001b[0mpert_info\u001b[0m\u001b[0;34m[\u001b[0m\u001b[0mpert_info\u001b[0m\u001b[0;34m[\u001b[0m\u001b[0;34m'pert_id'\u001b[0m\u001b[0;34m]\u001b[0m \u001b[0;34m==\u001b[0m \u001b[0mpert_id\u001b[0m\u001b[0;34m]\u001b[0m\u001b[0;34m.\u001b[0m\u001b[0miloc\u001b[0m\u001b[0;34m[\u001b[0m\u001b[0;36m0\u001b[0m\u001b[0;34m]\u001b[0m\u001b[0;34m[\u001b[0m\u001b[0;34m'inchi_key'\u001b[0m\u001b[0;34m]\u001b[0m\u001b[0;34m\u001b[0m\u001b[0m\n\u001b[0m\u001b[1;32m      6\u001b[0m     \u001b[0minchi_keys\u001b[0m\u001b[0;34m.\u001b[0m\u001b[0mappend\u001b[0m\u001b[0;34m(\u001b[0m\u001b[0minchi_key\u001b[0m\u001b[0;34m)\u001b[0m\u001b[0;34m\u001b[0m\u001b[0m\n\u001b[1;32m      7\u001b[0m \u001b[0mgold_cpd_sigs\u001b[0m\u001b[0;34m[\u001b[0m\u001b[0;34m'inchi_key'\u001b[0m\u001b[0;34m]\u001b[0m \u001b[0;34m=\u001b[0m \u001b[0mpd\u001b[0m\u001b[0;34m.\u001b[0m\u001b[0mSeries\u001b[0m\u001b[0;34m(\u001b[0m\u001b[0minchi_keys\u001b[0m\u001b[0;34m)\u001b[0m\u001b[0;34m\u001b[0m\u001b[0m\n",
      "\u001b[0;32m~/anaconda3/lib/python3.6/site-packages/pandas/core/ops.py\u001b[0m in \u001b[0;36mwrapper\u001b[0;34m(self, other, axis)\u001b[0m\n\u001b[1;32m    859\u001b[0m \u001b[0;34m\u001b[0m\u001b[0m\n\u001b[1;32m    860\u001b[0m             \u001b[0;32mwith\u001b[0m \u001b[0mnp\u001b[0m\u001b[0;34m.\u001b[0m\u001b[0merrstate\u001b[0m\u001b[0;34m(\u001b[0m\u001b[0mall\u001b[0m\u001b[0;34m=\u001b[0m\u001b[0;34m'ignore'\u001b[0m\u001b[0;34m)\u001b[0m\u001b[0;34m:\u001b[0m\u001b[0;34m\u001b[0m\u001b[0m\n\u001b[0;32m--> 861\u001b[0;31m                 \u001b[0mres\u001b[0m \u001b[0;34m=\u001b[0m \u001b[0mna_op\u001b[0m\u001b[0;34m(\u001b[0m\u001b[0mvalues\u001b[0m\u001b[0;34m,\u001b[0m \u001b[0mother\u001b[0m\u001b[0;34m)\u001b[0m\u001b[0;34m\u001b[0m\u001b[0m\n\u001b[0m\u001b[1;32m    862\u001b[0m             \u001b[0;32mif\u001b[0m \u001b[0mis_scalar\u001b[0m\u001b[0;34m(\u001b[0m\u001b[0mres\u001b[0m\u001b[0;34m)\u001b[0m\u001b[0;34m:\u001b[0m\u001b[0;34m\u001b[0m\u001b[0m\n\u001b[1;32m    863\u001b[0m                 raise TypeError('Could not compare %s type with Series' %\n",
      "\u001b[0;32m~/anaconda3/lib/python3.6/site-packages/pandas/core/ops.py\u001b[0m in \u001b[0;36mna_op\u001b[0;34m(x, y)\u001b[0m\n\u001b[1;32m    763\u001b[0m \u001b[0;34m\u001b[0m\u001b[0m\n\u001b[1;32m    764\u001b[0m         \u001b[0;32mif\u001b[0m \u001b[0mis_object_dtype\u001b[0m\u001b[0;34m(\u001b[0m\u001b[0mx\u001b[0m\u001b[0;34m.\u001b[0m\u001b[0mdtype\u001b[0m\u001b[0;34m)\u001b[0m\u001b[0;34m:\u001b[0m\u001b[0;34m\u001b[0m\u001b[0m\n\u001b[0;32m--> 765\u001b[0;31m             \u001b[0mresult\u001b[0m \u001b[0;34m=\u001b[0m \u001b[0m_comp_method_OBJECT_ARRAY\u001b[0m\u001b[0;34m(\u001b[0m\u001b[0mop\u001b[0m\u001b[0;34m,\u001b[0m \u001b[0mx\u001b[0m\u001b[0;34m,\u001b[0m \u001b[0my\u001b[0m\u001b[0;34m)\u001b[0m\u001b[0;34m\u001b[0m\u001b[0m\n\u001b[0m\u001b[1;32m    766\u001b[0m         \u001b[0;32melse\u001b[0m\u001b[0;34m:\u001b[0m\u001b[0;34m\u001b[0m\u001b[0m\n\u001b[1;32m    767\u001b[0m \u001b[0;34m\u001b[0m\u001b[0m\n",
      "\u001b[0;32m~/anaconda3/lib/python3.6/site-packages/pandas/core/ops.py\u001b[0m in \u001b[0;36m_comp_method_OBJECT_ARRAY\u001b[0;34m(op, x, y)\u001b[0m\n\u001b[1;32m    743\u001b[0m         \u001b[0mresult\u001b[0m \u001b[0;34m=\u001b[0m \u001b[0mlib\u001b[0m\u001b[0;34m.\u001b[0m\u001b[0mvec_compare\u001b[0m\u001b[0;34m(\u001b[0m\u001b[0mx\u001b[0m\u001b[0;34m,\u001b[0m \u001b[0my\u001b[0m\u001b[0;34m,\u001b[0m \u001b[0mop\u001b[0m\u001b[0;34m)\u001b[0m\u001b[0;34m\u001b[0m\u001b[0m\n\u001b[1;32m    744\u001b[0m     \u001b[0;32melse\u001b[0m\u001b[0;34m:\u001b[0m\u001b[0;34m\u001b[0m\u001b[0m\n\u001b[0;32m--> 745\u001b[0;31m         \u001b[0mresult\u001b[0m \u001b[0;34m=\u001b[0m \u001b[0mlib\u001b[0m\u001b[0;34m.\u001b[0m\u001b[0mscalar_compare\u001b[0m\u001b[0;34m(\u001b[0m\u001b[0mx\u001b[0m\u001b[0;34m,\u001b[0m \u001b[0my\u001b[0m\u001b[0;34m,\u001b[0m \u001b[0mop\u001b[0m\u001b[0;34m)\u001b[0m\u001b[0;34m\u001b[0m\u001b[0m\n\u001b[0m\u001b[1;32m    746\u001b[0m     \u001b[0;32mreturn\u001b[0m \u001b[0mresult\u001b[0m\u001b[0;34m\u001b[0m\u001b[0m\n\u001b[1;32m    747\u001b[0m \u001b[0;34m\u001b[0m\u001b[0m\n",
      "\u001b[0;31mKeyboardInterrupt\u001b[0m: "
     ]
    }
   ],
   "source": [
    "# add inchikeys to table for target lookup\n",
    "inchi_keys = []\n",
    "for index, row in log_progress(gold_cpd_sigs.iterrows(), every=1):\n",
    "    pert_id = row['pert_id']\n",
    "    inchi_key = pert_info[pert_info['pert_id'] == pert_id].iloc[0]['inchi_key']\n",
    "    inchi_keys.append(inchi_key)\n",
    "gold_cpd_sigs['inchi_key'] = pd.Series(inchi_keys)"
   ]
  },
  {
   "cell_type": "markdown",
   "metadata": {},
   "source": [
    "## Extract gold LINCS knockdowns"
   ]
  },
  {
   "cell_type": "code",
   "execution_count": null,
   "metadata": {
    "collapsed": true
   },
   "outputs": [],
   "source": [
    "# n_gold_kd_sigs = 98010\n",
    "# n_gold_kd_inames = 4344\n",
    "# n_gold_kd_ids = 15984\n",
    "gold_kd_sigs = gold_sigs[gold_sigs['pert_type'] == 'trt_sh'].reset_index(drop=True)\n",
    "kd_genes = gold_kd_sigs['pert_iname'].unique()"
   ]
  },
  {
   "cell_type": "markdown",
   "metadata": {},
   "source": [
    "# Extracting drug targets from Drugbank\n",
    "\n",
    "The original Drugbank database is stored in XML format and contains a ton of information that we don't need. Our first goal is to clean this data and create a stripped-down dictionary of drug-target pairings that we can use to lookup the gene targets of drugs tested in the LINCS library. The keys of this dictionary will be the drugs' InChiKeys and the values will be the targets' Hugo Gene Symbols. \n",
    "\n",
    "*In the future we may want to use additional metadata from the DrugBank database, such as whether the drugs are inhibitors or activators.*\n",
    "\n",
    "First we need to clean the data, as the target names are difficult to extract for several reasons: \n",
    "\n",
    "* Some drugs are not small molecules but polymers or other macromolecules we are not interested in\n",
    "* Some drugs have multiple targets with their names stored in a list structure rather than an ordered dictionary\n",
    "* Some drugs target protein complexes, composed of multiple distinct proteins with different names\n",
    "* Some target names are missing"
   ]
  },
  {
   "cell_type": "code",
   "execution_count": null,
   "metadata": {
    "collapsed": true
   },
   "outputs": [],
   "source": [
    "db_db_path = 'data/full_drugbank_database.xml'\n",
    "drugbank_target_dict = clean_drugbank(db_db_path)"
   ]
  },
  {
   "cell_type": "markdown",
   "metadata": {},
   "source": [
    "## Looking up DrugBank targets of gold LINCS cpds"
   ]
  },
  {
   "cell_type": "code",
   "execution_count": null,
   "metadata": {
    "collapsed": true
   },
   "outputs": [],
   "source": [
    "pert_ids = []\n",
    "pert_inames = []\n",
    "inchi_keys = []\n",
    "drugbank_targets = []\n",
    "\n",
    "for index, row in gold_cpd_sigs.iterrows():\n",
    "    inchi = row[\"inchi_key\"]\n",
    "    \n",
    "    # ignore duplicates\n",
    "    if inchi not in inchi_keys:\n",
    "    \n",
    "        if inchi in drugbank_target_dict.keys(): \n",
    "            pert_id = row[\"pert_id\"]\n",
    "            pert_iname = row[\"pert_iname\"]\n",
    "            targets = drugbank_target_dict[inchi]\n",
    "\n",
    "            for target in targets:\n",
    "                pert_ids.append(pert_id)\n",
    "                pert_inames.append(pert_iname)\n",
    "                inchi_keys.append(inchi)\n",
    "                drugbank_targets.append(target)\n",
    "\n",
    "gold_cpds_db_targets = pd.DataFrame({'pert_id': pd.Series(pert_ids), \n",
    "                                        'pert_iname': pd.Series(pert_inames), \n",
    "                                        'Drugbank_target': pd.Series(drugbank_targets),\n",
    "                                        'inchi_key' : pd.Series(inchi_keys)\n",
    "                                       })"
   ]
  },
  {
   "cell_type": "markdown",
   "metadata": {},
   "source": [
    "#### 686 unique LINCS cpds with gold signatures have known targets in DrugBank. \n",
    "These correspond to 3239 drug-target pairs. Some cpds have many targets."
   ]
  },
  {
   "cell_type": "code",
   "execution_count": null,
   "metadata": {
    "collapsed": true
   },
   "outputs": [],
   "source": [
    "num_target_list = pd.DataFrame({'num_targets': pd.Series(gold_cpds_db_targets['pert_id'].value_counts())})\n",
    "f, ax = plt.subplots(figsize=(12, 6))\n",
    "sns.countplot(x=\"num_targets\", data=num_target_list)\n",
    "plt.ylabel(\"# of gold cpds\")\n",
    "plt.xlabel(\"# of targets\")\n",
    "plt.show()"
   ]
  },
  {
   "cell_type": "markdown",
   "metadata": {},
   "source": [
    "## Lookup ChEMBL targets using REST API"
   ]
  },
  {
   "cell_type": "code",
   "execution_count": null,
   "metadata": {
    "collapsed": true
   },
   "outputs": [],
   "source": [
    "seen_cpds = []\n",
    "pert_ids = []\n",
    "pert_inames = []\n",
    "inchi_keys = []\n",
    "chembl_targets = []\n",
    "\n",
    "for index, row in log_progress(gold_cpd_sigs.iterrows(), every=1):\n",
    "    pert_id = row['pert_id']\n",
    "    \n",
    "    # ignore duplicates\n",
    "    if pert_id not in seen_cpds:\n",
    "        seen_cpds.append(pert_id)\n",
    "        pert_iname = row['pert_iname']\n",
    "        inchi = row['inchi_key']\n",
    "\n",
    "        # search CHEMBL using the inchi_key to find corresponding CHEMBL_IDs\n",
    "        human_target_genes = query_chembl(inchi)\n",
    "\n",
    "        if len(human_target_genes) > 0:\n",
    "            for target in human_target_genes:\n",
    "                pert_ids.append(pert_id)\n",
    "                pert_inames.append(pert_iname)\n",
    "                inchi_keys.append(inchi)\n",
    "                chembl_targets.append(target)\n",
    "\n",
    "gold_cpds_chembl_targets = pd.DataFrame({'pert_id': pd.Series(pert_ids),\n",
    "                                         'pert_iname': pd.Series(pert_inames),\n",
    "                                         'chembl_target': pd.Series(chembl_targets),\n",
    "                                         'inchi_key' : pd.Series(inchi_keys)\n",
    "                                        })"
   ]
  },
  {
   "cell_type": "markdown",
   "metadata": {},
   "source": [
    "#### 434 unique LINCS cpds with gold signatures have known targets in ChEMBL. \n",
    "These correspond to 3697 drug-target pairs. Some cpds have many targets."
   ]
  },
  {
   "cell_type": "code",
   "execution_count": null,
   "metadata": {
    "collapsed": true
   },
   "outputs": [],
   "source": [
    "num_target_list = pd.DataFrame({'num_targets': pd.Series(gold_cpds_chembl_targets['pert_id'].value_counts())})\n",
    "f, ax = plt.subplots(figsize=(12, 6))\n",
    "sns.countplot(x=\"num_targets\", data=num_target_list)\n",
    "plt.ylabel(\"# of gold cpds\")\n",
    "plt.xlabel(\"# of targets\")\n",
    "plt.show()"
   ]
  },
  {
   "cell_type": "markdown",
   "metadata": {},
   "source": [
    "___\n",
    "## Combining DrugBank and ChEMBL targets\n",
    "\n",
    "<br> If DrugBank and ChEMBL had no overlap, we would expect their union to have 1120 unique gold cpds with 6936 drug-target pairs. Instead we find a total of **862 unique gold cpds with 6195 target interactions.** So there is some overlap but the two databases are surprisingly disjoint."
   ]
  },
  {
   "cell_type": "code",
   "execution_count": null,
   "metadata": {
    "collapsed": true
   },
   "outputs": [],
   "source": [
    "gold_cpds_targets = pd.concat([gold_cpds_db_targets.rename(index=str, columns={\"Drugbank_target\": 'target'}),\n",
    "                               gold_cpds_chembl_targets.rename(index=str, columns={\"chembl_target\": 'target'}), \n",
    "                              ], ignore_index=True).drop_duplicates().reset_index(drop=True)\n",
    "\n",
    "# Save all the target info to files to save time in the future.\n",
    "gold_cpds_db_targets.to_csv('checkpoint_files/gold_cpds_db_targets.csv')\n",
    "gold_cpds_chembl_targets.to_csv('checkpoint_files/gold_cpds_chembl_targets.csv')\n",
    "gold_cpds_targets.to_csv('checkpoint_files/gold_cpds_targets.csv')"
   ]
  },
  {
   "cell_type": "code",
   "execution_count": null,
   "metadata": {
    "collapsed": true
   },
   "outputs": [],
   "source": [
    "gold_cpds_targets = pd.DataFrame.from_csv('checkpoint_files/gold_cpds_targets.csv')\n",
    "\n",
    "num_target_list = pd.DataFrame({'num_targets': pd.Series(gold_cpds_targets['pert_id'].value_counts())})\n",
    "f, ax = plt.subplots(figsize=(12, 6))\n",
    "sns.countplot(x=\"num_targets\", data=num_target_list)\n",
    "plt.ylabel(\"# of gold cpds\")\n",
    "plt.xlabel(\"# of targets\")\n",
    "plt.show()"
   ]
  },
  {
   "cell_type": "markdown",
   "metadata": {},
   "source": [
    "___\n",
    "## Filter out cpds w/o targets KDs\n",
    "Now we need to check whether the targets of our gold cpds have gold knockdowns signatures, because we want to use profile correlation to predict targets.\n"
   ]
  },
  {
   "cell_type": "code",
   "execution_count": null,
   "metadata": {
    "collapsed": true
   },
   "outputs": [],
   "source": [
    "gold_cpds_targets['target_KD'] = gold_cpds_targets['target'.].isin(kd_genes)\n",
    "gold_cpds_w_target_kds = gold_cpds_targets[gold_cpds_targets['target_KD']].reset_index(drop=True)"
   ]
  },
  {
   "cell_type": "markdown",
   "metadata": {},
   "source": [
    "#### 693 unique LINCS cpds with gold signatures have known targets that have their own gold KD signatures.\n",
    "These correspond to 1995 drug-target pairs."
   ]
  },
  {
   "cell_type": "code",
   "execution_count": null,
   "metadata": {
    "collapsed": true
   },
   "outputs": [],
   "source": [
    "num_target_list = pd.DataFrame({'num_targets': pd.Series(gold_cpds_w_target_kds['pert_id'].value_counts())})\n",
    "f, ax = plt.subplots(figsize=(12, 6))\n",
    "sns.countplot(x=\"num_targets\", data=num_target_list)\n",
    "plt.ylabel(\"# of cpds\")\n",
    "plt.xlabel(\"# of targets w/ gold kds\")\n",
    "plt.show()"
   ]
  },
  {
   "cell_type": "markdown",
   "metadata": {},
   "source": [
    "___\n",
    "# Incorporate Cell line info\n",
    "<br> We know we have 693 gold compounds with known targets that have their own gold KD signatures. In order to use these signatures for classification we need them to come from the same cell lines."
   ]
  },
  {
   "cell_type": "code",
   "execution_count": null,
   "metadata": {
    "collapsed": true
   },
   "outputs": [],
   "source": [
    "gold_cpds_w_target_kds['n_common_cells'] = 0\n",
    "for i in cell_info_1['cell_id'].values:\n",
    "    gold_cpds_w_target_kds[i] = False\n",
    "gold_cpds_w_target_kds.head()"
   ]
  },
  {
   "cell_type": "markdown",
   "metadata": {},
   "source": [
    "<br> We want to fill in the columns in the table above showing the number of different cell lines for which we have signatures from both the compound and the target knockdown. <br><br>"
   ]
  },
  {
   "cell_type": "code",
   "execution_count": null,
   "metadata": {
    "collapsed": true
   },
   "outputs": [],
   "source": [
    "for index, row in log_progress(gold_cpds_w_target_kds.iterrows(), every=1):\n",
    "    cpd_id = row['pert_id']\n",
    "    target_gene = row['target']\n",
    "    \n",
    "    cpd_sigs = gold_cpd_sigs[gold_cpd_sigs['pert_id'] == cpd_id]\n",
    "    cpd_cells = cpd_sigs['cell_id'].unique()\n",
    "    \n",
    "    kd_sigs = gold_kd_sigs[gold_kd_sigs['pert_iname'] == target_gene]\n",
    "    kd_cells = kd_sigs['cell_id'].unique()\n",
    "    \n",
    "    common_cells = np.intersect1d(cpd_cells, kd_cells)\n",
    "    \n",
    "    if len(common_cells) > 0:\n",
    "        gold_cpds_w_target_kds.set_value(index, 'n_common_cells', len(common_cells))\n",
    "        for cell_line in common_cells:\n",
    "            gold_cpds_w_target_kds.set_value(index, cell_line, True)"
   ]
  },
  {
   "cell_type": "code",
   "execution_count": null,
   "metadata": {
    "collapsed": true
   },
   "outputs": [],
   "source": [
    "f, ax = plt.subplots(figsize=(12, 6))\n",
    "sns.countplot(x=\"n_common_cells\", data=gold_cpds_w_target_kds)\n",
    "plt.title(\"# of cells in which both cpd and kd are tested\")\n",
    "plt.xlabel(\"# cell lines\")\n",
    "plt.ylabel(\"# compounds\")\n",
    "plt.show()"
   ]
  },
  {
   "cell_type": "markdown",
   "metadata": {},
   "source": [
    "<br>Many cell lines have no drug-target pairs associated with them. We'll remove these from our consideration, leaving us with 13 cell lines remaining.<br><br>"
   ]
  },
  {
   "cell_type": "code",
   "execution_count": null,
   "metadata": {
    "collapsed": true
   },
   "outputs": [],
   "source": [
    "for cell_line in gold_cpds_w_target_kds.columns[6:]:\n",
    "    if not np.any(gold_cpds_w_target_kds[cell_line]):\n",
    "        gold_cpds_w_target_kds = gold_cpds_w_target_kds.drop(cell_line, axis=1)\n",
    "gold_cpds_w_target_kds.head()"
   ]
  },
  {
   "cell_type": "markdown",
   "metadata": {},
   "source": [
    "___\n",
    "# Find cell lines with the most drug-target pairs\n",
    "<br>\n",
    "Now we know which cell lines each drug(treatment) - target(knockdown) pair has been tested in. Next we need to find the subset of k cell-lines that have the most pairs.\n",
    "<br><br>"
   ]
  },
  {
   "cell_type": "code",
   "execution_count": null,
   "metadata": {
    "collapsed": true,
    "scrolled": true
   },
   "outputs": [],
   "source": [
    "cell_lines = gold_cpds_w_target_kds.columns[6:].values\n",
    "max_pair_cell_lines = {} # to record cell lines subgroups with max # of pairs for different subgroup sizes\n",
    "max_cpd_cell_lines = {} # to record cell lines subgroups with max # of unique compounds for different subgroup sizes\n",
    "\n",
    "for k in log_progress(range(2,12)): # subsets of size k\n",
    "    max_pair_cell_lines[k] = ([],[],[],None) # (n_common_rows, unique_drugs, common_targets, cell_line_subgroup)\n",
    "    max_cpd_cell_lines[k] = ([],[],[],None) \n",
    "    cell_line_subgroups = list(itertools.combinations(cell_lines,k))\n",
    "    \n",
    "    for subgroup in cell_line_subgroups:\n",
    "        subgroup_cpd_matrix = gold_cpds_w_target_kds[['pert_id', 'target'] + list(subgroup)]\n",
    "        \n",
    "        # count number of common cpd-target pairs\n",
    "        common_pairs = np.logical_and.reduce(subgroup_cpd_matrix[subgroup_cpd_matrix.columns[1:]], axis=1)\n",
    "        num_common_pairs = np.count_nonzero(common_pairs)\n",
    "        \n",
    "        # count number of unique cpds\n",
    "        true_rows = subgroup_cpd_matrix[common_pairs] # rows in the submatrix with True for all cell lines\n",
    "        common_cpds = true_rows['pert_id'].unique()\n",
    "        num_common_cpds = len(common_cpds)\n",
    "        \n",
    "        # count number of unique cpds\n",
    "        common_targets = true_rows['target'].unique()\n",
    "        num_common_targets = len(common_targets)\n",
    "        \n",
    "        # choose max by number of drug-target pairs\n",
    "        if  num_common_pairs > len(max_pair_cell_lines[k][0]):        \n",
    "            max_pair_cell_lines[k] = (true_rows, common_cpds, common_targets, subgroup)\n",
    "          \n",
    "        # choose max by number of unique drugs\n",
    "        if num_common_cpds > len(max_cpd_cell_lines[k][1]):\n",
    "            max_cpd_cell_lines[k] = (true_rows, common_cpds, common_targets, subgroup)"
   ]
  },
  {
   "cell_type": "code",
   "execution_count": null,
   "metadata": {
    "collapsed": true
   },
   "outputs": [],
   "source": [
    "for n in range(2,9):\n",
    "    print('\\nTop {} cell lines with the most drug-target pairs'.format(n),\n",
    "          '\\nNo. drug-target pairs:\\t\\t', max_pair_cell_lines[n][0].shape,\n",
    "          '\\nNo. unique drugs:\\t\\t', len(max_pair_cell_lines[n][1]),\n",
    "          '\\nNo. unique targets:\\t\\t', len(max_pair_cell_lines[n][2]),\n",
    "          '\\nCell lines:\\t\\t\\t',max_pair_cell_lines[n][3]\n",
    "         )"
   ]
  },
  {
   "cell_type": "markdown",
   "metadata": {},
   "source": [
    "The 4 cell lines with the most drug-target pairs in common are ('A375', 'A549', 'MCF7', 'PC3') and they have 244 pairs to learn from, corresponding to 71 unique compounds and 158 unique targets.\n",
    "\n",
    "___\n",
    "# Extract gene expression signatures\n",
    "\n",
    "We'll start just looking at the 71 unique drugs and the 244 associated drug-target pairs tested in four cell lines. Later on we'll expand our analysis to other subsets of cells."
   ]
  },
  {
   "cell_type": "code",
   "execution_count": null,
   "metadata": {
    "collapsed": true
   },
   "outputs": [],
   "source": [
    "top_4_cell_lines = list(max_pair_cell_lines[4][3])\n",
    "top_4_cell_line_cpds = max_pair_cell_lines[4][1]\n",
    "top_4_cell_line_targets = max_pair_cell_lines[4][2]"
   ]
  },
  {
   "cell_type": "markdown",
   "metadata": {},
   "source": [
    "___\n",
    "## Extract cpd sigs of interest "
   ]
  },
  {
   "cell_type": "code",
   "execution_count": null,
   "metadata": {
    "collapsed": true
   },
   "outputs": [],
   "source": [
    "# extract sigs from the top 4 cell lines from cpd perturbations we're interested in\n",
    "top_4_gold_cpd_sigs = gold_cpd_sigs[(gold_cpd_sigs['cell_id'].isin(top_4_cell_lines)) &\n",
    "                                    (gold_cpd_sigs['pert_id'].isin(top_4_cell_line_cpds))\n",
    "                                   ]\n",
    "print(\"No. of gold cpd signatures from top-4 cell lines: \", len(top_4_gold_cpd_sigs))"
   ]
  },
  {
   "cell_type": "markdown",
   "metadata": {},
   "source": [
    "So even though there are 71 unique LINCS compounds tested in the top four cell lines with known targets knocked down in the same four cell lines, we have WAY more than 71x4=284 cpd signatures. This means we still have duplicates and we need some way to define a representative signature.\n",
    "\n",
    "We'll follow the CMAP guidance and select the signature with the highest **TAS**:\n",
    "\n",
    "*Due to the redundancy of the CMap database, meaning that some perturbagens have many signatures even within the same cell line, it is convenient to identify a single ‘exemplar’ signature for each perturbagen in each cell line. These signatures are specifically designated for further analysis, such as ICC and aggregate TAS. Exemplar signatures were selected according to the following process. For each perturbagen in each cell line:\n",
    "If possible, consider only signatures with between 2 and 6 replicates.\n",
    "Within these signatures, select the one with highest transcriptional activity score (TAS). See tas for more details.\n",
    "If there are no signatures that have between 2 and 6 replicates, simply select the one with highest TAS.*\n",
    "<br>\n",
    "### Select representatives"
   ]
  },
  {
   "cell_type": "code",
   "execution_count": null,
   "metadata": {
    "collapsed": true
   },
   "outputs": [],
   "source": [
    "repr_top_4_gold_cpd_sigs = pd.DataFrame(columns=top_4_gold_cpd_sigs.columns)\n",
    "\n",
    "for pert_id in log_progress(top_4_cell_line_cpds):\n",
    "    for cell_id in top_4_cell_lines:\n",
    "        candidate_sigs = top_4_gold_cpd_sigs[(top_4_gold_cpd_sigs.pert_id == pert_id) &\n",
    "                                             (top_4_gold_cpd_sigs.cell_id == cell_id)\n",
    "                                            ]\n",
    "        repr_sig = candidate_sigs.loc[candidate_sigs['tas'].idxmax()]\n",
    "        repr_top_4_gold_cpd_sigs = repr_top_4_gold_cpd_sigs.append(repr_sig)"
   ]
  },
  {
   "cell_type": "markdown",
   "metadata": {},
   "source": [
    "### Extract 71 cpd gene expression vectors from GCTX"
   ]
  },
  {
   "cell_type": "code",
   "execution_count": null,
   "metadata": {
    "collapsed": true
   },
   "outputs": [],
   "source": [
    "phase_1_sig_ids = parse('data/GSE92742_Broad_LINCS_Level5_COMPZ.MODZ_n473647x12328.gctx', col_meta_only=True).index.values\n",
    "phase_2_sig_ids = parse('data/GSE70138_Broad_LINCS_Level5_COMPZ_n118050x12328_2017-03-06.gctx', col_meta_only=True).index.values"
   ]
  },
  {
   "cell_type": "code",
   "execution_count": null,
   "metadata": {
    "collapsed": true
   },
   "outputs": [],
   "source": [
    "# The GCTX files encode the sig IDS as strings of byte strings (why????) so we have to deal with that\n",
    "top_4_cpd_sig_ids = [ str(s.encode('UTF8')) for s  in repr_top_4_gold_cpd_sigs.sig_id.values ]\n",
    "phase_1_top_4_cpd_sig_ids = [ s for s in top_4_cpd_sig_ids if s in phase_1_sig_ids ]\n",
    "phase_2_top_4_cpd_sig_ids = [ s for s in top_4_cpd_sig_ids if s in phase_2_sig_ids ]"
   ]
  },
  {
   "cell_type": "code",
   "execution_count": null,
   "metadata": {
    "collapsed": true
   },
   "outputs": [],
   "source": [
    "# extract the actual signatures\n",
    "phase_1_top_4_cpd_sigs = parse('data/GSE92742_Broad_LINCS_Level5_COMPZ.MODZ_n473647x12328.gctx', cid=phase_1_top_4_cpd_sig_ids).data_df\n",
    "phase_2_top_4_cpd_sigs = parse('data/GSE70138_Broad_LINCS_Level5_COMPZ_n118050x12328_2017-03-06.gctx', cid=phase_2_top_4_cpd_sig_ids).data_df\n",
    "phase_2_top_4_cpd_sigs.rename(lambda x: x[2:-1], inplace=True)\n",
    "top_4_cpd_sigs = pd.concat([phase_1_top_4_cpd_sigs, phase_2_top_4_cpd_sigs], axis=1)"
   ]
  },
  {
   "cell_type": "code",
   "execution_count": null,
   "metadata": {
    "collapsed": true
   },
   "outputs": [],
   "source": [
    "# discard all but landmark gene values\n",
    "top_4_cpd_lm_sigs = top_4_cpd_sigs[top_4_cpd_sigs.index.isin(lm_gene_ids)].sort_index().copy()\n",
    "top_4_cpd_lm_sigs.head()"
   ]
  },
  {
   "cell_type": "code",
   "execution_count": null,
   "metadata": {
    "collapsed": true
   },
   "outputs": [],
   "source": [
    "# reformat the sig_ids so they are nice strings\n",
    "top_4_cpd_lm_sigs = top_4_cpd_lm_sigs.T.rename(lambda x: x.lstrip('b\\'').rstrip('\\'')).T"
   ]
  },
  {
   "cell_type": "markdown",
   "metadata": {},
   "source": [
    "___\n",
    "## Extract target-KD sigs of interest "
   ]
  },
  {
   "cell_type": "code",
   "execution_count": null,
   "metadata": {
    "collapsed": true
   },
   "outputs": [],
   "source": [
    "# extract sigs from the top 4 cell lines from gene KDs we're interested in\n",
    "top_4_gold_target_kd_sigs = gold_kd_sigs[(gold_kd_sigs['cell_id'].isin(top_4_cell_lines)) &\n",
    "                                         (gold_kd_sigs['pert_iname'].isin(top_4_cell_line_targets))\n",
    "                                        ]\n",
    "print(\"No. of gold target KD signatures from top-4 cell lines: \", len(top_4_gold_target_kd_sigs))"
   ]
  },
  {
   "cell_type": "markdown",
   "metadata": {},
   "source": [
    "Again, we have more than 158x4=632 target signatures. We'll follow the CMAP guidance and select the signature with the highest **TAS**\n",
    "\n",
    "#### Select representatives"
   ]
  },
  {
   "cell_type": "code",
   "execution_count": null,
   "metadata": {
    "collapsed": true
   },
   "outputs": [],
   "source": [
    "repr_top_4_gold_target_kd_sigs = pd.DataFrame(columns=top_4_gold_target_kd_sigs.columns)\n",
    "\n",
    "for pert_iname in log_progress(top_4_cell_line_targets):\n",
    "    for cell_id in top_4_cell_lines:\n",
    "        candidate_sigs = top_4_gold_target_kd_sigs[(top_4_gold_target_kd_sigs.pert_iname == pert_iname) &\n",
    "                                                   (top_4_gold_target_kd_sigs.cell_id == cell_id)\n",
    "                                                  ]\n",
    "        repr_sig = candidate_sigs.loc[candidate_sigs['tas'].idxmax()]\n",
    "        repr_top_4_gold_target_kd_sigs = repr_top_4_gold_target_kd_sigs.append(repr_sig)"
   ]
  },
  {
   "cell_type": "markdown",
   "metadata": {},
   "source": [
    "### Extract KD gene expression vectors from GCTX"
   ]
  },
  {
   "cell_type": "code",
   "execution_count": null,
   "metadata": {
    "collapsed": true
   },
   "outputs": [],
   "source": [
    "# The GCTX files encode the sig IDS as strings of byte strings (why????) so we have to deal with that\n",
    "top_4_target_kd_sig_ids = [ str(s.encode('UTF8')) for s  in repr_top_4_gold_target_kd_sigs.sig_id.values ]\n",
    "phase_1_top_4_target_kd_sig_ids = [ s for s in top_4_target_kd_sig_ids if s in phase_1_sig_ids ]\n",
    "phase_2_top_4_target_kd_sig_ids = [ s for s in top_4_target_kd_sig_ids if s in phase_2_sig_ids ]\n",
    "# no knockdowns in phase 2 data so we'll just go with phase 1 data"
   ]
  },
  {
   "cell_type": "code",
   "execution_count": null,
   "metadata": {
    "collapsed": true
   },
   "outputs": [],
   "source": [
    "# read in the data\n",
    "top_4_target_kd_sigs = parse('data/GSE92742_Broad_LINCS_Level5_COMPZ.MODZ_n473647x12328.gctx', cid=phase_1_top_4_target_kd_sig_ids).data_df"
   ]
  },
  {
   "cell_type": "code",
   "execution_count": null,
   "metadata": {
    "collapsed": true
   },
   "outputs": [],
   "source": [
    "# discard non-landmark gene expression scores\n",
    "top_4_target_kd_lm_sigs = top_4_target_kd_sigs[top_4_target_kd_sigs.index.isin(lm_gene_ids)].sort_index().copy()"
   ]
  },
  {
   "cell_type": "code",
   "execution_count": null,
   "metadata": {
    "collapsed": true
   },
   "outputs": [],
   "source": [
    "# reformat the sig_ids so they are nice strings\n",
    "top_4_target_kd_lm_sigs = top_4_target_kd_lm_sigs.T.rename(lambda x: x.lstrip('b\\'').rstrip('\\'')).T\n",
    "top_4_target_kd_lm_sigs.to_csv('checkpoint_files/top_4_target_kd_lm_sigs.csv')"
   ]
  },
  {
   "cell_type": "code",
   "execution_count": null,
   "metadata": {
    "collapsed": true
   },
   "outputs": [],
   "source": [
    "top_4_target_kd_lm_sigs.head()"
   ]
  },
  {
   "cell_type": "markdown",
   "metadata": {},
   "source": [
    "___\n",
    "## Extract all KD sigs from the top-4 cell lines (not just known targets)"
   ]
  },
  {
   "cell_type": "code",
   "execution_count": null,
   "metadata": {
    "collapsed": true
   },
   "outputs": [],
   "source": [
    "# extract sigs from the top 4 cell lines from gene KDs we're interested in\n",
    "top_4_gold_kd_sigs = gold_kd_sigs[(gold_kd_sigs['cell_id'].isin(top_4_cell_lines))]\n",
    "print(\"No. of gold KD signatures from top-4 cell lines: \", len(top_4_gold_kd_sigs))"
   ]
  },
  {
   "cell_type": "code",
   "execution_count": null,
   "metadata": {
    "collapsed": true
   },
   "outputs": [],
   "source": [
    "top_4_gold_kd_genes = top_4_gold_kd_sigs['pert_iname'].unique()\n",
    "print(\"No. of gold KD genes from top-4 cell lines: \", len(top_4_gold_kd_genes))"
   ]
  },
  {
   "cell_type": "code",
   "execution_count": null,
   "metadata": {
    "collapsed": true
   },
   "outputs": [],
   "source": [
    "# select representatives with highest TAS\n",
    "repr_top_4_gold_kd_sigs = pd.DataFrame(columns=top_4_gold_kd_sigs.columns)\n",
    "\n",
    "for pert_iname in log_progress(top_4_gold_kd_genes):\n",
    "    \n",
    "    # make sure that the KD has been performed in all 4 cell lines\n",
    "    kd_sigs = top_4_gold_kd_sigs.query('pert_iname == \"{}\"'.format(pert_iname))\n",
    "    num_kd_cells = len(kd_sigs['cell_id'].unique())\n",
    "    if num_kd_cells == 4:\n",
    "    \n",
    "        for cell_id in top_4_cell_lines:\n",
    "            candidate_sigs = top_4_gold_kd_sigs[(top_4_gold_kd_sigs.pert_iname == pert_iname) &\n",
    "                                                (top_4_gold_kd_sigs.cell_id == cell_id)]\n",
    "            repr_sig = candidate_sigs.loc[candidate_sigs['tas'].idxmax()]\n",
    "            repr_top_4_gold_kd_sigs = repr_top_4_gold_kd_sigs.append(repr_sig)"
   ]
  },
  {
   "cell_type": "code",
   "execution_count": null,
   "metadata": {
    "collapsed": true
   },
   "outputs": [],
   "source": [
    "top_4_repr_kd_genes = repr_top_4_gold_kd_sigs['pert_iname'].unique()\n",
    "print(\"No. of gold KD genes from top-4 cell lines: \", len(top_4_repr_kd_genes))"
   ]
  },
  {
   "cell_type": "code",
   "execution_count": null,
   "metadata": {
    "collapsed": true
   },
   "outputs": [],
   "source": [
    "# The GCTX files encode the sig IDS as strings of byte strings (why????) so we have to deal with that\n",
    "top_4_kd_sig_ids = [ str(s.encode('UTF8')) for s in repr_top_4_gold_kd_sigs.sig_id.values ]\n",
    "phase_1_top_4_kd_sig_ids = [ s for s in top_4_kd_sig_ids if s in phase_1_sig_ids ]\n",
    "#phase_2_top_4_kd_sig_ids = [ s for s in top_4_kd_sig_ids if s in phase_2_sig_ids ]\n",
    "# no knockdowns in phase 2 data so we'll just go with phase 1 data"
   ]
  },
  {
   "cell_type": "code",
   "execution_count": null,
   "metadata": {
    "collapsed": true
   },
   "outputs": [],
   "source": [
    "len(phase_1_top_4_kd_sig_ids) / 4."
   ]
  },
  {
   "cell_type": "code",
   "execution_count": null,
   "metadata": {
    "collapsed": true
   },
   "outputs": [],
   "source": [
    "# read in the data\n",
    "top_4_kd_sigs = parse('data/GSE92742_Broad_LINCS_Level5_COMPZ.MODZ_n473647x12328.gctx', cid=phase_1_top_4_kd_sig_ids).data_df"
   ]
  },
  {
   "cell_type": "code",
   "execution_count": null,
   "metadata": {
    "collapsed": true
   },
   "outputs": [],
   "source": [
    "# discard non-landmark gene expression scores\n",
    "top_4_kd_lm_sigs = top_4_kd_sigs[top_4_kd_sigs.index.isin(lm_gene_ids)].sort_index().copy()"
   ]
  },
  {
   "cell_type": "code",
   "execution_count": null,
   "metadata": {
    "collapsed": true
   },
   "outputs": [],
   "source": [
    "# reformat the sig_ids so they are nice strings\n",
    "top_4_kd_lm_sigs = top_4_kd_lm_sigs.T.rename(lambda x: x.lstrip('b\\'').rstrip('\\'')).T"
   ]
  },
  {
   "cell_type": "markdown",
   "metadata": {},
   "source": [
    "___\n",
    "## Collect data for next phase of processing"
   ]
  },
  {
   "cell_type": "code",
   "execution_count": null,
   "metadata": {
    "collapsed": true
   },
   "outputs": [],
   "source": [
    "print(repr_top_4_gold_kd_sigs.shape)\n",
    "print(top_4_kd_lm_sigs.shape)\n",
    "\n",
    "repr_top_4_gold_kd_sigs.to_csv('checkpoint_files/repr_top_4_gold_kd_sigs.csv')\n",
    "top_4_kd_lm_sigs.to_csv('checkpoint_files/top_4_kd_lm_sigs.csv')"
   ]
  },
  {
   "cell_type": "code",
   "execution_count": null,
   "metadata": {
    "collapsed": true
   },
   "outputs": [],
   "source": [
    "print(repr_top_4_gold_cpd_sigs.shape)\n",
    "print(top_4_cpd_lm_sigs.shape)\n",
    "\n",
    "repr_top_4_gold_cpd_sigs.to_csv('checkpoint_files/repr_top_4_gold_cpd_sigs.csv')\n",
    "top_4_cpd_lm_sigs.to_csv('checkpoint_files/top_4_cpd_lm_sigs.csv')"
   ]
  },
  {
   "cell_type": "code",
   "execution_count": null,
   "metadata": {
    "collapsed": true
   },
   "outputs": [],
   "source": [
    "top_4_known_interactions = max_pair_cell_lines[4][0][['pert_id','target']].copy()\n",
    "top_4_known_interactions.to_csv('checkpoint_files/top_4_known_interactions.csv')"
   ]
  },
  {
   "cell_type": "code",
   "execution_count": null,
   "metadata": {
    "collapsed": true
   },
   "outputs": [],
   "source": []
  },
  {
   "cell_type": "code",
   "execution_count": null,
   "metadata": {
    "collapsed": true
   },
   "outputs": [],
   "source": []
  },
  {
   "cell_type": "markdown",
   "metadata": {},
   "source": [
    "___\n",
    "# Figure out which signatures pair together\n",
    "<br> \n",
    "First we'll construct positive pairs, representing true drug-target relationships."
   ]
  },
  {
   "cell_type": "code",
   "execution_count": null,
   "metadata": {
    "collapsed": true
   },
   "outputs": [],
   "source": [
    "# first we'll assemble our positive training examples\n",
    "top_4_pairings = max_pair_cell_lines[4][0]\n",
    "top_4_pos_pair_sigs = top_4_pairings[['pert_id','target']].reset_index(drop=True)\n",
    "top_4_pos_pair_sigs['label'] = pd.Series(1.0, index = top_4_pos_pair_sigs.index)\n",
    "\n",
    "# initialize empty columns to hold signature ids\n",
    "for cell_line in top_4_cell_lines:\n",
    "    cpd_col = 'cpd_' + cell_line\n",
    "    target_col = 'target_' + cell_line\n",
    "    top_4_pos_pair_sigs[cpd_col] = pd.Series('', index=top_4_pos_pair_sigs.index)\n",
    "    top_4_pos_pair_sigs[target_col] = pd.Series('', index=top_4_pos_pair_sigs.index)\n",
    "\n",
    "# now find the relevant sig ids for each pair\n",
    "for index, pair in log_progress(top_4_pos_pair_sigs.iterrows(), every=1):\n",
    "    cpd = pair['pert_id']\n",
    "    target = pair['target']\n",
    "    \n",
    "    # get the sig info for the drug and target experiments in the four cell lines\n",
    "    cpd_sig_info = repr_top_4_gold_cpd_sigs[repr_top_4_gold_cpd_sigs['pert_id'] == cpd].sort_values(['cell_id'])\n",
    "    target_sig_info = repr_top_4_gold_target_kd_sigs[repr_top_4_gold_target_kd_sigs['pert_iname'] == target].sort_values(['cell_id'])\n",
    "    \n",
    "    # populate the values in the original datatable\n",
    "    for cell_line in cpd_sig_info['cell_id']:\n",
    "        cpd_col = 'cpd_' + cell_line\n",
    "        target_col = 'target_' + cell_line\n",
    "        \n",
    "        cpd_sig_id = cpd_sig_info[cpd_sig_info.cell_id == cell_line]['sig_id'].values[0]\n",
    "        target_sig_id = target_sig_info[target_sig_info.cell_id == cell_line]['sig_id'].values[0]\n",
    "        \n",
    "        top_4_pos_pair_sigs.set_value(index, cpd_col, cpd_sig_id)\n",
    "        top_4_pos_pair_sigs.set_value(index, target_col, target_sig_id)\n",
    "    "
   ]
  },
  {
   "cell_type": "code",
   "execution_count": null,
   "metadata": {
    "collapsed": true
   },
   "outputs": [],
   "source": [
    "top_4_pos_pair_sigs"
   ]
  },
  {
   "cell_type": "markdown",
   "metadata": {},
   "source": [
    "## Construct negative training examples (using Targets ONLY)\n",
    "Now we'll construct negative pairs, representing false drug-target mappings. We need these negative examples for training, "
   ]
  },
  {
   "cell_type": "code",
   "execution_count": null,
   "metadata": {
    "collapsed": true
   },
   "outputs": [],
   "source": [
    "pert_ids = []\n",
    "targets = []\n",
    "\n",
    "for cpd in top_4_cell_line_cpds:\n",
    "    true_cpd_targets = top_4_pairings[top_4_pairings['pert_id'] == cpd]['target'].values\n",
    "\n",
    "    for target in top_4_cell_line_targets:\n",
    "        if target not in true_cpd_targets:\n",
    "            pert_ids.append(cpd)\n",
    "            targets.append(target)"
   ]
  },
  {
   "cell_type": "code",
   "execution_count": null,
   "metadata": {
    "collapsed": true
   },
   "outputs": [],
   "source": [
    "top_4_neg_pair_sigs = pd.DataFrame({'pert_id': pd.Series(pert_ids), 'target' : pd.Series(targets)})\n",
    "top_4_neg_pair_sigs['label'] = pd.Series(-1.0, index = top_4_neg_pair_sigs.index)\n",
    "\n",
    "\n",
    "# initialize empty columns to hold signature ids\n",
    "for cell_line in top_4_cell_lines:\n",
    "    cpd_col = 'cpd_' + cell_line\n",
    "    target_col = 'target_' + cell_line\n",
    "    top_4_neg_pair_sigs[cpd_col] = pd.Series('', index=top_4_neg_pair_sigs.index)\n",
    "    top_4_neg_pair_sigs[target_col] = pd.Series('', index=top_4_neg_pair_sigs.index)\n",
    "\n",
    "# now find the relevant sig ids for each pair\n",
    "for index, pair in log_progress(top_4_neg_pair_sigs.iterrows(), every=1):\n",
    "    cpd = pair['pert_id']\n",
    "    target = pair['target']\n",
    "    \n",
    "    # get the sig info for the drug and target experiments in the four cell lines\n",
    "    cpd_sig_info = repr_top_4_gold_cpd_sigs[repr_top_4_gold_cpd_sigs['pert_id'] == cpd].sort_values(['cell_id'])\n",
    "    target_sig_info = repr_top_4_gold_target_kd_sigs[repr_top_4_gold_target_kd_sigs['pert_iname'] == target].sort_values(['cell_id'])\n",
    "    \n",
    "    # populate the values in the original datatable\n",
    "    for cell_line in cpd_sig_info['cell_id']:\n",
    "        cpd_col = 'cpd_' + cell_line\n",
    "        target_col = 'target_' + cell_line\n",
    "        \n",
    "        cpd_sig_id = cpd_sig_info[cpd_sig_info.cell_id == cell_line]['sig_id'].values[0]\n",
    "        target_sig_id = target_sig_info[target_sig_info.cell_id == cell_line]['sig_id'].values[0]\n",
    "        \n",
    "        top_4_neg_pair_sigs.set_value(index, cpd_col, cpd_sig_id)\n",
    "        top_4_neg_pair_sigs.set_value(index, target_col, target_sig_id)\n",
    "    "
   ]
  },
  {
   "cell_type": "code",
   "execution_count": null,
   "metadata": {
    "collapsed": true
   },
   "outputs": [],
   "source": [
    "top_4_neg_pair_sigs.shape"
   ]
  },
  {
   "cell_type": "markdown",
   "metadata": {},
   "source": [
    "## Construct negative training examples (using Targets ONLY)"
   ]
  },
  {
   "cell_type": "markdown",
   "metadata": {},
   "source": [
    "## Assemble training examples"
   ]
  },
  {
   "cell_type": "code",
   "execution_count": null,
   "metadata": {
    "collapsed": true
   },
   "outputs": [],
   "source": [
    "top_4_all_pair_sigs = pd.concat([top_4_pos_pair_sigs, top_4_neg_pair_sigs], ignore_index=True)\n",
    "top_4_all_pair_sigs.to_csv('checkpoint_files/top_4_all_pair_sig_ids.csv')"
   ]
  },
  {
   "cell_type": "code",
   "execution_count": null,
   "metadata": {
    "collapsed": true
   },
   "outputs": [],
   "source": []
  }
 ],
 "metadata": {
  "kernelspec": {
   "display_name": "Python 3",
   "language": "python",
   "name": "python3"
  },
  "language_info": {
   "codemirror_mode": {
    "name": "ipython",
    "version": 3
   },
   "file_extension": ".py",
   "mimetype": "text/x-python",
   "name": "python",
   "nbconvert_exporter": "python",
   "pygments_lexer": "ipython3",
   "version": "3.6.1"
  }
 },
 "nbformat": 4,
 "nbformat_minor": 2
}
