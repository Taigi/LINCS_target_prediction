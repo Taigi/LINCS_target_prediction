{
 "cells": [
  {
   "cell_type": "markdown",
   "metadata": {},
   "source": [
    "# Prediction\n",
    "\n",
    "Machinery to predict targets for new cpds.\n",
    "___"
   ]
  },
  {
   "cell_type": "code",
   "execution_count": 1,
   "metadata": {
    "collapsed": true
   },
   "outputs": [],
   "source": [
    "import pickle\n",
    "import pandas as pd\n",
    "import numpy as np\n",
    "import scipy\n",
    "import itertools\n",
    "from support_functions import log_progress\n",
    "import matplotlib.pyplot as plt\n",
    "import seaborn as sns\n",
    "sns.set(color_codes=True)\n",
    "from sklearn.ensemble import RandomForestClassifier\n",
    "from sklearn.model_selection import cross_val_score\n",
    "from cmapPy.pandasGEXpress import parse\n",
    "from sklearn.preprocessing import StandardScaler"
   ]
  },
  {
   "cell_type": "markdown",
   "metadata": {},
   "source": [
    "___\n",
    "## Identify relevant signatures"
   ]
  },
  {
   "cell_type": "code",
   "execution_count": 30,
   "metadata": {
    "collapsed": true
   },
   "outputs": [],
   "source": [
    "# parameters\n",
    "cpd_ids = ['BRD-K19227686', \n",
    "          'BRD-K65503129', \n",
    "          'BRD-K29905972', \n",
    "          'BRD-K59556282', \n",
    "          'BRD-K67298865',\n",
    "          'BRD-K78930611',\n",
    "         ]\n",
    "          \n",
    "cell_lines = ['A375', 'A549', 'MCF7', 'PC3']"
   ]
  },
  {
   "cell_type": "code",
   "execution_count": 37,
   "metadata": {
    "collapsed": true
   },
   "outputs": [
    {
     "name": "stderr",
     "output_type": "stream",
     "text": [
      "/Users/Nico/anaconda3/lib/python3.6/site-packages/IPython/core/interactiveshell.py:2850: DtypeWarning: Columns (4,6,10) have mixed types. Specify dtype option on import or set low_memory=False.\n",
      "  if self.run_code(code, result):\n"
     ]
    }
   ],
   "source": [
    "# load all signature info\n",
    "all_sig_info = pd.DataFrame.from_csv('checkpoint_files/all_sig_info.csv')\n",
    "\n",
    "# extract the cpd of interest\n",
    "idx = all_sig_info.pert_id.isin(cpd_ids)\n",
    "cpd_sigs = all_sig_info[idx]"
   ]
  },
  {
   "cell_type": "code",
   "execution_count": 38,
   "metadata": {},
   "outputs": [],
   "source": [
    "# refine to our cell lines of interest\n",
    "cpd_sigs = cpd_sigs[cpd_sigs.cell_id.isin(cell_lines)].sort_values(['cell_id'])\n",
    "cpd_sigs = cpd_sigs.drop(['distil_id', 'pert_dose', 'pert_dose_unit', 'pert_time', 'pert_time_unit'], axis=1)"
   ]
  },
  {
   "cell_type": "code",
   "execution_count": 41,
   "metadata": {},
   "outputs": [
    {
     "data": {
      "application/vnd.jupyter.widget-view+json": {
       "model_id": "96d0067012fa4c04a8b79c2da4a860c6"
      }
     },
     "metadata": {},
     "output_type": "display_data"
    }
   ],
   "source": [
    "# select representative signatures\n",
    "repr_cpd_sigs = pd.DataFrame(columns=cpd_sigs.columns)\n",
    "for pert_id in log_progress(cpd_ids):    \n",
    "    for cell_id in cell_lines:\n",
    "        candidate_sigs = cpd_sigs[(cpd_sigs.cell_id == cell_id) & (cpd_sigs.pert_id == pert_id)]\n",
    "        repr_sig = candidate_sigs.loc[candidate_sigs['tas'].idxmax()]\n",
    "        repr_cpd_sigs = repr_cpd_sigs.append(repr_sig)"
   ]
  },
  {
   "cell_type": "markdown",
   "metadata": {},
   "source": [
    "## Extract query signatures"
   ]
  },
  {
   "cell_type": "code",
   "execution_count": 48,
   "metadata": {
    "collapsed": true
   },
   "outputs": [],
   "source": [
    "# extract profiles from GCTX\n",
    "phase_1_sig_ids = parse('data/GSE92742_Broad_LINCS_Level5_COMPZ.MODZ_n473647x12328.gctx', col_meta_only=True).index.values\n",
    "phase_2_sig_ids = parse('data/GSE70138_Broad_LINCS_Level5_COMPZ_n118050x12328_2017-03-06.gctx', col_meta_only=True).index.values\n",
    "\n",
    "# The GCTX files encode the sig IDS as strings of byte strings (why????) so we have to deal with that\n",
    "cpd_sig_ids = [ str(s.encode('UTF8')) for s  in repr_cpd_sigs.sig_id.values ]\n",
    "phase_1_cpd_sig_ids = [ s for s in cpd_sig_ids if s in phase_1_sig_ids ]\n",
    "phase_2_cpd_sig_ids = [ s for s in cpd_sig_ids if s in phase_2_sig_ids ]"
   ]
  },
  {
   "cell_type": "code",
   "execution_count": 49,
   "metadata": {},
   "outputs": [],
   "source": [
    "# extract the actual signatures\n",
    "if phase_1_cpd_sig_ids:\n",
    "    phase_1_cpd_sigs = parse('data/GSE92742_Broad_LINCS_Level5_COMPZ.MODZ_n473647x12328.gctx', cid=phase_1_cpd_sig_ids).data_df    \n",
    "if phase_2_cpd_sig_ids:\n",
    "    phase_2_cpd_sigs = parse('data/GSE70138_Broad_LINCS_Level5_COMPZ_n118050x12328_2017-03-06.gctx', cid=phase_2_cpd_sig_ids).data_df\n",
    "    phase_2_cpd_sigs.rename(lambda x: x[2:-1], inplace=True)\n",
    "\n",
    "if (phase_1_cpd_sig_ids and phase_2_cpd_sig_ids):\n",
    "    cpd_profiles = pd.concat([phase_1_top_4_cpd_sigs, phase_2_top_4_cpd_sigs], axis=1)\n",
    "elif phase_1_cpd_sig_ids: \n",
    "    cpd_profiles = phase_1_cpd_sigs\n",
    "elif phase_2_cpd_sig_ids:\n",
    "    cpd_profiles = phase_2_cpd_sigs"
   ]
  },
  {
   "cell_type": "code",
   "execution_count": 52,
   "metadata": {},
   "outputs": [],
   "source": [
    "# primary gene symbols and IDs\n",
    "gene_info_1 = pd.read_csv('data/GSE92742_Broad_LINCS_gene_info.txt', sep='\\t', header=0)\n",
    "lm_genes = gene_info_1[gene_info_1['pr_is_lm'].astype(bool)]\n",
    "lm_gene_ids = lm_genes['pr_gene_id'].astype(str).values\n",
    "\n",
    "# discard all but landmark gene values\n",
    "cpd_lm_profiles = cpd_profiles[cpd_profiles.index.isin(lm_gene_ids)].sort_index().copy()\n",
    "cpd_lm_profiles.head()\n",
    "\n",
    "# reformat the sig_ids so they are nice strings\n",
    "cpd_lm_profiles = cpd_lm_profiles.T.rename(lambda x: x.lstrip('b\\'').rstrip('\\'')).T"
   ]
  },
  {
   "cell_type": "markdown",
   "metadata": {},
   "source": [
    "___\n",
    "## Construct features"
   ]
  },
  {
   "cell_type": "code",
   "execution_count": 59,
   "metadata": {},
   "outputs": [],
   "source": [
    "# the known cpd-target interactions. shape: [244, 2]\n",
    "top_4_known_interactions = pd.DataFrame.from_csv('checkpoint_files/top_4_known_interactions.csv')\n",
    "# KD signature ID metadata. shape: [11948, 15]\n",
    "repr_top_4_gold_kd_sigs = pd.DataFrame.from_csv('checkpoint_files/repr_top_4_gold_kd_sigs.csv')\n",
    "# the actual KD signatures. shape: [978, 11948]\n",
    "top_4_kd_lm_sigs = pd.DataFrame.from_csv('checkpoint_files/top_4_kd_lm_sigs.csv')"
   ]
  },
  {
   "cell_type": "code",
   "execution_count": 101,
   "metadata": {},
   "outputs": [
    {
     "data": {
      "application/vnd.jupyter.widget-view+json": {
       "model_id": "edfc5f057206417d92d0ff29ca02930e"
      }
     },
     "metadata": {},
     "output_type": "display_data"
    }
   ],
   "source": [
    "# create cpd-kd mapping\n",
    "all_top_4_kds = repr_top_4_gold_kd_sigs.pert_iname.unique()\n",
    "all_top_4_cpds = cpd_ids\n",
    "\n",
    "# for now it doesn't really matter what label\n",
    "cpd_ = []\n",
    "kd_ = []\n",
    "\n",
    "for kd in log_progress(all_top_4_kds):\n",
    "    for cpd in all_top_4_cpds:\n",
    "        cpd_.append(cpd)\n",
    "        kd_.append(kd)\n",
    "        \n",
    "# store pairs in dataframe\n",
    "cpd_kd_pairs_df = pd.DataFrame({'cpd': cpd_, 'kd': kd_})"
   ]
  },
  {
   "cell_type": "markdown",
   "metadata": {},
   "source": [
    "### Direct correlation"
   ]
  },
  {
   "cell_type": "code",
   "execution_count": 102,
   "metadata": {},
   "outputs": [
    {
     "data": {
      "application/vnd.jupyter.widget-view+json": {
       "model_id": "60b0673e2a1d4e04883d29df364352cc"
      }
     },
     "metadata": {},
     "output_type": "display_data"
    }
   ],
   "source": [
    "# initialize empty dataframe to hold direct correlation values\n",
    "dir_corr_df = pd.DataFrame(index=cpd_kd_pairs_df.index, columns=cell_lines)\n",
    "\n",
    "# loop through cpd-target pairs, calculate correlations in each cell line\n",
    "for index, row in log_progress(cpd_kd_pairs_df.iterrows(), every=100):\n",
    "    cpd = row.cpd\n",
    "    kd = row.kd\n",
    "    \n",
    "    for cell_line in cell_lines:\n",
    "        cpd_sig_info = repr_cpd_sigs.query('pert_id == \"{}\" & cell_id == \"{}\"'.format(cpd,cell_line))\n",
    "        kd_sig_info = repr_top_4_gold_kd_sigs.query('pert_iname == \"{}\" & cell_id == \"{}\"'.format(kd,cell_line))\n",
    "        \n",
    "        # extract signatures\n",
    "        cpd_sig_id = cpd_sig_info.sig_id\n",
    "        kd_sig_id = kd_sig_info.sig_id\n",
    "        \n",
    "        cpd_lm_sig = cpd_lm_profiles[cpd_sig_id].values\n",
    "        kd_lm_sig = top_4_kd_lm_sigs[kd_sig_id].values\n",
    "        \n",
    "        #compute and store correlation\n",
    "        corr = scipy.stats.pearsonr(cpd_lm_sig, kd_lm_sig)[0][0]\n",
    "        dir_corr_df.at[index, cell_line] = corr"
   ]
  },
  {
   "cell_type": "markdown",
   "metadata": {},
   "source": [
    "### Indirect correlation"
   ]
  },
  {
   "cell_type": "code",
   "execution_count": 98,
   "metadata": {
    "collapsed": true
   },
   "outputs": [],
   "source": [
    "# 710638 high confidence interactions\n",
    "string_gene_interactions_700 = pd.DataFrame.from_csv('checkpoint_files/string_gene_interactions_700.csv')"
   ]
  },
  {
   "cell_type": "code",
   "execution_count": 95,
   "metadata": {},
   "outputs": [],
   "source": [
    "# list of all KDs in top-4 cells, for reference\n",
    "all_kds = repr_top_4_gold_kd_sigs.pert_iname.unique()"
   ]
  },
  {
   "cell_type": "code",
   "execution_count": 105,
   "metadata": {},
   "outputs": [
    {
     "data": {
      "application/vnd.jupyter.widget-view+json": {
       "model_id": "32356c75117341cb86d84de9c577cf9b"
      }
     },
     "metadata": {},
     "output_type": "display_data"
    }
   ],
   "source": [
    "# initialize empty dataframe to hold direct correlation values\n",
    "indir_max_corr_df = pd.DataFrame(index=cpd_kd_pairs_df.index, columns=cell_lines)\n",
    "indir_min_corr_df = pd.DataFrame(index=cpd_kd_pairs_df.index, columns=cell_lines)\n",
    "indir_avg_corr_df = pd.DataFrame(index=cpd_kd_pairs_df.index, columns=cell_lines)\n",
    "\n",
    "# loop through cpd-target pairs, calculate correlations in each cell line\n",
    "for index, row in log_progress(cpd_kd_pairs_df.iterrows(), every=10):\n",
    "    cpd = row.cpd\n",
    "    kd = row.kd\n",
    "    \n",
    "    # find the target's interaction partners that have KDs\n",
    "    interaction_partners = string_gene_interactions_700.query('gene_1 == \"{}\"'.format(kd)).gene_2\n",
    "    partner_kds = np.intersect1d(interaction_partners, all_kds)\n",
    "    \n",
    "    # compute corr with each partner in each cell line\n",
    "    for cell_line in cell_lines:\n",
    "        \n",
    "        # extract the cpd signature\n",
    "        cpd_sig_info = repr_cpd_sigs.query('pert_id == \"{}\" & cell_id == \"{}\"'.format(cpd,cell_line))\n",
    "        cpd_sig_id = cpd_sig_info.sig_id\n",
    "        cpd_lm_sig = cpd_lm_profiles[cpd_sig_id].values\n",
    "       \n",
    "        # initialize empty Series to hold corrs for all partners in this cell line\n",
    "        pkd_corrs = pd.Series(index=partner_kds)\n",
    "        \n",
    "        for pkd in partner_kds:\n",
    "            # extract the partner kd signature\n",
    "            pkd_sig_info = repr_top_4_gold_kd_sigs.query('pert_iname == \"{}\" & cell_id == \"{}\"'.format(pkd,cell_line))\n",
    "            pkd_sig_id = pkd_sig_info.sig_id\n",
    "            pkd_lm_sig = top_4_kd_lm_sigs[pkd_sig_id].values\n",
    "\n",
    "            #compute and store correlation\n",
    "            corr = scipy.stats.pearsonr(cpd_lm_sig, pkd_lm_sig)[0][0]\n",
    "            pkd_corrs[pkd] = corr\n",
    "        \n",
    "        # compute max, min, and average of the partner kd corrs\n",
    "        max_pkd_corr = pkd_corrs.max()\n",
    "        min_pkd_corr = pkd_corrs.min()\n",
    "        avg_pkd_corr = pkd_corrs.mean()\n",
    "        \n",
    "        # store these in the appropriate data frames\n",
    "        indir_max_corr_df.at[index, cell_line] = max_pkd_corr\n",
    "        indir_min_corr_df.at[index, cell_line] = min_pkd_corr\n",
    "        indir_avg_corr_df.at[index, cell_line] = avg_pkd_corr"
   ]
  },
  {
   "cell_type": "markdown",
   "metadata": {},
   "source": [
    "### Remove missing malues"
   ]
  },
  {
   "cell_type": "code",
   "execution_count": 106,
   "metadata": {
    "collapsed": true
   },
   "outputs": [],
   "source": [
    "features_df = pd.concat([dir_corr_df, indir_max_corr_df, indir_min_corr_df, indir_avg_corr_df], axis=1)"
   ]
  },
  {
   "cell_type": "code",
   "execution_count": 107,
   "metadata": {},
   "outputs": [],
   "source": [
    "# identify rows that have NaN entries\n",
    "null_row_indeces = features_df.isnull().any(axis=1)\n",
    "null_rows = features_df[null_row_indeces]\n",
    "null_pairs = cpd_kd_pairs_df[null_row_indeces]"
   ]
  },
  {
   "cell_type": "code",
   "execution_count": 108,
   "metadata": {},
   "outputs": [],
   "source": [
    "# remove potential targets with missing data\n",
    "complete_row_indeces = ~null_row_indeces\n",
    "complete_data_rows = features_df[complete_row_indeces]\n",
    "complete_pair_rows = cpd_kd_pairs_df[complete_row_indeces]"
   ]
  },
  {
   "cell_type": "code",
   "execution_count": null,
   "metadata": {},
   "outputs": [],
   "source": []
  },
  {
   "cell_type": "markdown",
   "metadata": {},
   "source": [
    "### Scale the data"
   ]
  },
  {
   "cell_type": "code",
   "execution_count": 110,
   "metadata": {},
   "outputs": [],
   "source": [
    "X = complete_data_rows\n",
    "sc = StandardScaler()\n",
    "sc.fit(X)\n",
    "X_std = pd.DataFrame(sc.transform(X))"
   ]
  },
  {
   "cell_type": "markdown",
   "metadata": {},
   "source": [
    "___\n",
    "## Predict targets"
   ]
  },
  {
   "cell_type": "code",
   "execution_count": 112,
   "metadata": {},
   "outputs": [
    {
     "data": {
      "text/html": [
       "<div>\n",
       "<style>\n",
       "    .dataframe thead tr:only-child th {\n",
       "        text-align: right;\n",
       "    }\n",
       "\n",
       "    .dataframe thead th {\n",
       "        text-align: left;\n",
       "    }\n",
       "\n",
       "    .dataframe tbody tr th {\n",
       "        vertical-align: top;\n",
       "    }\n",
       "</style>\n",
       "<table border=\"1\" class=\"dataframe\">\n",
       "  <thead>\n",
       "    <tr style=\"text-align: right;\">\n",
       "      <th></th>\n",
       "      <th>cpd</th>\n",
       "      <th>kd</th>\n",
       "      <th>prob</th>\n",
       "    </tr>\n",
       "  </thead>\n",
       "  <tbody>\n",
       "    <tr>\n",
       "      <th>0</th>\n",
       "      <td>BRD-K19227686</td>\n",
       "      <td>EIF2AK3</td>\n",
       "      <td>0.016452</td>\n",
       "    </tr>\n",
       "    <tr>\n",
       "      <th>1</th>\n",
       "      <td>BRD-K65503129</td>\n",
       "      <td>EIF2AK3</td>\n",
       "      <td>0.000185</td>\n",
       "    </tr>\n",
       "    <tr>\n",
       "      <th>2</th>\n",
       "      <td>BRD-K29905972</td>\n",
       "      <td>EIF2AK3</td>\n",
       "      <td>0.010017</td>\n",
       "    </tr>\n",
       "    <tr>\n",
       "      <th>3</th>\n",
       "      <td>BRD-K59556282</td>\n",
       "      <td>EIF2AK3</td>\n",
       "      <td>0.000203</td>\n",
       "    </tr>\n",
       "    <tr>\n",
       "      <th>4</th>\n",
       "      <td>BRD-K67298865</td>\n",
       "      <td>EIF2AK3</td>\n",
       "      <td>0.000060</td>\n",
       "    </tr>\n",
       "  </tbody>\n",
       "</table>\n",
       "</div>"
      ],
      "text/plain": [
       "             cpd       kd      prob\n",
       "0  BRD-K19227686  EIF2AK3  0.016452\n",
       "1  BRD-K65503129  EIF2AK3  0.000185\n",
       "2  BRD-K29905972  EIF2AK3  0.010017\n",
       "3  BRD-K59556282  EIF2AK3  0.000203\n",
       "4  BRD-K67298865  EIF2AK3  0.000060"
      ]
     },
     "execution_count": 112,
     "metadata": {},
     "output_type": "execute_result"
    }
   ],
   "source": [
    "# load the model\n",
    "RF = pickle.load(open('model/RF_4.sav', 'rb'))\n",
    "\n",
    "# run the classifier\n",
    "results = complete_pair_rows.copy()\n",
    "results['prob'] = RF.predict_proba(X_std)[:,1]\n",
    "results.head()"
   ]
  },
  {
   "cell_type": "code",
   "execution_count": 116,
   "metadata": {},
   "outputs": [
    {
     "name": "stdout",
     "output_type": "stream",
     "text": [
      "BRD-K19227686 0.279365079365\n",
      "BRD-K65503129 0.345238095238\n",
      "BRD-K29905972 0.879365079365\n",
      "BRD-K59556282 0.470238095238\n",
      "BRD-K67298865 0.855555555556\n",
      "BRD-K78930611 0.733333333333\n"
     ]
    }
   ],
   "source": [
    "# sort potential targets by probability\n",
    "for cpd in cpd_ids:\n",
    "    cpd_results = results[results.cpd == cpd].copy()\n",
    "    cpd_results = cpd_results.sort_values('prob', ascending=False).reset_index(drop=True)\n",
    "    percentile = 1.0 - cpd_results[cpd_results.kd == 'STUB1'].index.values[0] / len(cpd_results)\n",
    "    print(cpd, percentile)"
   ]
  },
  {
   "cell_type": "code",
   "execution_count": 21,
   "metadata": {},
   "outputs": [
    {
     "data": {
      "text/plain": [
       "0.47817460317460314"
      ]
     },
     "execution_count": 21,
     "metadata": {},
     "output_type": "execute_result"
    }
   ],
   "source": [
    "percentile = 1.0 - results[results.target == 'STUB1'].index.values[0] / len(results)\n",
    "percentile"
   ]
  },
  {
   "cell_type": "markdown",
   "metadata": {},
   "source": [
    "___\n",
    "## Result rankings\n",
    "\n",
    "<br>**CHIP cpds**\n",
    "- BRD_K19227686 (phenolphthalein)  - STUB1: 0.19\n",
    "- BRD_K65503129 (HSP90_inhibitor)  - STUB1: 0.48\n",
    "- BRD_K29905972 (axitinib)         - STUB1: \n",
    "- BRD_K59556282 (BRD_K59556282)    - STUB1: \n",
    "- BRD_K67298865 (SB_431542)        - STUB1: \n",
    "- BRD_K78930611 (MW_STK33_2B)      - STUB1: \n"
   ]
  },
  {
   "cell_type": "code",
   "execution_count": null,
   "metadata": {
    "collapsed": true
   },
   "outputs": [],
   "source": []
  }
 ],
 "metadata": {
  "kernelspec": {
   "display_name": "Python 3",
   "language": "python",
   "name": "python3"
  },
  "language_info": {
   "codemirror_mode": {
    "name": "ipython",
    "version": 3
   },
   "file_extension": ".py",
   "mimetype": "text/x-python",
   "name": "python",
   "nbconvert_exporter": "python",
   "pygments_lexer": "ipython3",
   "version": "3.6.1"
  }
 },
 "nbformat": 4,
 "nbformat_minor": 2
}
