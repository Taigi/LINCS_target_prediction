{
 "cells": [
  {
   "cell_type": "markdown",
   "metadata": {},
   "source": [
    "# Data profiling"
   ]
  },
  {
   "cell_type": "code",
   "execution_count": 125,
   "metadata": {
    "collapsed": true
   },
   "outputs": [],
   "source": [
    "from support_functions import log_progress, clean_drugbank, query_chembl\n",
    "import pandas as pd\n",
    "import numpy as np\n",
    "import pickle"
   ]
  },
  {
   "cell_type": "markdown",
   "metadata": {},
   "source": [
    "## 1. Lookup known targets"
   ]
  },
  {
   "cell_type": "code",
   "execution_count": 53,
   "metadata": {
    "collapsed": true
   },
   "outputs": [],
   "source": [
    "# load perturbation info\n",
    "pert_info_1 = pd.read_csv('data/GSE92742_Broad_LINCS_pert_info.txt', sep='\\t', header=0)\n",
    "pert_info_2a = pd.read_csv('data/GSE70138_Broad_LINCS_pert_info.txt', sep='\\t', header=0)\n",
    "all_pert_info = pd.concat([pert_info_1, pert_info_2a], ignore_index=True)"
   ]
  },
  {
   "cell_type": "code",
   "execution_count": 68,
   "metadata": {},
   "outputs": [],
   "source": [
    "# lookup cpd inchi keys\n",
    "all_cpd_pert_info = all_pert_info[pert_info.pert_type == 'trt_cp']\n",
    "all_cpd_inchis = all_cpd_pert_info[['pert_id','inchi_key']].set_index('pert_id').copy()\n",
    "# remove duplicates, store as series\n",
    "all_cpd_inchis = all_cpd_inchis[~all_cpd_inchis.index.duplicated()].inchi_key"
   ]
  },
  {
   "cell_type": "markdown",
   "metadata": {},
   "source": [
    "### 1a. Lookup Drugbank targets"
   ]
  },
  {
   "cell_type": "code",
   "execution_count": null,
   "metadata": {
    "collapsed": true
   },
   "outputs": [],
   "source": [
    "# lookup and store drugbank targets as dictionary: { inchi: [targets]}\n",
    "db_db_path = 'data/full_drugbank_database.xml'\n",
    "drugbank_target_dict = clean_drugbank(db_db_path)"
   ]
  },
  {
   "cell_type": "code",
   "execution_count": 128,
   "metadata": {},
   "outputs": [],
   "source": [
    "# save to file\n",
    "filename = 'checkpoint_files/drugbank_target_dict.sav'\n",
    "pickle.dump(drugbank_target_dict, open(filename, 'wb'))"
   ]
  },
  {
   "cell_type": "markdown",
   "metadata": {},
   "source": [
    "### 1b. Lookup Chembl targets"
   ]
  },
  {
   "cell_type": "code",
   "execution_count": 119,
   "metadata": {},
   "outputs": [],
   "source": [
    "# lookup and store chembl targets as dictionary: { inchi: [targets]}\n",
    "chembl_target_dict = {}\n",
    "tested_inchis = [] # b/c this bitch keeps crashing"
   ]
  },
  {
   "cell_type": "code",
   "execution_count": 122,
   "metadata": {},
   "outputs": [
    {
     "data": {
      "application/vnd.jupyter.widget-view+json": {
       "model_id": "66bd8f988572425f89ee028151cd034c"
      }
     },
     "metadata": {},
     "output_type": "display_data"
    }
   ],
   "source": [
    "# query CHEMBL API using cpd inchi_keys to find human targets\n",
    "for inchi in log_progress(all_cpd_inchis.values, every=2):\n",
    "    if inchi not in tested_inchis:\n",
    "        human_target_genes = query_chembl(inchi)\n",
    "        if len(human_target_genes) > 0:\n",
    "            chembl_target_dict[inchi] = human_target_genes\n",
    "        tested_inchis.append(inchi)"
   ]
  },
  {
   "cell_type": "code",
   "execution_count": 127,
   "metadata": {},
   "outputs": [],
   "source": [
    "# save to file\n",
    "filename = 'checkpoint_files/chembl_target_dict.sav'\n",
    "pickle.dump(chembl_target_dict, open(filename, 'wb'))"
   ]
  },
  {
   "cell_type": "code",
   "execution_count": null,
   "metadata": {},
   "outputs": [],
   "source": []
  },
  {
   "cell_type": "code",
   "execution_count": null,
   "metadata": {
    "collapsed": true
   },
   "outputs": [],
   "source": []
  },
  {
   "cell_type": "code",
   "execution_count": null,
   "metadata": {},
   "outputs": [],
   "source": []
  },
  {
   "cell_type": "code",
   "execution_count": 54,
   "metadata": {
    "collapsed": true
   },
   "outputs": [
    {
     "name": "stderr",
     "output_type": "stream",
     "text": [
      "/Users/Nico/anaconda3/lib/python3.6/site-packages/IPython/core/interactiveshell.py:2850: DtypeWarning: Columns (4,6,10) have mixed types. Specify dtype option on import or set low_memory=False.\n",
      "  if self.run_code(code, result):\n"
     ]
    }
   ],
   "source": [
    "# load sig info\n",
    "all_sig_info = pd.DataFrame.from_csv('checkpoint_files/all_sig_info.csv')"
   ]
  },
  {
   "cell_type": "code",
   "execution_count": 14,
   "metadata": {},
   "outputs": [],
   "source": [
    "# remove low-confidence signatures\n",
    "distil_cutoff = 0.2\n",
    "self_rank_cutoff = 0.05\n",
    "sig_info = all_sig_info[(all_sig_info['distil_cc_q75'] >= distil_cutoff) &\n",
    "                        (all_sig_info['pct_self_rank_q25'] <= self_rank_cutoff)\n",
    "                       ].reset_index(drop=True)"
   ]
  }
 ],
 "metadata": {
  "kernelspec": {
   "display_name": "Python 3",
   "language": "python",
   "name": "python3"
  },
  "language_info": {
   "codemirror_mode": {
    "name": "ipython",
    "version": 3
   },
   "file_extension": ".py",
   "mimetype": "text/x-python",
   "name": "python",
   "nbconvert_exporter": "python",
   "pygments_lexer": "ipython3",
   "version": "3.6.1"
  }
 },
 "nbformat": 4,
 "nbformat_minor": 2
}
