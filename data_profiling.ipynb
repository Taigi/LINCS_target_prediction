{
 "cells": [
  {
   "cell_type": "markdown",
   "metadata": {},
   "source": [
    "# Data profiling"
   ]
  },
  {
   "cell_type": "code",
   "execution_count": 125,
   "metadata": {
    "collapsed": true
   },
   "outputs": [],
   "source": [
    "from support_functions import log_progress, clean_drugbank, query_chembl\n",
    "import pandas as pd\n",
    "import numpy as np\n",
    "import pickle"
   ]
  },
  {
   "cell_type": "markdown",
   "metadata": {},
   "source": [
    "## 1. Lookup known targets"
   ]
  },
  {
   "cell_type": "code",
   "execution_count": 53,
   "metadata": {
    "collapsed": true
   },
   "outputs": [],
   "source": [
    "# load perturbation info\n",
    "pert_info_1 = pd.read_csv('data/GSE92742_Broad_LINCS_pert_info.txt', sep='\\t', header=0)\n",
    "pert_info_2a = pd.read_csv('data/GSE70138_Broad_LINCS_pert_info.txt', sep='\\t', header=0)\n",
    "all_pert_info = pd.concat([pert_info_1, pert_info_2a], ignore_index=True)"
   ]
  },
  {
   "cell_type": "code",
   "execution_count": 68,
   "metadata": {
    "collapsed": true
   },
   "outputs": [],
   "source": [
    "# lookup cpd inchi keys\n",
    "all_cpd_pert_info = all_pert_info[pert_info.pert_type == 'trt_cp']\n",
    "all_cpd_inchis = all_cpd_pert_info[['pert_id','inchi_key']].set_index('pert_id').copy()\n",
    "# remove duplicates, store as series\n",
    "all_cpd_inchis = all_cpd_inchis[~all_cpd_inchis.index.duplicated()].inchi_key"
   ]
  },
  {
   "cell_type": "markdown",
   "metadata": {},
   "source": [
    "### 1a. Lookup Drugbank targets"
   ]
  },
  {
   "cell_type": "code",
   "execution_count": null,
   "metadata": {
    "collapsed": true
   },
   "outputs": [],
   "source": [
    "# lookup and store drugbank targets as dictionary: { inchi: [targets]}\n",
    "db_db_path = 'data/full_drugbank_database.xml'\n",
    "drugbank_target_dict = clean_drugbank(db_db_path)"
   ]
  },
  {
   "cell_type": "code",
   "execution_count": 128,
   "metadata": {
    "collapsed": true
   },
   "outputs": [],
   "source": [
    "# save to file\n",
    "filename = 'checkpoint_files/drugbank_target_dict.sav'\n",
    "pickle.dump(drugbank_target_dict, open(filename, 'wb'))"
   ]
  },
  {
   "cell_type": "markdown",
   "metadata": {},
   "source": [
    "### 1b. Lookup Chembl targets"
   ]
  },
  {
   "cell_type": "code",
   "execution_count": 119,
   "metadata": {
    "collapsed": true
   },
   "outputs": [],
   "source": [
    "# lookup and store chembl targets as dictionary: { inchi: [targets]}\n",
    "chembl_target_dict = {}\n",
    "tested_inchis = [] # b/c this bitch keeps crashing"
   ]
  },
  {
   "cell_type": "code",
   "execution_count": 122,
   "metadata": {},
   "outputs": [
    {
     "data": {
      "application/vnd.jupyter.widget-view+json": {
       "model_id": "66bd8f988572425f89ee028151cd034c"
      }
     },
     "metadata": {},
     "output_type": "display_data"
    }
   ],
   "source": [
    "# query CHEMBL API using cpd inchi_keys to find human targets\n",
    "for inchi in log_progress(all_cpd_inchis.values, every=2):\n",
    "    if inchi not in tested_inchis:\n",
    "        human_target_genes = query_chembl(inchi)\n",
    "        if len(human_target_genes) > 0:\n",
    "            chembl_target_dict[inchi] = human_target_genes\n",
    "        tested_inchis.append(inchi)"
   ]
  },
  {
   "cell_type": "code",
   "execution_count": 127,
   "metadata": {
    "collapsed": true
   },
   "outputs": [],
   "source": [
    "# save to file\n",
    "filename = 'checkpoint_files/chembl_target_dict.sav'\n",
    "pickle.dump(chembl_target_dict, open(filename, 'wb'))"
   ]
  },
  {
   "cell_type": "markdown",
   "metadata": {},
   "source": [
    "### 1c. Combine targets"
   ]
  },
  {
   "cell_type": "code",
   "execution_count": 153,
   "metadata": {},
   "outputs": [
    {
     "data": {
      "application/vnd.jupyter.widget-view+json": {
       "model_id": "fc3211f9c64a46439a02d3b25685494d"
      }
     },
     "metadata": {},
     "output_type": "display_data"
    }
   ],
   "source": [
    "drugbank_target_dict = pickle.load(open('checkpoint_files/drugbank_target_dict.sav', 'rb'))\n",
    "chembl_target_dict = pickle.load(open('checkpoint_files/chembl_target_dict.sav', 'rb'))\n",
    "\n",
    "combined_target_dict = drugbank_target_dict.copy()\n",
    "for cpd, chembl_targets in log_progress(chembl_target_dict.items()):\n",
    "    try:\n",
    "        drugbank_targets = drugbank_target_dict[cpd]\n",
    "        combined_targets = list(set().union(chembl_targets,drugbank_targets))\n",
    "        combined_target_dict[cpd] = combined_targets\n",
    "    except KeyError:\n",
    "        combined_target_dict[cpd] = chembl_targets"
   ]
  },
  {
   "cell_type": "markdown",
   "metadata": {},
   "source": [
    "## 2. Identify cpd-KD pairs (pair set 1)\n",
    "\n",
    "The first of several filtering steps, this set is composed of pairs of known cpd-target interactions where both the cpd and the target KD have been tested in at least one LINCS experiment."
   ]
  },
  {
   "cell_type": "code",
   "execution_count": 184,
   "metadata": {},
   "outputs": [],
   "source": [
    "all_kd_pert_info = all_pert_info[pert_info.pert_type == 'trt_sh']\n",
    "kd_genes = all_kd_pert_info.pert_iname.unique()"
   ]
  },
  {
   "cell_type": "code",
   "execution_count": 207,
   "metadata": {},
   "outputs": [
    {
     "data": {
      "application/vnd.jupyter.widget-view+json": {
       "model_id": "728b2671f73841a09149bd4c5a315be5"
      }
     },
     "metadata": {},
     "output_type": "display_data"
    },
    {
     "name": "stderr",
     "output_type": "stream",
     "text": [
      "/Users/Nico/anaconda3/lib/python3.6/site-packages/ipykernel_launcher.py:8: FutureWarning: comparison to `None` will result in an elementwise object comparison in the future.\n",
      "  \n"
     ]
    }
   ],
   "source": [
    "cpd_1_, target_1_ = [], []\n",
    "for index, row in log_progress(all_cpd_pert_info.iterrows(), every=1):\n",
    "    inchi = row.inchi_key\n",
    "    if inchi in combined_target_dict.keys():\n",
    "        pert_id = row.pert_id\n",
    "        targets = combined_target_dict[inchi]\n",
    "        for target in targets:\n",
    "            if target in kd_genes:\n",
    "                cpd_1_.append(pert_id)\n",
    "                target_1_.append(target)"
   ]
  },
  {
   "cell_type": "code",
   "execution_count": 208,
   "metadata": {},
   "outputs": [
    {
     "name": "stdout",
     "output_type": "stream",
     "text": [
      "Pair set 1 statistics\n",
      "No. unique cpds:\t 1076\n",
      "No. unique KDs:\t\t 624\n",
      "No. interactions:\t 4220\n"
     ]
    }
   ],
   "source": [
    "pair_set_1_df = pd.DataFrame({'cpd': cpd_1_, 'target': target_1_})\n",
    "print('Pair set 1 statistics')\n",
    "print('No. unique cpds:\\t', len(pair_set_1_df.cpd.unique()))\n",
    "print('No. unique KDs:\\t\\t', len(pair_set_1_df.target.unique()))\n",
    "print('No. interactions:\\t', pair_set_1_df.shape[0])"
   ]
  },
  {
   "cell_type": "markdown",
   "metadata": {},
   "source": [
    "## 3. Identify same-cell cpd-KD pairs (pair set 2)\n",
    "\n",
    "The second of several filtering steps, here we filter out cpd-KD pairs that have not both been tested in at least one common cell line."
   ]
  },
  {
   "cell_type": "code",
   "execution_count": 202,
   "metadata": {
    "collapsed": true
   },
   "outputs": [
    {
     "name": "stderr",
     "output_type": "stream",
     "text": [
      "/Users/Nico/anaconda3/lib/python3.6/site-packages/IPython/core/interactiveshell.py:2850: DtypeWarning: Columns (4,6,10) have mixed types. Specify dtype option on import or set low_memory=False.\n",
      "  if self.run_code(code, result):\n"
     ]
    }
   ],
   "source": [
    "# load the signature information\n",
    "all_sig_info = pd.DataFrame.from_csv('checkpoint_files/all_sig_info.csv')\n",
    "all_cpd_sig_info = all_sig_info[all_sig_info.pert_type == 'trt_cp']\n",
    "all_kd_sig_info = all_sig_info[all_sig_info.pert_type == 'trt_sh']"
   ]
  },
  {
   "cell_type": "code",
   "execution_count": 217,
   "metadata": {},
   "outputs": [
    {
     "data": {
      "application/vnd.jupyter.widget-view+json": {
       "model_id": "9055e4bf2f3e4a67881b838e870afda3"
      }
     },
     "metadata": {},
     "output_type": "display_data"
    }
   ],
   "source": [
    "cpd_2_, target_2_, common_cells_2_ = [], [], []\n",
    "for index, row in log_progress(pair_set_1_df.iterrows(), every=1):\n",
    "    cpd = row.cpd\n",
    "    target = row.target\n",
    "    # extract signatures\n",
    "    cpd_sigs = all_cpd_sig_info[all_cpd_sig_info.pert_id == cpd]\n",
    "    kd_sigs = all_kd_sig_info[all_kd_sig_info.pert_iname == target]\n",
    "    # compare cell lines\n",
    "    cpd_cells = set(cpd_sigs.cell_id.unique())\n",
    "    kd_cells = set(kd_sigs.cell_id.unique())\n",
    "    common_cells = cpd_cells & kd_cells\n",
    "    if len(common_cells) > 0:\n",
    "        cpd_2_.append(cpd)\n",
    "        target_2_.append(target)\n",
    "        common_cells_2_.append(common_cells)"
   ]
  },
  {
   "cell_type": "code",
   "execution_count": 218,
   "metadata": {},
   "outputs": [
    {
     "name": "stdout",
     "output_type": "stream",
     "text": [
      "Pair set 2 statistics\n",
      "No. unique cpds:\t 1069\n",
      "No. unique KDs:\t\t 607\n",
      "No. interactions:\t 4139\n"
     ]
    }
   ],
   "source": [
    "pair_set_2_df = pd.DataFrame({'cpd': cpd_2_, 'target': target_2_})\n",
    "print('Pair set 2 statistics')\n",
    "print('No. unique cpds:\\t', len(pair_set_2_df.cpd.unique()))\n",
    "print('No. unique KDs:\\t\\t', len(pair_set_2_df.target.unique()))\n",
    "print('No. interactions:\\t', pair_set_2_df.shape[0])"
   ]
  },
  {
   "cell_type": "markdown",
   "metadata": {},
   "source": [
    "## 3. Identify cpd-KD pairs with interaction partners (pair set 3)\n",
    "\n",
    "The third of several filtering steps, here we filter out cpd-KD pairs for which we do not know any interaction partners for the target."
   ]
  },
  {
   "cell_type": "code",
   "execution_count": 239,
   "metadata": {
    "collapsed": true
   },
   "outputs": [],
   "source": [
    "# load STRING 4.0 database\n",
    "# 355319.0 high confidence interactions for 14893 genes\n",
    "string_gene_interactions_700 = pd.DataFrame.from_csv('checkpoint_files/string_gene_interactions_700.csv')\n",
    "string_genes = string_gene_interactions_700.gene_1.unique()"
   ]
  },
  {
   "cell_type": "code",
   "execution_count": null,
   "metadata": {},
   "outputs": [
    {
     "data": {
      "application/vnd.jupyter.widget-view+json": {
       "model_id": "26904b29d21e4a75a8aa8c60252a0db8"
      }
     },
     "metadata": {},
     "output_type": "display_data"
    }
   ],
   "source": [
    "cpd_3_, target_3_, common_cells_3_ = [], [], []\n",
    "for index, row in log_progress(pair_set_2_df.iterrows(), every=1):\n",
    "    target = row.target\n",
    "    if target in string_genes:\n",
    "        cpd = row.cpd\n",
    "        common_cells = common_cells_2_[index]\n",
    "        cpd_3_.append(cpd)\n",
    "        target_3_.append(target)\n",
    "        common_cells_3_.append(common_cells)"
   ]
  },
  {
   "cell_type": "code",
   "execution_count": null,
   "metadata": {
    "collapsed": true
   },
   "outputs": [],
   "source": []
  }
 ],
 "metadata": {
  "kernelspec": {
   "display_name": "Python 3",
   "language": "python",
   "name": "python3"
  },
  "language_info": {
   "codemirror_mode": {
    "name": "ipython",
    "version": 3
   },
   "file_extension": ".py",
   "mimetype": "text/x-python",
   "name": "python",
   "nbconvert_exporter": "python",
   "pygments_lexer": "ipython3",
   "version": "3.6.1"
  }
 },
 "nbformat": 4,
 "nbformat_minor": 2
}
