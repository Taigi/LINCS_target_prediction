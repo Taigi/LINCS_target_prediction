{
 "cells": [
  {
   "cell_type": "markdown",
   "metadata": {},
   "source": [
    "# Data profiling"
   ]
  },
  {
   "cell_type": "code",
   "execution_count": 84,
   "metadata": {
    "collapsed": true
   },
   "outputs": [],
   "source": [
    "from support_functions import log_progress, clean_drugbank, query_chembl\n",
    "import pandas as pd\n",
    "import numpy as np\n",
    "import pickle\n",
    "import seaborn as sns\n",
    "import matplotlib.pyplot as plt\n",
    "import functools"
   ]
  },
  {
   "cell_type": "markdown",
   "metadata": {},
   "source": [
    "## 0. Lookup known targets"
   ]
  },
  {
   "cell_type": "code",
   "execution_count": 2,
   "metadata": {
    "collapsed": true
   },
   "outputs": [],
   "source": [
    "# load perturbation info\n",
    "pert_info_1 = pd.read_csv('data/GSE92742_Broad_LINCS_pert_info.txt', sep='\\t', header=0)\n",
    "pert_info_2a = pd.read_csv('data/GSE70138_Broad_LINCS_pert_info.txt', sep='\\t', header=0)\n",
    "all_pert_info = pd.concat([pert_info_1, pert_info_2a], ignore_index=True)"
   ]
  },
  {
   "cell_type": "code",
   "execution_count": 3,
   "metadata": {},
   "outputs": [],
   "source": [
    "# lookup cpd inchi keys\n",
    "all_cpd_pert_info = all_pert_info[all_pert_info.pert_type == 'trt_cp']\n",
    "all_cpd_inchis = all_cpd_pert_info[['pert_id','inchi_key']].set_index('pert_id').copy()\n",
    "# remove duplicates, store as series\n",
    "all_cpd_inchis = all_cpd_inchis[~all_cpd_inchis.index.duplicated()].inchi_key"
   ]
  },
  {
   "cell_type": "markdown",
   "metadata": {},
   "source": [
    "### 0a. Lookup Drugbank targets"
   ]
  },
  {
   "cell_type": "code",
   "execution_count": 4,
   "metadata": {
    "collapsed": true
   },
   "outputs": [
    {
     "ename": "KeyboardInterrupt",
     "evalue": "",
     "output_type": "error",
     "traceback": [
      "\u001b[0;31m---------------------------------------------------------------------------\u001b[0m",
      "\u001b[0;31mKeyboardInterrupt\u001b[0m                         Traceback (most recent call last)",
      "\u001b[0;32m<ipython-input-4-7005fee9dbb8>\u001b[0m in \u001b[0;36m<module>\u001b[0;34m()\u001b[0m\n\u001b[1;32m      1\u001b[0m \u001b[0;31m# lookup and store drugbank targets as dictionary: { inchi: [targets]}\u001b[0m\u001b[0;34m\u001b[0m\u001b[0;34m\u001b[0m\u001b[0m\n\u001b[1;32m      2\u001b[0m \u001b[0mdb_db_path\u001b[0m \u001b[0;34m=\u001b[0m \u001b[0;34m'data/full_drugbank_database.xml'\u001b[0m\u001b[0;34m\u001b[0m\u001b[0m\n\u001b[0;32m----> 3\u001b[0;31m \u001b[0mdrugbank_target_dict\u001b[0m \u001b[0;34m=\u001b[0m \u001b[0mclean_drugbank\u001b[0m\u001b[0;34m(\u001b[0m\u001b[0mdb_db_path\u001b[0m\u001b[0;34m)\u001b[0m\u001b[0;34m\u001b[0m\u001b[0m\n\u001b[0m",
      "\u001b[0;32m~/git/LINCS_target_prediction/support_functions.py\u001b[0m in \u001b[0;36mclean_drugbank\u001b[0;34m(db_path)\u001b[0m\n\u001b[1;32m     49\u001b[0m \u001b[0;32mdef\u001b[0m \u001b[0mclean_drugbank\u001b[0m\u001b[0;34m(\u001b[0m\u001b[0mdb_path\u001b[0m\u001b[0;34m)\u001b[0m\u001b[0;34m:\u001b[0m\u001b[0;34m\u001b[0m\u001b[0m\n\u001b[1;32m     50\u001b[0m     \u001b[0;32mimport\u001b[0m \u001b[0mxmltodict\u001b[0m\u001b[0;34m\u001b[0m\u001b[0m\n\u001b[0;32m---> 51\u001b[0;31m     \u001b[0mdrugbank_db\u001b[0m \u001b[0;34m=\u001b[0m \u001b[0mxmltodict\u001b[0m\u001b[0;34m.\u001b[0m\u001b[0mparse\u001b[0m\u001b[0;34m(\u001b[0m\u001b[0mopen\u001b[0m\u001b[0;34m(\u001b[0m\u001b[0mdb_path\u001b[0m\u001b[0;34m)\u001b[0m\u001b[0;34m.\u001b[0m\u001b[0mread\u001b[0m\u001b[0;34m(\u001b[0m\u001b[0;34m)\u001b[0m\u001b[0;34m)\u001b[0m\u001b[0;34m\u001b[0m\u001b[0m\n\u001b[0m\u001b[1;32m     52\u001b[0m     \u001b[0mdrug0\u001b[0m \u001b[0;34m=\u001b[0m \u001b[0mdrugbank_db\u001b[0m\u001b[0;34m[\u001b[0m\u001b[0;34m'drugbank'\u001b[0m\u001b[0;34m]\u001b[0m\u001b[0;34m[\u001b[0m\u001b[0;34m'drug'\u001b[0m\u001b[0;34m]\u001b[0m\u001b[0;34m[\u001b[0m\u001b[0;36m0\u001b[0m\u001b[0;34m]\u001b[0m \u001b[0;31m# an example drug to use as a type reference\u001b[0m\u001b[0;34m\u001b[0m\u001b[0m\n\u001b[1;32m     53\u001b[0m     \u001b[0mdrugbank_target_dict\u001b[0m \u001b[0;34m=\u001b[0m \u001b[0;34m{\u001b[0m\u001b[0;34m}\u001b[0m\u001b[0;34m\u001b[0m\u001b[0m\n",
      "\u001b[0;32m~/anaconda3/lib/python3.6/site-packages/xmltodict.py\u001b[0m in \u001b[0;36mparse\u001b[0;34m(xml_input, encoding, expat, process_namespaces, namespace_separator, disable_entities, **kwargs)\u001b[0m\n\u001b[1;32m    328\u001b[0m         \u001b[0mparser\u001b[0m\u001b[0;34m.\u001b[0m\u001b[0mParseFile\u001b[0m\u001b[0;34m(\u001b[0m\u001b[0mxml_input\u001b[0m\u001b[0;34m)\u001b[0m\u001b[0;34m\u001b[0m\u001b[0m\n\u001b[1;32m    329\u001b[0m     \u001b[0;32melse\u001b[0m\u001b[0;34m:\u001b[0m\u001b[0;34m\u001b[0m\u001b[0m\n\u001b[0;32m--> 330\u001b[0;31m         \u001b[0mparser\u001b[0m\u001b[0;34m.\u001b[0m\u001b[0mParse\u001b[0m\u001b[0;34m(\u001b[0m\u001b[0mxml_input\u001b[0m\u001b[0;34m,\u001b[0m \u001b[0;32mTrue\u001b[0m\u001b[0;34m)\u001b[0m\u001b[0;34m\u001b[0m\u001b[0m\n\u001b[0m\u001b[1;32m    331\u001b[0m     \u001b[0;32mreturn\u001b[0m \u001b[0mhandler\u001b[0m\u001b[0;34m.\u001b[0m\u001b[0mitem\u001b[0m\u001b[0;34m\u001b[0m\u001b[0m\n\u001b[1;32m    332\u001b[0m \u001b[0;34m\u001b[0m\u001b[0m\n",
      "\u001b[0;32m/Users/ilan/minonda/conda-bld/python-3.6_1494525719021/work/Python-3.6.1/Modules/pyexpat.c\u001b[0m in \u001b[0;36mStartElement\u001b[0;34m()\u001b[0m\n",
      "\u001b[0;32m~/anaconda3/lib/python3.6/site-packages/xmltodict.py\u001b[0m in \u001b[0;36mstartElement\u001b[0;34m(self, full_name, attrs)\u001b[0m\n\u001b[1;32m    115\u001b[0m                     \u001b[0;32mif\u001b[0m \u001b[0mentry\u001b[0m\u001b[0;34m:\u001b[0m\u001b[0;34m\u001b[0m\u001b[0m\n\u001b[1;32m    116\u001b[0m                         \u001b[0mattr_entries\u001b[0m\u001b[0;34m.\u001b[0m\u001b[0mappend\u001b[0m\u001b[0;34m(\u001b[0m\u001b[0mentry\u001b[0m\u001b[0;34m)\u001b[0m\u001b[0;34m\u001b[0m\u001b[0m\n\u001b[0;32m--> 117\u001b[0;31m                 \u001b[0mattrs\u001b[0m \u001b[0;34m=\u001b[0m \u001b[0mself\u001b[0m\u001b[0;34m.\u001b[0m\u001b[0mdict_constructor\u001b[0m\u001b[0;34m(\u001b[0m\u001b[0mattr_entries\u001b[0m\u001b[0;34m)\u001b[0m\u001b[0;34m\u001b[0m\u001b[0m\n\u001b[0m\u001b[1;32m    118\u001b[0m             \u001b[0;32melse\u001b[0m\u001b[0;34m:\u001b[0m\u001b[0;34m\u001b[0m\u001b[0m\n\u001b[1;32m    119\u001b[0m                 \u001b[0mattrs\u001b[0m \u001b[0;34m=\u001b[0m \u001b[0;32mNone\u001b[0m\u001b[0;34m\u001b[0m\u001b[0m\n",
      "\u001b[0;31mKeyboardInterrupt\u001b[0m: "
     ]
    }
   ],
   "source": [
    "# lookup and store drugbank targets as dictionary: { inchi: [targets]}\n",
    "db_db_path = 'data/full_drugbank_database.xml'\n",
    "drugbank_target_dict = clean_drugbank(db_db_path)"
   ]
  },
  {
   "cell_type": "code",
   "execution_count": null,
   "metadata": {
    "collapsed": true
   },
   "outputs": [],
   "source": [
    "# save to file\n",
    "filename = 'checkpoint_files/drugbank_target_dict.sav'\n",
    "pickle.dump(drugbank_target_dict, open(filename, 'wb'))"
   ]
  },
  {
   "cell_type": "markdown",
   "metadata": {},
   "source": [
    "### 0b. Lookup Chembl targets"
   ]
  },
  {
   "cell_type": "code",
   "execution_count": null,
   "metadata": {
    "collapsed": true
   },
   "outputs": [],
   "source": [
    "# lookup and store chembl targets as dictionary: { inchi: [targets]}\n",
    "chembl_target_dict = {}\n",
    "tested_inchis = [] # b/c this bitch keeps crashing"
   ]
  },
  {
   "cell_type": "code",
   "execution_count": null,
   "metadata": {},
   "outputs": [],
   "source": [
    "# query CHEMBL API using cpd inchi_keys to find human targets\n",
    "for inchi in log_progress(all_cpd_inchis.values, every=2):\n",
    "    if inchi not in tested_inchis:\n",
    "        human_target_genes = query_chembl(inchi)\n",
    "        if len(human_target_genes) > 0:\n",
    "            chembl_target_dict[inchi] = human_target_genes\n",
    "        tested_inchis.append(inchi)"
   ]
  },
  {
   "cell_type": "code",
   "execution_count": null,
   "metadata": {
    "collapsed": true
   },
   "outputs": [],
   "source": [
    "# save to file\n",
    "filename = 'checkpoint_files/chembl_target_dict.sav'\n",
    "pickle.dump(chembl_target_dict, open(filename, 'wb'))"
   ]
  },
  {
   "cell_type": "markdown",
   "metadata": {},
   "source": [
    "### 0c. Combine targets"
   ]
  },
  {
   "cell_type": "code",
   "execution_count": 5,
   "metadata": {},
   "outputs": [
    {
     "name": "stderr",
     "output_type": "stream",
     "text": [
      "Widget Javascript not detected.  It may not be installed or enabled properly.\n"
     ]
    },
    {
     "data": {
      "application/vnd.jupyter.widget-view+json": {
       "model_id": "675938e723f544c8bf3f1c21710c9e1a"
      }
     },
     "metadata": {},
     "output_type": "display_data"
    }
   ],
   "source": [
    "drugbank_target_dict = pickle.load(open('checkpoint_files/drugbank_target_dict.sav', 'rb'))\n",
    "chembl_target_dict = pickle.load(open('checkpoint_files/chembl_target_dict.sav', 'rb'))\n",
    "\n",
    "combined_target_dict = drugbank_target_dict.copy()\n",
    "for cpd, chembl_targets in log_progress(chembl_target_dict.items()):\n",
    "    try:\n",
    "        drugbank_targets = drugbank_target_dict[cpd]\n",
    "        combined_targets = list(set().union(chembl_targets,drugbank_targets))\n",
    "        combined_target_dict[cpd] = combined_targets\n",
    "    except KeyError:\n",
    "        combined_target_dict[cpd] = chembl_targets"
   ]
  },
  {
   "cell_type": "markdown",
   "metadata": {},
   "source": [
    "## 1. Identify cpd-KD pairs (pair set 1)\n",
    "\n",
    "The first of several filtering steps, this set is composed of pairs of known cpd-target interactions where both the cpd and the target KD have been tested in at least one LINCS experiment."
   ]
  },
  {
   "cell_type": "code",
   "execution_count": 7,
   "metadata": {},
   "outputs": [],
   "source": [
    "all_kd_pert_info = all_pert_info[all_pert_info.pert_type == 'trt_sh']\n",
    "kd_genes = all_kd_pert_info.pert_iname.unique()"
   ]
  },
  {
   "cell_type": "code",
   "execution_count": 8,
   "metadata": {},
   "outputs": [
    {
     "name": "stderr",
     "output_type": "stream",
     "text": [
      "Widget Javascript not detected.  It may not be installed or enabled properly.\n"
     ]
    },
    {
     "data": {
      "application/vnd.jupyter.widget-view+json": {
       "model_id": "955b40734d584dcaa8fe2136fa59cf53"
      }
     },
     "metadata": {},
     "output_type": "display_data"
    }
   ],
   "source": [
    "cpd_1_, target_1_ = [], []\n",
    "for index, row in log_progress(all_cpd_pert_info.iterrows(), every=1):\n",
    "    inchi = row.inchi_key\n",
    "    if inchi in combined_target_dict.keys():\n",
    "        pert_id = row.pert_id\n",
    "        targets = combined_target_dict[inchi]\n",
    "        for target in targets:\n",
    "            if target in kd_genes:\n",
    "                cpd_1_.append(pert_id)\n",
    "                target_1_.append(target)"
   ]
  },
  {
   "cell_type": "code",
   "execution_count": 9,
   "metadata": {},
   "outputs": [],
   "source": [
    "pair_set_1_df = pd.DataFrame({'cpd': cpd_1_, 'target': target_1_})\n",
    "print('Pair set 1 statistics')\n",
    "print('No. unique cpds:\\t', len(pair_set_1_df.cpd.unique()))\n",
    "print('No. unique KDs:\\t\\t', len(pair_set_1_df.target.unique()))\n",
    "print('No. interactions:\\t', pair_set_1_df.shape[0])"
   ]
  },
  {
   "cell_type": "markdown",
   "metadata": {},
   "source": [
    "## 2. Identify same-cell cpd-KD pairs (pair set 2)\n",
    "\n",
    "The second of several filtering steps, here we filter out cpd-KD pairs that have not both been tested in at least one common cell line."
   ]
  },
  {
   "cell_type": "code",
   "execution_count": 10,
   "metadata": {},
   "outputs": [
    {
     "name": "stderr",
     "output_type": "stream",
     "text": [
      "/Users/Nico/anaconda3/lib/python3.6/site-packages/IPython/core/interactiveshell.py:2850: DtypeWarning: Columns (4,6,10) have mixed types. Specify dtype option on import or set low_memory=False.\n",
      "  if self.run_code(code, result):\n"
     ]
    }
   ],
   "source": [
    "# load the signature information\n",
    "all_sig_info = pd.DataFrame.from_csv('checkpoint_files/all_sig_info.csv')\n",
    "all_cpd_sig_info = all_sig_info[all_sig_info.pert_type == 'trt_cp']\n",
    "all_kd_sig_info = all_sig_info[all_sig_info.pert_type == 'trt_sh']"
   ]
  },
  {
   "cell_type": "code",
   "execution_count": 11,
   "metadata": {},
   "outputs": [
    {
     "name": "stderr",
     "output_type": "stream",
     "text": [
      "Widget Javascript not detected.  It may not be installed or enabled properly.\n"
     ]
    },
    {
     "data": {
      "application/vnd.jupyter.widget-view+json": {
       "model_id": "1457d16380784801915665342b45a7fa"
      }
     },
     "metadata": {},
     "output_type": "display_data"
    }
   ],
   "source": [
    "cpd_2_, target_2_, common_cells_2_ = [], [], []\n",
    "for index, row in log_progress(pair_set_1_df.iterrows(), every=1):\n",
    "    cpd = row.cpd\n",
    "    target = row.target\n",
    "    # extract signatures\n",
    "    cpd_sigs = all_cpd_sig_info[all_cpd_sig_info.pert_id == cpd]\n",
    "    kd_sigs = all_kd_sig_info[all_kd_sig_info.pert_iname == target]\n",
    "    # compare cell lines\n",
    "    cpd_cells = set(cpd_sigs.cell_id.unique())\n",
    "    kd_cells = set(kd_sigs.cell_id.unique())\n",
    "    common_cells = cpd_cells & kd_cells\n",
    "    if len(common_cells) > 0:\n",
    "        cpd_2_.append(cpd)\n",
    "        target_2_.append(target)\n",
    "        common_cells_2_.append(common_cells)"
   ]
  },
  {
   "cell_type": "code",
   "execution_count": 12,
   "metadata": {},
   "outputs": [
    {
     "name": "stdout",
     "output_type": "stream",
     "text": [
      "Pair set 2 statistics\n",
      "No. unique cpds:\t 1069\n",
      "No. unique KDs:\t\t 607\n",
      "No. interactions:\t 4139\n"
     ]
    }
   ],
   "source": [
    "pair_set_2_df = pd.DataFrame({'cpd': cpd_2_, 'target': target_2_})\n",
    "print('Pair set 2 statistics')\n",
    "print('No. unique cpds:\\t', len(pair_set_2_df.cpd.unique()))\n",
    "print('No. unique KDs:\\t\\t', len(pair_set_2_df.target.unique()))\n",
    "print('No. interactions:\\t', pair_set_2_df.shape[0])"
   ]
  },
  {
   "cell_type": "markdown",
   "metadata": {},
   "source": [
    "## 3. Identify cpd-KD pairs with interaction partners (pair set 3)\n",
    "\n",
    "The third of several filtering steps, here we filter out cpd-KD pairs for which we do not know any interaction partners for the target."
   ]
  },
  {
   "cell_type": "code",
   "execution_count": 13,
   "metadata": {
    "collapsed": true
   },
   "outputs": [],
   "source": [
    "# load STRING 4.0 database\n",
    "# 355319.0 high confidence interactions for 14893 genes\n",
    "string_gene_interactions_700 = pd.DataFrame.from_csv('checkpoint_files/string_gene_interactions_700.csv')\n",
    "string_genes = string_gene_interactions_700.gene_1.unique()"
   ]
  },
  {
   "cell_type": "code",
   "execution_count": 14,
   "metadata": {},
   "outputs": [
    {
     "name": "stderr",
     "output_type": "stream",
     "text": [
      "Widget Javascript not detected.  It may not be installed or enabled properly.\n"
     ]
    },
    {
     "data": {
      "application/vnd.jupyter.widget-view+json": {
       "model_id": "0df67d288f7845dfaf0f2891bdd0afb6"
      }
     },
     "metadata": {},
     "output_type": "display_data"
    }
   ],
   "source": [
    "cpd_3_, target_3_, common_cells_3_ = [], [], []\n",
    "for index, row in log_progress(pair_set_2_df.iterrows(), every=1):\n",
    "    target = row.target\n",
    "    if target in string_genes:\n",
    "        cpd = row.cpd\n",
    "        common_cells = common_cells_2_[index]\n",
    "        cpd_3_.append(cpd)\n",
    "        target_3_.append(target)\n",
    "        common_cells_3_.append(common_cells)"
   ]
  },
  {
   "cell_type": "code",
   "execution_count": 15,
   "metadata": {},
   "outputs": [
    {
     "name": "stdout",
     "output_type": "stream",
     "text": [
      "Pair set 3 statistics\n",
      "No. unique cpds:\t 1067\n",
      "No. unique KDs:\t\t 602\n",
      "No. interactions:\t 4118\n"
     ]
    }
   ],
   "source": [
    "pair_set_3_df = pd.DataFrame({'cpd': cpd_3_, 'target': target_3_})\n",
    "print('Pair set 3 statistics')\n",
    "print('No. unique cpds:\\t', len(pair_set_3_df.cpd.unique()))\n",
    "print('No. unique KDs:\\t\\t', len(pair_set_3_df.target.unique()))\n",
    "print('No. interactions:\\t', pair_set_3_df.shape[0])"
   ]
  },
  {
   "cell_type": "markdown",
   "metadata": {},
   "source": [
    "## 4. Identify cpd-KD pairs with same-cell interaction partner KDs (pair set 4)\n",
    "\n",
    "The fourth of several filtering steps, here we filter out cpd-KD pairs for which the target's interaction partners were not knocked down in any of the same cells as the cpd-target pair"
   ]
  },
  {
   "cell_type": "code",
   "execution_count": 16,
   "metadata": {},
   "outputs": [
    {
     "name": "stderr",
     "output_type": "stream",
     "text": [
      "Widget Javascript not detected.  It may not be installed or enabled properly.\n"
     ]
    },
    {
     "data": {
      "application/vnd.jupyter.widget-view+json": {
       "model_id": "d1dd51f10b16484f856d192ae8ee7c23"
      }
     },
     "metadata": {},
     "output_type": "display_data"
    }
   ],
   "source": [
    "cpd_4_, target_4_, common_cells_4_, common_partners_4_ = [], [], [], []\n",
    "\n",
    "for index, row in log_progress(pair_set_3_df.iterrows(), every=1):\n",
    "    common_cells = common_cells_3_[index]\n",
    "    target = row.target\n",
    "    common_partners_dict = {}\n",
    "    \n",
    "    # find interaction partner signatures\n",
    "    partners = string_gene_interactions_700[string_gene_interactions_700.gene_1 == target].gene_2\n",
    "    partner_sigs = all_kd_sig_info[all_kd_sig_info.pert_iname.isin(partners)]\n",
    "    \n",
    "    # group by cell line\n",
    "    for cell_line in common_cells:\n",
    "        partner_cell_sigs = partner_sigs[partner_sigs.cell_id == cell_line]\n",
    "        cell_partners = partner_cell_sigs.pert_iname.unique()\n",
    "        if len(cell_partners) > 0:\n",
    "            # store in dictionary\n",
    "            common_partners_dict[cell_line] = cell_partners\n",
    "    \n",
    "    # make sure we have partner KDs in at least one cell line\n",
    "    if len(common_partners_dict.keys()) > 0:\n",
    "        common_cells_4 = set(common_partners_dict.keys())\n",
    "        cpd_4_.append(row.cpd)\n",
    "        target_4_.append(target)\n",
    "        common_cells_4_.append(common_cells_4)\n",
    "        common_partners_4_.append(common_partners_dict)"
   ]
  },
  {
   "cell_type": "code",
   "execution_count": 17,
   "metadata": {},
   "outputs": [
    {
     "name": "stdout",
     "output_type": "stream",
     "text": [
      "Pair set 4 statistics\n",
      "No. unique cpds:\t 1065\n",
      "No. unique KDs:\t\t 590\n",
      "No. interactions:\t 4086\n"
     ]
    }
   ],
   "source": [
    "pair_set_4_df = pd.DataFrame({'cpd': cpd_4_, 'target': target_4_})\n",
    "print('Pair set 4 statistics')\n",
    "print('No. unique cpds:\\t', len(pair_set_4_df.cpd.unique()))\n",
    "print('No. unique KDs:\\t\\t', len(pair_set_4_df.target.unique()))\n",
    "print('No. interactions:\\t', pair_set_4_df.shape[0])"
   ]
  },
  {
   "cell_type": "markdown",
   "metadata": {},
   "source": [
    "## 5. Signature quality of cpd (pair set 5)\n",
    "\n",
    "Now we'll look at how the size of the training set changes as we place more stringent requirements on the quality of the expression signatures for the cpd in the pair. Next we'll enforce the same signature quality requirements on the KD and the interaction partners."
   ]
  },
  {
   "cell_type": "code",
   "execution_count": 18,
   "metadata": {
    "collapsed": true
   },
   "outputs": [],
   "source": [
    "# data quality parameters \n",
    "pct_self_rank_cutoff = 0.05\n",
    "distill_cc_cutoff = 0.2"
   ]
  },
  {
   "cell_type": "code",
   "execution_count": 25,
   "metadata": {},
   "outputs": [
    {
     "name": "stderr",
     "output_type": "stream",
     "text": [
      "Widget Javascript not detected.  It may not be installed or enabled properly.\n"
     ]
    },
    {
     "data": {
      "application/vnd.jupyter.widget-view+json": {
       "model_id": "cc1f62ba0c68455b990d732d80c4225e"
      }
     },
     "metadata": {},
     "output_type": "display_data"
    }
   ],
   "source": [
    "cpd_5_, target_5_, common_cells_5_, common_partners_5_ = [], [], [], []\n",
    "\n",
    "for index, row in log_progress(pair_set_4_df.iterrows(), every=1):\n",
    "    cpd = row.cpd\n",
    "    target = row.target\n",
    "    common_cells = common_cells_4_[index]\n",
    "    \n",
    "    # new common cells and partners after filtering\n",
    "    common_cells_5 = set()\n",
    "    common_partners_dict_5 = {}\n",
    "    \n",
    "    # check if criteria are met in each cell line\n",
    "    for cell_line in common_cells:\n",
    "        cpd_cell_sigs = all_cpd_sig_info[(all_cpd_sig_info.pert_id == cpd) &\n",
    "                                         (all_cpd_sig_info.cell_id == cell_line)]\n",
    "        good_cpd_cell_sigs = cpd_cell_sigs[(cpd_cell_sigs.distil_cc_q75 >= distill_cc_cutoff) &\n",
    "                                           (cpd_cell_sigs.pct_self_rank_q25 <= pct_self_rank_cutoff)]\n",
    "        \n",
    "        # if the cell line has at least one high quality cpd sig\n",
    "        if len(good_cpd_cell_sigs) > 0:\n",
    "            common_cells_5.add(cell_line)\n",
    "            common_partners_dict_5[cell_line] = common_partners_4_[index][cell_line]\n",
    "        \n",
    "    # if we have at least one good cell line for the cpd\n",
    "    if len(common_cells_5) > 0:\n",
    "        cpd_5_.append(cpd)\n",
    "        target_5_.append(target)\n",
    "        common_cells_5_.append(common_cells_5)\n",
    "        common_partners_5_.append(common_partners_dict_5)"
   ]
  },
  {
   "cell_type": "code",
   "execution_count": 26,
   "metadata": {},
   "outputs": [
    {
     "name": "stdout",
     "output_type": "stream",
     "text": [
      "Pair set 5 statistics\n",
      "No. unique cpds:\t 642\n",
      "No. unique KDs:\t\t 460\n",
      "No. interactions:\t 2848\n"
     ]
    }
   ],
   "source": [
    "pair_set_5_df = pd.DataFrame({'cpd': cpd_5_, 'target': target_5_})\n",
    "print('Pair set 5 statistics')\n",
    "print('No. unique cpds:\\t', len(pair_set_5_df.cpd.unique()))\n",
    "print('No. unique KDs:\\t\\t', len(pair_set_5_df.target.unique()))\n",
    "print('No. interactions:\\t', pair_set_5_df.shape[0])"
   ]
  },
  {
   "cell_type": "markdown",
   "metadata": {},
   "source": [
    "## 6. Signature quality of KD (pair set 6)\n",
    "\n",
    "Now we'll look at how the size of the training set changes as we place more stringent requirements on the quality of the expression signatures for the KD in the pair. Next we'll enforce the same signature quality requirements on the interaction partners."
   ]
  },
  {
   "cell_type": "code",
   "execution_count": 38,
   "metadata": {},
   "outputs": [
    {
     "name": "stderr",
     "output_type": "stream",
     "text": [
      "Widget Javascript not detected.  It may not be installed or enabled properly.\n"
     ]
    },
    {
     "data": {
      "application/vnd.jupyter.widget-view+json": {
       "model_id": "1341d0be01194a109d79a3ea0da4a008"
      }
     },
     "metadata": {},
     "output_type": "display_data"
    }
   ],
   "source": [
    "cpd_6_, target_6_, common_cells_6_, common_partners_6_ = [], [], [], []\n",
    "\n",
    "for index, row in log_progress(pair_set_5_df.iterrows(), every=1):\n",
    "    cpd = row.cpd\n",
    "    target = row.target\n",
    "    common_cells = common_cells_5_[index]\n",
    "    \n",
    "    # new common cells and partners after filtering\n",
    "    common_cells_6 = set()\n",
    "    common_partners_dict_6 = {}\n",
    "    \n",
    "    # check if criteria are met in each cell line\n",
    "    for cell_line in common_cells:\n",
    "        kd_cell_sigs = all_kd_sig_info[(all_kd_sig_info.pert_iname == target) &\n",
    "                                       (all_kd_sig_info.cell_id == cell_line)]\n",
    "        good_kd_cell_sigs = kd_cell_sigs[(kd_cell_sigs.distil_cc_q75 >= distill_cc_cutoff) &\n",
    "                                         (kd_cell_sigs.pct_self_rank_q25 <= pct_self_rank_cutoff)]\n",
    "        \n",
    "        # if the cell line has at least one high quality kd sig\n",
    "        if len(good_kd_cell_sigs) > 0:\n",
    "            common_cells_6.add(cell_line)\n",
    "            common_partners_dict_6[cell_line] = common_partners_5_[index][cell_line]\n",
    "        \n",
    "    # if we have at least one good cell line for the kd\n",
    "    if len(common_cells_6) > 0:\n",
    "        cpd_6_.append(cpd)\n",
    "        target_6_.append(target)\n",
    "        common_cells_6_.append(common_cells_6)\n",
    "        common_partners_6_.append(common_partners_dict_6)"
   ]
  },
  {
   "cell_type": "code",
   "execution_count": 39,
   "metadata": {},
   "outputs": [
    {
     "name": "stdout",
     "output_type": "stream",
     "text": [
      "Pair set 6 statistics\n",
      "No. unique cpds:\t 633\n",
      "No. unique KDs:\t\t 455\n",
      "No. interactions:\t 2787\n"
     ]
    }
   ],
   "source": [
    "pair_set_6_df = pd.DataFrame({'cpd': cpd_6_, 'target': target_6_})\n",
    "print('Pair set 6 statistics')\n",
    "print('No. unique cpds:\\t', len(pair_set_6_df.cpd.unique()))\n",
    "print('No. unique KDs:\\t\\t', len(pair_set_6_df.target.unique()))\n",
    "print('No. interactions:\\t', pair_set_6_df.shape[0])"
   ]
  },
  {
   "cell_type": "markdown",
   "metadata": {},
   "source": [
    "## 7. Signature quality of interaction partners (pair set 7)\n",
    "\n",
    "Now we'll look at how the size of the training set changes as we place more stringent requirements on the quality of the expression signatures for the interaction partners of the target."
   ]
  },
  {
   "cell_type": "code",
   "execution_count": 47,
   "metadata": {},
   "outputs": [
    {
     "name": "stderr",
     "output_type": "stream",
     "text": [
      "Widget Javascript not detected.  It may not be installed or enabled properly.\n"
     ]
    },
    {
     "data": {
      "application/vnd.jupyter.widget-view+json": {
       "model_id": "13fef3cd0af24451ad793a35f326625b"
      }
     },
     "metadata": {},
     "output_type": "display_data"
    }
   ],
   "source": [
    "cpd_7_, target_7_, common_cells_7_, common_partners_7_ = [], [], [], []\n",
    "\n",
    "for index, row in log_progress(pair_set_6_df.iterrows(), every=1):\n",
    "    cpd = row.cpd\n",
    "    target = row.target\n",
    "    common_cells = common_cells_6_[index]\n",
    "    common_partners_dict = common_partners_6_[index]\n",
    "    \n",
    "    # new common cells and partners after filtering\n",
    "    common_cells_7 = set()\n",
    "    common_partners_dict_7 = {}\n",
    "    \n",
    "    # check if criteria are met in each cell line\n",
    "    for cell_line in common_cells:\n",
    "        cell_partners = common_partners_dict[cell_line]\n",
    "        partner_cell_sigs = all_kd_sig_info[(all_kd_sig_info.pert_iname.isin(cell_partners)) &\n",
    "                                            (all_kd_sig_info.cell_id == cell_line)]\n",
    "        good_partner_cell_sigs = partner_cell_sigs[(partner_cell_sigs.distil_cc_q75 >= distill_cc_cutoff) &\n",
    "                                                   (partner_cell_sigs.pct_self_rank_q25 <= pct_self_rank_cutoff)]\n",
    "        \n",
    "        # if the cell line has at least one high quality partner sig\n",
    "        if len(good_partner_cell_sigs) > 0:\n",
    "            common_cells_7.add(cell_line)\n",
    "            good_partners = good_partner_cell_sigs.pert_iname.unique()\n",
    "            common_partners_dict_7[cell_line] = good_partners\n",
    "        \n",
    "    # if we have at least one good cell line for the cpd\n",
    "    if len(common_cells_7) > 0:\n",
    "        cpd_7_.append(cpd)\n",
    "        target_7_.append(target)\n",
    "        common_cells_7_.append(common_cells_7)\n",
    "        common_partners_7_.append(common_partners_dict_7)"
   ]
  },
  {
   "cell_type": "code",
   "execution_count": 48,
   "metadata": {},
   "outputs": [
    {
     "name": "stdout",
     "output_type": "stream",
     "text": [
      "Pair set 7 statistics\n",
      "No. unique cpds:\t 633\n",
      "No. unique KDs:\t\t 454\n",
      "No. interactions:\t 2786\n"
     ]
    }
   ],
   "source": [
    "pair_set_7_df = pd.DataFrame({'cpd': cpd_7_, 'target': target_7_})\n",
    "print('Pair set 7 statistics')\n",
    "print('No. unique cpds:\\t', len(pair_set_7_df.cpd.unique()))\n",
    "print('No. unique KDs:\\t\\t', len(pair_set_7_df.target.unique()))\n",
    "print('No. interactions:\\t', pair_set_7_df.shape[0])"
   ]
  },
  {
   "cell_type": "code",
   "execution_count": 51,
   "metadata": {},
   "outputs": [],
   "source": [
    "# save to file\n",
    "pickle.dump(pair_set_7_df, open('checkpoint_files/pair_set_7_df.sav', 'wb'))\n",
    "pickle.dump(common_cells_7_, open('checkpoint_files/common_cells_7_.sav', 'wb'))\n",
    "pickle.dump(common_partners_7_, open('checkpoint_files/common_partners_7_', 'wb'))"
   ]
  },
  {
   "cell_type": "markdown",
   "metadata": {},
   "source": [
    "## 8. Cell count anaylsis"
   ]
  },
  {
   "cell_type": "code",
   "execution_count": 62,
   "metadata": {
    "collapsed": true
   },
   "outputs": [],
   "source": [
    "# load filtered data\n",
    "pair_set_7_df = pickle.load(open('checkpoint_files/pair_set_7_df.sav', 'rb'))\n",
    "common_cells_7_ = pickle.load(open('checkpoint_files/common_cells_7_.sav', 'rb'))\n",
    "common_partners_7_ = pickle.load(open('checkpoint_files/common_partners_7_', 'rb'))"
   ]
  },
  {
   "cell_type": "code",
   "execution_count": 99,
   "metadata": {},
   "outputs": [
    {
     "data": {
      "image/png": "[encoded data removed]",
      "text/plain": [
       "<matplotlib.figure.Figure at 0x15555e4a8>"
      ]
     },
     "metadata": {},
     "output_type": "display_data"
    }
   ],
   "source": [
    "# which cell lines are most common?\n",
    "all_cell_list = np.array(functools.reduce( lambda x,y: x+y, [ list(s) for s in common_cells_7_ ] ))\n",
    "cell_line_counts = pd.Series(all_cell_list).value_counts()\n",
    "cell_line_counts.plot.bar()\n",
    "plt.show()"
   ]
  },
  {
   "cell_type": "code",
   "execution_count": 128,
   "metadata": {},
   "outputs": [
    {
     "data": {
      "image/png": "[encoded data removed]",
      "text/plain": [
       "<matplotlib.figure.Figure at 0x116c76e80>"
      ]
     },
     "metadata": {},
     "output_type": "display_data"
    }
   ],
   "source": [
    "# how many pairs tested in at least n cell lines?\n",
    "num_common_cells_7 = np.array([ len(cells) for cells in common_cells_7_])\n",
    "pair_set_7_df['ncells'] = num_common_cells_7\n",
    "ncell_counts = pair_set_7_df.ncells.value_counts()\n",
    "cum_ncell_counts = [0]\n",
    "for i in ncell_counts.index:\n",
    "    cum_ncell_counts.append(sum(ncell_counts.loc[i:]))\n",
    "cum_ncell_counts = pd.Series(cum_ncell_counts)\n",
    "cum_ncell_counts.plot.bar()\n",
    "plt.show()"
   ]
  },
  {
   "cell_type": "code",
   "execution_count": null,
   "metadata": {},
   "outputs": [],
   "source": []
  },
  {
   "cell_type": "code",
   "execution_count": 107,
   "metadata": {},
   "outputs": [
    {
     "ename": "IndexError",
     "evalue": "list assignment index out of range",
     "output_type": "error",
     "traceback": [
      "\u001b[0;31m---------------------------------------------------------------------------\u001b[0m",
      "\u001b[0;31mIndexError\u001b[0m                                Traceback (most recent call last)",
      "\u001b[0;32m<ipython-input-107-8b89f974e86e>\u001b[0m in \u001b[0;36m<module>\u001b[0;34m()\u001b[0m\n\u001b[1;32m      1\u001b[0m \u001b[0ma\u001b[0m \u001b[0;34m=\u001b[0m\u001b[0;34m[\u001b[0m\u001b[0;34m]\u001b[0m\u001b[0;34m\u001b[0m\u001b[0m\n\u001b[0;32m----> 2\u001b[0;31m \u001b[0ma\u001b[0m\u001b[0;34m[\u001b[0m\u001b[0;36m2\u001b[0m\u001b[0;34m]\u001b[0m \u001b[0;34m=\u001b[0m \u001b[0;36m0\u001b[0m\u001b[0;34m\u001b[0m\u001b[0m\n\u001b[0m",
      "\u001b[0;31mIndexError\u001b[0m: list assignment index out of range"
     ]
    }
   ],
   "source": [
    "a =[]\n",
    "a[2] = 0"
   ]
  },
  {
   "cell_type": "code",
   "execution_count": null,
   "metadata": {
    "collapsed": true
   },
   "outputs": [],
   "source": []
  }
 ],
 "metadata": {
  "kernelspec": {
   "display_name": "Python 3",
   "language": "python",
   "name": "python3"
  },
  "language_info": {
   "codemirror_mode": {
    "name": "ipython",
    "version": 3
   },
   "file_extension": ".py",
   "mimetype": "text/x-python",
   "name": "python",
   "nbconvert_exporter": "python",
   "pygments_lexer": "ipython3",
   "version": "3.6.1"
  }
 },
 "nbformat": 4,
 "nbformat_minor": 2
}
