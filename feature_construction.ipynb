{
 "cells": [
  {
   "cell_type": "code",
   "execution_count": 2,
   "metadata": {
    "collapsed": true
   },
   "outputs": [],
   "source": [
    "import pandas as pd\n",
    "import numpy as np\n",
    "import scipy\n",
    "import itertools\n",
    "from support_functions import log_progress\n",
    "import matplotlib.pyplot as plt\n",
    "import seaborn as sns\n",
    "sns.set(color_codes=True)"
   ]
  },
  {
   "cell_type": "markdown",
   "metadata": {},
   "source": [
    "___\n",
    "# Load the signatures and metadata from the top-4 cell lines"
   ]
  },
  {
   "cell_type": "code",
   "execution_count": 3,
   "metadata": {},
   "outputs": [],
   "source": [
    "# the known cpd-target interactions. shape: [244, 2]\n",
    "top_4_known_interactions = pd.DataFrame.from_csv('checkpoint_files/top_4_known_interactions.csv')\n",
    "\n",
    "# the signature ID metadata. shapes: [11948, 15] & [284, 16]\n",
    "repr_top_4_gold_kd_sigs = pd.DataFrame.from_csv('checkpoint_files/repr_top_4_gold_kd_sigs.csv')\n",
    "repr_top_4_gold_cpd_sigs = pd.DataFrame.from_csv('checkpoint_files/repr_top_4_gold_cpd_sigs.csv')\n",
    "\n",
    "# the actual signatures. shapes: [978, 11948] & [978, 284]\n",
    "top_4_kd_lm_sigs = pd.DataFrame.from_csv('checkpoint_files/top_4_kd_lm_sigs.csv')\n",
    "top_4_cpd_lm_sigs = pd.DataFrame.from_csv('checkpoint_files/top_4_cpd_lm_sigs.csv')"
   ]
  },
  {
   "cell_type": "code",
   "execution_count": 5,
   "metadata": {},
   "outputs": [
    {
     "data": {
      "text/html": [
       "<div>\n",
       "<style>\n",
       "    .dataframe thead tr:only-child th {\n",
       "        text-align: right;\n",
       "    }\n",
       "\n",
       "    .dataframe thead th {\n",
       "        text-align: left;\n",
       "    }\n",
       "\n",
       "    .dataframe tbody tr th {\n",
       "        vertical-align: top;\n",
       "    }\n",
       "</style>\n",
       "<table border=\"1\" class=\"dataframe\">\n",
       "  <thead>\n",
       "    <tr style=\"text-align: right;\">\n",
       "      <th></th>\n",
       "      <th>pert_id</th>\n",
       "      <th>target</th>\n",
       "    </tr>\n",
       "  </thead>\n",
       "  <tbody>\n",
       "    <tr>\n",
       "      <th>30</th>\n",
       "      <td>BRD-K21680192</td>\n",
       "      <td>TOP2A</td>\n",
       "    </tr>\n",
       "    <tr>\n",
       "      <th>43</th>\n",
       "      <td>BRD-K81418486</td>\n",
       "      <td>HDAC1</td>\n",
       "    </tr>\n",
       "    <tr>\n",
       "      <th>44</th>\n",
       "      <td>BRD-K81418486</td>\n",
       "      <td>HDAC2</td>\n",
       "    </tr>\n",
       "    <tr>\n",
       "      <th>45</th>\n",
       "      <td>BRD-K81418486</td>\n",
       "      <td>HDAC3</td>\n",
       "    </tr>\n",
       "    <tr>\n",
       "      <th>46</th>\n",
       "      <td>BRD-K81418486</td>\n",
       "      <td>HDAC6</td>\n",
       "    </tr>\n",
       "    <tr>\n",
       "      <th>47</th>\n",
       "      <td>BRD-K81418486</td>\n",
       "      <td>HDAC8</td>\n",
       "    </tr>\n",
       "    <tr>\n",
       "      <th>54</th>\n",
       "      <td>BRD-K94441233</td>\n",
       "      <td>HMGCR</td>\n",
       "    </tr>\n",
       "    <tr>\n",
       "      <th>57</th>\n",
       "      <td>BRD-K09638361</td>\n",
       "      <td>CSNK1G2</td>\n",
       "    </tr>\n",
       "    <tr>\n",
       "      <th>64</th>\n",
       "      <td>BRD-K08547377</td>\n",
       "      <td>TOP1</td>\n",
       "    </tr>\n",
       "    <tr>\n",
       "      <th>167</th>\n",
       "      <td>BRD-K92093830</td>\n",
       "      <td>TOP2A</td>\n",
       "    </tr>\n",
       "    <tr>\n",
       "      <th>168</th>\n",
       "      <td>BRD-K92093830</td>\n",
       "      <td>NOLC1</td>\n",
       "    </tr>\n",
       "    <tr>\n",
       "      <th>173</th>\n",
       "      <td>BRD-K92428153</td>\n",
       "      <td>IMPDH1</td>\n",
       "    </tr>\n",
       "    <tr>\n",
       "      <th>192</th>\n",
       "      <td>BRD-K54233340</td>\n",
       "      <td>ACVR1</td>\n",
       "    </tr>\n",
       "    <tr>\n",
       "      <th>193</th>\n",
       "      <td>BRD-K54233340</td>\n",
       "      <td>FKBP1A</td>\n",
       "    </tr>\n",
       "    <tr>\n",
       "      <th>232</th>\n",
       "      <td>BRD-K78126613</td>\n",
       "      <td>GGCX</td>\n",
       "    </tr>\n",
       "    <tr>\n",
       "      <th>233</th>\n",
       "      <td>BRD-K78126613</td>\n",
       "      <td>VKORC1</td>\n",
       "    </tr>\n",
       "    <tr>\n",
       "      <th>234</th>\n",
       "      <td>BRD-K78126613</td>\n",
       "      <td>F2</td>\n",
       "    </tr>\n",
       "    <tr>\n",
       "      <th>239</th>\n",
       "      <td>BRD-K78126613</td>\n",
       "      <td>NQO2</td>\n",
       "    </tr>\n",
       "    <tr>\n",
       "      <th>240</th>\n",
       "      <td>BRD-K78126613</td>\n",
       "      <td>NQO1</td>\n",
       "    </tr>\n",
       "    <tr>\n",
       "      <th>275</th>\n",
       "      <td>BRD-A45889380</td>\n",
       "      <td>PLA2G4A</td>\n",
       "    </tr>\n",
       "    <tr>\n",
       "      <th>287</th>\n",
       "      <td>BRD-K27305650</td>\n",
       "      <td>PIM1</td>\n",
       "    </tr>\n",
       "    <tr>\n",
       "      <th>288</th>\n",
       "      <td>BRD-K27305650</td>\n",
       "      <td>PIK3CG</td>\n",
       "    </tr>\n",
       "    <tr>\n",
       "      <th>289</th>\n",
       "      <td>BRD-K31342827</td>\n",
       "      <td>PIM1</td>\n",
       "    </tr>\n",
       "    <tr>\n",
       "      <th>290</th>\n",
       "      <td>BRD-K31342827</td>\n",
       "      <td>PDPK1</td>\n",
       "    </tr>\n",
       "    <tr>\n",
       "      <th>295</th>\n",
       "      <td>BRD-K55127134</td>\n",
       "      <td>CALM1</td>\n",
       "    </tr>\n",
       "    <tr>\n",
       "      <th>296</th>\n",
       "      <td>BRD-K55127134</td>\n",
       "      <td>AR</td>\n",
       "    </tr>\n",
       "    <tr>\n",
       "      <th>298</th>\n",
       "      <td>BRD-K56429665</td>\n",
       "      <td>VDR</td>\n",
       "    </tr>\n",
       "    <tr>\n",
       "      <th>305</th>\n",
       "      <td>BRD-K50836978</td>\n",
       "      <td>SRC</td>\n",
       "    </tr>\n",
       "    <tr>\n",
       "      <th>307</th>\n",
       "      <td>BRD-K50836978</td>\n",
       "      <td>RPS6KA1</td>\n",
       "    </tr>\n",
       "    <tr>\n",
       "      <th>346</th>\n",
       "      <td>BRD-K12994359</td>\n",
       "      <td>CA2</td>\n",
       "    </tr>\n",
       "    <tr>\n",
       "      <th>...</th>\n",
       "      <td>...</td>\n",
       "      <td>...</td>\n",
       "    </tr>\n",
       "    <tr>\n",
       "      <th>1591</th>\n",
       "      <td>BRD-K64800655</td>\n",
       "      <td>CDK1</td>\n",
       "    </tr>\n",
       "    <tr>\n",
       "      <th>1592</th>\n",
       "      <td>BRD-K64800655</td>\n",
       "      <td>CDK4</td>\n",
       "    </tr>\n",
       "    <tr>\n",
       "      <th>1593</th>\n",
       "      <td>BRD-K64800655</td>\n",
       "      <td>CDK11B</td>\n",
       "    </tr>\n",
       "    <tr>\n",
       "      <th>1594</th>\n",
       "      <td>BRD-K64800655</td>\n",
       "      <td>CDK2</td>\n",
       "    </tr>\n",
       "    <tr>\n",
       "      <th>1595</th>\n",
       "      <td>BRD-K64800655</td>\n",
       "      <td>CDK8</td>\n",
       "    </tr>\n",
       "    <tr>\n",
       "      <th>1597</th>\n",
       "      <td>BRD-K64800655</td>\n",
       "      <td>CDK9</td>\n",
       "    </tr>\n",
       "    <tr>\n",
       "      <th>1599</th>\n",
       "      <td>BRD-K64800655</td>\n",
       "      <td>CDK6</td>\n",
       "    </tr>\n",
       "    <tr>\n",
       "      <th>1600</th>\n",
       "      <td>BRD-K64800655</td>\n",
       "      <td>CDK5</td>\n",
       "    </tr>\n",
       "    <tr>\n",
       "      <th>1604</th>\n",
       "      <td>BRD-K64800655</td>\n",
       "      <td>CDK10</td>\n",
       "    </tr>\n",
       "    <tr>\n",
       "      <th>1607</th>\n",
       "      <td>BRD-K64800655</td>\n",
       "      <td>CDK19</td>\n",
       "    </tr>\n",
       "    <tr>\n",
       "      <th>1615</th>\n",
       "      <td>BRD-K84937637</td>\n",
       "      <td>FKBP1A</td>\n",
       "    </tr>\n",
       "    <tr>\n",
       "      <th>1635</th>\n",
       "      <td>BRD-K99749624</td>\n",
       "      <td>FLT3</td>\n",
       "    </tr>\n",
       "    <tr>\n",
       "      <th>1636</th>\n",
       "      <td>BRD-K99749624</td>\n",
       "      <td>PDGFRB</td>\n",
       "    </tr>\n",
       "    <tr>\n",
       "      <th>1637</th>\n",
       "      <td>BRD-K99749624</td>\n",
       "      <td>PDGFRA</td>\n",
       "    </tr>\n",
       "    <tr>\n",
       "      <th>1638</th>\n",
       "      <td>BRD-K99749624</td>\n",
       "      <td>KDR</td>\n",
       "    </tr>\n",
       "    <tr>\n",
       "      <th>1639</th>\n",
       "      <td>BRD-K99749624</td>\n",
       "      <td>FLT1</td>\n",
       "    </tr>\n",
       "    <tr>\n",
       "      <th>1640</th>\n",
       "      <td>BRD-K99749624</td>\n",
       "      <td>FLT4</td>\n",
       "    </tr>\n",
       "    <tr>\n",
       "      <th>1641</th>\n",
       "      <td>BRD-K36740062</td>\n",
       "      <td>AURKB</td>\n",
       "    </tr>\n",
       "    <tr>\n",
       "      <th>1773</th>\n",
       "      <td>BRD-K68488863</td>\n",
       "      <td>AURKA</td>\n",
       "    </tr>\n",
       "    <tr>\n",
       "      <th>1774</th>\n",
       "      <td>BRD-K68488863</td>\n",
       "      <td>AURKB</td>\n",
       "    </tr>\n",
       "    <tr>\n",
       "      <th>1775</th>\n",
       "      <td>BRD-K68488863</td>\n",
       "      <td>KDR</td>\n",
       "    </tr>\n",
       "    <tr>\n",
       "      <th>1776</th>\n",
       "      <td>BRD-K68488863</td>\n",
       "      <td>FGFR3</td>\n",
       "    </tr>\n",
       "    <tr>\n",
       "      <th>1777</th>\n",
       "      <td>BRD-K68488863</td>\n",
       "      <td>FLT3</td>\n",
       "    </tr>\n",
       "    <tr>\n",
       "      <th>1778</th>\n",
       "      <td>BRD-K68488863</td>\n",
       "      <td>KIT</td>\n",
       "    </tr>\n",
       "    <tr>\n",
       "      <th>1780</th>\n",
       "      <td>BRD-K24576554</td>\n",
       "      <td>ABL1</td>\n",
       "    </tr>\n",
       "    <tr>\n",
       "      <th>1781</th>\n",
       "      <td>BRD-K24576554</td>\n",
       "      <td>AURKA</td>\n",
       "    </tr>\n",
       "    <tr>\n",
       "      <th>1782</th>\n",
       "      <td>BRD-K24576554</td>\n",
       "      <td>AURKB</td>\n",
       "    </tr>\n",
       "    <tr>\n",
       "      <th>1783</th>\n",
       "      <td>BRD-K24576554</td>\n",
       "      <td>FLT3</td>\n",
       "    </tr>\n",
       "    <tr>\n",
       "      <th>1784</th>\n",
       "      <td>BRD-K24576554</td>\n",
       "      <td>JAK2</td>\n",
       "    </tr>\n",
       "    <tr>\n",
       "      <th>1785</th>\n",
       "      <td>BRD-K24576554</td>\n",
       "      <td>JAK3</td>\n",
       "    </tr>\n",
       "  </tbody>\n",
       "</table>\n",
       "<p>244 rows × 2 columns</p>\n",
       "</div>"
      ],
      "text/plain": [
       "            pert_id   target\n",
       "30    BRD-K21680192    TOP2A\n",
       "43    BRD-K81418486    HDAC1\n",
       "44    BRD-K81418486    HDAC2\n",
       "45    BRD-K81418486    HDAC3\n",
       "46    BRD-K81418486    HDAC6\n",
       "47    BRD-K81418486    HDAC8\n",
       "54    BRD-K94441233    HMGCR\n",
       "57    BRD-K09638361  CSNK1G2\n",
       "64    BRD-K08547377     TOP1\n",
       "167   BRD-K92093830    TOP2A\n",
       "168   BRD-K92093830    NOLC1\n",
       "173   BRD-K92428153   IMPDH1\n",
       "192   BRD-K54233340    ACVR1\n",
       "193   BRD-K54233340   FKBP1A\n",
       "232   BRD-K78126613     GGCX\n",
       "233   BRD-K78126613   VKORC1\n",
       "234   BRD-K78126613       F2\n",
       "239   BRD-K78126613     NQO2\n",
       "240   BRD-K78126613     NQO1\n",
       "275   BRD-A45889380  PLA2G4A\n",
       "287   BRD-K27305650     PIM1\n",
       "288   BRD-K27305650   PIK3CG\n",
       "289   BRD-K31342827     PIM1\n",
       "290   BRD-K31342827    PDPK1\n",
       "295   BRD-K55127134    CALM1\n",
       "296   BRD-K55127134       AR\n",
       "298   BRD-K56429665      VDR\n",
       "305   BRD-K50836978      SRC\n",
       "307   BRD-K50836978  RPS6KA1\n",
       "346   BRD-K12994359      CA2\n",
       "...             ...      ...\n",
       "1591  BRD-K64800655     CDK1\n",
       "1592  BRD-K64800655     CDK4\n",
       "1593  BRD-K64800655   CDK11B\n",
       "1594  BRD-K64800655     CDK2\n",
       "1595  BRD-K64800655     CDK8\n",
       "1597  BRD-K64800655     CDK9\n",
       "1599  BRD-K64800655     CDK6\n",
       "1600  BRD-K64800655     CDK5\n",
       "1604  BRD-K64800655    CDK10\n",
       "1607  BRD-K64800655    CDK19\n",
       "1615  BRD-K84937637   FKBP1A\n",
       "1635  BRD-K99749624     FLT3\n",
       "1636  BRD-K99749624   PDGFRB\n",
       "1637  BRD-K99749624   PDGFRA\n",
       "1638  BRD-K99749624      KDR\n",
       "1639  BRD-K99749624     FLT1\n",
       "1640  BRD-K99749624     FLT4\n",
       "1641  BRD-K36740062    AURKB\n",
       "1773  BRD-K68488863    AURKA\n",
       "1774  BRD-K68488863    AURKB\n",
       "1775  BRD-K68488863      KDR\n",
       "1776  BRD-K68488863    FGFR3\n",
       "1777  BRD-K68488863     FLT3\n",
       "1778  BRD-K68488863      KIT\n",
       "1780  BRD-K24576554     ABL1\n",
       "1781  BRD-K24576554    AURKA\n",
       "1782  BRD-K24576554    AURKB\n",
       "1783  BRD-K24576554     FLT3\n",
       "1784  BRD-K24576554     JAK2\n",
       "1785  BRD-K24576554     JAK3\n",
       "\n",
       "[244 rows x 2 columns]"
      ]
     },
     "execution_count": 5,
     "metadata": {},
     "output_type": "execute_result"
    }
   ],
   "source": [
    "top_4_known_interactions"
   ]
  },
  {
   "cell_type": "markdown",
   "metadata": {},
   "source": [
    "___\n",
    "# Load PPI data from String database\n",
    "\n",
    "The table is redundant in that it has 2 entries for each interaction, with the order of the proteins swapped."
   ]
  },
  {
   "cell_type": "code",
   "execution_count": 183,
   "metadata": {
    "collapsed": true
   },
   "outputs": [],
   "source": [
    "# 710638 high confidence interactions\n",
    "string_gene_interactions_700 = pd.DataFrame.from_csv('checkpoint_files/string_gene_interactions_700.csv')"
   ]
  },
  {
   "cell_type": "markdown",
   "metadata": {},
   "source": [
    "___\n",
    "# Assemble cpd-kd pairs"
   ]
  },
  {
   "cell_type": "code",
   "execution_count": 322,
   "metadata": {
    "collapsed": true
   },
   "outputs": [],
   "source": [
    "# create cpd-kd mapping with labels\n",
    "all_top_4_kds = repr_top_4_gold_kd_sigs.pert_iname.unique()\n",
    "all_top_4_cpds = repr_top_4_gold_cpd_sigs.pert_id.unique()"
   ]
  },
  {
   "cell_type": "code",
   "execution_count": 53,
   "metadata": {},
   "outputs": [
    {
     "data": {
      "application/vnd.jupyter.widget-view+json": {
       "model_id": "8bad004363df4bdaac08ccd923428482"
      }
     },
     "metadata": {},
     "output_type": "display_data"
    }
   ],
   "source": [
    "cpd_ = []\n",
    "kd_ = []\n",
    "label_ = []\n",
    "\n",
    "for kd in log_progress(all_top_4_kds):\n",
    "    for cpd in all_top_4_cpds:\n",
    "        if top_4_known_interactions.query('pert_id == \"{}\" & target == \"{}\"'.format(cpd,kd)).shape[0]:\n",
    "            label = 1 # true interaction\n",
    "        else:\n",
    "            label = -1 # false interaction\n",
    "        cpd_.append(cpd)\n",
    "        kd_.append(kd)\n",
    "        label_.append(label)"
   ]
  },
  {
   "cell_type": "code",
   "execution_count": 177,
   "metadata": {
    "collapsed": true
   },
   "outputs": [],
   "source": [
    "# store pairs & labels in dataframe\n",
    "cpd_kd_pairs_df = pd.DataFrame({'cpd': cpd_, 'kd': kd_, 'label': label_})\n",
    "cpd_kd_pairs_df.to_csv('features/cpd_kd_pairs_df.csv')"
   ]
  },
  {
   "cell_type": "markdown",
   "metadata": {},
   "source": [
    "___\n",
    "# Compute Direct Correlation Features\n",
    "\n",
    "We want to construct direct correlation values for all cpd-kd pairs in each cell line. Eventually we will also want to construct the indirect correlation features.\n",
    "\n",
    "It seems the most useful way to organize this data is in a large table **dir_corr_df** where each row is a cpd-kd pair and the columns are the feature values. The row indeces of this table will be map to the corresponding row indeces of the **cpd_kd_pairs_df**."
   ]
  },
  {
   "cell_type": "code",
   "execution_count": 4,
   "metadata": {},
   "outputs": [
    {
     "data": {
      "text/plain": [
       "array(['A375', 'A549', 'MCF7', 'PC3'], dtype=object)"
      ]
     },
     "execution_count": 4,
     "metadata": {},
     "output_type": "execute_result"
    }
   ],
   "source": [
    "# extract the top 4 cell lines for reference\n",
    "top_4_cell_lines = repr_top_4_gold_cpd_sigs.cell_id.unique()\n",
    "top_4_cell_lines"
   ]
  },
  {
   "cell_type": "code",
   "execution_count": 245,
   "metadata": {
    "collapsed": true
   },
   "outputs": [
    {
     "data": {
      "application/vnd.jupyter.widget-view+json": {
       "model_id": "7c5e06f17d3a4e2d8d9a98fcef5426c1"
      }
     },
     "metadata": {},
     "output_type": "display_data"
    },
    {
     "ename": "KeyboardInterrupt",
     "evalue": "",
     "output_type": "error",
     "traceback": [
      "\u001b[0;31m---------------------------------------------------------------------------\u001b[0m",
      "\u001b[0;31mKeyboardInterrupt\u001b[0m                         Traceback (most recent call last)",
      "\u001b[0;32m<ipython-input-245-3dffb373f52b>\u001b[0m in \u001b[0;36m<module>\u001b[0;34m()\u001b[0m\n\u001b[1;32m     14\u001b[0m         \u001b[0mcpd_sig_id\u001b[0m \u001b[0;34m=\u001b[0m \u001b[0mcpd_sig_info\u001b[0m\u001b[0;34m.\u001b[0m\u001b[0msig_id\u001b[0m\u001b[0;34m\u001b[0m\u001b[0m\n\u001b[1;32m     15\u001b[0m         \u001b[0mkd_sig_id\u001b[0m \u001b[0;34m=\u001b[0m \u001b[0mkd_sig_info\u001b[0m\u001b[0;34m.\u001b[0m\u001b[0msig_id\u001b[0m\u001b[0;34m\u001b[0m\u001b[0m\n\u001b[0;32m---> 16\u001b[0;31m         \u001b[0mcpd_lm_sig\u001b[0m \u001b[0;34m=\u001b[0m \u001b[0mtop_4_cpd_lm_sigs\u001b[0m\u001b[0;34m[\u001b[0m\u001b[0mcpd_sig_id\u001b[0m\u001b[0;34m]\u001b[0m\u001b[0;34m.\u001b[0m\u001b[0mvalues\u001b[0m\u001b[0;34m\u001b[0m\u001b[0m\n\u001b[0m\u001b[1;32m     17\u001b[0m         \u001b[0mkd_lm_sig\u001b[0m \u001b[0;34m=\u001b[0m \u001b[0mtop_4_kd_lm_sigs\u001b[0m\u001b[0;34m[\u001b[0m\u001b[0mkd_sig_id\u001b[0m\u001b[0;34m]\u001b[0m\u001b[0;34m.\u001b[0m\u001b[0mvalues\u001b[0m\u001b[0;34m\u001b[0m\u001b[0m\n\u001b[1;32m     18\u001b[0m \u001b[0;34m\u001b[0m\u001b[0m\n",
      "\u001b[0;32m~/anaconda3/lib/python3.6/site-packages/pandas/core/frame.py\u001b[0m in \u001b[0;36m__getitem__\u001b[0;34m(self, key)\u001b[0m\n\u001b[1;32m   2054\u001b[0m         \u001b[0;32mif\u001b[0m \u001b[0misinstance\u001b[0m\u001b[0;34m(\u001b[0m\u001b[0mkey\u001b[0m\u001b[0;34m,\u001b[0m \u001b[0;34m(\u001b[0m\u001b[0mSeries\u001b[0m\u001b[0;34m,\u001b[0m \u001b[0mnp\u001b[0m\u001b[0;34m.\u001b[0m\u001b[0mndarray\u001b[0m\u001b[0;34m,\u001b[0m \u001b[0mIndex\u001b[0m\u001b[0;34m,\u001b[0m \u001b[0mlist\u001b[0m\u001b[0;34m)\u001b[0m\u001b[0;34m)\u001b[0m\u001b[0;34m:\u001b[0m\u001b[0;34m\u001b[0m\u001b[0m\n\u001b[1;32m   2055\u001b[0m             \u001b[0;31m# either boolean or fancy integer index\u001b[0m\u001b[0;34m\u001b[0m\u001b[0;34m\u001b[0m\u001b[0m\n\u001b[0;32m-> 2056\u001b[0;31m             \u001b[0;32mreturn\u001b[0m \u001b[0mself\u001b[0m\u001b[0;34m.\u001b[0m\u001b[0m_getitem_array\u001b[0m\u001b[0;34m(\u001b[0m\u001b[0mkey\u001b[0m\u001b[0;34m)\u001b[0m\u001b[0;34m\u001b[0m\u001b[0m\n\u001b[0m\u001b[1;32m   2057\u001b[0m         \u001b[0;32melif\u001b[0m \u001b[0misinstance\u001b[0m\u001b[0;34m(\u001b[0m\u001b[0mkey\u001b[0m\u001b[0;34m,\u001b[0m \u001b[0mDataFrame\u001b[0m\u001b[0;34m)\u001b[0m\u001b[0;34m:\u001b[0m\u001b[0;34m\u001b[0m\u001b[0m\n\u001b[1;32m   2058\u001b[0m             \u001b[0;32mreturn\u001b[0m \u001b[0mself\u001b[0m\u001b[0;34m.\u001b[0m\u001b[0m_getitem_frame\u001b[0m\u001b[0;34m(\u001b[0m\u001b[0mkey\u001b[0m\u001b[0;34m)\u001b[0m\u001b[0;34m\u001b[0m\u001b[0m\n",
      "\u001b[0;32m~/anaconda3/lib/python3.6/site-packages/pandas/core/frame.py\u001b[0m in \u001b[0;36m_getitem_array\u001b[0;34m(self, key)\u001b[0m\n\u001b[1;32m   2098\u001b[0m             \u001b[0;32mreturn\u001b[0m \u001b[0mself\u001b[0m\u001b[0;34m.\u001b[0m\u001b[0mtake\u001b[0m\u001b[0;34m(\u001b[0m\u001b[0mindexer\u001b[0m\u001b[0;34m,\u001b[0m \u001b[0maxis\u001b[0m\u001b[0;34m=\u001b[0m\u001b[0;36m0\u001b[0m\u001b[0;34m,\u001b[0m \u001b[0mconvert\u001b[0m\u001b[0;34m=\u001b[0m\u001b[0;32mFalse\u001b[0m\u001b[0;34m)\u001b[0m\u001b[0;34m\u001b[0m\u001b[0m\n\u001b[1;32m   2099\u001b[0m         \u001b[0;32melse\u001b[0m\u001b[0;34m:\u001b[0m\u001b[0;34m\u001b[0m\u001b[0m\n\u001b[0;32m-> 2100\u001b[0;31m             \u001b[0mindexer\u001b[0m \u001b[0;34m=\u001b[0m \u001b[0mself\u001b[0m\u001b[0;34m.\u001b[0m\u001b[0mloc\u001b[0m\u001b[0;34m.\u001b[0m\u001b[0m_convert_to_indexer\u001b[0m\u001b[0;34m(\u001b[0m\u001b[0mkey\u001b[0m\u001b[0;34m,\u001b[0m \u001b[0maxis\u001b[0m\u001b[0;34m=\u001b[0m\u001b[0;36m1\u001b[0m\u001b[0;34m)\u001b[0m\u001b[0;34m\u001b[0m\u001b[0m\n\u001b[0m\u001b[1;32m   2101\u001b[0m             \u001b[0;32mreturn\u001b[0m \u001b[0mself\u001b[0m\u001b[0;34m.\u001b[0m\u001b[0mtake\u001b[0m\u001b[0;34m(\u001b[0m\u001b[0mindexer\u001b[0m\u001b[0;34m,\u001b[0m \u001b[0maxis\u001b[0m\u001b[0;34m=\u001b[0m\u001b[0;36m1\u001b[0m\u001b[0;34m,\u001b[0m \u001b[0mconvert\u001b[0m\u001b[0;34m=\u001b[0m\u001b[0;32mTrue\u001b[0m\u001b[0;34m)\u001b[0m\u001b[0;34m\u001b[0m\u001b[0m\n\u001b[1;32m   2102\u001b[0m \u001b[0;34m\u001b[0m\u001b[0m\n",
      "\u001b[0;32m~/anaconda3/lib/python3.6/site-packages/pandas/core/indexing.py\u001b[0m in \u001b[0;36m_convert_to_indexer\u001b[0;34m(self, obj, axis, is_setter)\u001b[0m\n\u001b[1;32m   1166\u001b[0m         \u001b[0;31m# if we are a label return me\u001b[0m\u001b[0;34m\u001b[0m\u001b[0;34m\u001b[0m\u001b[0m\n\u001b[1;32m   1167\u001b[0m         \u001b[0;32mtry\u001b[0m\u001b[0;34m:\u001b[0m\u001b[0;34m\u001b[0m\u001b[0m\n\u001b[0;32m-> 1168\u001b[0;31m             \u001b[0;32mreturn\u001b[0m \u001b[0mlabels\u001b[0m\u001b[0;34m.\u001b[0m\u001b[0mget_loc\u001b[0m\u001b[0;34m(\u001b[0m\u001b[0mobj\u001b[0m\u001b[0;34m)\u001b[0m\u001b[0;34m\u001b[0m\u001b[0m\n\u001b[0m\u001b[1;32m   1169\u001b[0m         \u001b[0;32mexcept\u001b[0m \u001b[0mLookupError\u001b[0m\u001b[0;34m:\u001b[0m\u001b[0;34m\u001b[0m\u001b[0m\n\u001b[1;32m   1170\u001b[0m             \u001b[0;32mif\u001b[0m \u001b[0misinstance\u001b[0m\u001b[0;34m(\u001b[0m\u001b[0mobj\u001b[0m\u001b[0;34m,\u001b[0m \u001b[0mtuple\u001b[0m\u001b[0;34m)\u001b[0m \u001b[0;32mand\u001b[0m \u001b[0misinstance\u001b[0m\u001b[0;34m(\u001b[0m\u001b[0mlabels\u001b[0m\u001b[0;34m,\u001b[0m \u001b[0mMultiIndex\u001b[0m\u001b[0;34m)\u001b[0m\u001b[0;34m:\u001b[0m\u001b[0;34m\u001b[0m\u001b[0m\n",
      "\u001b[0;32m~/anaconda3/lib/python3.6/site-packages/pandas/core/indexes/base.py\u001b[0m in \u001b[0;36mget_loc\u001b[0;34m(self, key, method, tolerance)\u001b[0m\n\u001b[1;32m   2391\u001b[0m             \u001b[0mkey\u001b[0m \u001b[0;34m=\u001b[0m \u001b[0m_values_from_object\u001b[0m\u001b[0;34m(\u001b[0m\u001b[0mkey\u001b[0m\u001b[0;34m)\u001b[0m\u001b[0;34m\u001b[0m\u001b[0m\n\u001b[1;32m   2392\u001b[0m             \u001b[0;32mtry\u001b[0m\u001b[0;34m:\u001b[0m\u001b[0;34m\u001b[0m\u001b[0m\n\u001b[0;32m-> 2393\u001b[0;31m                 \u001b[0;32mreturn\u001b[0m \u001b[0mself\u001b[0m\u001b[0;34m.\u001b[0m\u001b[0m_engine\u001b[0m\u001b[0;34m.\u001b[0m\u001b[0mget_loc\u001b[0m\u001b[0;34m(\u001b[0m\u001b[0mkey\u001b[0m\u001b[0;34m)\u001b[0m\u001b[0;34m\u001b[0m\u001b[0m\n\u001b[0m\u001b[1;32m   2394\u001b[0m             \u001b[0;32mexcept\u001b[0m \u001b[0mKeyError\u001b[0m\u001b[0;34m:\u001b[0m\u001b[0;34m\u001b[0m\u001b[0m\n\u001b[1;32m   2395\u001b[0m                 \u001b[0;32mreturn\u001b[0m \u001b[0mself\u001b[0m\u001b[0;34m.\u001b[0m\u001b[0m_engine\u001b[0m\u001b[0;34m.\u001b[0m\u001b[0mget_loc\u001b[0m\u001b[0;34m(\u001b[0m\u001b[0mself\u001b[0m\u001b[0;34m.\u001b[0m\u001b[0m_maybe_cast_indexer\u001b[0m\u001b[0;34m(\u001b[0m\u001b[0mkey\u001b[0m\u001b[0;34m)\u001b[0m\u001b[0;34m)\u001b[0m\u001b[0;34m\u001b[0m\u001b[0m\n",
      "\u001b[0;32mpandas/_libs/index.pyx\u001b[0m in \u001b[0;36mpandas._libs.index.IndexEngine.get_loc (pandas/_libs/index.c:5239)\u001b[0;34m()\u001b[0m\n",
      "\u001b[0;32mpandas/_libs/index.pyx\u001b[0m in \u001b[0;36mpandas._libs.index.IndexEngine.get_loc (pandas/_libs/index.c:4778)\u001b[0;34m()\u001b[0m\n",
      "\u001b[0;32m~/anaconda3/lib/python3.6/site-packages/numpy/core/numeric.py\u001b[0m in \u001b[0;36marray_str\u001b[0;34m(a, max_line_width, precision, suppress_small)\u001b[0m\n\u001b[1;32m   1867\u001b[0m \u001b[0;34m\u001b[0m\u001b[0m\n\u001b[1;32m   1868\u001b[0m     \"\"\"\n\u001b[0;32m-> 1869\u001b[0;31m     \u001b[0;32mreturn\u001b[0m \u001b[0marray2string\u001b[0m\u001b[0;34m(\u001b[0m\u001b[0ma\u001b[0m\u001b[0;34m,\u001b[0m \u001b[0mmax_line_width\u001b[0m\u001b[0;34m,\u001b[0m \u001b[0mprecision\u001b[0m\u001b[0;34m,\u001b[0m \u001b[0msuppress_small\u001b[0m\u001b[0;34m,\u001b[0m \u001b[0;34m' '\u001b[0m\u001b[0;34m,\u001b[0m \u001b[0;34m\"\"\u001b[0m\u001b[0;34m,\u001b[0m \u001b[0mstr\u001b[0m\u001b[0;34m)\u001b[0m\u001b[0;34m\u001b[0m\u001b[0m\n\u001b[0m\u001b[1;32m   1870\u001b[0m \u001b[0;34m\u001b[0m\u001b[0m\n\u001b[1;32m   1871\u001b[0m \u001b[0;32mdef\u001b[0m \u001b[0mset_string_function\u001b[0m\u001b[0;34m(\u001b[0m\u001b[0mf\u001b[0m\u001b[0;34m,\u001b[0m \u001b[0mrepr\u001b[0m\u001b[0;34m=\u001b[0m\u001b[0;32mTrue\u001b[0m\u001b[0;34m)\u001b[0m\u001b[0;34m:\u001b[0m\u001b[0;34m\u001b[0m\u001b[0m\n",
      "\u001b[0;32m~/anaconda3/lib/python3.6/site-packages/numpy/core/arrayprint.py\u001b[0m in \u001b[0;36marray2string\u001b[0;34m(a, max_line_width, precision, suppress_small, separator, prefix, style, formatter)\u001b[0m\n\u001b[1;32m    445\u001b[0m     \u001b[0;32melse\u001b[0m\u001b[0;34m:\u001b[0m\u001b[0;34m\u001b[0m\u001b[0m\n\u001b[1;32m    446\u001b[0m         lst = _array2string(a, max_line_width, precision, suppress_small,\n\u001b[0;32m--> 447\u001b[0;31m                             separator, prefix, formatter=formatter)\n\u001b[0m\u001b[1;32m    448\u001b[0m     \u001b[0;32mreturn\u001b[0m \u001b[0mlst\u001b[0m\u001b[0;34m\u001b[0m\u001b[0m\n\u001b[1;32m    449\u001b[0m \u001b[0;34m\u001b[0m\u001b[0m\n",
      "\u001b[0;32m~/anaconda3/lib/python3.6/site-packages/numpy/core/arrayprint.py\u001b[0m in \u001b[0;36m_array2string\u001b[0;34m(a, max_line_width, precision, suppress_small, separator, prefix, formatter)\u001b[0m\n\u001b[1;32m    259\u001b[0m     formatdict = {'bool': _boolFormatter,\n\u001b[1;32m    260\u001b[0m                   \u001b[0;34m'int'\u001b[0m\u001b[0;34m:\u001b[0m \u001b[0mIntegerFormat\u001b[0m\u001b[0;34m(\u001b[0m\u001b[0mdata\u001b[0m\u001b[0;34m)\u001b[0m\u001b[0;34m,\u001b[0m\u001b[0;34m\u001b[0m\u001b[0m\n\u001b[0;32m--> 261\u001b[0;31m                   \u001b[0;34m'float'\u001b[0m\u001b[0;34m:\u001b[0m \u001b[0mFloatFormat\u001b[0m\u001b[0;34m(\u001b[0m\u001b[0mdata\u001b[0m\u001b[0;34m,\u001b[0m \u001b[0mprecision\u001b[0m\u001b[0;34m,\u001b[0m \u001b[0msuppress_small\u001b[0m\u001b[0;34m)\u001b[0m\u001b[0;34m,\u001b[0m\u001b[0;34m\u001b[0m\u001b[0m\n\u001b[0m\u001b[1;32m    262\u001b[0m                   \u001b[0;34m'longfloat'\u001b[0m\u001b[0;34m:\u001b[0m \u001b[0mLongFloatFormat\u001b[0m\u001b[0;34m(\u001b[0m\u001b[0mprecision\u001b[0m\u001b[0;34m)\u001b[0m\u001b[0;34m,\u001b[0m\u001b[0;34m\u001b[0m\u001b[0m\n\u001b[1;32m    263\u001b[0m                   'complexfloat': ComplexFormat(data, precision,\n",
      "\u001b[0;32m~/anaconda3/lib/python3.6/site-packages/numpy/core/arrayprint.py\u001b[0m in \u001b[0;36m__init__\u001b[0;34m(self, data, precision, suppress_small, sign)\u001b[0m\n\u001b[1;32m    533\u001b[0m         \u001b[0mself\u001b[0m\u001b[0;34m.\u001b[0m\u001b[0mexp_format\u001b[0m \u001b[0;34m=\u001b[0m \u001b[0;32mFalse\u001b[0m\u001b[0;34m\u001b[0m\u001b[0m\n\u001b[1;32m    534\u001b[0m         \u001b[0mself\u001b[0m\u001b[0;34m.\u001b[0m\u001b[0mlarge_exponent\u001b[0m \u001b[0;34m=\u001b[0m \u001b[0;32mFalse\u001b[0m\u001b[0;34m\u001b[0m\u001b[0m\n\u001b[0;32m--> 535\u001b[0;31m         \u001b[0mself\u001b[0m\u001b[0;34m.\u001b[0m\u001b[0mmax_str_len\u001b[0m \u001b[0;34m=\u001b[0m \u001b[0;36m0\u001b[0m\u001b[0;34m\u001b[0m\u001b[0m\n\u001b[0m\u001b[1;32m    536\u001b[0m         \u001b[0;32mtry\u001b[0m\u001b[0;34m:\u001b[0m\u001b[0;34m\u001b[0m\u001b[0m\n\u001b[1;32m    537\u001b[0m             \u001b[0mself\u001b[0m\u001b[0;34m.\u001b[0m\u001b[0mfillFormat\u001b[0m\u001b[0;34m(\u001b[0m\u001b[0mdata\u001b[0m\u001b[0;34m)\u001b[0m\u001b[0;34m\u001b[0m\u001b[0m\n",
      "\u001b[0;31mKeyboardInterrupt\u001b[0m: "
     ]
    }
   ],
   "source": [
    "# initialize empty dataframe to hold direct correlation values\n",
    "dir_corr_df = pd.DataFrame(index=cpd_kd_pairs_df.index, columns=top_4_cell_lines)\n",
    "\n",
    "# loop through cpd-target pairs, calculate correlations in each cell line\n",
    "for index, row in log_progress(cpd_kd_pairs_df.iterrows(), every=100):\n",
    "    cpd = row.cpd\n",
    "    kd = row.kd\n",
    "    \n",
    "    for cell_line in top_4_cell_lines:\n",
    "        cpd_sig_info = repr_top_4_gold_cpd_sigs.query('pert_id == \"{}\" & cell_id == \"{}\"'.format(cpd,cell_line))\n",
    "        kd_sig_info = repr_top_4_gold_kd_sigs.query('pert_iname == \"{}\" & cell_id == \"{}\"'.format(kd,cell_line))\n",
    "        \n",
    "        # extract signatures\n",
    "        cpd_sig_id = cpd_sig_info.sig_id\n",
    "        kd_sig_id = kd_sig_info.sig_id\n",
    "        cpd_lm_sig = top_4_cpd_lm_sigs[cpd_sig_id].values\n",
    "        kd_lm_sig = top_4_kd_lm_sigs[kd_sig_id].values\n",
    "        \n",
    "        #compute and store correlation\n",
    "        corr = scipy.stats.pearsonr(cpd_lm_sig, kd_lm_sig)[0][0]\n",
    "        dir_corr_df.at[index, cell_line] = corr"
   ]
  },
  {
   "cell_type": "code",
   "execution_count": 178,
   "metadata": {
    "collapsed": true
   },
   "outputs": [],
   "source": [
    "# save direct correlation features to file\n",
    "dir_corr_df.to_csv('features/dir_corr_df.csv')"
   ]
  },
  {
   "cell_type": "code",
   "execution_count": 248,
   "metadata": {
    "collapsed": true
   },
   "outputs": [],
   "source": [
    "dir_corr_df = pd.DataFrame.from_csv('features/dir_corr_df.csv')"
   ]
  },
  {
   "cell_type": "markdown",
   "metadata": {},
   "source": [
    "___\n",
    "# Compute Indirect Correlation Features\n",
    "\n",
    "We want to construct indirect correlation values for all cpd-kd pairs in each cell line. \n",
    "\n",
    "These features will be stored in a large table **indir_corr_df** where each row is a cpd-kd pair and the columns are the feature values. The row indeces of this table will be map to the corresponding row indeces of the **cpd_kd_pairs_df**."
   ]
  },
  {
   "cell_type": "code",
   "execution_count": 207,
   "metadata": {
    "collapsed": true
   },
   "outputs": [],
   "source": [
    "# list of all KDs in top-4 cells, for reference\n",
    "all_kds = repr_top_4_gold_kd_sigs.pert_iname.unique()"
   ]
  },
  {
   "cell_type": "code",
   "execution_count": 233,
   "metadata": {},
   "outputs": [
    {
     "data": {
      "application/vnd.jupyter.widget-view+json": {
       "model_id": "8c4889c2a566438da8cf4b3eefacdd2b"
      }
     },
     "metadata": {},
     "output_type": "display_data"
    }
   ],
   "source": [
    "# initialize empty dataframe to hold direct correlation values\n",
    "indir_max_corr_df = pd.DataFrame(index=cpd_kd_pairs_df.index, columns=top_4_cell_lines)\n",
    "indir_min_corr_df = pd.DataFrame(index=cpd_kd_pairs_df.index, columns=top_4_cell_lines)\n",
    "indir_avg_corr_df = pd.DataFrame(index=cpd_kd_pairs_df.index, columns=top_4_cell_lines)\n",
    "\n",
    "# loop through cpd-target pairs, calculate correlations in each cell line\n",
    "for index, row in log_progress(cpd_kd_pairs_df.iterrows(), every=10):\n",
    "    cpd = row.cpd\n",
    "    kd = row.kd\n",
    "    \n",
    "    # find the target's interaction partners that have KDs\n",
    "    interaction_partners = string_gene_interactions_700.query('gene_1 == \"{}\"'.format(kd)).gene_2\n",
    "    partner_kds = np.intersect1d(interaction_partners, all_kds)\n",
    "    \n",
    "    # compute corr with each partner in each cell line\n",
    "    for cell_line in top_4_cell_lines:\n",
    "        \n",
    "        # extract the cpd signature\n",
    "        cpd_sig_info = repr_top_4_gold_cpd_sigs.query('pert_id == \"{}\" & cell_id == \"{}\"'.format(cpd,cell_line))\n",
    "        cpd_sig_id = cpd_sig_info.sig_id\n",
    "        cpd_lm_sig = top_4_cpd_lm_sigs[cpd_sig_id].values\n",
    "       \n",
    "        # initialize empty Series to hold corrs for all partners in this cell line\n",
    "        pkd_corrs = pd.Series(index=partner_kds)\n",
    "        \n",
    "        for pkd in partner_kds:\n",
    "            # extract the partner kd signature\n",
    "            pkd_sig_info = repr_top_4_gold_kd_sigs.query('pert_iname == \"{}\" & cell_id == \"{}\"'.format(pkd,cell_line))\n",
    "            pkd_sig_id = pkd_sig_info.sig_id\n",
    "            pkd_lm_sig = top_4_kd_lm_sigs[pkd_sig_id].values\n",
    "\n",
    "            #compute and store correlation\n",
    "            corr = scipy.stats.pearsonr(cpd_lm_sig, pkd_lm_sig)[0][0]\n",
    "            pkd_corrs[pkd] = corr\n",
    "        \n",
    "        # compute max, min, and average of the partner kd corrs\n",
    "        max_pkd_corr = pkd_corrs.max()\n",
    "        min_pkd_corr = pkd_corrs.min()\n",
    "        avg_pkd_corr = pkd_corrs.mean()\n",
    "        \n",
    "        # store these in the appropriate data frames\n",
    "        indir_max_corr_df.at[index, cell_line] = max_pkd_corr\n",
    "        indir_min_corr_df.at[index, cell_line] = min_pkd_corr\n",
    "        indir_avg_corr_df.at[index, cell_line] = avg_pkd_corr\n",
    "        "
   ]
  },
  {
   "cell_type": "code",
   "execution_count": 234,
   "metadata": {
    "collapsed": true
   },
   "outputs": [],
   "source": [
    "# save the indirect correlation features to a file\n",
    "indir_max_corr_df.to_csv('features/indir_max_corr_df.csv')\n",
    "indir_min_corr_df.to_csv('features/indir_min_corr_df.csv')\n",
    "indir_avg_corr_df.to_csv('features/indir_avg_corr_df.csv')"
   ]
  },
  {
   "cell_type": "markdown",
   "metadata": {},
   "source": [
    "___\n",
    "# Dealing with missing values\n",
    "\n",
    "We see below that there are several cpd-kd pairs for which we are unable to calculate indirect correlation features. My hunch is because these KDs do not have known interaction partners in STRING. We need to profile these KDs and make sure there are not too many, and then remove them from the training data."
   ]
  },
  {
   "cell_type": "code",
   "execution_count": 348,
   "metadata": {
    "collapsed": true
   },
   "outputs": [],
   "source": [
    "features_df = pd.concat([dir_corr_df, indir_max_corr_df, indir_min_corr_df, indir_avg_corr_df], axis=1)"
   ]
  },
  {
   "cell_type": "code",
   "execution_count": 338,
   "metadata": {},
   "outputs": [
    {
     "name": "stdout",
     "output_type": "stream",
     "text": [
      "Number of cpd-KD pairs that have Null Values:  33157\n"
     ]
    }
   ],
   "source": [
    "# extract rows that have NaN entries\n",
    "null_row_indeces = features_df.isnull().any(axis=1)\n",
    "null_rows = features_df[null_row_indeces]\n",
    "null_pairs = cpd_kd_pairs_df[null_row_indeces]\n",
    "print('Number of cpd-KD pairs that have Null Values: ', len(null_pairs))"
   ]
  },
  {
   "cell_type": "code",
   "execution_count": 315,
   "metadata": {},
   "outputs": [
    {
     "data": {
      "application/vnd.jupyter.widget-view+json": {
       "model_id": "022246986c1d4dcf98c7bc65241f0b10"
      }
     },
     "metadata": {},
     "output_type": "display_data"
    },
    {
     "name": "stdout",
     "output_type": "stream",
     "text": [
      "Number of cpd-KD pairs for which the KD has no interaction partners:  14768\n"
     ]
    }
   ],
   "source": [
    "null_kds = null_pairs.kd\n",
    "n_no_partners = 0\n",
    "\n",
    "for nkd in log_progress(null_kds, every=10):\n",
    "    interaction_partners = string_gene_interactions_700.query('gene_1 == \"{}\"'.format(nkd)).gene_2\n",
    "    if len(interaction_partners) == 0: \n",
    "        n_no_partners += 1\n",
    "        \n",
    "print('Number of cpd-KD pairs for which the KD has no interaction partners: ', n_no_partners)"
   ]
  },
  {
   "cell_type": "code",
   "execution_count": 319,
   "metadata": {},
   "outputs": [
    {
     "data": {
      "application/vnd.jupyter.widget-view+json": {
       "model_id": "4ba22791456349fab0753bce7be92ed2"
      }
     },
     "metadata": {},
     "output_type": "display_data"
    },
    {
     "name": "stdout",
     "output_type": "stream",
     "text": [
      "Number of NaN KDs that do have partners:  259\n"
     ]
    }
   ],
   "source": [
    "null_kds = null_pairs.kd.unique()\n",
    "null_kds_with_partners = []\n",
    "\n",
    "for nkd in log_progress(null_kds, every=10):\n",
    "    interaction_partners = string_gene_interactions_700.query('gene_1 == \"{}\"'.format(nkd)).gene_2\n",
    "    if len(interaction_partners) != 0: \n",
    "        null_kds_with_partners.append(nkd)\n",
    "        \n",
    "print('Number of NaN KDs that do have partners: ', len(null_kds_with_partners))"
   ]
  },
  {
   "cell_type": "code",
   "execution_count": 331,
   "metadata": {},
   "outputs": [
    {
     "data": {
      "application/vnd.jupyter.widget-view+json": {
       "model_id": "d234490bcc684b2486105dd7de927203"
      }
     },
     "metadata": {},
     "output_type": "display_data"
    }
   ],
   "source": [
    "# check if these partners have KDs\n",
    "for nkdwp in log_progress(null_kds_with_partners):\n",
    "    interaction_partners = string_gene_interactions_700.query('gene_1 == \"{}\"'.format(nkdwp)).gene_2.values\n",
    "    for p in interaction_partners:\n",
    "        if p in all_top_4_kds:\n",
    "            print('KD: ', nkdwp, 'Partner: ', p)"
   ]
  },
  {
   "cell_type": "markdown",
   "metadata": {},
   "source": [
    "### So why is there missing data?\n",
    "Based on the analysis above, we see that a cpd-kd pair might be missing data for one of two reasons:\n",
    "\n",
    "1. The KD has no known interaction partners in the STRING database\n",
    "2. None of the interaction partners have KDs in our top-4 cell line data.\n",
    "\n",
    "What happens if we remove these null pairs all together? Will we still have 71 compounds with true interactions to work with?"
   ]
  },
  {
   "cell_type": "code",
   "execution_count": 371,
   "metadata": {},
   "outputs": [
    {
     "name": "stdout",
     "output_type": "stream",
     "text": [
      "Number of remaining positive cpds:  71\n",
      "Number of remaining positive KDs:  151\n",
      "Number of remaining positive interactions:  237\n"
     ]
    }
   ],
   "source": [
    "complete_row_indeces = ~null_row_indeces\n",
    "complete_data_rows = features_df[complete_row_indeces]\n",
    "complete_pair_rows = cpd_kd_pairs_df[complete_row_indeces]\n",
    "positive_pair_rows = complete_pair_rows.query('label == 1')\n",
    "\n",
    "print('Number of remaining positive cpds: ', len(positive_pair_rows.cpd.unique()))\n",
    "print('Number of remaining positive KDs: ', len(positive_pair_rows.kd.unique()))\n",
    "print('Number of remaining positive interactions: ', len(positive_pair_rows))"
   ]
  },
  {
   "cell_type": "markdown",
   "metadata": {},
   "source": [
    "So if we remove all the missing pairs, we still have at least 1 positive interaction for all 71 of our compounds, which is fantastic.\n",
    "\n",
    "___\n",
    "# Constructing Training Data"
   ]
  },
  {
   "cell_type": "code",
   "execution_count": 402,
   "metadata": {
    "collapsed": true
   },
   "outputs": [],
   "source": [
    "X = complete_data_rows\n",
    "y = pd.DataFrame({'label': complete_pair_rows.label})\n",
    "metadata = complete_pair_rows"
   ]
  },
  {
   "cell_type": "code",
   "execution_count": 399,
   "metadata": {
    "collapsed": true
   },
   "outputs": [],
   "source": [
    "# scale the data\n",
    "from sklearn.preprocessing import StandardScaler\n",
    "sc = StandardScaler()\n",
    "sc.fit(X)\n",
    "X_std = pd.DataFrame(sc.transform(X))"
   ]
  },
  {
   "cell_type": "code",
   "execution_count": 403,
   "metadata": {
    "collapsed": true
   },
   "outputs": [],
   "source": [
    "# save the data\n",
    "X_std.to_csv('features/X_std.csv')\n",
    "y.to_csv('features/y.csv')\n",
    "metadata.to_csv('features/metadata.csv')"
   ]
  },
  {
   "cell_type": "code",
   "execution_count": 394,
   "metadata": {},
   "outputs": [
    {
     "data": {
      "text/plain": [
       "(178920, 16)"
      ]
     },
     "execution_count": 394,
     "metadata": {},
     "output_type": "execute_result"
    }
   ],
   "source": [
    "X_std.shape"
   ]
  },
  {
   "cell_type": "code",
   "execution_count": 401,
   "metadata": {},
   "outputs": [
    {
     "data": {
      "text/html": [
       "<div>\n",
       "<style>\n",
       "    .dataframe thead tr:only-child th {\n",
       "        text-align: right;\n",
       "    }\n",
       "\n",
       "    .dataframe thead th {\n",
       "        text-align: left;\n",
       "    }\n",
       "\n",
       "    .dataframe tbody tr th {\n",
       "        vertical-align: top;\n",
       "    }\n",
       "</style>\n",
       "<table border=\"1\" class=\"dataframe\">\n",
       "  <thead>\n",
       "    <tr style=\"text-align: right;\">\n",
       "      <th></th>\n",
       "      <th>label</th>\n",
       "    </tr>\n",
       "  </thead>\n",
       "  <tbody>\n",
       "    <tr>\n",
       "      <th>0</th>\n",
       "      <td>-1</td>\n",
       "    </tr>\n",
       "    <tr>\n",
       "      <th>1</th>\n",
       "      <td>-1</td>\n",
       "    </tr>\n",
       "    <tr>\n",
       "      <th>2</th>\n",
       "      <td>-1</td>\n",
       "    </tr>\n",
       "    <tr>\n",
       "      <th>3</th>\n",
       "      <td>-1</td>\n",
       "    </tr>\n",
       "    <tr>\n",
       "      <th>4</th>\n",
       "      <td>-1</td>\n",
       "    </tr>\n",
       "    <tr>\n",
       "      <th>5</th>\n",
       "      <td>-1</td>\n",
       "    </tr>\n",
       "    <tr>\n",
       "      <th>6</th>\n",
       "      <td>-1</td>\n",
       "    </tr>\n",
       "    <tr>\n",
       "      <th>7</th>\n",
       "      <td>-1</td>\n",
       "    </tr>\n",
       "    <tr>\n",
       "      <th>8</th>\n",
       "      <td>-1</td>\n",
       "    </tr>\n",
       "    <tr>\n",
       "      <th>9</th>\n",
       "      <td>-1</td>\n",
       "    </tr>\n",
       "    <tr>\n",
       "      <th>...</th>\n",
       "      <td>...</td>\n",
       "    </tr>\n",
       "    <tr>\n",
       "      <th>211925</th>\n",
       "      <td>-1</td>\n",
       "    </tr>\n",
       "    <tr>\n",
       "      <th>211926</th>\n",
       "      <td>-1</td>\n",
       "    </tr>\n",
       "    <tr>\n",
       "      <th>211927</th>\n",
       "      <td>-1</td>\n",
       "    </tr>\n",
       "    <tr>\n",
       "      <th>211928</th>\n",
       "      <td>-1</td>\n",
       "    </tr>\n",
       "    <tr>\n",
       "      <th>211929</th>\n",
       "      <td>-1</td>\n",
       "    </tr>\n",
       "    <tr>\n",
       "      <th>211930</th>\n",
       "      <td>-1</td>\n",
       "    </tr>\n",
       "    <tr>\n",
       "      <th>211931</th>\n",
       "      <td>-1</td>\n",
       "    </tr>\n",
       "    <tr>\n",
       "      <th>211932</th>\n",
       "      <td>-1</td>\n",
       "    </tr>\n",
       "    <tr>\n",
       "      <th>211933</th>\n",
       "      <td>-1</td>\n",
       "    </tr>\n",
       "    <tr>\n",
       "      <th>211934</th>\n",
       "      <td>-1</td>\n",
       "    </tr>\n",
       "  </tbody>\n",
       "</table>\n",
       "<p>178920 rows × 1 columns</p>\n",
       "</div>"
      ],
      "text/plain": [
       "        label\n",
       "0          -1\n",
       "1          -1\n",
       "2          -1\n",
       "3          -1\n",
       "4          -1\n",
       "5          -1\n",
       "6          -1\n",
       "7          -1\n",
       "8          -1\n",
       "9          -1\n",
       "...       ...\n",
       "211925     -1\n",
       "211926     -1\n",
       "211927     -1\n",
       "211928     -1\n",
       "211929     -1\n",
       "211930     -1\n",
       "211931     -1\n",
       "211932     -1\n",
       "211933     -1\n",
       "211934     -1\n",
       "\n",
       "[178920 rows x 1 columns]"
      ]
     },
     "execution_count": 401,
     "metadata": {},
     "output_type": "execute_result"
    }
   ],
   "source": [
    "y"
   ]
  },
  {
   "cell_type": "code",
   "execution_count": null,
   "metadata": {
    "collapsed": true
   },
   "outputs": [],
   "source": []
  }
 ],
 "metadata": {
  "kernelspec": {
   "display_name": "Python 3",
   "language": "python",
   "name": "python3"
  },
  "language_info": {
   "codemirror_mode": {
    "name": "ipython",
    "version": 3
   },
   "file_extension": ".py",
   "mimetype": "text/x-python",
   "name": "python",
   "nbconvert_exporter": "python",
   "pygments_lexer": "ipython3",
   "version": "3.6.1"
  }
 },
 "nbformat": 4,
 "nbformat_minor": 2
}
