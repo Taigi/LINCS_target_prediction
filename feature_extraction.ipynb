{
 "cells": [
  {
   "cell_type": "code",
   "execution_count": 158,
   "metadata": {
    "collapsed": true
   },
   "outputs": [],
   "source": [
    "import pandas as pd\n",
    "import numpy as np\n",
    "import scipy\n",
    "import itertools\n",
    "from support_functions import log_progress\n",
    "import matplotlib.pyplot as plt\n",
    "import seaborn as sns\n",
    "sns.set(color_codes=True)"
   ]
  },
  {
   "cell_type": "markdown",
   "metadata": {},
   "source": [
    "___\n",
    "# Load the signatures and metadata from the top-4 cell lines"
   ]
  },
  {
   "cell_type": "code",
   "execution_count": 142,
   "metadata": {
    "collapsed": true
   },
   "outputs": [],
   "source": [
    "# the known cpd-target interactions. shape: [244, 2]\n",
    "top_4_known_interactions = pd.DataFrame.from_csv('checkpoint_files/top_4_known_interactions.csv')\n",
    "\n",
    "# the signature ID metadata. shapes: [11948, 15] & [284, 16]\n",
    "repr_top_4_gold_kd_sigs = pd.DataFrame.from_csv('checkpoint_files/repr_top_4_gold_kd_sigs.csv')\n",
    "repr_top_4_gold_cpd_sigs = pd.DataFrame.from_csv('checkpoint_files/repr_top_4_gold_cpd_sigs.csv')\n",
    "\n",
    "# the actual signatures. shapes: [978, 11948] & [978, 284]\n",
    "top_4_kd_lm_sigs = pd.DataFrame.from_csv('checkpoint_files/top_4_kd_lm_sigs.csv')\n",
    "top_4_cpd_lm_sigs = pd.DataFrame.from_csv('checkpoint_files/top_4_cpd_lm_sigs.csv')"
   ]
  },
  {
   "cell_type": "markdown",
   "metadata": {},
   "source": [
    "___\n",
    "# Load PPI data from String database\n",
    "\n",
    "The table is redundant in that it has 2 entries for each interaction, with the order of the proteins swapped."
   ]
  },
  {
   "cell_type": "code",
   "execution_count": 183,
   "metadata": {},
   "outputs": [],
   "source": [
    "# 710638 high confidence interactions\n",
    "string_gene_interactions_700 = pd.DataFrame.from_csv('checkpoint_files/string_gene_interactions_700.csv')"
   ]
  },
  {
   "cell_type": "markdown",
   "metadata": {},
   "source": [
    "___\n",
    "# Assemble cpd-kd pairs"
   ]
  },
  {
   "cell_type": "code",
   "execution_count": 33,
   "metadata": {},
   "outputs": [],
   "source": [
    "# create cpd-kd mapping with labels\n",
    "kds = repr_top_4_gold_kd_sigs.pert_iname.unique()\n",
    "cpds = repr_top_4_gold_cpd_sigs.pert_id.unique()"
   ]
  },
  {
   "cell_type": "code",
   "execution_count": 53,
   "metadata": {},
   "outputs": [
    {
     "data": {
      "application/vnd.jupyter.widget-view+json": {
       "model_id": "8bad004363df4bdaac08ccd923428482"
      }
     },
     "metadata": {},
     "output_type": "display_data"
    }
   ],
   "source": [
    "cpd_ = []\n",
    "kd_ = []\n",
    "label_ = []\n",
    "\n",
    "for kd in log_progress(kds):\n",
    "    for cpd in cpds:\n",
    "        if top_4_known_interactions.query('pert_id == \"{}\" & target == \"{}\"'.format(cpd,kd)).shape[0]:\n",
    "            label = 1 # true interaction\n",
    "        else:\n",
    "            label = -1 # false interaction\n",
    "        cpd_.append(cpd)\n",
    "        kd_.append(kd)\n",
    "        label_.append(label)"
   ]
  },
  {
   "cell_type": "code",
   "execution_count": 177,
   "metadata": {},
   "outputs": [],
   "source": [
    "# store pairs & labels in dataframe\n",
    "cpd_kd_pairs_df = pd.DataFrame({'cpd': cpd_, 'kd': kd_, 'label': label_})\n",
    "cpd_kd_pairs_df.to_csv('features/cpd_kd_pairs_df.csv')"
   ]
  },
  {
   "cell_type": "markdown",
   "metadata": {},
   "source": [
    "___\n",
    "# Construct Direct Correlation Features\n",
    "\n",
    "We want to construct direct correlation values for all cpd-kd pairs in each cell line. Eventually we will also want to construct the indirect correlation features.\n",
    "\n",
    "It seems the most useful way to organize this data is in a large table **dir_corr_df** where each row is a cpd-kd pair and the columns are the feature values. The row indeces of this table will be map to the corresponding row indeces of the **cpd_kd_pairs_df**."
   ]
  },
  {
   "cell_type": "code",
   "execution_count": 69,
   "metadata": {},
   "outputs": [],
   "source": [
    "# extract the top 4 cell lines for reference\n",
    "top_4_cell_lines = repr_top_4_gold_cpd_sigs.cell_id.unique()"
   ]
  },
  {
   "cell_type": "code",
   "execution_count": 172,
   "metadata": {},
   "outputs": [
    {
     "data": {
      "application/vnd.jupyter.widget-view+json": {
       "model_id": "bc2b925ae7ae40ca9231b861ab38f827"
      }
     },
     "metadata": {},
     "output_type": "display_data"
    }
   ],
   "source": [
    "# initialize empty dataframe to hold direct correlation values\n",
    "dir_corr_df = pd.DataFrame(index=cpd_kd_pairs_df.index, columns=top_4_cell_lines)\n",
    "\n",
    "# loop through cpd-target pairs, calculate correlations in each cell line\n",
    "for index, row in log_progress(cpd_kd_pairs_df.iterrows(), every=100):\n",
    "    cpd = row.cpd\n",
    "    kd = row.kd\n",
    "    \n",
    "    for cell_line in top_4_cell_lines:\n",
    "        cpd_sig_info = repr_top_4_gold_cpd_sigs.query('pert_id == \"{}\" & cell_id == \"{}\"'.format(cpd,cell_line))\n",
    "        kd_sig_info = repr_top_4_gold_kd_sigs.query('pert_iname == \"{}\" & cell_id == \"{}\"'.format(kd,cell_line))\n",
    "        \n",
    "        # extract signatures\n",
    "        cpd_sig_id = cpd_sig_info.sig_id\n",
    "        kd_sig_id = kd_sig_info.sig_id\n",
    "        cpd_lm_sig = top_4_cpd_lm_sigs[cpd_sig_id].values\n",
    "        kd_lm_sig = top_4_kd_lm_sigs[kd_sig_id].values\n",
    "        \n",
    "        #compute and store correlation\n",
    "        corr = scipy.stats.pearsonr(cpd_lm_sig, kd_lm_sig)[0][0]\n",
    "        dir_corr_df.at[index, cell_line] = corr"
   ]
  },
  {
   "cell_type": "code",
   "execution_count": 178,
   "metadata": {},
   "outputs": [],
   "source": [
    "# save direct correlation features to file\n",
    "dir_corr_df.to_csv('features/dir_corr_df.csv')"
   ]
  },
  {
   "cell_type": "markdown",
   "metadata": {},
   "source": [
    "___\n",
    "# Construct Indirect Correlation Features\n",
    "\n",
    "We want to construct indirect correlation values for all cpd-kd pairs in each cell line. \n",
    "\n",
    "These features will be stored in a large table **indir_corr_df** where each row is a cpd-kd pair and the columns are the feature values. The row indeces of this table will be map to the corresponding row indeces of the **cpd_kd_pairs_df**."
   ]
  },
  {
   "cell_type": "code",
   "execution_count": 207,
   "metadata": {},
   "outputs": [],
   "source": [
    "# list of all KDs in top-4 cells, for reference\n",
    "all_kds = repr_top_4_gold_kd_sigs.pert_iname.unique()"
   ]
  },
  {
   "cell_type": "code",
   "execution_count": 233,
   "metadata": {},
   "outputs": [
    {
     "data": {
      "application/vnd.jupyter.widget-view+json": {
       "model_id": "8c4889c2a566438da8cf4b3eefacdd2b"
      }
     },
     "metadata": {},
     "output_type": "display_data"
    }
   ],
   "source": [
    "# initialize empty dataframe to hold direct correlation values\n",
    "indir_max_corr_df = pd.DataFrame(index=cpd_kd_pairs_df.index, columns=top_4_cell_lines)\n",
    "indir_min_corr_df = pd.DataFrame(index=cpd_kd_pairs_df.index, columns=top_4_cell_lines)\n",
    "indir_avg_corr_df = pd.DataFrame(index=cpd_kd_pairs_df.index, columns=top_4_cell_lines)\n",
    "\n",
    "# loop through cpd-target pairs, calculate correlations in each cell line\n",
    "for index, row in log_progress(cpd_kd_pairs_df.iterrows(), every=10):\n",
    "    cpd = row.cpd\n",
    "    kd = row.kd\n",
    "    \n",
    "    # find the target's interaction partners that have KDs\n",
    "    interaction_partners = string_gene_interactions_700.query('gene_1 == \"{}\"'.format(kd)).gene_2\n",
    "    partner_kds = np.intersect1d(interaction_partners, all_kds)\n",
    "    \n",
    "    # compute corr with each partner in each cell line\n",
    "    for cell_line in top_4_cell_lines:\n",
    "        \n",
    "        # extract the cpd signature\n",
    "        cpd_sig_info = repr_top_4_gold_cpd_sigs.query('pert_id == \"{}\" & cell_id == \"{}\"'.format(cpd,cell_line))\n",
    "        cpd_sig_id = cpd_sig_info.sig_id\n",
    "        cpd_lm_sig = top_4_cpd_lm_sigs[cpd_sig_id].values\n",
    "       \n",
    "        # initialize empty Series to hold corrs for all partners in this cell line\n",
    "        pkd_corrs = pd.Series(index=partner_kds)\n",
    "        \n",
    "        for pkd in partner_kds:\n",
    "            # extract the partner kd signature\n",
    "            pkd_sig_info = repr_top_4_gold_kd_sigs.query('pert_iname == \"{}\" & cell_id == \"{}\"'.format(pkd,cell_line))\n",
    "            pkd_sig_id = pkd_sig_info.sig_id\n",
    "            pkd_lm_sig = top_4_kd_lm_sigs[pkd_sig_id].values\n",
    "\n",
    "            #compute and store correlation\n",
    "            corr = scipy.stats.pearsonr(cpd_lm_sig, pkd_lm_sig)[0][0]\n",
    "            pkd_corrs[pkd] = corr\n",
    "        \n",
    "        # compute max, min, and average of the partner kd corrs\n",
    "        max_pkd_corr = pkd_corrs.max()\n",
    "        min_pkd_corr = pkd_corrs.min()\n",
    "        avg_pkd_corr = pkd_corrs.mean()\n",
    "        \n",
    "        # store these in the appropriate data frames\n",
    "        indir_max_corr_df.at[index, cell_line] = max_pkd_corr\n",
    "        indir_min_corr_df.at[index, cell_line] = min_pkd_corr\n",
    "        indir_avg_corr_df.at[index, cell_line] = avg_pkd_corr\n",
    "        "
   ]
  },
  {
   "cell_type": "code",
   "execution_count": null,
   "metadata": {},
   "outputs": [],
   "source": [
    "# save the indirect correlation features to a file\n",
    "indir_max_corr_df.to_csv('features/indir_max_corr_df.csv')\n",
    "indir_min_corr_df.to_csv('features/indir_min_corr_df.csv')\n",
    "indir_avg_corr_df.to_csv('features/indir_avg_corr_df.csv')"
   ]
  },
  {
   "cell_type": "code",
   "execution_count": null,
   "metadata": {
    "collapsed": true
   },
   "outputs": [],
   "source": []
  }
 ],
 "metadata": {
  "kernelspec": {
   "display_name": "Python 3",
   "language": "python",
   "name": "python3"
  },
  "language_info": {
   "codemirror_mode": {
    "name": "ipython",
    "version": 3
   },
   "file_extension": ".py",
   "mimetype": "text/x-python",
   "name": "python",
   "nbconvert_exporter": "python",
   "pygments_lexer": "ipython3",
   "version": "3.6.1"
  }
 },
 "nbformat": 4,
 "nbformat_minor": 2
}
